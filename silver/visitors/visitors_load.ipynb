{
 "cells": [
  {
   "cell_type": "code",
   "execution_count": 0,
   "metadata": {
    "application/vnd.databricks.v1+cell": {
     "cellMetadata": {
      "byteLimit": 2048000,
      "rowLimit": 10000
     },
     "inputWidgets": {},
     "nuid": "e519184c-58ad-4135-82b6-08a9599ea615",
     "showTitle": false,
     "tableResultSettingsMap": {},
     "title": ""
    }
   },
   "outputs": [],
   "source": [
    "%run ../residents/_udf_utils_residents"
   ]
  },
  {
   "cell_type": "code",
   "execution_count": 0,
   "metadata": {
    "application/vnd.databricks.v1+cell": {
     "cellMetadata": {
      "byteLimit": 2048000,
      "rowLimit": 10000
     },
     "inputWidgets": {},
     "nuid": "bacb5dc7-8fd1-4a41-8bbd-9a222e5c5627",
     "showTitle": false,
     "tableResultSettingsMap": {},
     "title": ""
    }
   },
   "outputs": [],
   "source": [
    "from pyspark.sql import SparkSession\n",
    "from pyspark.sql.functions import col, regexp_extract, when, lit, sum, current_timestamp, make_date"
   ]
  },
  {
   "cell_type": "code",
   "execution_count": 0,
   "metadata": {
    "application/vnd.databricks.v1+cell": {
     "cellMetadata": {
      "byteLimit": 2048000,
      "rowLimit": 10000
     },
     "inputWidgets": {},
     "nuid": "b2bb12db-c646-4bc2-acc5-26c92af06597",
     "showTitle": false,
     "tableResultSettingsMap": {},
     "title": ""
    }
   },
   "outputs": [],
   "source": [
    "spark = SparkSession.builder.appName(\"silver_visitors\").getOrCreate()"
   ]
  },
  {
   "cell_type": "code",
   "execution_count": 0,
   "metadata": {
    "application/vnd.databricks.v1+cell": {
     "cellMetadata": {
      "byteLimit": 2048000,
      "implicitDf": true,
      "rowLimit": 10000
     },
     "inputWidgets": {},
     "nuid": "c9dbd3e1-ac6e-4fe0-be34-7efc7b11e657",
     "showTitle": false,
     "tableResultSettingsMap": {},
     "title": ""
    }
   },
   "outputs": [],
   "source": [
    "# read data\n",
    "bronze_df = spark.table(\"workspace.growth_poc.bronze_visitors\")\n",
    "\n",
    "key_columns = [\"국적\", \"목적\"]\n",
    "# get all non-key columns -> will be used for dynamic sql\n",
    "columns_to_be_unpivoted = [\"`\"+c+\"`\" for c in bronze_df.columns if c not in key_columns]\n",
    "\n",
    "# build the dynamic column list \n",
    "unpivot_columns = \", \".join(columns_to_be_unpivoted)\n",
    "\n",
    "dynamic_sql = f\"\"\"\n",
    "SELECT REPLACE(`국적`, \" \", \"\") AS nationality,\n",
    "    REPLACE(`목적`, \" \", \"\") AS purpose,\n",
    "    year_month,\n",
    "    amount\n",
    "FROM workspace.growth_poc.bronze_visitors v \n",
    "UNPIVOT (\n",
    "    amount for year_month in ({unpivot_columns})\n",
    ")\n",
    "\"\"\"\n",
    "\n",
    "# Execute the dynamic SQL\n",
    "unpivoted_df = spark.sql(dynamic_sql).filter((col(\"year_month\") != \"계\") & \\\n",
    "                                            (col(\"purpose\") != \"소계\")) # exclude total value\n"
   ]
  },
  {
   "cell_type": "code",
   "execution_count": 0,
   "metadata": {
    "application/vnd.databricks.v1+cell": {
     "cellMetadata": {
      "byteLimit": 2048000,
      "rowLimit": 10000
     },
     "inputWidgets": {},
     "nuid": "bd86e927-2695-431c-b6f9-c32e7a75dd44",
     "showTitle": false,
     "tableResultSettingsMap": {},
     "title": ""
    }
   },
   "outputs": [],
   "source": [
    "# currently, year_month looks like yyyy년mm월. We need to convert it into date\n",
    "extract_datepart_df = unpivoted_df.withColumn(\n",
    "    \"year\",\n",
    "    regexp_extract(col(\"year_month\"), r\"^(\\d{4}|\\d{2})\", 1).cast('int') # get 2 or 4 digits from the start\n",
    "    )\\\n",
    "    .withColumn(\n",
    "        \"month\",\n",
    "        regexp_extract(col(\"year_month\"), r\"\\D+(\\d{1,2})\", 1).cast('int') # get 1~2 digists followed after string\n",
    "    ).withColumn(\"amount\", col(\"amount\").cast(\"long\")) # cast amount as long\n",
    "\n",
    "# if the year is only two digits, add 20 at the front \n",
    "extract_datepart_df = extract_datepart_df.withColumn(\n",
    "    \"year\"\n",
    "    , when(col(\"year\") <= 999, col(\"year\") + 2000).otherwise(col(\"year\")))\n",
    "\n",
    "# create date from year and month\n",
    "clean_date_df = extract_datepart_df.withColumn(\"date\", make_date(col(\"year\"), col(\"month\"), lit(\"1\")))"
   ]
  },
  {
   "cell_type": "code",
   "execution_count": 0,
   "metadata": {
    "application/vnd.databricks.v1+cell": {
     "cellMetadata": {
      "byteLimit": 2048000,
      "rowLimit": 10000
     },
     "inputWidgets": {},
     "nuid": "d2f5b45f-234c-4f2d-b053-6a52952a6929",
     "showTitle": false,
     "tableResultSettingsMap": {},
     "title": ""
    }
   },
   "outputs": [],
   "source": [
    "# clean nationality and map with country code and language code\n",
    "clean_nationality_df = clean_nationality(clean_date_df)\n",
    "mapping_df = map_nationality(clean_nationality_df)"
   ]
  },
  {
   "cell_type": "code",
   "execution_count": 0,
   "metadata": {
    "application/vnd.databricks.v1+cell": {
     "cellMetadata": {
      "byteLimit": 2048000,
      "rowLimit": 10000
     },
     "inputWidgets": {},
     "nuid": "b5d127a3-e493-454f-9cbe-342bad682f89",
     "showTitle": false,
     "tableResultSettingsMap": {},
     "title": ""
    }
   },
   "outputs": [],
   "source": [
    "# remove grouping values\n",
    "nationality_to_remove = [\n",
    "\"미주\", \n",
    "\"아프리카주\",\n",
    "\"아시아주\",\n",
    "\"구주\",\n",
    "\"중동\",\n",
    "\"전체\",\n",
    "\"대양주\",\n",
    "]\n",
    "\n",
    "remove_grouping_df = mapping_df.filter(~col(\"Nationality\").isin(nationality_to_remove))\n",
    "\n",
    "# aggregate data accordingly\n",
    "grouped_df = remove_grouping_df.groupBy(\"Nationality\",\"Year\", \"English_Nationality\", \"ISO_Code\", \"Primary_Language\", \"Language_Code\").agg(sum(\"Amount\").alias(\"Amount\"))"
   ]
  },
  {
   "cell_type": "code",
   "execution_count": 0,
   "metadata": {
    "application/vnd.databricks.v1+cell": {
     "cellMetadata": {
      "byteLimit": 2048000,
      "rowLimit": 10000
     },
     "inputWidgets": {},
     "nuid": "d5b1b5b7-08c9-451d-a561-80e95e001f88",
     "showTitle": false,
     "tableResultSettingsMap": {},
     "title": ""
    }
   },
   "outputs": [],
   "source": [
    "# add timestamp\n",
    "final_df = grouped_df.withColumn(\"TimeStamp\", current_timestamp())\n",
    "\n",
    "final_df.write \\\n",
    "        .format(\"delta\") \\\n",
    "        .mode(\"overwrite\")\\\n",
    "        .option(\"mergeSchema\", True)\\\n",
    "        .saveAsTable(\"workspace.growth_poc.silver_visitors\")"
   ]
  }
 ],
 "metadata": {
  "application/vnd.databricks.v1+notebook": {
   "computePreferences": {
    "hardware": {
     "accelerator": null,
     "gpuPoolId": null,
     "memory": null
    }
   },
   "dashboards": [],
   "environmentMetadata": {
    "base_environment": "",
    "environment_version": "3"
   },
   "inputWidgetPreferences": null,
   "language": "python",
   "notebookMetadata": {
    "mostRecentlyExecutedCommandWithImplicitDF": {
     "commandId": 6981148391519449,
     "dataframes": [
      "_sqldf"
     ]
    },
    "pythonIndentUnit": 4
   },
   "notebookName": "visitors_load",
   "widgets": {}
  },
  "language_info": {
   "name": "python"
  }
 },
 "nbformat": 4,
 "nbformat_minor": 0
}
