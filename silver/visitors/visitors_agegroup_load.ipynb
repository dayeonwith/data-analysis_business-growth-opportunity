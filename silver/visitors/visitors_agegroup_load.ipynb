{
 "cells": [
  {
   "cell_type": "code",
   "execution_count": 0,
   "metadata": {
    "application/vnd.databricks.v1+cell": {
     "cellMetadata": {
      "byteLimit": 2048000,
      "rowLimit": 10000
     },
     "inputWidgets": {},
     "nuid": "dc703a7f-4976-4db7-8732-7efe52878ad9",
     "showTitle": false,
     "tableResultSettingsMap": {},
     "title": ""
    }
   },
   "outputs": [],
   "source": [
    "from pyspark.sql import SparkSession\n",
    "from pyspark.sql.functions import current_timestamp, col, regexp_extract, make_date, lit, when"
   ]
  },
  {
   "cell_type": "code",
   "execution_count": 0,
   "metadata": {
    "application/vnd.databricks.v1+cell": {
     "cellMetadata": {
      "byteLimit": 2048000,
      "rowLimit": 10000
     },
     "inputWidgets": {},
     "nuid": "546b0e58-606f-469f-a6c5-a186f026c56b",
     "showTitle": false,
     "tableResultSettingsMap": {},
     "title": ""
    }
   },
   "outputs": [],
   "source": [
    "spark = SparkSession.builder.appName(\"silver_visitors_agegroup\").getOrCreate()"
   ]
  },
  {
   "cell_type": "code",
   "execution_count": 0,
   "metadata": {
    "application/vnd.databricks.v1+cell": {
     "cellMetadata": {
      "byteLimit": 2048000,
      "rowLimit": 10000
     },
     "inputWidgets": {},
     "nuid": "5c23e938-374f-484f-bdf7-62b2383405db",
     "showTitle": false,
     "tableResultSettingsMap": {},
     "title": ""
    }
   },
   "outputs": [],
   "source": [
    "# read data\n",
    "bronze_df = spark.table(\"workspace.growth_poc.bronze_visitors_agegroup\")\n",
    "\n",
    "key_columns = [\"연령별\"]\n",
    "# get all non-key columns -> will be used for dynamic sql\n",
    "columns_to_be_unpivoted = [\"`\"+c+\"`\" for c in bronze_df.columns if c not in key_columns]\n",
    "\n",
    "# build the dynamic column list \n",
    "unpivot_columns = \", \".join(columns_to_be_unpivoted)\n",
    "\n",
    "dynamic_sql = f\"\"\"\n",
    "SELECT REPLACE(`연령별`, \" \", \"\") AS age_group,\n",
    "    visit_year_kor,\n",
    "    amount\n",
    "FROM workspace.growth_poc.bronze_visitors_agegroup v \n",
    "UNPIVOT (\n",
    "    amount for visit_year_kor in ({unpivot_columns})\n",
    ")\n",
    "\"\"\"\n",
    "\n",
    "# Execute the dynamic SQL\n",
    "unpivoted_df = spark.sql(dynamic_sql).filter((col(\"visit_year_kor\") != \"계\") & \\\n",
    "                                            (~col(\"age_group\").isin([\"승무원\", \"전체\"]))) # exclude total value\n"
   ]
  },
  {
   "cell_type": "code",
   "execution_count": 0,
   "metadata": {
    "application/vnd.databricks.v1+cell": {
     "cellMetadata": {
      "byteLimit": 2048000,
      "rowLimit": 10000
     },
     "inputWidgets": {},
     "nuid": "4df0a405-10a4-414d-baa5-078e4eb22766",
     "showTitle": false,
     "tableResultSettingsMap": {},
     "title": ""
    }
   },
   "outputs": [],
   "source": [
    "extract_year_df = unpivoted_df.select(\n",
    "    \"*\",\n",
    "    regexp_extract(col(\"visit_year_kor\"), r\"^(\\d{4})\", 1).alias(\"visit_year\"),\n",
    "    make_date(regexp_extract(col(\"visit_year_kor\"), r\"^(\\d{4})\", 1), lit(1), lit(1)).alias(\"visit_date\"),\n",
    "    regexp_extract(col(\"age_group\"), r\"^(\\d{2}|\\d{1})\", 1).alias(\"min_age\"),\n",
    "    when(col(\"age_group\").endswith(\"~\"), lit(80)) \\\n",
    "        .otherwise(regexp_extract(col(\"age_group\"), r\"(\\d{2})$\", 1)).alias(\"max_age\")\n",
    " )"
   ]
  },
  {
   "cell_type": "code",
   "execution_count": 0,
   "metadata": {
    "application/vnd.databricks.v1+cell": {
     "cellMetadata": {
      "byteLimit": 2048000,
      "rowLimit": 10000
     },
     "inputWidgets": {},
     "nuid": "e8515383-7c0c-4361-9f45-e9f5978b4e1e",
     "showTitle": false,
     "tableResultSettingsMap": {},
     "title": ""
    }
   },
   "outputs": [],
   "source": [
    "clean_agegroup_df = extract_year_df.withColumn(\"mid_age\", (col(\"min_age\")+col(\"max_age\"))/2)"
   ]
  },
  {
   "cell_type": "code",
   "execution_count": 0,
   "metadata": {
    "application/vnd.databricks.v1+cell": {
     "cellMetadata": {
      "byteLimit": 2048000,
      "rowLimit": 10000
     },
     "inputWidgets": {},
     "nuid": "b95b9c94-5cee-419c-be8f-bef1e4dc1bd5",
     "showTitle": false,
     "tableResultSettingsMap": {},
     "title": ""
    }
   },
   "outputs": [],
   "source": [
    "# add timestamp\n",
    "final_df = clean_agegroup_df.withColumn(\"TimeStamp\", current_timestamp())\n",
    "\n",
    "final_df.write \\\n",
    "        .format(\"delta\") \\\n",
    "        .mode(\"overwrite\")\\\n",
    "        .option(\"mergeSchema\", True)\\\n",
    "        .saveAsTable(\"workspace.growth_poc.silver_visitors_agegroup\")"
   ]
  }
 ],
 "metadata": {
  "application/vnd.databricks.v1+notebook": {
   "computePreferences": null,
   "dashboards": [],
   "environmentMetadata": {
    "base_environment": "",
    "environment_version": "3"
   },
   "inputWidgetPreferences": null,
   "language": "python",
   "notebookMetadata": {
    "pythonIndentUnit": 4
   },
   "notebookName": "visitors_agegroup_load",
   "widgets": {}
  },
  "language_info": {
   "name": "python"
  }
 },
 "nbformat": 4,
 "nbformat_minor": 0
}
