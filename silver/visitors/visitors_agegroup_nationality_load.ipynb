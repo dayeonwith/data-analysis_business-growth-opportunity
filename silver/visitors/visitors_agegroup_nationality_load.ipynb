{
 "cells": [
  {
   "cell_type": "code",
   "execution_count": 0,
   "metadata": {
    "application/vnd.databricks.v1+cell": {
     "cellMetadata": {
      "byteLimit": 2048000,
      "rowLimit": 10000
     },
     "inputWidgets": {},
     "nuid": "02864b15-3d8f-46d3-b0c6-6155cbc3274b",
     "showTitle": false,
     "tableResultSettingsMap": {},
     "title": ""
    }
   },
   "outputs": [],
   "source": [
    "%run ../residents/_udf_utils_residents"
   ]
  },
  {
   "cell_type": "code",
   "execution_count": 0,
   "metadata": {
    "application/vnd.databricks.v1+cell": {
     "cellMetadata": {
      "byteLimit": 2048000,
      "rowLimit": 10000
     },
     "inputWidgets": {},
     "nuid": "dc703a7f-4976-4db7-8732-7efe52878ad9",
     "showTitle": false,
     "tableResultSettingsMap": {},
     "title": ""
    }
   },
   "outputs": [],
   "source": [
    "from pyspark.sql import SparkSession\n",
    "from pyspark.sql.functions import current_timestamp, col, regexp_extract, make_date, lit, when"
   ]
  },
  {
   "cell_type": "code",
   "execution_count": 0,
   "metadata": {
    "application/vnd.databricks.v1+cell": {
     "cellMetadata": {
      "byteLimit": 2048000,
      "rowLimit": 10000
     },
     "inputWidgets": {},
     "nuid": "546b0e58-606f-469f-a6c5-a186f026c56b",
     "showTitle": false,
     "tableResultSettingsMap": {},
     "title": ""
    }
   },
   "outputs": [],
   "source": [
    "spark = SparkSession.builder.appName(\"silver_visitors_agegroup_nationality\").getOrCreate()"
   ]
  },
  {
   "cell_type": "code",
   "execution_count": 0,
   "metadata": {
    "application/vnd.databricks.v1+cell": {
     "cellMetadata": {
      "byteLimit": 2048000,
      "rowLimit": 10000
     },
     "inputWidgets": {},
     "nuid": "a3cee45e-9de0-47f9-b0bf-40fd41d7043f",
     "showTitle": false,
     "tableResultSettingsMap": {},
     "title": ""
    }
   },
   "outputs": [],
   "source": [
    "# read data\n",
    "bronze_df = spark.table(\"workspace.growth_poc.bronze_visitors_agegroup_nationality\")\n",
    "\n",
    "bronze_df.printSchema()"
   ]
  },
  {
   "cell_type": "code",
   "execution_count": 0,
   "metadata": {
    "application/vnd.databricks.v1+cell": {
     "cellMetadata": {
      "byteLimit": 2048000,
      "implicitDf": true,
      "rowLimit": 10000
     },
     "inputWidgets": {},
     "nuid": "18554747-b08e-4d39-82ac-8a7649254af0",
     "showTitle": false,
     "tableResultSettingsMap": {},
     "title": ""
    }
   },
   "outputs": [],
   "source": [
    "%sql\n",
    "select * from workspace.growth_poc.bronze_visitors_agegroup_nationality limit 10 "
   ]
  },
  {
   "cell_type": "code",
   "execution_count": 0,
   "metadata": {
    "application/vnd.databricks.v1+cell": {
     "cellMetadata": {
      "byteLimit": 2048000,
      "rowLimit": 10000
     },
     "inputWidgets": {},
     "nuid": "5c23e938-374f-484f-bdf7-62b2383405db",
     "showTitle": false,
     "tableResultSettingsMap": {},
     "title": ""
    }
   },
   "outputs": [],
   "source": [
    "# read data\n",
    "bronze_df = spark.table(\"workspace.growth_poc.bronze_visitors_agegroup_nationality\")\n",
    "\n",
    "key_columns = [\"연령\", \"국적\"]\n",
    "# get all non-key columns -> will be used for dynamic sql\n",
    "columns_to_be_unpivoted = [\"`\"+c+\"`\" for c in bronze_df.columns if c not in key_columns]\n",
    "\n",
    "# build the dynamic column list \n",
    "unpivot_columns = \", \".join(columns_to_be_unpivoted)\n",
    "\n",
    "dynamic_sql = f\"\"\"\n",
    "SELECT REPLACE(`연령`, \" \", \"\") AS age_group,\n",
    "    REPLACE(`국적`, \" \", \"\") AS nationality,\n",
    "    visit_month_kor,\n",
    "    amount\n",
    "FROM workspace.growth_poc.bronze_visitors_agegroup_nationality v \n",
    "UNPIVOT (\n",
    "    amount for visit_month_kor in ({unpivot_columns})\n",
    ")\n",
    "\"\"\"\n",
    "\n",
    "# Execute the dynamic SQL\n",
    "unpivoted_df = spark.sql(dynamic_sql).filter((col(\"visit_month_kor\") != \"계\") & \\\n",
    "                                            (~col(\"nationality\").isin([\"전체\"])) & \\\n",
    "                                            (~col(\"age_group\").isin([\"승무원\", \"전체\", \"소계\"]))) # exclude total value\n"
   ]
  },
  {
   "cell_type": "code",
   "execution_count": 0,
   "metadata": {
    "application/vnd.databricks.v1+cell": {
     "cellMetadata": {
      "byteLimit": 2048000,
      "rowLimit": 10000
     },
     "inputWidgets": {},
     "nuid": "4df0a405-10a4-414d-baa5-078e4eb22766",
     "showTitle": false,
     "tableResultSettingsMap": {},
     "title": ""
    }
   },
   "outputs": [],
   "source": [
    "clean_date_df = unpivoted_df.select(\n",
    "    \"*\",\n",
    "    regexp_extract(col(\"visit_month_kor\"), r\"^(\\d{4})\", 1).alias(\"visit_year\"),\n",
    "    regexp_extract(col(\"visit_month_kor\"), r\"\\D+(\\d{2})\", 1).alias(\"visit_month\"),\n",
    "    regexp_extract(col(\"age_group\"), r\"^(\\d{2}|\\d{1})\", 1).alias(\"min_age\"),\n",
    "    when(col(\"age_group\").endswith(\"~\"), lit(80)) \\\n",
    "        .otherwise(regexp_extract(col(\"age_group\"), r\"(\\d{2})$\", 1)).alias(\"max_age\")\n",
    " ).withColumn(\"visit_date\", make_date(col(\"visit_year\"), col(\"visit_month\"), lit(1)))"
   ]
  },
  {
   "cell_type": "code",
   "execution_count": 0,
   "metadata": {
    "application/vnd.databricks.v1+cell": {
     "cellMetadata": {
      "byteLimit": 2048000,
      "rowLimit": 10000
     },
     "inputWidgets": {},
     "nuid": "924bb442-13ee-4b38-9740-e2e6526136f6",
     "showTitle": false,
     "tableResultSettingsMap": {},
     "title": ""
    }
   },
   "outputs": [],
   "source": [
    "# clean nationality and map with country code and language code\n",
    "clean_nationality_df = clean_nationality(clean_date_df)\n",
    "#clean_nationality_df.printSchema()\n",
    "mapping_df = map_nationality(clean_nationality_df)\n",
    "\n",
    "# remove grouping values\n",
    "nationality_to_remove = [\n",
    "\"미주\", \n",
    "\"아프리카주\",\n",
    "\"아시아주\",\n",
    "\"구주\",\n",
    "\"중동\",\n",
    "\"전체\",\n",
    "\"대양주\",\n",
    "]\n",
    "\n",
    "remove_grouping_df = mapping_df.filter(~col(\"Nationality\").isin(nationality_to_remove))"
   ]
  },
  {
   "cell_type": "code",
   "execution_count": 0,
   "metadata": {
    "application/vnd.databricks.v1+cell": {
     "cellMetadata": {
      "byteLimit": 2048000,
      "rowLimit": 10000
     },
     "inputWidgets": {},
     "nuid": "e8515383-7c0c-4361-9f45-e9f5978b4e1e",
     "showTitle": false,
     "tableResultSettingsMap": {},
     "title": ""
    }
   },
   "outputs": [],
   "source": [
    "clean_agegroup_df = remove_grouping_df.withColumn(\"mid_age\", (col(\"min_age\")+col(\"max_age\"))/2)"
   ]
  },
  {
   "cell_type": "code",
   "execution_count": 0,
   "metadata": {
    "application/vnd.databricks.v1+cell": {
     "cellMetadata": {
      "byteLimit": 2048000,
      "rowLimit": 10000
     },
     "inputWidgets": {},
     "nuid": "b95b9c94-5cee-419c-be8f-bef1e4dc1bd5",
     "showTitle": false,
     "tableResultSettingsMap": {},
     "title": ""
    }
   },
   "outputs": [],
   "source": [
    "# add timestamp\n",
    "final_df = clean_agegroup_df.withColumn(\"TimeStamp\", current_timestamp())\n",
    "\n",
    "final_df.write \\\n",
    "        .format(\"delta\") \\\n",
    "        .mode(\"overwrite\")\\\n",
    "        .option(\"mergeSchema\", True)\\\n",
    "        .saveAsTable(\"workspace.growth_poc.silver_visitors_agegroup_nationality\")"
   ]
  }
 ],
 "metadata": {
  "application/vnd.databricks.v1+notebook": {
   "computePreferences": null,
   "dashboards": [],
   "environmentMetadata": {
    "base_environment": "",
    "environment_version": "3"
   },
   "inputWidgetPreferences": null,
   "language": "python",
   "notebookMetadata": {
    "mostRecentlyExecutedCommandWithImplicitDF": {
     "commandId": 5511378638908931,
     "dataframes": [
      "_sqldf"
     ]
    },
    "pythonIndentUnit": 4
   },
   "notebookName": "visitors_agegroup_nationality_load",
   "widgets": {}
  },
  "language_info": {
   "name": "python"
  }
 },
 "nbformat": 4,
 "nbformat_minor": 0
}
