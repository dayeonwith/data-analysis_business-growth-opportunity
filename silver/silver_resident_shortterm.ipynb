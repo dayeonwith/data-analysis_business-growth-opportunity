{
 "cells": [
  {
   "cell_type": "code",
   "execution_count": 0,
   "metadata": {
    "application/vnd.databricks.v1+cell": {
     "cellMetadata": {
      "byteLimit": 2048000,
      "rowLimit": 10000
     },
     "inputWidgets": {},
     "nuid": "26c2d3ce-71cf-4598-b951-2bc34f6369db",
     "showTitle": false,
     "tableResultSettingsMap": {},
     "title": ""
    }
   },
   "outputs": [],
   "source": [
    "from pyspark.sql import SparkSession\n",
    "from pyspark.sql.functions import col"
   ]
  },
  {
   "cell_type": "code",
   "execution_count": 0,
   "metadata": {
    "application/vnd.databricks.v1+cell": {
     "cellMetadata": {
      "byteLimit": 2048000,
      "rowLimit": 10000
     },
     "inputWidgets": {},
     "nuid": "c2da58f9-881f-4670-8bb2-07c08ca4030b",
     "showTitle": false,
     "tableResultSettingsMap": {},
     "title": ""
    }
   },
   "outputs": [],
   "source": [
    "spark = SparkSession.builder.appName(\"silver_resident_shortterm\").getOrCreate()"
   ]
  },
  {
   "cell_type": "code",
   "execution_count": 0,
   "metadata": {
    "application/vnd.databricks.v1+cell": {
     "cellMetadata": {
      "byteLimit": 2048000,
      "rowLimit": 10000
     },
     "inputWidgets": {},
     "nuid": "4fb2be03-5aaf-42c3-9a84-eaa9eba87e60",
     "showTitle": false,
     "tableResultSettingsMap": {},
     "title": ""
    }
   },
   "outputs": [],
   "source": [
    "resident_df = spark.table(\"workspace.growth_poc.bronze_residents_shortterm\")"
   ]
  },
  {
   "cell_type": "code",
   "execution_count": 0,
   "metadata": {
    "application/vnd.databricks.v1+cell": {
     "cellMetadata": {
      "byteLimit": 2048000,
      "rowLimit": 10000
     },
     "inputWidgets": {},
     "nuid": "3d1526eb-5ecc-45ea-abd0-4883f4c6f3cf",
     "showTitle": false,
     "tableResultSettingsMap": {},
     "title": ""
    }
   },
   "outputs": [],
   "source": [
    "resident_df.printSchema()"
   ]
  },
  {
   "cell_type": "code",
   "execution_count": 0,
   "metadata": {
    "application/vnd.databricks.v1+cell": {
     "cellMetadata": {
      "byteLimit": 2048000,
      "rowLimit": 10000
     },
     "inputWidgets": {},
     "nuid": "1742db65-f62f-48e0-b555-20d27570c31f",
     "showTitle": false,
     "tableResultSettingsMap": {},
     "title": ""
    }
   },
   "outputs": [],
   "source": [
    "from pyspark.sql.functions import from_json, explode_outer\n",
    "from pyspark.sql.types import ArrayType, StructType, StructField, StringType, IntegerType\n",
    "\n",
    "# since the data is currently JSON string, \n",
    "# I need to convert it back to JSON object using from_json\n",
    "resident_schema = StructType([\n",
    "    StructField(\"국적지역\", StringType(), False),\n",
    "    StructField(\"년\", IntegerType(), False),\n",
    "    StructField(\"단기체류외국인 수\", IntegerType(), False)  \n",
    "])\n",
    "\n",
    " \n",
    "# using from_json, the column `data` (JSON string) is converted into ArrayType(StructType)\n",
    "# Each element is now a struct mapping the original JSON object's key-value pairs.\n",
    "resident_df = resident_df.withColumn(\"data_parsed\", from_json(col(\"data\"), ArrayType(resident_schema)))\n",
    "\n",
    "# flatten the array\n",
    "exploded_df = resident_df.select(explode_outer(\"data_parsed\"))\n",
    "\n",
    "# convert each item in struct as a column\n",
    "processed_df = exploded_df.select(\n",
    "    col(\"col.국적지역\").alias(\"Nationality\"),\n",
    "    col(\"col.년\").alias(\"Year\"),\n",
    "    col(\"col.`단기체류외국인 수`\").alias(\"Amount\")\n",
    ")"
   ]
  },
  {
   "cell_type": "code",
   "execution_count": 0,
   "metadata": {
    "application/vnd.databricks.v1+cell": {
     "cellMetadata": {
      "byteLimit": 2048000,
      "rowLimit": 10000
     },
     "inputWidgets": {},
     "nuid": "c5c774d8-baf5-4cbb-9ccd-1cbcf041693b",
     "showTitle": false,
     "tableResultSettingsMap": {},
     "title": ""
    }
   },
   "outputs": [],
   "source": [
    "# replace vague nationality with null\n",
    "exclude_list = [\n",
    "    \"기타\", \"국제연합\", \"미등록국가\", \"교황청\",\n",
    "    \"영국속국민\",\"영국속령지시민\",\"영국외지민\",\"영국외지시민\",\"영국해외영토시민\",\n",
    "    \"한국계러시아인\",\"한국계중국인\"\n",
    "]\n",
    "\n",
    "from pyspark.sql.functions import when\n",
    "\n",
    "cleaned_df = processed_df.select(\n",
    "    when(col(\"Nationality\").isin(exclude_list), \"None\").otherwise(col(\"Nationality\")).alias(\"Nationality\")\n",
    "    , \"Year\"\n",
    "    , \"Amount\"\n",
    ")"
   ]
  },
  {
   "cell_type": "code",
   "execution_count": 0,
   "metadata": {
    "application/vnd.databricks.v1+cell": {
     "cellMetadata": {
      "byteLimit": 2048000,
      "rowLimit": 10000
     },
     "inputWidgets": {},
     "nuid": "f706c9fe-dde4-42a7-b336-44bd76a69847",
     "showTitle": false,
     "tableResultSettingsMap": {},
     "title": ""
    }
   },
   "outputs": [],
   "source": [
    "# \n",
    "replacement_dict = {\n",
    "    # 러시아 관련\n",
    "    \"러시아(연방)\": \"러시아\",\n",
    "    \"러시아연방\": \"러시아\",\n",
    "    \n",
    "    # 남수단\n",
    "    \"남수단공화국\": \"남수단\",\n",
    "    \n",
    "    # 그루지야 / 조지아\n",
    "    \"그루지야\": \"조지아\",\n",
    "    \n",
    "    # 프랑스령 가이아나\n",
    "    \"불령가이아나\": \"프랑스령 가이아나\",\n",
    "    \n",
    "    # 세르비아몬테네그로 → 세르비아 (혹은 정책에 따라 별도)\n",
    "    \"세르비아몬테네그로\": \"세르비아\",\n",
    "    \n",
    "    # 러시아/중국/홍콩 관련\n",
    "    \"홍콩거주난민\": \"홍콩\",\n",
    "    \n",
    "    # 예시: 긴 명칭 간소화\n",
    "    \"남아프리카공화국\": \"남아프리카\",\n",
    "    \"도미니카공화국\": \"도미니카\",\n",
    "    \"티모르민주공화국\": \"티모르\",\n",
    "    \n",
    "    # 기타 소형 섬 / 특수 영토 간소화\n",
    "    \"미국인근섬\": \"미국\",\n",
    "    \"마르티니크\": \"프랑스\",\n",
    "    \"마카오\": \"중국\",\n",
    "    \"세인트루시아\": \"세인트루시아\",  # 유지\n",
    "    \"세인트빈센트그레나딘\": \"세인트빈센트\",  # 축약 가능\n",
    "    \"세인트크리스토퍼네비스\": \"세인트키츠네비스\",  # 통일 가능\n",
    "    \n",
    "    # 오타/변형\n",
    "    \"그리스\": \"그리스\",\n",
    "    \"러시아\": \"러시아\",\n",
    "    \"조지아\": \"조지아\",\n",
    "}\n",
    "\n",
    "from pyspark.sql.functions import sum\n",
    "cleaned_df = cleaned_df.replace(replacement_dict, subset = ['Nationality'])\n",
    "cleaned_df = cleaned_df.groupBy([\"Nationality\", \"Year\"]).agg(\n",
    "    sum(\"Amount\").alias(\"Amount\")\n",
    ")"
   ]
  },
  {
   "cell_type": "code",
   "execution_count": 0,
   "metadata": {
    "application/vnd.databricks.v1+cell": {
     "cellMetadata": {
      "byteLimit": 2048000,
      "rowLimit": 10000
     },
     "inputWidgets": {},
     "nuid": "cba3bbfb-5f1d-4323-89cb-13ab9b83d2fd",
     "showTitle": false,
     "tableResultSettingsMap": {},
     "title": ""
    }
   },
   "outputs": [],
   "source": [
    "cleaned_df.orderBy(\"Nationality\", \"Year\").show()"
   ]
  },
  {
   "cell_type": "code",
   "execution_count": 0,
   "metadata": {
    "application/vnd.databricks.v1+cell": {
     "cellMetadata": {
      "byteLimit": 2048000,
      "rowLimit": 10000
     },
     "inputWidgets": {},
     "nuid": "8f4d2c76-0525-4d2d-a67c-837795897e32",
     "showTitle": false,
     "tableResultSettingsMap": {},
     "title": ""
    }
   },
   "outputs": [],
   "source": [
    "%pip install pycountry"
   ]
  },
  {
   "cell_type": "code",
   "execution_count": 0,
   "metadata": {
    "application/vnd.databricks.v1+cell": {
     "cellMetadata": {
      "byteLimit": 2048000,
      "rowLimit": 10000
     },
     "inputWidgets": {},
     "nuid": "851ca331-a1bd-410d-b36c-dcf20478e821",
     "showTitle": false,
     "tableResultSettingsMap": {},
     "title": ""
    }
   },
   "outputs": [],
   "source": [
    "import pycountry\n",
    "\n",
    "nationalities = [row.Nationality for row in processed_df.select(\"Nationality\").collect()]\n",
    "\n",
    "for country_name in nationalities:\n",
    "    # 조회할 국가명을 입력합니다.\n",
    "    # country_name = \"South Korea\" # 또는 \"대한민국\" 등\n",
    "\n",
    "    # 국가명으로 국가 객체를 가져옵니다.\n",
    "    # (대소문자 구분 없이는 .get() 메서드에 lower() 또는 upper()를 적용할 수 있습니다)\n",
    "    try:\n",
    "        country = pycountry.countries.get(name=country_name)\n",
    "        if country:\n",
    "            # 2자리 국가 코드 (예: KR)\n",
    "            alpha_2_code = country.alpha_2\n",
    "            print(f\"{country_name}의 2자리 국가 코드: {alpha_2_code}\")\n",
    "\n",
    "            # 3자리 국가 코드 (예: KOR)\n",
    "            alpha_3_code = country.alpha_3\n",
    "            print(f\"{country_name}의 3자리 국가 코드: {alpha_3_code}\")\n",
    "\n",
    "            # 숫자 코드 (예: 410)\n",
    "            numeric_code = country.numeric\n",
    "            print(f\"{country_name}의 숫자 코드: {numeric_code}\")\n",
    "        else:\n",
    "            print(f\"'{country_name}'에 해당하는 국가를 찾을 수 없습니다.\")\n",
    "    except Exception as e:\n",
    "        print(f\"국가 코드를 조회하는 중 오류가 발생했습니다: {e}\")\n",
    "\n",
    "    # 다른 국가명으로 시도해 볼 수 있습니다.\n",
    "    # country_name_kr = \"대한민국\"\n",
    "    # try:\n",
    "    #     country_kr = pycountry.countries.get(common_name=country_name_kr) # 또는 name으로 시도\n",
    "    #     if country_kr:\n",
    "    #         print(f\"{country_name_kr}의 2자리 국가 코드: {country_kr.alpha_2}\")\n",
    "    #     else:\n",
    "    #             print(f\"'{country_name_kr}'에 해당하는 국가를 찾을 수 없습니다.\")\n",
    "    except Exception as e:\n",
    "        print(f\"국가 코드를 조회하는 중 오류가 발생했습니다: {e}\")"
   ]
  },
  {
   "cell_type": "code",
   "execution_count": 0,
   "metadata": {
    "application/vnd.databricks.v1+cell": {
     "cellMetadata": {},
     "inputWidgets": {},
     "nuid": "b5fc84c6-8339-413c-9dc0-a7afa5197062",
     "showTitle": false,
     "tableResultSettingsMap": {},
     "title": ""
    }
   },
   "outputs": [],
   "source": []
  }
 ],
 "metadata": {
  "application/vnd.databricks.v1+notebook": {
   "computePreferences": null,
   "dashboards": [],
   "environmentMetadata": {
    "base_environment": "",
    "environment_version": "3"
   },
   "inputWidgetPreferences": null,
   "language": "python",
   "notebookMetadata": {
    "mostRecentlyExecutedCommandWithImplicitDF": {
     "commandId": 6693409348114582,
     "dataframes": [
      "_sqldf"
     ]
    },
    "pythonIndentUnit": 4
   },
   "notebookName": "silver_resident_shortterm",
   "widgets": {}
  },
  "language_info": {
   "name": "python"
  }
 },
 "nbformat": 4,
 "nbformat_minor": 0
}
