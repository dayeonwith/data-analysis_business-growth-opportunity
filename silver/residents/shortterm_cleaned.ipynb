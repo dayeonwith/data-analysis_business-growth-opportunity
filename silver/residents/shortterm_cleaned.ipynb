{
 "cells": [
  {
   "cell_type": "code",
   "execution_count": 0,
   "metadata": {
    "application/vnd.databricks.v1+cell": {
     "cellMetadata": {
      "byteLimit": 2048000,
      "rowLimit": 10000
     },
     "inputWidgets": {},
     "nuid": "9a04a05c-18fa-4da7-a839-dc4beffd7c41",
     "showTitle": false,
     "tableResultSettingsMap": {},
     "title": ""
    }
   },
   "outputs": [],
   "source": [
    "%run ./_udf_utils_residents"
   ]
  },
  {
   "cell_type": "code",
   "execution_count": 0,
   "metadata": {
    "application/vnd.databricks.v1+cell": {
     "cellMetadata": {
      "byteLimit": 2048000,
      "rowLimit": 10000
     },
     "inputWidgets": {},
     "nuid": "26c2d3ce-71cf-4598-b951-2bc34f6369db",
     "showTitle": false,
     "tableResultSettingsMap": {},
     "title": ""
    }
   },
   "outputs": [],
   "source": [
    "from pyspark.sql import SparkSession\n",
    "from pyspark.sql.functions import col, from_json, explode_outer, when, lit, sum, current_timestamp\n",
    "from pyspark.sql.types import ArrayType, StructType, StructField, StringType, IntegerType\n",
    "import pandas as pd"
   ]
  },
  {
   "cell_type": "code",
   "execution_count": 0,
   "metadata": {
    "application/vnd.databricks.v1+cell": {
     "cellMetadata": {
      "byteLimit": 2048000,
      "rowLimit": 10000
     },
     "inputWidgets": {},
     "nuid": "c898c8fa-8f0c-4300-9986-22b7643f53e2",
     "showTitle": false,
     "tableResultSettingsMap": {},
     "title": ""
    }
   },
   "outputs": [],
   "source": [
    "def process_data(bronze_df):\n",
    "    # since the data is currently JSON string, \n",
    "    # I need to convert it back to JSON object using from_json\n",
    "    resident_schema = StructType([\n",
    "        StructField(\"국적지역\", StringType(), False),\n",
    "        StructField(\"년\", IntegerType(), False),\n",
    "        StructField(\"단기체류외국인 수\", IntegerType(), False)  \n",
    "    ])\n",
    "    \n",
    "    # using from_json, the column `data` (JSON string) is converted into ArrayType(StructType)\n",
    "    # Each element is now a struct mapping the original JSON object's key-value pairs.\n",
    "    resident_df = bronze_df.withColumn(\"data_parsed\", from_json(col(\"data\"), ArrayType(resident_schema)))\n",
    "\n",
    "    # flatten the array\n",
    "    exploded_df = resident_df.select(explode_outer(col(\"data_parsed\")))\n",
    "\n",
    "    # convert each item in struct as a column\n",
    "    processed_df = exploded_df.select(\n",
    "        col(\"col.국적지역\").alias(\"Nationality\"),\n",
    "        col(\"col.년\").alias(\"Year\"),\n",
    "        col(\"col.`단기체류외국인 수`\").alias(\"Amount\")\n",
    "    )\n",
    "\n",
    "    return processed_df\n"
   ]
  },
  {
   "cell_type": "code",
   "execution_count": 0,
   "metadata": {
    "application/vnd.databricks.v1+cell": {
     "cellMetadata": {
      "byteLimit": 2048000,
      "rowLimit": 10000
     },
     "inputWidgets": {},
     "nuid": "08e76c5d-6277-4e61-8e42-5bf3d46a035b",
     "showTitle": false,
     "tableResultSettingsMap": {},
     "title": ""
    }
   },
   "outputs": [],
   "source": [
    "# 1. Get data from bronze\n",
    "spark = SparkSession.builder.appName(\"silver_resident_shortterm\").getOrCreate()\n",
    "bronze_df = spark.table(\"workspace.growth_poc.bronze_residents_shortterm\")\n",
    "\n",
    "# 2. Flatten data\n",
    "processed_df = process_data(bronze_df)\n",
    "\n",
    "# 3. Clean up nationality \n",
    "cleaned_df = clean_nationality(processed_df)\n",
    "cleaned_df = cleaned_df.groupBy(\"Nationality\", \"Year\").agg(\n",
    "        sum(\"Amount\").alias(\"Amount\")\n",
    ")\n",
    "\n",
    "# 4. Apply mapping\n",
    "mapped_df = map_nationality(cleaned_df)\n",
    "final_df = mapped_df.withColumn(\"TimeStamp\", current_timestamp())\n",
    "\n",
    "final_df.write \\\n",
    "        .format(\"delta\") \\\n",
    "        .mode(\"overwrite\")\\\n",
    "        .option(\"mergeSchema\", True)\\\n",
    "        .saveAsTable(\"workspace.growth_poc.silver_residents_shortterm\")"
   ]
  }
 ],
 "metadata": {
  "application/vnd.databricks.v1+notebook": {
   "computePreferences": null,
   "dashboards": [],
   "environmentMetadata": {
    "base_environment": "",
    "environment_version": "3"
   },
   "inputWidgetPreferences": null,
   "language": "python",
   "notebookMetadata": {
    "mostRecentlyExecutedCommandWithImplicitDF": {
     "commandId": 6964065237681817,
     "dataframes": [
      "_sqldf"
     ]
    },
    "pythonIndentUnit": 4
   },
   "notebookName": "shortterm_cleaned",
   "widgets": {}
  },
  "language_info": {
   "name": "python"
  }
 },
 "nbformat": 4,
 "nbformat_minor": 0
}
