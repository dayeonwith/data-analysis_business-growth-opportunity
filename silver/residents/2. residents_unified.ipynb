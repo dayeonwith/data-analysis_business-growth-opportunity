{
 "cells": [
  {
   "cell_type": "code",
   "execution_count": 0,
   "metadata": {
    "application/vnd.databricks.v1+cell": {
     "cellMetadata": {
      "byteLimit": 2048000,
      "rowLimit": 10000
     },
     "inputWidgets": {},
     "nuid": "f174236d-ae42-4bf8-addf-5c72e2338331",
     "showTitle": false,
     "tableResultSettingsMap": {},
     "title": ""
    }
   },
   "outputs": [],
   "source": [
    "MERGE INTO workspace.growth_poc.silver_residents AS target\n",
    "USING (\n",
    "  SELECT\n",
    "    l.Nationality,\n",
    "    l.English_Nationality,\n",
    "    l.ISO_Code,\n",
    "    l.Primary_Language,\n",
    "    l.Language_Code,\n",
    "    'long-term' AS Resident_Category,\n",
    "    l.Year,\n",
    "    l.Amount\n",
    "  FROM\n",
    "    workspace.growth_poc.silver_residents_longterm l\n",
    "  WHERE l.TimeStamp = (SELECT MAX(TimeStamp) FROM workspace.growth_poc.silver_residents_longterm)\n",
    "  UNION ALL\n",
    "  SELECT\n",
    "    s.Nationality,\n",
    "    s.English_Nationality,\n",
    "    s.ISO_Code,\n",
    "    s.Primary_Language,\n",
    "    s.Language_Code,\n",
    "    'short-term' AS Resident_Category,\n",
    "    s.Year,\n",
    "    s.Amount\n",
    "  FROM\n",
    "    workspace.growth_poc.silver_residents_shortterm s\n",
    "  WHERE s.TimeStamp = (SELECT MAX(TimeStamp) FROM workspace.growth_poc.silver_residents_shortterm)\n",
    ") AS source\n",
    "-- defining joining keys\n",
    "ON TRIM(target.Nationality) = TRIM(source.Nationality)\n",
    "   AND target.Year = source.Year\n",
    "   AND target.Resident_Category = source.Resident_Category\n",
    "\n",
    "WHEN MATCHED THEN\n",
    "  UPDATE SET\n",
    "    target.Nationality_English = source.English_Nationality,\n",
    "    target.ISO_Code = source.ISO_Code,\n",
    "    target.Primary_Language = source.Primary_Language,\n",
    "    target.Language_Code = source.Language_Code,\n",
    "    target.Amount = source.Amount,\n",
    "    target.TimeStamp = current_timestamp()  \n",
    "\n",
    "WHEN NOT MATCHED THEN\n",
    "  INSERT (\n",
    "    Nationality,\n",
    "    Nationality_English,\n",
    "    ISO_Code,\n",
    "    Primary_Language,\n",
    "    Language_Code,\n",
    "    Resident_Category,\n",
    "    Year,\n",
    "    Amount,\n",
    "    TimeStamp\n",
    "  )\n",
    "  VALUES (\n",
    "    source.Nationality,\n",
    "    source.English_Nationality,\n",
    "    source.ISO_Code,\n",
    "    source.Primary_Language,\n",
    "    source.Language_Code,\n",
    "    source.Resident_Category,\n",
    "    source.Year,\n",
    "    source.Amount,\n",
    "    current_timestamp()  \n",
    "  );"
   ]
  },
  {
   "cell_type": "code",
   "execution_count": 0,
   "metadata": {
    "application/vnd.databricks.v1+cell": {
     "cellMetadata": {
      "byteLimit": 2048000,
      "rowLimit": 10000
     },
     "inputWidgets": {},
     "nuid": "510152aa-863f-48ac-be5f-73b3459e8dac",
     "showTitle": false,
     "tableResultSettingsMap": {},
     "title": ""
    }
   },
   "outputs": [],
   "source": [
    "-- CREATE TABLE workspace.growth_poc.silver_residents AS\n",
    "-- SELECT\n",
    "--     l.Nationality,\n",
    "--     l.English_Nationality AS Nationality_English,\n",
    "--     l.ISO_Code,\n",
    "--     l.Primary_Language,\n",
    "--     l.Language_Code,\n",
    "--     'long-term' AS Resident_Category,\n",
    "--     l.Year,\n",
    "--     l.Amount,\n",
    "--     getdate() AS TimeStamp\n",
    "\n",
    "-- FROM\n",
    "--     workspace.growth_poc.silver_residents_longterm l\n",
    "-- WHERE l.TimeStamp = (SELECT MAX(TimeStamp) FROM workspace.growth_poc.silver_residents_longterm)\n",
    "-- UNION ALL\n",
    "-- SELECT\n",
    "--     s.Nationality,\n",
    "--     s.English_Nationality AS Nationality_English,\n",
    "--     s.ISO_Code,\n",
    "--     s.Primary_Language,\n",
    "--     s.Language_Code,\n",
    "--     'short-term' AS Resident_Category,\n",
    "--     s.Year,\n",
    "--     s.Amount,\n",
    "--     getdate() AS TimeStamp\n",
    "-- FROM\n",
    "--     workspace.growth_poc.silver_residents_shortterm s\n",
    "-- WHERE s.TimeStamp = (SELECT MAX(TimeStamp) FROM workspace.growth_poc.silver_residents_shortterm)\n",
    " "
   ]
  }
 ],
 "metadata": {
  "application/vnd.databricks.v1+notebook": {
   "computePreferences": null,
   "dashboards": [],
   "environmentMetadata": {
    "base_environment": "",
    "environment_version": "3"
   },
   "inputWidgetPreferences": null,
   "language": "sql",
   "notebookMetadata": {
    "pythonIndentUnit": 4
   },
   "notebookName": "2. residents_unified",
   "widgets": {}
  },
  "language_info": {
   "name": "sql"
  }
 },
 "nbformat": 4,
 "nbformat_minor": 0
}
