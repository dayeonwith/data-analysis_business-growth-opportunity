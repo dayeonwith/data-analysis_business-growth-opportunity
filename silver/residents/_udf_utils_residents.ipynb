{
 "cells": [
  {
   "cell_type": "code",
   "execution_count": 0,
   "metadata": {
    "application/vnd.databricks.v1+cell": {
     "cellMetadata": {
      "byteLimit": 2048000,
      "rowLimit": 10000
     },
     "inputWidgets": {},
     "nuid": "fc279c5d-a5f5-4bed-b1cc-d83bd9ea8c22",
     "showTitle": false,
     "tableResultSettingsMap": {},
     "title": ""
    }
   },
   "outputs": [],
   "source": [
    "from pyspark.sql.functions import lit, col, when\n",
    "import pandas as pd\n",
    "\n",
    "def clean_nationality(original_df):\n",
    "    # replace vague nationality with None\n",
    "    exclude_list = [\n",
    "        \"기타\", \"국제연합\", \"미등록국가\", \"교황청\", \"무국적\", \"교포\", \"미상\",\n",
    "        \"영국속국민\",\"영국속령지시민\",\"영국외지민\",\"영국외지시민\",\"영국해외영토시민\",\n",
    "        \"구주기타\", \"중동기타\", \"미주기타\", \"대양주기타\", \"아프리카주기타\", \"아시아주기타\"\n",
    "    ]\n",
    "\n",
    "    # clean up nationalities\n",
    "    replacement_dict = {\n",
    "        # 러시아 관련\n",
    "        \"러시아(연방)\": \"러시아\",\n",
    "        \"러시아연방\": \"러시아\",\n",
    "        \"한국계러시아인\": \"러시아\",\n",
    "        \n",
    "        # 남수단\n",
    "        \"남수단공화국\": \"남수단\",\n",
    "        \n",
    "        # 그루지야 / 조지아\n",
    "        \"그루지야\": \"조지아\",\n",
    "        \n",
    "        # 프랑스\n",
    "        \"불령가이아나\": \"프랑스\",\n",
    "        \"프랑스령 가이아나\": \"프랑스\",\n",
    "\n",
    "        # 아르메니아\n",
    "        \"아르메\": \"아르메니아\",\n",
    "        \n",
    "        # 세르비아몬테네그로 → 세르비아  \n",
    "        \"세르비아몬테네그로\": \"세르비아\",\n",
    "        \n",
    "        # 러시아/중국/홍콩 관련\n",
    "        \"홍콩거주난민\": \"홍콩\",\n",
    "        \"한국계중국인\": \"중국\",\n",
    "        \"타이완\": \"대만\",\n",
    "        \n",
    "        # 긴 명칭 간소화\n",
    "        \"남아프리카공화국\": \"남아프리카\",\n",
    "        \"도미니카공화국\": \"도미니카\",\n",
    "        \"도미니카연방\": \"도미니카\",\n",
    "        \"티모르민주공화국\": \"티모르\",\n",
    "        \"예멘\": \"예멘공화국\",\n",
    "        \n",
    "        # 기타 소형 섬 / 특수 영토 간소화\n",
    "        \"미국인근섬\": \"미국\",\n",
    "        \"마르티니크\": \"프랑스\",\n",
    "        \"마카오\": \"중국\",\n",
    "        \"세인트빈센트그레나딘\": \"세인트빈센트\",  \n",
    "        \"세인트크리스토퍼네비스\": \"세인트키츠네비스\",\n",
    "        \"영령인도양섬\": \"영국\"\n",
    "        \n",
    "    }\n",
    "    cleaned_df = original_df.withColumn(\n",
    "            \"Nationality\",\n",
    "            when(col(\"Nationality\").isin(exclude_list), \"Undefined\")\n",
    "            .otherwise(col(\"Nationality\"))\n",
    "    ).replace(replacement_dict, subset=['Nationality'])\n",
    "    # cleaned_df = original_df.select(\n",
    "    #     [ col(c) for c in original_df.columns if c != \"Nationality\" ] + \n",
    "    #     [when(col(\"Nationality\").isin(exclude_list), \"Undefined\").otherwise(col(\"Nationality\")).alias(\"Nationality\")]\n",
    "        \n",
    "    #     #, \"Year\"\n",
    "    #     #, \"Amount\"\n",
    "    # ).replace(replacement_dict, subset = ['Nationality'])\n",
    "    return cleaned_df\n",
    "\n",
    "def map_nationality(cleaned_df):\n",
    "    # read csv file containing map country code\n",
    "    df = pd.read_csv(\"/Workspace/Repos/o3oynyn@gmail.com/data-analysis_business-growth-opportunity/silver/Nationality_mapping.csv\", index_col=None)\n",
    "\n",
    "    # convert pandas df to spark df\n",
    "    mapping_df = spark.createDataFrame(df)\n",
    "\n",
    "    mapped_df = cleaned_df.join(mapping_df, \\\n",
    "                                cleaned_df['Nationality'] == mapping_df['Korean_Nationality'], \\\n",
    "                                how = \"left\")\\\n",
    "                            .select(\n",
    "                                [col(c) for c in cleaned_df.columns] \n",
    "                                + [col(c) for c in mapping_df.columns if c != \"Korean_Nationality\"]\n",
    "                            )\n",
    "    return mapped_df\n",
    "\n",
    "\n",
    "print('Resident UDF has been set up.')"
   ]
  },
  {
   "cell_type": "code",
   "execution_count": 0,
   "metadata": {
    "application/vnd.databricks.v1+cell": {
     "cellMetadata": {
      "byteLimit": 2048000,
      "rowLimit": 10000
     },
     "inputWidgets": {},
     "nuid": "1b212e5a-b93e-43c4-b619-e8724994b580",
     "showTitle": false,
     "tableResultSettingsMap": {},
     "title": ""
    }
   },
   "outputs": [],
   "source": []
  }
 ],
 "metadata": {
  "application/vnd.databricks.v1+notebook": {
   "computePreferences": {
    "hardware": {
     "accelerator": null,
     "gpuPoolId": null,
     "memory": null
    }
   },
   "dashboards": [],
   "environmentMetadata": {
    "base_environment": "",
    "environment_version": "3"
   },
   "inputWidgetPreferences": null,
   "language": "python",
   "notebookMetadata": {
    "pythonIndentUnit": 4
   },
   "notebookName": "_udf_utils_residents",
   "widgets": {}
  },
  "language_info": {
   "name": "python"
  }
 },
 "nbformat": 4,
 "nbformat_minor": 0
}
