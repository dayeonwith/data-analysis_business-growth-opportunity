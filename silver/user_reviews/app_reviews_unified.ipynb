{
 "cells": [
  {
   "cell_type": "code",
   "execution_count": 0,
   "metadata": {
    "application/vnd.databricks.v1+cell": {
     "cellMetadata": {
      "byteLimit": 2048000,
      "rowLimit": 10000
     },
     "inputWidgets": {},
     "nuid": "65f7851f-dea6-4f3e-a0c6-7fa0d65a7bea",
     "showTitle": false,
     "tableResultSettingsMap": {},
     "title": ""
    }
   },
   "outputs": [],
   "source": [
    "DROP TABLE IF EXISTS workspace.growth_poc.silver_app_reviews;\n",
    "CREATE TABLE workspace.growth_poc.silver_app_reviews\n",
    "USING DELTA\n",
    "AS\n",
    "SELECT r.language AS written_language,\n",
    "       r.appName,\n",
    "       r.rating,\n",
    "       r.thumbsUpCount,\n",
    "       r.sentence,\n",
    "       r.updated AS review_date,\n",
    "       'appstore' AS source\n",
    "FROM workspace.growth_poc.silver_appstore_reviews r\n",
    "WHERE r.timestamp = (SELECT MAX(timestamp) FROM workspace.growth_poc.silver_appstore_reviews)\n",
    "\n",
    "UNION ALL\n",
    "\n",
    "SELECT r.language AS written_language,\n",
    "       r.appName,\n",
    "       r.score AS rating,\n",
    "       r.thumbsUpCount,\n",
    "       r.sentence,\n",
    "       r.at AS review_date,\n",
    "       'playstore' AS source\n",
    "FROM workspace.growth_poc.silver_playstore_reviews r\n",
    "WHERE r.timestamp = (SELECT MAX(timestamp) FROM workspace.growth_poc.silver_playstore_reviews)\n"
   ]
  }
 ],
 "metadata": {
  "application/vnd.databricks.v1+notebook": {
   "computePreferences": null,
   "dashboards": [],
   "environmentMetadata": {
    "base_environment": "",
    "environment_version": "3"
   },
   "inputWidgetPreferences": null,
   "language": "sql",
   "notebookMetadata": {
    "pythonIndentUnit": 4
   },
   "notebookName": "app_reviews_unified",
   "widgets": {}
  },
  "language_info": {
   "name": "sql"
  }
 },
 "nbformat": 4,
 "nbformat_minor": 0
}
