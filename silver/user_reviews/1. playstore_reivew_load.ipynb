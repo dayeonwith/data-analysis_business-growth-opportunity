{
 "cells": [
  {
   "cell_type": "code",
   "execution_count": 0,
   "metadata": {
    "application/vnd.databricks.v1+cell": {
     "cellMetadata": {
      "byteLimit": 2048000,
      "rowLimit": 10000
     },
     "inputWidgets": {},
     "nuid": "3c4daf8f-25fc-41bf-a711-d9e17b6fbb77",
     "showTitle": false,
     "tableResultSettingsMap": {},
     "title": ""
    }
   },
   "outputs": [],
   "source": [
    "%pip install nltk\n",
    "%pip install langdetect\n",
    "%pip install googletrans==4.0.0-rc1\n",
    "%pip install demoji"
   ]
  },
  {
   "cell_type": "code",
   "execution_count": 0,
   "metadata": {
    "application/vnd.databricks.v1+cell": {
     "cellMetadata": {
      "byteLimit": 2048000,
      "rowLimit": 10000
     },
     "inputWidgets": {},
     "nuid": "1c976961-c6ac-4ded-9244-20c88f896c7e",
     "showTitle": false,
     "tableResultSettingsMap": {},
     "title": ""
    }
   },
   "outputs": [],
   "source": [
    "import nltk"
   ]
  },
  {
   "cell_type": "code",
   "execution_count": 0,
   "metadata": {
    "application/vnd.databricks.v1+cell": {
     "cellMetadata": {
      "byteLimit": 2048000,
      "rowLimit": 10000
     },
     "inputWidgets": {},
     "nuid": "93b484ca-c2f9-458f-abea-5b2409dfd1c6",
     "showTitle": false,
     "tableResultSettingsMap": {},
     "title": ""
    }
   },
   "outputs": [],
   "source": [
    "# Download the 'punkt' tokenizer model (only needs to be done once)\n",
    "nltk.download('punkt')\n",
    "nltk.download('punkt_tab')\n",
    "nltk.download('stopwords')"
   ]
  },
  {
   "cell_type": "code",
   "execution_count": 0,
   "metadata": {
    "application/vnd.databricks.v1+cell": {
     "cellMetadata": {
      "byteLimit": 2048000,
      "rowLimit": 10000
     },
     "inputWidgets": {},
     "nuid": "c7d9fd86-886a-4e8c-9edb-8afa33de4d7c",
     "showTitle": false,
     "tableResultSettingsMap": {},
     "title": ""
    }
   },
   "outputs": [],
   "source": [
    "from nltk.tokenize import sent_tokenize\n",
    "from nltk.tokenize import word_tokenize\n",
    "from nltk.corpus import stopwords"
   ]
  },
  {
   "cell_type": "code",
   "execution_count": 0,
   "metadata": {
    "application/vnd.databricks.v1+cell": {
     "cellMetadata": {
      "byteLimit": 2048000,
      "rowLimit": 10000
     },
     "inputWidgets": {},
     "nuid": "b6edca6e-061a-4498-ac89-afc3a05e72c5",
     "showTitle": false,
     "tableResultSettingsMap": {},
     "title": ""
    }
   },
   "outputs": [],
   "source": [
    "from pyspark.sql import SparkSession\n",
    "from pyspark.sql.functions import col, to_timestamp, current_timestamp, lower\n",
    "from pyspark.sql.types import StructType, IntegerType\n",
    "import pandas as pd\n",
    "from langdetect import detect, LangDetectException\n",
    "from googletrans import Translator\n",
    "import demoji\n",
    "import re\n"
   ]
  },
  {
   "cell_type": "code",
   "execution_count": 0,
   "metadata": {
    "application/vnd.databricks.v1+cell": {
     "cellMetadata": {
      "byteLimit": 2048000,
      "rowLimit": 10000
     },
     "inputWidgets": {},
     "nuid": "5a256058-719e-4591-9520-8ce798527fcf",
     "showTitle": false,
     "tableResultSettingsMap": {},
     "title": ""
    }
   },
   "outputs": [],
   "source": [
    "spark = SparkSession.builder.appName(\"playstore_load\").getOrCreate()"
   ]
  },
  {
   "cell_type": "code",
   "execution_count": 0,
   "metadata": {
    "application/vnd.databricks.v1+cell": {
     "cellMetadata": {
      "byteLimit": 2048000,
      "rowLimit": 10000
     },
     "inputWidgets": {},
     "nuid": "04692b55-1b8e-4cb8-a2fc-b14c7b99d8c1",
     "showTitle": false,
     "tableResultSettingsMap": {},
     "title": ""
    }
   },
   "outputs": [],
   "source": [
    "bronze_df = spark.table(\"workspace.growth_poc.bronze_playstore_reviews\")\n",
    "bronze_df.printSchema()"
   ]
  },
  {
   "cell_type": "code",
   "execution_count": 0,
   "metadata": {
    "application/vnd.databricks.v1+cell": {
     "cellMetadata": {
      "byteLimit": 2048000,
      "rowLimit": 10000
     },
     "inputWidgets": {},
     "nuid": "3cc41305-f53f-4687-8a10-dc3de94aeaef",
     "showTitle": false,
     "tableResultSettingsMap": {},
     "title": ""
    }
   },
   "outputs": [],
   "source": [
    "# enforce schema\n",
    "int_columns = ['score', 'thumbsUpCount']\n",
    "datetime_columns = ['at', 'repliedAt']\n",
    "\n",
    "schema_enforced_df = bronze_df\n",
    "\n",
    "for c in int_columns:\n",
    "    schema_enforced_df = schema_enforced_df.withColumn(c, col(c).cast(IntegerType()))\n",
    "for c in datetime_columns:\n",
    "    schema_enforced_df = schema_enforced_df.withColumn(c, to_timestamp(col(c)))\n"
   ]
  },
  {
   "cell_type": "code",
   "execution_count": 0,
   "metadata": {
    "application/vnd.databricks.v1+cell": {
     "cellMetadata": {
      "byteLimit": 2048000,
      "rowLimit": 10000
     },
     "inputWidgets": {},
     "nuid": "d1fb774f-ef6f-4183-bc05-1d04b7ef372b",
     "showTitle": false,
     "tableResultSettingsMap": {},
     "title": ""
    }
   },
   "outputs": [],
   "source": [
    "def remove_urls(text):\n",
    "    # Regex pattern to match URL formats (http, https, www)\n",
    "    url_pattern = re.compile(r'https?://\\S+|www\\.\\S+')\n",
    "    return url_pattern.sub(r'', text)\n"
   ]
  },
  {
   "cell_type": "code",
   "execution_count": 0,
   "metadata": {
    "application/vnd.databricks.v1+cell": {
     "cellMetadata": {
      "byteLimit": 2048000,
      "rowLimit": 10000
     },
     "inputWidgets": {},
     "nuid": "0b6d1bd5-6b67-4ef3-a7eb-4d825f551f5f",
     "showTitle": false,
     "tableResultSettingsMap": {},
     "title": ""
    }
   },
   "outputs": [],
   "source": [
    "# convert spark dataframe to pandas dataframe to perfrom row level content split\n",
    "pd_df = schema_enforced_df.toPandas()"
   ]
  },
  {
   "cell_type": "code",
   "execution_count": 0,
   "metadata": {
    "application/vnd.databricks.v1+cell": {
     "cellMetadata": {
      "byteLimit": 2048000,
      "rowLimit": 10000
     },
     "inputWidgets": {},
     "nuid": "168c837c-49c6-4c27-a9e6-8cb066b57e60",
     "showTitle": false,
     "tableResultSettingsMap": {},
     "title": ""
    }
   },
   "outputs": [],
   "source": [
    "translator = Translator()\n",
    "stop_words = set(stopwords.words('english'))\n",
    "\n",
    "new_rows = []\n",
    "for index, row in pd_df.iterrows():\n",
    "    content_to_detect = remove_urls(demoji.replace(row[\"content\"], \"\"))\n",
    "\n",
    "    try:\n",
    "        detected_language = detect(content_to_detect)\n",
    "        # filer out Korean reviews to focus on foreginers' experience\n",
    "        if detected_language != \"ko\":\n",
    "            # if review was written in english, skip translation\n",
    "            if detected_language == \"en\":\n",
    "                written_language = \"en\"\n",
    "                content_translated = content_to_detect.lower()\n",
    "            else:\n",
    "                # Translate reviews into english to easier processing \n",
    "                trans_result = translator.translate(content_to_detect, dest=\"en\")\n",
    "                written_language = trans_result.src\n",
    "                content_translated = trans_result.text.lower()\n",
    "            # split content into sentence\n",
    "            sentences = sent_tokenize(content_translated)\n",
    "            words = word_tokenize(content_translated)\n",
    "            filtered_words = [w for w in words if w not in stop_words]\n",
    "            new_rows.append(\n",
    "                {\n",
    "                    \"appName\":row[\"appName\"],\n",
    "                    \"appVersion\":row[\"appVersion\"],\n",
    "                    \"at\":row[\"at\"],\n",
    "                    \"content\":row[\"content\"],\n",
    "                    \"content_translated\": content_translated,\n",
    "                    \"sentences\": sentences,\n",
    "                    \"words\": filtered_words,\n",
    "                    \"language\":written_language,\n",
    "                    \"repliedAt\":row[\"repliedAt\"],\n",
    "                    \"replyContent\":row[\"replyContent\"],\n",
    "                    \"reviewCreatedVersion\":row[\"reviewCreatedVersion\"],\n",
    "                    \"reviewId\":row[\"reviewId\"],\n",
    "                    \"score\":row[\"score\"],\n",
    "                    \"thumbsUpCount\":row[\"thumbsUpCount\"],\n",
    "                    \"userImage\":row[\"userImage\"],\n",
    "                    \"userName\":row[\"userName\"]\n",
    "                })\n",
    "    except:\n",
    "        continue\n",
    "\n",
    "        "
   ]
  },
  {
   "cell_type": "code",
   "execution_count": 0,
   "metadata": {
    "application/vnd.databricks.v1+cell": {
     "cellMetadata": {
      "byteLimit": 2048000,
      "rowLimit": 10000
     },
     "inputWidgets": {},
     "nuid": "78d0810a-9fae-4dd9-b18e-19b7e5124967",
     "showTitle": false,
     "tableResultSettingsMap": {},
     "title": ""
    }
   },
   "outputs": [],
   "source": [
    "tokenized_df = pd.DataFrame(new_rows)\n",
    "spark_df = spark.createDataFrame(tokenized_df).withColumn(\"timestamp\", current_timestamp())"
   ]
  },
  {
   "cell_type": "code",
   "execution_count": 0,
   "metadata": {
    "application/vnd.databricks.v1+cell": {
     "cellMetadata": {
      "byteLimit": 2048000,
      "rowLimit": 10000
     },
     "inputWidgets": {},
     "nuid": "32e307dc-80d9-4709-ae43-d6dc4a7310da",
     "showTitle": false,
     "tableResultSettingsMap": {},
     "title": ""
    }
   },
   "outputs": [],
   "source": [
    "spark_df.write\\\n",
    "        .mode(\"overwrite\")\\\n",
    "        .format(\"delta\")\\\n",
    "        .option(\"mergeSchema\", \"true\")\\\n",
    "        .saveAsTable(\"workspace.growth_poc.silver_playstore_reviews\")"
   ]
  },
  {
   "cell_type": "code",
   "execution_count": 0,
   "metadata": {
    "application/vnd.databricks.v1+cell": {
     "cellMetadata": {},
     "inputWidgets": {},
     "nuid": "a92e331f-fc6f-4e89-82ad-ad9be13f011b",
     "showTitle": false,
     "tableResultSettingsMap": {},
     "title": ""
    }
   },
   "outputs": [],
   "source": []
  }
 ],
 "metadata": {
  "application/vnd.databricks.v1+notebook": {
   "computePreferences": null,
   "dashboards": [],
   "environmentMetadata": {
    "base_environment": "",
    "environment_version": "3"
   },
   "inputWidgetPreferences": null,
   "language": "python",
   "notebookMetadata": {
    "mostRecentlyExecutedCommandWithImplicitDF": {
     "commandId": 8719271778193999,
     "dataframes": [
      "_sqldf"
     ]
    },
    "pythonIndentUnit": 4
   },
   "notebookName": "1. playstore_reivew_load",
   "widgets": {}
  },
  "language_info": {
   "name": "python"
  }
 },
 "nbformat": 4,
 "nbformat_minor": 0
}
