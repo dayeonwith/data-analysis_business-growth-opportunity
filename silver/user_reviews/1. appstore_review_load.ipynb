{
 "cells": [
  {
   "cell_type": "code",
   "execution_count": 0,
   "metadata": {
    "application/vnd.databricks.v1+cell": {
     "cellMetadata": {
      "byteLimit": 2048000,
      "rowLimit": 10000
     },
     "inputWidgets": {},
     "nuid": "3c4daf8f-25fc-41bf-a711-d9e17b6fbb77",
     "showTitle": false,
     "tableResultSettingsMap": {},
     "title": ""
    }
   },
   "outputs": [],
   "source": [
    "#%pip install nltk "
   ]
  },
  {
   "cell_type": "code",
   "execution_count": 0,
   "metadata": {
    "application/vnd.databricks.v1+cell": {
     "cellMetadata": {
      "byteLimit": 2048000,
      "rowLimit": 10000
     },
     "inputWidgets": {},
     "nuid": "1c976961-c6ac-4ded-9244-20c88f896c7e",
     "showTitle": false,
     "tableResultSettingsMap": {},
     "title": ""
    }
   },
   "outputs": [],
   "source": [
    "import nltk"
   ]
  },
  {
   "cell_type": "code",
   "execution_count": 0,
   "metadata": {
    "application/vnd.databricks.v1+cell": {
     "cellMetadata": {
      "byteLimit": 2048000,
      "rowLimit": 10000
     },
     "inputWidgets": {},
     "nuid": "93b484ca-c2f9-458f-abea-5b2409dfd1c6",
     "showTitle": false,
     "tableResultSettingsMap": {},
     "title": ""
    }
   },
   "outputs": [],
   "source": [
    "# Download the 'punkt' tokenizer model (only needs to be done once)\n",
    "nltk.download('punkt')\n",
    "nltk.download('punkt_tab')"
   ]
  },
  {
   "cell_type": "code",
   "execution_count": 0,
   "metadata": {
    "application/vnd.databricks.v1+cell": {
     "cellMetadata": {
      "byteLimit": 2048000,
      "rowLimit": 10000
     },
     "inputWidgets": {},
     "nuid": "c7d9fd86-886a-4e8c-9edb-8afa33de4d7c",
     "showTitle": false,
     "tableResultSettingsMap": {},
     "title": ""
    }
   },
   "outputs": [],
   "source": [
    "from nltk.tokenize import sent_tokenize"
   ]
  },
  {
   "cell_type": "code",
   "execution_count": 0,
   "metadata": {
    "application/vnd.databricks.v1+cell": {
     "cellMetadata": {
      "byteLimit": 2048000,
      "rowLimit": 10000
     },
     "inputWidgets": {},
     "nuid": "b6edca6e-061a-4498-ac89-afc3a05e72c5",
     "showTitle": false,
     "tableResultSettingsMap": {},
     "title": ""
    }
   },
   "outputs": [],
   "source": [
    "from pyspark.sql import SparkSession\n",
    "from pyspark.sql.functions import col, to_timestamp, current_timestamp\n",
    "from pyspark.sql.types import StructType, IntegerType\n",
    "import pandas as pd"
   ]
  },
  {
   "cell_type": "code",
   "execution_count": 0,
   "metadata": {
    "application/vnd.databricks.v1+cell": {
     "cellMetadata": {
      "byteLimit": 2048000,
      "rowLimit": 10000
     },
     "inputWidgets": {},
     "nuid": "5a256058-719e-4591-9520-8ce798527fcf",
     "showTitle": false,
     "tableResultSettingsMap": {},
     "title": ""
    }
   },
   "outputs": [],
   "source": [
    "\n",
    "spark = SparkSession.builder.appName(\"playstore_load\").getOrCreate()"
   ]
  },
  {
   "cell_type": "code",
   "execution_count": 0,
   "metadata": {
    "application/vnd.databricks.v1+cell": {
     "cellMetadata": {
      "byteLimit": 2048000,
      "rowLimit": 10000
     },
     "inputWidgets": {},
     "nuid": "04692b55-1b8e-4cb8-a2fc-b14c7b99d8c1",
     "showTitle": false,
     "tableResultSettingsMap": {},
     "title": ""
    }
   },
   "outputs": [],
   "source": [
    "bronze_df = spark.table(\"workspace.growth_poc.bronze_appstore_reviews\")\n",
    "bronze_df.printSchema()"
   ]
  },
  {
   "cell_type": "code",
   "execution_count": 0,
   "metadata": {
    "application/vnd.databricks.v1+cell": {
     "cellMetadata": {
      "byteLimit": 2048000,
      "rowLimit": 10000
     },
     "inputWidgets": {},
     "nuid": "b10dffdf-b1af-471d-9bac-ef0551bbec51",
     "showTitle": false,
     "tableResultSettingsMap": {},
     "title": ""
    }
   },
   "outputs": [],
   "source": [
    "def flatten_columns(schema, prefix = \"\"):\n",
    "    cols = []\n",
    "    for field in schema.fields:\n",
    "        column_name = field.name\n",
    "        if prefix != \"\":\n",
    "            column_name = f\"{prefix}.{column_name}\"\n",
    "        # if field is struct type\n",
    "        if isinstance(field.dataType, StructType):\n",
    "            # recursive call to handle nested struct\n",
    "            cols += flatten_columns(field.dataType, column_name) \n",
    "        # if field is already flatten, add to column\n",
    "        else:\n",
    "            cols.append(col(column_name).alias(column_name.replace('.', '_').replace('_label', '').replace('im:', '')))\n",
    "\n",
    "    return cols\n",
    "\n",
    "#im:voteCount: The total number of customers who have voted on a review, \n",
    "# regardless of whether they chose \"Helpful\" or \"Not Helpful\".\n",
    "#im:voteSum: This is a related value that tallies only the number of users who found a review helpful.        \n",
    "\n",
    "rename_columns = {\n",
    "    \"voteCount\": \"totalVote\",\n",
    "    \"voteSum\": \"thumbsUpCount\"\n",
    "}\n",
    "flat_df= bronze_df.select(flatten_columns(bronze_df.schema)).withColumnsRenamed(rename_columns)\n"
   ]
  },
  {
   "cell_type": "code",
   "execution_count": 0,
   "metadata": {
    "application/vnd.databricks.v1+cell": {
     "cellMetadata": {
      "byteLimit": 2048000,
      "rowLimit": 10000
     },
     "inputWidgets": {},
     "nuid": "7442b538-ca5d-4a0f-9d2c-88672c485354",
     "showTitle": false,
     "tableResultSettingsMap": {},
     "title": ""
    }
   },
   "outputs": [],
   "source": [
    "# enforce schema\n",
    "int_columns = ['rating', 'thumbsUpCount', 'totalVote']\n",
    "datetime_columns = ['updated']\n",
    "\n",
    "for c in int_columns:\n",
    "    flat_df = flat_df.withColumn(c, col(c).cast(IntegerType()))\n",
    "\n",
    "for c in datetime_columns:\n",
    "    flat_df = flat_df.withColumn(c, to_timestamp(c))\n"
   ]
  },
  {
   "cell_type": "code",
   "execution_count": 0,
   "metadata": {
    "application/vnd.databricks.v1+cell": {
     "cellMetadata": {
      "byteLimit": 2048000,
      "rowLimit": 10000
     },
     "inputWidgets": {},
     "nuid": "0b6d1bd5-6b67-4ef3-a7eb-4d825f551f5f",
     "showTitle": false,
     "tableResultSettingsMap": {},
     "title": ""
    }
   },
   "outputs": [],
   "source": [
    "# convert spark dataframe to pandas dataframe to perfrom row level content split\n",
    "pd_df = flat_df.toPandas()"
   ]
  },
  {
   "cell_type": "code",
   "execution_count": 0,
   "metadata": {
    "application/vnd.databricks.v1+cell": {
     "cellMetadata": {
      "byteLimit": 2048000,
      "rowLimit": 10000
     },
     "inputWidgets": {},
     "nuid": "168c837c-49c6-4c27-a9e6-8cb066b57e60",
     "showTitle": false,
     "tableResultSettingsMap": {},
     "title": ""
    }
   },
   "outputs": [],
   "source": [
    "new_rows = []\n",
    "for index, row in pd_df.iterrows():\n",
    "    # I will count title as a content as well.\n",
    "    new_rows.append(\n",
    "        {\n",
    "            \"author\":row[\"author\"],\n",
    "            \"author_name\":row[\"author_name\"],\n",
    "            \"author_uri\":row[\"author_uri\"],\n",
    "            \"updated\":row[\"updated\"],\n",
    "            \"rating\":row[\"rating\"],\n",
    "            \"version\":row[\"version\"],\n",
    "            \"id\":row[\"id\"],\n",
    "            \"title\":row[\"title\"],\n",
    "            \"content_attributes_type\":row[\"content_attributes_type\"],\n",
    "            \"content\":row[\"content\"],\n",
    "            \"sentence\": row[\"title\"],\n",
    "            \"link_attributes_href\":row[\"link_attributes_href\"],\n",
    "            \"link_attributes_rel\":row[\"link_attributes_rel\"],\n",
    "            \"thumbsUpCount\":row[\"thumbsUpCount\"],\n",
    "            \"contentType_attributes\":row[\"contentType_attributes\"],\n",
    "            \"contentType_attributes_term\":row[\"contentType_attributes_term\"],\n",
    "            \"totalVote\":row[\"totalVote\"],\n",
    "            \"appName\":row[\"appName\"],\n",
    "            \"country\":row[\"country\"],\n",
    "            \"language\":row[\"language\"],\n",
    "        })\n",
    "    sentences = sent_tokenize(row['content'])\n",
    "    for sentence in sentences:\n",
    "        new_rows.append(\n",
    "        {\n",
    "            \"author\":row[\"author\"],\n",
    "            \"author_name\":row[\"author_name\"],\n",
    "            \"author_uri\":row[\"author_uri\"],\n",
    "            \"updated\":row[\"updated\"],\n",
    "            \"rating\":row[\"rating\"],\n",
    "            \"version\":row[\"version\"],\n",
    "            \"id\":row[\"id\"],\n",
    "            \"title\":row[\"title\"],\n",
    "            \"content_attributes_type\":row[\"content_attributes_type\"],\n",
    "            \"content\":row[\"content\"],\n",
    "            \"sentence\": sentence,\n",
    "            \"link_attributes_href\":row[\"link_attributes_href\"],\n",
    "            \"link_attributes_rel\":row[\"link_attributes_rel\"],\n",
    "            \"thumbsUpCount\":row[\"thumbsUpCount\"],\n",
    "            \"contentType_attributes\":row[\"contentType_attributes\"],\n",
    "            \"contentType_attributes_term\":row[\"contentType_attributes_term\"],\n",
    "            \"totalVote\":row[\"totalVote\"],\n",
    "            \"appName\":row[\"appName\"],\n",
    "            \"country\":row[\"country\"],\n",
    "            \"language\":row[\"language\"],\n",
    "        })"
   ]
  },
  {
   "cell_type": "code",
   "execution_count": 0,
   "metadata": {
    "application/vnd.databricks.v1+cell": {
     "cellMetadata": {
      "byteLimit": 2048000,
      "rowLimit": 10000
     },
     "inputWidgets": {},
     "nuid": "78d0810a-9fae-4dd9-b18e-19b7e5124967",
     "showTitle": false,
     "tableResultSettingsMap": {},
     "title": ""
    }
   },
   "outputs": [],
   "source": [
    "sentence_df = pd.DataFrame(new_rows)\n",
    "spark_df = spark.createDataFrame(sentence_df).withColumn(\"timestamp\", current_timestamp())"
   ]
  },
  {
   "cell_type": "code",
   "execution_count": 0,
   "metadata": {
    "application/vnd.databricks.v1+cell": {
     "cellMetadata": {
      "byteLimit": 2048000,
      "rowLimit": 10000
     },
     "inputWidgets": {},
     "nuid": "32e307dc-80d9-4709-ae43-d6dc4a7310da",
     "showTitle": false,
     "tableResultSettingsMap": {},
     "title": ""
    }
   },
   "outputs": [],
   "source": [
    "spark_df.write\\\n",
    "        .mode(\"overwrite\")\\\n",
    "        .format(\"delta\")\\\n",
    "        .option(\"mergeSchema\", \"true\")\\\n",
    "        .saveAsTable(\"workspace.growth_poc.silver_appstore_reviews\")"
   ]
  }
 ],
 "metadata": {
  "application/vnd.databricks.v1+notebook": {
   "computePreferences": {
    "hardware": {
     "accelerator": null,
     "gpuPoolId": null,
     "memory": null
    }
   },
   "dashboards": [],
   "environmentMetadata": {
    "base_environment": "",
    "environment_version": "3"
   },
   "inputWidgetPreferences": null,
   "language": "python",
   "notebookMetadata": {
    "mostRecentlyExecutedCommandWithImplicitDF": {
     "commandId": -1,
     "dataframes": [
      "_sqldf"
     ]
    },
    "pythonIndentUnit": 4
   },
   "notebookName": "1. appstore_review_load",
   "widgets": {}
  },
  "language_info": {
   "name": "python"
  }
 },
 "nbformat": 4,
 "nbformat_minor": 0
}
