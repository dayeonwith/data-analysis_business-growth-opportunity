{
 "cells": [
  {
   "cell_type": "code",
   "execution_count": 0,
   "metadata": {
    "application/vnd.databricks.v1+cell": {
     "cellMetadata": {
      "byteLimit": 2048000,
      "rowLimit": 10000
     },
     "inputWidgets": {},
     "nuid": "fc279c5d-a5f5-4bed-b1cc-d83bd9ea8c22",
     "showTitle": false,
     "tableResultSettingsMap": {},
     "title": ""
    }
   },
   "outputs": [],
   "source": [
    "import requests\n",
    "\n",
    "# read data from api\n",
    "def read_data(base_url, endpoint, api_key):\n",
    "    # 1. api information\n",
    "    api_endpoint = endpoint\n",
    "    url = f\"{base_url}{api_endpoint}\"\n",
    "\n",
    "    # set initial variables\n",
    "    all_data = []\n",
    "    page = 1\n",
    "    perPage = 500\n",
    "\n",
    "    # 2. get data\n",
    "    while True:\n",
    "        params = {\n",
    "            \"page\" : page,\n",
    "            \"perPage\" : perPage,\n",
    "            \"serviceKey\" : api_key\n",
    "        }\n",
    "        # send api request\n",
    "        try:\n",
    "            response = requests.get(url, params=params, timeout = 20)\n",
    "            response.raise_for_status() # raise error for bad responses\n",
    "            data = response.json() # using .get() in case there is no data returned. In that case, new_data will be [] \n",
    "            new_data = data.get(\"data\", []) # new_data is empty, escape the loop \n",
    "            if len(new_data) == 0: \n",
    "                break \n",
    "            # add the data to the all_data \n",
    "            all_data.extend(new_data) \n",
    "            # move to the next page \n",
    "            page += 1\n",
    "        except requests.exceptions.HTTPError as http_err:\n",
    "            print(f\"HTTP error occurred on page ({page}): {http_err}\")\n",
    "            break\n",
    "        except requests.exceptions.ConnectionError as conn_err:\n",
    "            print(f\"Connection error occurred on page ({page}): {conn_err}\")\n",
    "            break\n",
    "        except requests.exceptions.Timeout as timeout_err:\n",
    "            print(f\"Timeout error occurred on page ({page}): {timeout_err}\")\n",
    "            break\n",
    "        except requests.exceptions.RequestException as req_err:\n",
    "            print(f\"An error occurred on page ({page}): {req_err}\")\n",
    "            break\n",
    "        \n",
    "    return all_data\n",
    "\n",
    "# side note\n",
    "# if this was a ELT pipeline, unless the error is 4xx, \n",
    "# I would have implemented retry mechanism with incremental gaps \n",
    "# between the tries before failing the pipeline, maybe three times.\n",
    "\n",
    "print('UDF has been set up.')"
   ]
  }
 ],
 "metadata": {
  "application/vnd.databricks.v1+notebook": {
   "computePreferences": {
    "hardware": {
     "accelerator": null,
     "gpuPoolId": null,
     "memory": null
    }
   },
   "dashboards": [],
   "environmentMetadata": {
    "base_environment": "",
    "environment_version": "3"
   },
   "inputWidgetPreferences": null,
   "language": "python",
   "notebookMetadata": {
    "pythonIndentUnit": 4
   },
   "notebookName": "_udf_utils",
   "widgets": {}
  },
  "language_info": {
   "name": "python"
  }
 },
 "nbformat": 4,
 "nbformat_minor": 0
}
