{
 "cells": [
  {
   "cell_type": "code",
   "execution_count": 0,
   "metadata": {
    "application/vnd.databricks.v1+cell": {
     "cellMetadata": {
      "byteLimit": 2048000,
      "rowLimit": 10000
     },
     "inputWidgets": {},
     "nuid": "cbfc059a-1ad4-4356-9602-f1c73947b88a",
     "showTitle": false,
     "tableResultSettingsMap": {},
     "title": ""
    }
   },
   "outputs": [],
   "source": [
    "%run ./_udf_utils"
   ]
  },
  {
   "cell_type": "code",
   "execution_count": 0,
   "metadata": {
    "application/vnd.databricks.v1+cell": {
     "cellMetadata": {
      "byteLimit": 2048000,
      "rowLimit": 10000
     },
     "inputWidgets": {},
     "nuid": "81762769-7977-4558-b955-adc2bb106153",
     "showTitle": false,
     "tableResultSettingsMap": {},
     "title": ""
    }
   },
   "outputs": [],
   "source": [
    "#%pip install python-dotenv"
   ]
  },
  {
   "cell_type": "code",
   "execution_count": 0,
   "metadata": {
    "application/vnd.databricks.v1+cell": {
     "cellMetadata": {
      "byteLimit": 2048000,
      "rowLimit": 10000
     },
     "inputWidgets": {},
     "nuid": "bd4f190e-54b3-428d-8f44-9fd4ee84dd80",
     "showTitle": false,
     "tableResultSettingsMap": {},
     "title": ""
    }
   },
   "outputs": [],
   "source": [
    "import os\n",
    "from dotenv import load_dotenv\n",
    "import json\n",
    "\n",
    "# load environment variables from .env\n",
    "load_dotenv() \n",
    "## call API_KEY saved in .env\n",
    "api_key = os.getenv(\"FOREIGNER_DATA_API_KEY\") \n",
    "base_url = \"https://api.odcloud.kr/api\"\n",
    "\n",
    "# get a list of endpoint from a textfile\n",
    "with open(\"resident_shortterm_endpoints.txt\", \"r\") as f:\n",
    "    endpoints_to_read = [line.strip() for line in f]\n",
    "\n",
    "total_results = []\n",
    "i = 1\n",
    "# loop through each endpoint to create a list of tuple  \n",
    "for ep in endpoints_to_read:\n",
    "    print(f\"processing.. {i}/{len(endpoints_to_read)}\")\n",
    "    result_data = read_data(base_url, ep, api_key)\n",
    "    total_results.append((ep, json.dumps(result_data, ensure_ascii=False))) # ensure_ascii: keep korean format\n",
    "    i += 1"
   ]
  },
  {
   "cell_type": "code",
   "execution_count": 0,
   "metadata": {
    "application/vnd.databricks.v1+cell": {
     "cellMetadata": {
      "byteLimit": 2048000,
      "rowLimit": 10000
     },
     "inputWidgets": {},
     "nuid": "30f2f47a-00d4-4da7-9639-188adbc38971",
     "showTitle": false,
     "tableResultSettingsMap": {},
     "title": ""
    }
   },
   "outputs": [],
   "source": [
    "from pyspark.sql import SparkSession\n",
    "from pyspark.sql.types import StructField, StructType, StringType\n",
    "\n",
    "spark = SparkSession.builder.appName(\"resident_shortterm_ingest\").getOrCreate()\n",
    "shortterm_data = total_results\n",
    "shortterm_schema = StructType([\n",
    "    StructField('endpoint', StringType(), False),\n",
    "    StructField('data', StringType(), True)\n",
    "])\n",
    "\n",
    "shortterm_df = spark.createDataFrame(data = shortterm_data, schema = shortterm_schema)"
   ]
  },
  {
   "cell_type": "code",
   "execution_count": 0,
   "metadata": {
    "application/vnd.databricks.v1+cell": {
     "cellMetadata": {
      "byteLimit": 2048000,
      "rowLimit": 10000
     },
     "inputWidgets": {},
     "nuid": "38893e98-6509-4dd2-92c5-9c5f6295a7f5",
     "showTitle": false,
     "tableResultSettingsMap": {},
     "title": ""
    }
   },
   "outputs": [],
   "source": [
    "shortterm_df.write.format(\"delta\").mode(\"overwrite\").saveAsTable(\"workspace.growth_poc.bronze_residents_shortterm\")"
   ]
  }
 ],
 "metadata": {
  "application/vnd.databricks.v1+notebook": {
   "computePreferences": null,
   "dashboards": [],
   "environmentMetadata": {
    "base_environment": "",
    "environment_version": "3"
   },
   "inputWidgetPreferences": null,
   "language": "python",
   "notebookMetadata": {
    "pythonIndentUnit": 4
   },
   "notebookName": "resident_shortterm_ingest",
   "widgets": {}
  },
  "language_info": {
   "name": "python"
  }
 },
 "nbformat": 4,
 "nbformat_minor": 0
}
