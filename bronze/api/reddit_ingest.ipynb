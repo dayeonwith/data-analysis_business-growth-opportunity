{
 "cells": [
  {
   "cell_type": "code",
   "execution_count": 0,
   "metadata": {
    "application/vnd.databricks.v1+cell": {
     "cellMetadata": {
      "byteLimit": 2048000,
      "rowLimit": 10000
     },
     "inputWidgets": {},
     "nuid": "a0fc93cb-a2d0-4483-97e7-b9fbb5070902",
     "showTitle": false,
     "tableResultSettingsMap": {},
     "title": ""
    }
   },
   "outputs": [],
   "source": [
    "# %pip install praw\n",
    "# %pip install dotenv"
   ]
  },
  {
   "cell_type": "code",
   "execution_count": 0,
   "metadata": {
    "application/vnd.databricks.v1+cell": {
     "cellMetadata": {
      "byteLimit": 2048000,
      "rowLimit": 10000
     },
     "inputWidgets": {},
     "nuid": "a39ec1ea-3ce9-4067-98b3-76bc1e956d51",
     "showTitle": false,
     "tableResultSettingsMap": {},
     "title": ""
    }
   },
   "outputs": [],
   "source": [
    "from dotenv import load_dotenv\n",
    "import os\n",
    "\n",
    "# load environment variables from .env\n",
    "load_dotenv() \n",
    "# get environmental variables\n",
    "client_secret = os.getenv(\"REDDIT_SECRET\") \n",
    "client_id = os.getenv(\"REDDIT_CLIENT_ID\")\n",
    "user_agent = os.getenv(\"REDDIT_USER_AGENT\")\n"
   ]
  },
  {
   "cell_type": "code",
   "execution_count": 0,
   "metadata": {
    "application/vnd.databricks.v1+cell": {
     "cellMetadata": {
      "byteLimit": 2048000,
      "rowLimit": 10000
     },
     "inputWidgets": {},
     "nuid": "137d6340-f44e-4011-bc59-c4274ed3dba0",
     "showTitle": false,
     "tableResultSettingsMap": {},
     "title": ""
    }
   },
   "outputs": [],
   "source": [
    "import praw\n",
    "reddit_read_only = praw.Reddit(client_id = client_id, client_secret = client_secret, user_agent = user_agent, check_for_async=False)\n"
   ]
  },
  {
   "cell_type": "code",
   "execution_count": 0,
   "metadata": {
    "application/vnd.databricks.v1+cell": {
     "cellMetadata": {
      "byteLimit": 2048000,
      "rowLimit": 10000
     },
     "inputWidgets": {},
     "nuid": "8b6eaa50-f01d-41ce-8c4d-458ea771d745",
     "showTitle": false,
     "tableResultSettingsMap": {},
     "title": ""
    }
   },
   "outputs": [],
   "source": [
    "from datetime import datetime\n",
    "\n",
    "query = '''\n",
    "(food AND delivery) OR \"delivery app\" OR 배달앱 OR 배달어플 OR 배달\n",
    "OR\n",
    "\"Coupang Eats\" OR 쿠팡이츠 OR \"쿠팡 이츠\" OR \"CoupangEats\"\n",
    "OR\n",
    "Baemin OR 배민 OR \"배달의 민족\" OR \"Baedal Minjok\"\n",
    "OR\n",
    "Yogiyo OR \"요기요\"\n",
    "OR\n",
    "\"Shuttle\" OR \"Shuttle Delivery\"\n",
    "'''\n",
    "\n",
    "# \"korea+koreatravel+living_in_korea\"\n",
    "subreddit_to_search = [\"korea\", \"koreatravel\", \"living_in_korea\"]\n",
    "cnt = 0 \n",
    "\n",
    "search_result_separate = []\n",
    "search_result_all = []\n",
    "\n",
    "# iterate through each subreddit\n",
    "# reason: \n",
    "# if I set subreddit as \"korea+koreatravel+living_in_korea\", \n",
    "# its result is quite limited to only recent ones (only down to 2023), \n",
    "# due to the reddit's innate search restriction.\n",
    "for subr in subreddit_to_search:\n",
    "    # Post URL\n",
    "    posts = reddit_read_only.subreddit(subr).search(query = query, sort=\"new\")\n",
    "    print(f\"-- {subr} --\")\n",
    "    for post in posts:\n",
    "        print(cnt)\n",
    "        print(post.title)\n",
    "        print(datetime.fromtimestamp(post.created_utc))\n",
    "        cnt += 1\n",
    "        print()\n",
    "        search_result_separate.append(post.id)\n",
    "\n",
    "#https://www.geeksforgeeks.org/python/scraping-reddit-using-python/\n",
    "# ----------------여기까지--------------\n"
   ]
  },
  {
   "cell_type": "code",
   "execution_count": 0,
   "metadata": {
    "application/vnd.databricks.v1+cell": {
     "cellMetadata": {},
     "inputWidgets": {},
     "nuid": "66a20eff-c171-4ce3-85ba-0026d09f5cfd",
     "showTitle": false,
     "tableResultSettingsMap": {},
     "title": ""
    }
   },
   "outputs": [],
   "source": [
    "# get comments from each posts \n",
    "\"\"\"\n",
    "# Creating a submission object\n",
    "submission = reddit_read_only.submission(url=url)\n",
    "\n",
    "from praw.models import MoreComments\n",
    "\n",
    "post_comments = []\n",
    "\n",
    "for comment in submission.comments:\n",
    "    if type(comment) == MoreComments:\n",
    "        continue\n",
    "\n",
    "    post_comments.append(comment.body)\n",
    "\n",
    "# creating a dataframe\n",
    "comments_df = pd.DataFrame(post_comments, columns=['comment'])\n",
    "comments_df\n",
    "\"\"\""
   ]
  },
  {
   "cell_type": "code",
   "execution_count": 0,
   "metadata": {
    "application/vnd.databricks.v1+cell": {
     "cellMetadata": {},
     "inputWidgets": {},
     "nuid": "693da42c-e113-4d8a-af9f-bbd3c9f7d5b6",
     "showTitle": false,
     "tableResultSettingsMap": {},
     "title": ""
    }
   },
   "outputs": [],
   "source": []
  }
 ],
 "metadata": {
  "application/vnd.databricks.v1+notebook": {
   "computePreferences": null,
   "dashboards": [],
   "environmentMetadata": {
    "base_environment": "",
    "environment_version": "3"
   },
   "inputWidgetPreferences": null,
   "language": "python",
   "notebookMetadata": {
    "pythonIndentUnit": 4
   },
   "notebookName": "reddit_ingest",
   "widgets": {}
  },
  "language_info": {
   "name": "python"
  }
 },
 "nbformat": 4,
 "nbformat_minor": 0
}
