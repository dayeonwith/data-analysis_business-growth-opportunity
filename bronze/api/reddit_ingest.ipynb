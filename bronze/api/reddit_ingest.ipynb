{
 "cells": [
  {
   "cell_type": "code",
   "execution_count": 0,
   "metadata": {
    "application/vnd.databricks.v1+cell": {
     "cellMetadata": {
      "byteLimit": 2048000,
      "rowLimit": 10000
     },
     "inputWidgets": {},
     "nuid": "a0fc93cb-a2d0-4483-97e7-b9fbb5070902",
     "showTitle": false,
     "tableResultSettingsMap": {},
     "title": ""
    }
   },
   "outputs": [],
   "source": [
    "# %pip install praw\n",
    "# %pip install dotenv"
   ]
  },
  {
   "cell_type": "code",
   "execution_count": 0,
   "metadata": {
    "application/vnd.databricks.v1+cell": {
     "cellMetadata": {
      "byteLimit": 2048000,
      "rowLimit": 10000
     },
     "inputWidgets": {},
     "nuid": "a39ec1ea-3ce9-4067-98b3-76bc1e956d51",
     "showTitle": false,
     "tableResultSettingsMap": {},
     "title": ""
    }
   },
   "outputs": [],
   "source": [
    "from dotenv import load_dotenv\n",
    "import os\n",
    "import praw\n",
    "from praw.models import MoreComments\n",
    "from pyspark.sql import SparkSession\n",
    "from pyspark.sql.types import StructField, StructType, StringType\n",
    "\n",
    "\n",
    "# load environment variables from .env\n",
    "load_dotenv() \n",
    "# get environmental variables\n",
    "client_secret = os.getenv(\"REDDIT_SECRET\") \n",
    "client_id = os.getenv(\"REDDIT_CLIENT_ID\")\n",
    "user_agent = os.getenv(\"REDDIT_USER_AGENT\")\n"
   ]
  },
  {
   "cell_type": "code",
   "execution_count": 0,
   "metadata": {
    "application/vnd.databricks.v1+cell": {
     "cellMetadata": {
      "byteLimit": 2048000,
      "rowLimit": 10000
     },
     "inputWidgets": {},
     "nuid": "137d6340-f44e-4011-bc59-c4274ed3dba0",
     "showTitle": false,
     "tableResultSettingsMap": {},
     "title": ""
    }
   },
   "outputs": [],
   "source": [
    "reddit_read_only = praw.Reddit(client_id = client_id, client_secret = client_secret, user_agent = user_agent, check_for_async=False)\n"
   ]
  },
  {
   "cell_type": "code",
   "execution_count": 0,
   "metadata": {
    "application/vnd.databricks.v1+cell": {
     "cellMetadata": {
      "byteLimit": 2048000,
      "rowLimit": 10000
     },
     "inputWidgets": {},
     "nuid": "8b6eaa50-f01d-41ce-8c4d-458ea771d745",
     "showTitle": false,
     "tableResultSettingsMap": {},
     "title": ""
    }
   },
   "outputs": [],
   "source": [
    "query = '''\n",
    "(food AND delivery) OR (delivery AND order) OR \"delivery app\" OR 배달앱 OR 배달어플 OR 배달\n",
    "OR\n",
    "\"Coupang Eats\" OR 쿠팡이츠 OR \"쿠팡 이츠\" OR \"CoupangEats\"\n",
    "OR\n",
    "Baemin OR 배민 OR \"배달의 민족\" OR \"Baedal Minjok\"\n",
    "OR\n",
    "Yogiyo OR \"요기요\"\n",
    "OR\n",
    "(Shuttle AND food) OR (Shuttle AND order) OR (Shuttle AND delivery) OR \"Shuttle Delivery\"\n",
    "'''\n",
    "\n",
    "# \"korea+koreatravel+living_in_korea\"\n",
    "subreddit_to_search = [\"korea\", \"koreatravel\", \"living_in_korea\"]\n",
    "\n",
    "search_results = []\n",
    "\n",
    "# iterate through each subreddit\n",
    "# reason: \n",
    "# if I set subreddit as \"korea+koreatravel+living_in_korea\", \n",
    "# its result is quite limited to only recent ones (only down to 2023), \n",
    "# due to the reddit's innate search restriction.\n",
    "for subr in subreddit_to_search:\n",
    "    # Post URL\n",
    "    posts = reddit_read_only.subreddit(subr).search(query = query, sort=\"new\", limit = 1000)\n",
    "    print(f\"-- {subr} --\")\n",
    "    for post in posts:\n",
    "        # exclude non-reddit url\n",
    "        if post.is_self:\n",
    "            search_results.append(post.url)\n",
    "            #created_time = datetime.fromtimestamp(post.created_utc)\n"
   ]
  },
  {
   "cell_type": "code",
   "execution_count": 0,
   "metadata": {
    "application/vnd.databricks.v1+cell": {
     "cellMetadata": {
      "byteLimit": 2048000,
      "rowLimit": 10000
     },
     "inputWidgets": {},
     "nuid": "48798734-b42d-4ff2-8d84-c9b18daffa65",
     "showTitle": false,
     "tableResultSettingsMap": {},
     "title": ""
    }
   },
   "outputs": [],
   "source": [
    "contents = []\n",
    "# get post content, date, and comments from each url\n",
    "for url in search_results:\n",
    "    post = reddit_read_only.submission(url=url)\n",
    "    contents.append((url, post.selftext, post.created_utc))\n",
    "    for comment in post.comments:\n",
    "        # if comment is MoreComments object, skip this item. \n",
    "        # Otherwise, comment.body will fail\n",
    "        if isinstance(comment, MoreComments): \n",
    "            continue\n",
    "        #created_time = datetime.fromtimestamp(comment.created_utc)\n",
    "        contents.append((url, comment.body, comment.created_utc))\n",
    "\n"
   ]
  },
  {
   "cell_type": "code",
   "execution_count": 0,
   "metadata": {
    "application/vnd.databricks.v1+cell": {
     "cellMetadata": {
      "byteLimit": 2048000,
      "rowLimit": 10000
     },
     "inputWidgets": {},
     "nuid": "5cf7493c-b53a-4a00-bbd5-472991bd6789",
     "showTitle": false,
     "tableResultSettingsMap": {},
     "title": ""
    }
   },
   "outputs": [],
   "source": [
    "spark = SparkSession.builder.appName(\"bronze_reddit_ingest\").getOrCreate()\n",
    "\n",
    "contents_schema = StructType([\n",
    "    StructField(\"url\", StringType(), False),\n",
    "    StructField(\"content\", StringType(), False),\n",
    "    StructField(\"created_datetime\", StringType(), False),\n",
    "])\n",
    "\n",
    "df = spark.createDataFrame(data = contents, schema = contents_schema)\n"
   ]
  },
  {
   "cell_type": "code",
   "execution_count": 0,
   "metadata": {
    "application/vnd.databricks.v1+cell": {
     "cellMetadata": {
      "byteLimit": 2048000,
      "rowLimit": 10000
     },
     "inputWidgets": {},
     "nuid": "bea0b1a3-cf49-4c88-96c0-286c7385c2bb",
     "showTitle": false,
     "tableResultSettingsMap": {},
     "title": ""
    }
   },
   "outputs": [],
   "source": [
    "df.write\\\n",
    "    .format(\"delta\")\\\n",
    "    .mode(\"overwrite\")\\\n",
    "    .saveAsTable(\"workspace.growth_poc.bronze_reddit\")\n"
   ]
  }
 ],
 "metadata": {
  "application/vnd.databricks.v1+notebook": {
   "computePreferences": null,
   "dashboards": [],
   "environmentMetadata": {
    "base_environment": "",
    "environment_version": "3"
   },
   "inputWidgetPreferences": null,
   "language": "python",
   "notebookMetadata": {
    "mostRecentlyExecutedCommandWithImplicitDF": {
     "commandId": 7064373371326951,
     "dataframes": [
      "_sqldf"
     ]
    },
    "pythonIndentUnit": 4
   },
   "notebookName": "reddit_ingest",
   "widgets": {}
  },
  "language_info": {
   "name": "python"
  }
 },
 "nbformat": 4,
 "nbformat_minor": 0
}
