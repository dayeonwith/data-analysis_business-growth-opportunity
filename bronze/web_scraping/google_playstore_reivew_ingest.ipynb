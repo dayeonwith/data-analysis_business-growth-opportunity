{
 "cells": [
  {
   "cell_type": "code",
   "execution_count": 0,
   "metadata": {
    "application/vnd.databricks.v1+cell": {
     "cellMetadata": {
      "byteLimit": 2048000,
      "rowLimit": 10000
     },
     "inputWidgets": {},
     "nuid": "7ec97611-d783-4d58-82c9-ad374d782f3a",
     "showTitle": false,
     "tableResultSettingsMap": {},
     "title": ""
    }
   },
   "outputs": [],
   "source": [
    "#%pip install google_play_scraper\n",
    "#%pip install langdetect"
   ]
  },
  {
   "cell_type": "code",
   "execution_count": 0,
   "metadata": {
    "application/vnd.databricks.v1+cell": {
     "cellMetadata": {
      "byteLimit": 2048000,
      "rowLimit": 10000
     },
     "inputWidgets": {},
     "nuid": "380a2e54-359d-4ebf-b7a5-854bec0762dc",
     "showTitle": false,
     "tableResultSettingsMap": {},
     "title": ""
    }
   },
   "outputs": [],
   "source": [
    "from google_play_scraper import Sort, reviews_all\n",
    "from pyspark.sql import SparkSession\n",
    "from pyspark.sql.functions import col\n",
    "\n",
    "# app id for each delivery app \n",
    "app_ids = {\n",
    "    \"coupangEats\" : \"com.coupang.mobile.eats\",\n",
    "    \"baemin\" : \"com.sampleapp\",\n",
    "    \"yogiyo\" : \"com.fineapp.yogiyo\"\n",
    "}"
   ]
  },
  {
   "cell_type": "markdown",
   "metadata": {
    "application/vnd.databricks.v1+cell": {
     "cellMetadata": {},
     "inputWidgets": {},
     "nuid": "ded3c71d-49ef-49d2-877f-c6cc08987209",
     "showTitle": false,
     "tableResultSettingsMap": {},
     "title": ""
    }
   },
   "source": [
    "1. 초기 접근법: 다국가 리뷰 수집 시도 <br/>\n",
    "프로젝트 초기에는 외국인 리뷰를 폭넓게 확보하기 위해, 한국과 교류가 많거나 주요 언어를 사용하는 여러 국가의 리뷰를 동시에 수집하는 전략을 세웠습니다. 아래 코드는 당시 최초로 설계했던 데이터 수집 로직입니다."
   ]
  },
  {
   "cell_type": "code",
   "execution_count": 0,
   "metadata": {
    "application/vnd.databricks.v1+cell": {
     "cellMetadata": {
      "byteLimit": 2048000,
      "rowLimit": 10000
     },
     "inputWidgets": {},
     "nuid": "e05ef75a-dac3-46da-8d74-b40df11797fa",
     "showTitle": false,
     "tableResultSettingsMap": {},
     "title": ""
    }
   },
   "outputs": [],
   "source": [
    "# ------------ This code is no longer in use -----------------\n",
    "\n",
    "# countries to check reviews\n",
    "# I am covering countries:\n",
    "# 1) using English, French, Spanish, and Chinese as official or major secondary languages\n",
    "# 2) relatively nearby Korea (with an assumption there will be more tourists coming from these countries due to its accessibility)\n",
    "# 3) with high exchange scope\n",
    "# 4) and Korea\n",
    "language_group = [\n",
    "    # English\n",
    "    'us', 'gb', 'ca', 'au', 'nz', 'ie', 'za', 'in', 'sg', 'ph', \n",
    "    # Spanish \n",
    "    'es', 'mx', 'ar', 'co', 'cl', 'pe',  \n",
    "    # Chinese                        \n",
    "    'cn', 'tw', 'hk',   \n",
    "    # French                                         \n",
    "    'fr', 'be', 'ch', 'sn'                                       \n",
    "]\n",
    "nearby_group = ['jp', 'ru', 'mn', 'vn', 'id', 'th']\n",
    "exchange_scope_group = ['au', 'sa', 'de', 'ae']\n",
    "korea_group = ['kr']\n",
    "\n",
    "# combine countries\n",
    "country_codes = language_group + nearby_group + exchange_scope_group + korea_group\n",
    "\n",
    "# remove duplicates\n",
    "unique_country_codes = list(set(country_codes))\n",
    "\n",
    "all_reviews = []\n",
    "# get reviews from each country in each delivery app \n",
    "for app_name, app_id in app_ids.items():\n",
    "    for country_code in unique_country_codes:\n",
    "        # reviews = reviews_all(\n",
    "        #     app_id,\n",
    "        #     sleep_milliseconds = 500, # Add a delay to avoid rate-limiting\n",
    "        #     lang = 'en', \n",
    "        #     country = country_code,\n",
    "        #     sort = Sort.NEWEST, \n",
    "        # )\n",
    "\n",
    "        # for review in reviews:\n",
    "        #     review['appName'] = app_name\n",
    "        #     review['appId'] = app_id\n",
    "        #     review['countryCode'] = country_code\n",
    "\n",
    "        # all_reviews.extend(reviews)\n",
    "        # print(f\"Found {len(reviews)} reviews for {app_name} in {country_code}\")\n",
    "        pass\n",
    "print(\"위 코드를 실행하면 모든 국가에서 동일한 리뷰가 수집되는 문제가 발견됩니다.\")"
   ]
  },
  {
   "cell_type": "markdown",
   "metadata": {
    "application/vnd.databricks.v1+cell": {
     "cellMetadata": {},
     "inputWidgets": {},
     "nuid": "74954265-01f1-4dd6-9fb1-4d6d85568ab3",
     "showTitle": false,
     "tableResultSettingsMap": {},
     "title": ""
    }
   },
   "source": [
    "2. 전략 수정 <br/>\n",
    "위 코드로 데이터를 수집한 결과, 모든 국가에서 동일한 개수의 리뷰가 반환되는 문제를 발견했습니다. 이는 대상 앱들이 한국 내수용이라 구글 플레이스토어가 미출시 국가에 대해 한국 스토어의 데이터를 기본값으로 보여주기 때문이었습니다. <br/>\n",
    "따라서 비효율적인 다국가 수집 방식을 폐기하고, 목표에 더 직접적으로 접근할 수 있는 새로운 전략을 채택했습니다."
   ]
  },
  {
   "cell_type": "code",
   "execution_count": 0,
   "metadata": {
    "application/vnd.databricks.v1+cell": {
     "cellMetadata": {
      "byteLimit": 2048000,
      "rowLimit": 10000
     },
     "inputWidgets": {},
     "nuid": "4f92041a-f710-4fe8-9d8c-afdde84645c0",
     "showTitle": false,
     "tableResultSettingsMap": {},
     "title": ""
    }
   },
   "outputs": [],
   "source": [
    "# Instead, now we will get reviews from korea play store \n",
    "# but filter to only get the ones written in non-Korean \n",
    "# to focus on foreigners' experience\n",
    "from langdetect import detect, LangDetectException\n",
    "\n",
    "# sort options to iterate to get more reviews\n",
    "sort_options = [Sort.NEWEST, Sort.MOST_RELEVANT]\n",
    "\n",
    "all_reviews = []\n",
    "\n",
    "# get reviews from each delivery app \n",
    "for app_name, app_id in app_ids.items():\n",
    "    unique_review_ids = set()\n",
    "    for sort_option in sort_options:\n",
    "        reviews = reviews_all(\n",
    "            app_id,\n",
    "            sleep_milliseconds = 500, # Add a delay to avoid rate-limiting\n",
    "            lang = 'en', \n",
    "            country = 'kr',\n",
    "            sort = sort_option, \n",
    "        ) # -> returns a list of dictionary\n",
    "\n",
    "        for review in reviews:\n",
    "            # check if this review was captured already\n",
    "            if review['reviewId'] not in unique_review_ids:\n",
    "                # exclude reviews with only star ratings\n",
    "                if review['content']:\n",
    "                    # check if the review was written in non-Korean\n",
    "                    try: \n",
    "                        written_language = detect(review['content'])\n",
    "                        if written_language != 'ko':\n",
    "                            review['appName'] = app_name\n",
    "                            review['language'] = written_language\n",
    "                            all_reviews.append(review)\n",
    "                            unique_review_ids.add(review['reviewId'])\n",
    "                    except LangDetectException:\n",
    "                            # if it fails to detect the language, save it with language N/A\n",
    "                            review['appName'] = app_name\n",
    "                            review['language'] = 'n/a'\n",
    "                            all_reviews.append(review)\n",
    "                            unique_review_ids.add(review['reviewId'])\n"
   ]
  },
  {
   "cell_type": "code",
   "execution_count": 0,
   "metadata": {
    "application/vnd.databricks.v1+cell": {
     "cellMetadata": {
      "byteLimit": 2048000,
      "rowLimit": 10000
     },
     "inputWidgets": {},
     "nuid": "ff39d80b-5664-40d5-aac9-48f0978f4453",
     "showTitle": false,
     "tableResultSettingsMap": {},
     "title": ""
    }
   },
   "outputs": [],
   "source": [
    "spark = SparkSession.builder.appName(\"playstore_review_ingest\").getOrCreate()\n",
    "\n",
    "df = spark.createDataFrame(all_reviews)\n",
    "# convert all columns to string to save data as is\n",
    "final_df_to_write = df.select(\n",
    "    [col(c).cast(\"string\") for c in df.columns]\n",
    ")\n",
    "\n",
    "final_df_to_write.write \\\n",
    "    .format(\"delta\") \\\n",
    "    .mode(\"overwrite\") \\\n",
    "    .option(\"mergeSchema\", \"true\") \\\n",
    "    .saveAsTable(\"workspace.growth_poc.bronze_playstore_reviews\")"
   ]
  }
 ],
 "metadata": {
  "application/vnd.databricks.v1+notebook": {
   "computePreferences": null,
   "dashboards": [],
   "environmentMetadata": {
    "base_environment": "",
    "environment_version": "3"
   },
   "inputWidgetPreferences": null,
   "language": "python",
   "notebookMetadata": {
    "mostRecentlyExecutedCommandWithImplicitDF": {
     "commandId": 5444757955288464,
     "dataframes": [
      "_sqldf"
     ]
    },
    "pythonIndentUnit": 4
   },
   "notebookName": "google_playstore_reivew_ingest",
   "widgets": {}
  },
  "language_info": {
   "name": "python"
  }
 },
 "nbformat": 4,
 "nbformat_minor": 0
}
