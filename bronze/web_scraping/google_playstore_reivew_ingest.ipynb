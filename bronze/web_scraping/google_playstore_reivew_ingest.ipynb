{
 "cells": [
  {
   "cell_type": "code",
   "execution_count": 0,
   "metadata": {
    "application/vnd.databricks.v1+cell": {
     "cellMetadata": {
      "byteLimit": 2048000,
      "rowLimit": 10000
     },
     "inputWidgets": {},
     "nuid": "7ec97611-d783-4d58-82c9-ad374d782f3a",
     "showTitle": false,
     "tableResultSettingsMap": {},
     "title": ""
    }
   },
   "outputs": [],
   "source": [
    "#%pip install google_play_scraper"
   ]
  },
  {
   "cell_type": "code",
   "execution_count": 0,
   "metadata": {
    "application/vnd.databricks.v1+cell": {
     "cellMetadata": {
      "byteLimit": 2048000,
      "rowLimit": 10000
     },
     "inputWidgets": {},
     "nuid": "380a2e54-359d-4ebf-b7a5-854bec0762dc",
     "showTitle": false,
     "tableResultSettingsMap": {},
     "title": ""
    }
   },
   "outputs": [],
   "source": [
    "from google_play_scraper import Sort, reviews_all\n",
    "\n",
    "# app id for each delivery app \n",
    "app_ids = {\n",
    "    \"coupangEats\" : \"com.coupang.mobile.eats\",\n",
    "    \"baemin\" : \"com.sampleapp\",\n",
    "    \"yogiyo\" : \"com.fineapp.yogiyo\"\n",
    "}\n",
    "\n",
    "# save app names\n",
    "app_names = [key for key in app_ids.keys()]"
   ]
  },
  {
   "cell_type": "markdown",
   "metadata": {
    "application/vnd.databricks.v1+cell": {
     "cellMetadata": {},
     "inputWidgets": {},
     "nuid": "ded3c71d-49ef-49d2-877f-c6cc08987209",
     "showTitle": false,
     "tableResultSettingsMap": {},
     "title": ""
    }
   },
   "source": [
    "1. 초기 접근법: 다국가 리뷰 수집 시도 <br/>\n",
    "프로젝트 초기에는 외국인 리뷰를 폭넓게 확보하기 위해, 한국과 교류가 많거나 주요 언어를 사용하는 여러 국가의 리뷰를 동시에 수집하는 전략을 세웠습니다. 아래 코드는 당시 최초로 설계했던 데이터 수집 로직입니다."
   ]
  },
  {
   "cell_type": "code",
   "execution_count": 0,
   "metadata": {
    "application/vnd.databricks.v1+cell": {
     "cellMetadata": {
      "byteLimit": 2048000,
      "rowLimit": 10000
     },
     "inputWidgets": {},
     "nuid": "e05ef75a-dac3-46da-8d74-b40df11797fa",
     "showTitle": false,
     "tableResultSettingsMap": {},
     "title": ""
    }
   },
   "outputs": [],
   "source": [
    "# ------------ This code is no longer in use -----------------\n",
    "\n",
    "# countries to check reviews\n",
    "# I am covering countries:\n",
    "# 1) using English, French, Spanish, and Chinese as official or major secondary languages\n",
    "# 2) relatively nearby Korea (with an assumption there will be more tourists coming from these countries due to its accessibility)\n",
    "# 3) with high exchange scope\n",
    "# 4) and Korea\n",
    "language_group = [\n",
    "    # English\n",
    "    'us', 'gb', 'ca', 'au', 'nz', 'ie', 'za', 'in', 'sg', 'ph', \n",
    "    # Spanish \n",
    "    'es', 'mx', 'ar', 'co', 'cl', 'pe',  \n",
    "    # Chinese                        \n",
    "    'cn', 'tw', 'hk',   \n",
    "    # French                                         \n",
    "    'fr', 'be', 'ch', 'sn'                                       \n",
    "]\n",
    "nearby_group = ['jp', 'ru', 'mn', 'vn', 'id', 'th']\n",
    "exchange_scope_group = ['au', 'sa', 'de', 'ae']\n",
    "korea_group = ['kr']\n",
    "\n",
    "# combine countries\n",
    "country_codes = language_group + nearby_group + exchange_scope_group + korea_group\n",
    "\n",
    "# remove duplicates\n",
    "unique_country_codes = list(set(country_codes))\n",
    "\n",
    "# sort options to iterate to get more reviews\n",
    "sort_options = [Sort.NEWEST, Sort.MOST_RELEVANT, Sort.RATING]\n",
    "\n",
    "all_reviews = []\n",
    "# get reviews from each country in each delivery app \n",
    "for app_name, app_id in app_ids.items():\n",
    "    for country_code in unique_country_codes:\n",
    "        # reviews = reviews_all(\n",
    "        #     app_id,\n",
    "        #     sleep_milliseconds = 500, # Add a delay to avoid rate-limiting\n",
    "        #     lang = 'en', \n",
    "        #     country = country_code,\n",
    "        #     sort = Sort.NEWEST, \n",
    "        # )\n",
    "\n",
    "        # for review in reviews:\n",
    "        #     review['appName'] = app_name\n",
    "        #     review['appId'] = app_id\n",
    "        #     review['countryCode'] = country_code\n",
    "\n",
    "        # all_reviews.extend(reviews)\n",
    "        # print(f\"Found {len(reviews)} reviews for {app_name} in {country_code}\")\n",
    "        pass\n",
    "print(\"위 코드를 실행한 결과, 모든 국가에서 동일한 리뷰가 수집되는 문제를 발견했습니다.\")\n",
    "    \n"
   ]
  },
  {
   "cell_type": "markdown",
   "metadata": {
    "application/vnd.databricks.v1+cell": {
     "cellMetadata": {},
     "inputWidgets": {},
     "nuid": "74954265-01f1-4dd6-9fb1-4d6d85568ab3",
     "showTitle": false,
     "tableResultSettingsMap": {},
     "title": ""
    }
   },
   "source": [
    "2. 전략 수정 <br/>\n",
    "위 코드로 데이터를 수집한 결과, 모든 국가에서 동일한 개수의 리뷰가 반환되는 문제를 발견했습니다. 이는 대상 앱들이 한국 내수용이라 구글 플레이스토어가 미출시 국가에 대해 한국 스토어의 데이터를 기본값으로 보여주기 때문이었습니다. <br/>\n",
    "따라서 비효율적인 다국가 수집 방식을 폐기하고, 목표에 더 직접적으로 접근할 수 있는 새로운 전략을 채택했습니다."
   ]
  },
  {
   "cell_type": "code",
   "execution_count": 0,
   "metadata": {
    "application/vnd.databricks.v1+cell": {
     "cellMetadata": {},
     "inputWidgets": {},
     "nuid": "4f92041a-f710-4fe8-9d8c-afdde84645c0",
     "showTitle": false,
     "tableResultSettingsMap": {},
     "title": ""
    }
   },
   "outputs": [],
   "source": []
  },
  {
   "cell_type": "code",
   "execution_count": 0,
   "metadata": {
    "application/vnd.databricks.v1+cell": {
     "cellMetadata": {
      "byteLimit": 2048000,
      "rowLimit": 10000
     },
     "inputWidgets": {},
     "nuid": "08ebc0e9-17dc-4fb0-b4b5-02eb014cfe27",
     "showTitle": false,
     "tableResultSettingsMap": {},
     "title": ""
    }
   },
   "outputs": [],
   "source": [
    "import pandas as pd\n",
    "\n",
    "# all_reviews 리스트를 데이터프레임으로 변환했다고 가정\n",
    "df = pd.DataFrame(all_reviews)\n",
    "\n",
    "# '요기요' 앱의 독일(de) 리뷰와 일본(jp) 리뷰를 각각 5개씩 가져오기\n",
    "yogiyo_de_reviews = df[(df['appName'] == 'coupangEats') & (df['countryCode'] == 'de')].head()\n",
    "yogiyo_jp_reviews = df[(df['appName'] == 'coupangEats') & (df['countryCode'] == 'jp')].head()\n",
    "\n",
    "# 두 데이터프레임의 내용 (userName, content, at 등)이 완전히 똑같은지 확인\n",
    "print(\"--- Yogiyo Reviews from Germany ---\")\n",
    "print(yogiyo_de_reviews[['userName', 'content', 'at']])\n",
    "\n",
    "print(\"\\n--- Yogiyo Reviews from Japan ---\")\n",
    "print(yogiyo_jp_reviews[['userName', 'content', 'at']])"
   ]
  },
  {
   "cell_type": "code",
   "execution_count": 0,
   "metadata": {
    "application/vnd.databricks.v1+cell": {
     "cellMetadata": {
      "byteLimit": 2048000,
      "rowLimit": 10000
     },
     "inputWidgets": {},
     "nuid": "d582fe70-e76d-4b9e-b522-a5042a2ee9bf",
     "showTitle": false,
     "tableResultSettingsMap": {},
     "title": ""
    }
   },
   "outputs": [],
   "source": [
    "from google_play_scraper import Sort, reviews_all\n",
    "import pandas as pd\n",
    "\n",
    "app_id = 'com.sampleapp' # Replace with the actual app ID\n",
    "\n",
    "us_reviews = reviews_all(\n",
    "    app_id,\n",
    "    sleep_milliseconds=0, # defaults to 0\n",
    "    lang='en', # defaults to 'en'\n",
    "    country='us', # defaults to 'us'\n",
    "    sort=Sort.NEWEST, # defaults to Sort.MOST_RELEVANT\n",
    ")\n",
    "\n",
    "#df_reviews = pd.DataFrame(us_reviews)\n",
    "#print(df_reviews.head())"
   ]
  },
  {
   "cell_type": "code",
   "execution_count": 0,
   "metadata": {
    "application/vnd.databricks.v1+cell": {
     "cellMetadata": {
      "byteLimit": 2048000,
      "rowLimit": 10000
     },
     "inputWidgets": {},
     "nuid": "53ea3c00-7d40-442d-9f2a-c78d3754b5f7",
     "showTitle": false,
     "tableResultSettingsMap": {},
     "title": ""
    }
   },
   "outputs": [],
   "source": [
    "# filtering on language written on the review: for further function, \n",
    "# I should filter out korean ones for simplicity\n",
    "\n",
    "\n",
    "# from google_play_scraper import Sort, reviews_all\n",
    "# import pandas as pd\n",
    "# from langdetect import detect, LangDetectException\n",
    "\n",
    "# app_id = 'com.busuu.android.en'\n",
    "\n",
    "# # 1. Scrape all reviews as before\n",
    "# print(\"Fetching all reviews...\")\n",
    "# all_us_reviews = reviews_all(\n",
    "#     app_id,\n",
    "#     sleep_milliseconds=0,\n",
    "#     lang='en',\n",
    "#     country='us',\n",
    "#     sort=Sort.NEWEST,\n",
    "# )\n",
    "\n",
    "# df = pd.DataFrame(all_us_reviews)\n",
    "# print(f\"Successfully fetched {len(df)} total reviews.\")\n",
    "\n",
    "# # 2. Detect the language for each review\n",
    "# print(\"Detecting language for each review...\")\n",
    "# detected_langs = []\n",
    "# for review_text in df['content']:\n",
    "#     try:\n",
    "#         # Detect the language of the review content\n",
    "#         lang = detect(review_text)\n",
    "#         detected_langs.append(lang)\n",
    "#     except LangDetectException:\n",
    "#         # If detection fails (e.g., for short or non-text reviews), mark as 'unknown'\n",
    "#         detected_langs.append('unknown')\n",
    "\n",
    "# # Add the detected languages as a new column\n",
    "# df['detected_language'] = detected_langs\n",
    "\n",
    "# # 3. Filter the DataFrame for English reviews\n",
    "# df_english = df[df['detected_language'] == 'en'].copy()\n",
    "\n",
    "# print(f\"\\nFound {len(df_english)} reviews written in English.\")\n",
    "# print(df_english[['content', 'score', 'detected_language']].head())"
   ]
  },
  {
   "cell_type": "code",
   "execution_count": 0,
   "metadata": {
    "application/vnd.databricks.v1+cell": {
     "cellMetadata": {},
     "inputWidgets": {},
     "nuid": "e01ee601-1e2b-4824-aba4-b48aa3c18c69",
     "showTitle": false,
     "tableResultSettingsMap": {},
     "title": ""
    }
   },
   "outputs": [],
   "source": []
  }
 ],
 "metadata": {
  "application/vnd.databricks.v1+notebook": {
   "computePreferences": null,
   "dashboards": [],
   "environmentMetadata": {
    "base_environment": "",
    "environment_version": "3"
   },
   "inputWidgetPreferences": null,
   "language": "python",
   "notebookMetadata": {
    "pythonIndentUnit": 4
   },
   "notebookName": "google_playstore_reivew_ingest",
   "widgets": {}
  },
  "language_info": {
   "name": "python"
  }
 },
 "nbformat": 4,
 "nbformat_minor": 0
}
