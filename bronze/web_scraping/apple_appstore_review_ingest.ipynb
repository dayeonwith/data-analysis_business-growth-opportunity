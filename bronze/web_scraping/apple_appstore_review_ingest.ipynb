{
 "cells": [
  {
   "cell_type": "code",
   "execution_count": 0,
   "metadata": {
    "application/vnd.databricks.v1+cell": {
     "cellMetadata": {
      "byteLimit": 2048000,
      "rowLimit": 10000
     },
     "inputWidgets": {},
     "nuid": "f87c2488-1ff3-4ff3-af9b-415d65a119ba",
     "showTitle": false,
     "tableResultSettingsMap": {},
     "title": ""
    }
   },
   "outputs": [],
   "source": [

    "#%pip install requests"

   ]
  },
  {
   "cell_type": "code",
   "execution_count": 0,
   "metadata": {
    "application/vnd.databricks.v1+cell": {
     "cellMetadata": {
      "byteLimit": 2048000,
      "rowLimit": 10000
     },
     "inputWidgets": {},
     "nuid": "723360dd-ff7f-492b-b9af-4a523696dcba",
     "showTitle": false,
     "tableResultSettingsMap": {},
     "title": ""
    }
   },
   "outputs": [],
   "source": [
    "import requests\n",
    "import json\n",
    "from pyspark.sql import SparkSession\n",
    "from pyspark.sql.functions import col\n",
    "import pandas as pd\n",
    "\n",
    "# app id for each delivery app \n",
    "app_ids = {\n",
    "    \"baemin\" : \"378084485\",\n",
    "    \"coupangEats\" : \"1445504255\",\n",
    "    \"yogiyo\" : \"543831532\"\n",
    "}\n",
    "\n",
    "# countries to check reviews\n",
    "# I am covering countries:\n",
    "# 1) using English, French, Spanish, and Chinese as official or major secondary languages\n",
    "# 2) relatively nearby Korea (with an assumption there will be more tourists coming from these countries due to its accessibility)\n",
    "# 3) with high exchange scope\n",
    "# 4) and Korea\n",
    "language_group = [ \n",
    "    # English\n",
    "    'us', 'gb', 'ca', 'au', 'nz', 'ie', 'za', 'in', 'sg', 'ph', \n",
    "    # Spanish \n",
    "    'es', 'mx', 'ar', 'co', 'cl', 'pe',  \n",
    "    # Chinese                        \n",
    "    'cn', 'tw', 'hk',   \n",
    "    # French                                         \n",
    "    'fr', 'be', 'ch', 'sn'                                       \n",
    "]\n",
    "nearby_group = ['jp', 'ru', 'mn', 'vn', 'id', 'th']\n",
    "exchange_scope_group = ['au', 'sa', 'de', 'ae']\n",
    "korea_group = ['kr']\n",
    "\n",
    "country_codes = language_group + nearby_group + exchange_scope_group + korea_group\n",
    "# remove duplicates\n",
    "unique_country_codes = list(set(country_codes))\n",
    "\n",
    "max_page_num = 10 # AppStore RSS provides only up to 10 pages \n",
    "\n",
    "all_reviews = []\n",
    "\n",
    "# loop through each app\n",
    "for app_name, app_id in app_ids.items():\n",
    "    print(f\"--Processing: {app_name}--\")\n",
    "    # loop through each country\n",
    "    for country in unique_country_codes:\n",
    "        # loop through each page\n",
    "        for page in range(1, max_page_num+1):\n",
    "            url = f\"https://itunes.apple.com/{country}/rss/customerreviews/id={app_id}/page={page}/json\"\n",
    "            try:\n",
    "                response = requests.get(url)\n",
    "                response.raise_for_status() \n",
    "\n",
    "                reviews = response.json()\n",
    "                # it finds if there is a key 'entry' in data['feed']\n",
    "                # if key not found, it returns None, or if found but no data, it returns [].\n",
    "                # both are considered as False in if statement\n",
    "                if not reviews['feed'].get('entry'):\n",
    "                    # if data not found or it reaches the last page, escape the page loop\n",
    "                    break\n",
    "                else:\n",
    "                    review_entries = reviews['feed']['entry']\n",
    "                    # if there is only one review, reviews['feed']['entry'] returns a dict, not a list\n",
    "                    # if review_entries is a dict, put it in a list\n",
    "                    if isinstance(review_entries, dict):\n",
    "                        review_entries = [review_entries]\n",
    "                    for review in review_entries:                        \n",

    "                        \n",
    "            except requests.exceptions.HTTPError as http_err:\n",
    "                print(f\"HTTPError: {http_err}. Move to the next country.\")\n",
    "                break\n",
    "            except json.JSONDecodeError:\n",
    "                print(f\"No review found. Move to the next country.\")\n",
    "                break"
   ]
  },
  {
   "cell_type": "code",
   "execution_count": 0,
   "metadata": {
    "application/vnd.databricks.v1+cell": {
     "cellMetadata": {
      "byteLimit": 2048000,
      "rowLimit": 10000
     },
     "inputWidgets": {},
     "nuid": "b1ff8652-1b82-4fa0-bda3-6005e70489ec",
     "showTitle": false,
     "tableResultSettingsMap": {},
     "title": ""
    }
   },
   "outputs": [],
   "source": [
    "# create pandas dataframe to handle nested dictionary\n",
    "df = pd.DataFrame(all_reviews)\n",
    "\n",
    "# convert to spark dataframe\n",
    "spark = SparkSession.builder.appName(\"appstore_review_ingest\").getOrCreate()\n",
    "spark_df = spark.createDataFrame(df)\n",
    "\n",
    "spark_df.write\\\n",
    "        .mode(\"overwrite\")\\\n",
    "        .format(\"delta\")\\\n",
    "        .option(\"mergeSchema\", \"true\")\\\n",
    "        .saveAsTable(\"workspace.growth_poc.bronze_appstore_reviews\")\n",
    " "
   ]
  },
  {
   "cell_type": "code",
   "execution_count": 0,
   "metadata": {
    "application/vnd.databricks.v1+cell": {
     "cellMetadata": {},
     "inputWidgets": {},
     "nuid": "4ee77a06-187f-42ab-9104-f31b408311b6",
     "showTitle": false,
     "tableResultSettingsMap": {},
     "title": ""
    }
   },
   "outputs": [],
   "source": []
  }
 ],
 "metadata": {
  "application/vnd.databricks.v1+notebook": {
   "computePreferences": null,
   "dashboards": [],
   "environmentMetadata": {
    "base_environment": "",
    "environment_version": "3"
   },
   "inputWidgetPreferences": null,
   "language": "python",
   "notebookMetadata": {
    "mostRecentlyExecutedCommandWithImplicitDF": {
     "commandId": 8386278792462818,
     "dataframes": [
      "_sqldf"
     ]
    },
    "pythonIndentUnit": 4
   },
   "notebookName": "apple_appstore_review_ingest",
   "widgets": {}
  },
  "language_info": {
   "name": "python"
  }
 },
 "nbformat": 4,
 "nbformat_minor": 0
}
