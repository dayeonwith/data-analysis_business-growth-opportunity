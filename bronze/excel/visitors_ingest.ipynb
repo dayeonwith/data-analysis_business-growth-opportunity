{
 "cells": [
  {
   "cell_type": "code",
   "execution_count": 0,
   "metadata": {
    "application/vnd.databricks.v1+cell": {
     "cellMetadata": {
      "byteLimit": 2048000,
      "rowLimit": 10000
     },
     "inputWidgets": {},
     "nuid": "e07f1038-7d0e-48c7-8a1a-3b1ce6d1be18",
     "showTitle": false,
     "tableResultSettingsMap": {},
     "title": ""
    }
   },
   "outputs": [],
   "source": [
    "from pyspark.sql import SparkSession"
   ]
  },
  {
   "cell_type": "code",
   "execution_count": 0,
   "metadata": {
    "application/vnd.databricks.v1+cell": {
     "cellMetadata": {
      "byteLimit": 2048000,
      "rowLimit": 10000
     },
     "inputWidgets": {},
     "nuid": "53b24483-6042-4e17-a047-5b7cc27b0c8b",
     "showTitle": false,
     "tableResultSettingsMap": {},
     "title": ""
    }
   },
   "outputs": [],
   "source": [
    "spark = SparkSession.builder.appName('bronze_ingestion').getOrCreate()"
   ]
  },
  {
   "cell_type": "code",
   "execution_count": 0,
   "metadata": {
    "application/vnd.databricks.v1+cell": {
     "cellMetadata": {
      "byteLimit": 2048000,
      "rowLimit": 10000
     },
     "inputWidgets": {},
     "nuid": "261a7c1a-75e7-4ec8-aa4d-5b40df3f363c",
     "showTitle": false,
     "tableResultSettingsMap": {},
     "title": ""
    }
   },
   "outputs": [],
   "source": [
    "file_path = '/Workspace/Data Source/Entry_by_Purpose_and_Nationality.xls'\n",
    "\n",
    "import pandas as pd \n",
    "\n",
    "\n",
    "# Read the .xls file into a DataFrame\n",
    "df_pd = pd.read_excel(file_path)"
   ]
  },
  {
   "cell_type": "code",
   "execution_count": 0,
   "metadata": {
    "application/vnd.databricks.v1+cell": {
     "cellMetadata": {
      "byteLimit": 2048000,
      "rowLimit": 10000
     },
     "inputWidgets": {},
     "nuid": "24a51bbf-3011-4d8f-9286-eadb2d0f7385",
     "showTitle": false,
     "tableResultSettingsMap": {},
     "title": ""
    }
   },
   "outputs": [],
   "source": [
    "# minimal cleaning because the current status of the data is unreadbale by pyspark dataframe.\n",
    "\n",
    "# 1. Remove the first row\n",
    "df_pd = df_pd.drop(index = df_pd.index[0])\n",
    "\n",
    "# 2. set columns as string (to prevent spark's interpretation)\n",
    "columns_to_convert = [col for col in df_pd.columns if col not in ['국적', '목적']]\n",
    "for col in columns_to_convert:\n",
    "    df_pd[col] = df_pd[col].astype(str)\n",
    "\n"
   ]
  },
  {
   "cell_type": "code",
   "execution_count": 0,
   "metadata": {
    "application/vnd.databricks.v1+cell": {
     "cellMetadata": {
      "byteLimit": 2048000,
      "rowLimit": 10000
     },
     "inputWidgets": {},
     "nuid": "6aff8c4c-02df-4e5c-8463-4fe43a6a3171",
     "showTitle": false,
     "tableResultSettingsMap": {},
     "title": ""
    }
   },
   "outputs": [],
   "source": [
    "df = spark.createDataFrame(df_pd)\n",
    "df.write.format(\"delta\").mode(\"overwrite\").saveAsTable(\"workspace.growth_poc.bronze_visitors\")"
   ]
  }
 ],
 "metadata": {
  "application/vnd.databricks.v1+notebook": {
   "computePreferences": null,
   "dashboards": [],
   "environmentMetadata": {
    "base_environment": "",
    "environment_version": "3"
   },
   "inputWidgetPreferences": null,
   "language": "python",
   "notebookMetadata": {
    "pythonIndentUnit": 4
   },
   "notebookName": "visitors_ingest",
   "widgets": {}
  },
  "language_info": {
   "name": "python"
  }
 },
 "nbformat": 4,
 "nbformat_minor": 0
}
