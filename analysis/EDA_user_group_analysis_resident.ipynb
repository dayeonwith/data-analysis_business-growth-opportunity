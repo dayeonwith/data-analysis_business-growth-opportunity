{
 "cells": [
  {
   "cell_type": "markdown",
   "metadata": {
    "application/vnd.databricks.v1+cell": {
     "cellMetadata": {
      "byteLimit": 2048000,
      "rowLimit": 10000
     },
     "inputWidgets": {},
     "nuid": "74c8059f-f2a7-4fcc-b128-febec5ead128",
     "showTitle": false,
     "tableResultSettingsMap": {},
     "title": ""
    }
   },
   "source": [
    "# Explore User Group Data - Resident"
   ]
  },
  {
   "cell_type": "code",
   "execution_count": 0,
   "metadata": {
    "application/vnd.databricks.v1+cell": {
     "cellMetadata": {
      "byteLimit": 2048000,
      "rowLimit": 10000
     },
     "inputWidgets": {},
     "nuid": "efa4e3b8-5642-4a35-bed7-e01f3fadc548",
     "showTitle": true,
     "tableResultSettingsMap": {},
     "title": "libraries"
    }
   },
   "outputs": [],
   "source": [
    "from pyspark.sql import SparkSession\n",
    "from pyspark.sql.functions import count, when, col, isnan, max, sum, explode, split, trim, avg, lag\n",
    "import matplotlib.pyplot as plt\n",
    "import pandas as pd"
   ]
  },
  {
   "cell_type": "markdown",
   "metadata": {
    "application/vnd.databricks.v1+cell": {
     "cellMetadata": {
      "byteLimit": 2048000,
      "rowLimit": 10000
     },
     "inputWidgets": {},
     "nuid": "02963a59-4b2f-4c57-905e-6de8b646cf4c",
     "showTitle": false,
     "tableResultSettingsMap": {},
     "title": ""
    }
   },
   "source": [
    "## 1. Overall\n",
    "To examine the nationality data of foreigners residing in Korea, I used the yearly datasets provided by the 공공데이터포털, which include the status of registered(long-term) foreigners by nationality and the status of short-term foreign residents by nationality."
   ]
  },
  {
   "cell_type": "code",
   "execution_count": 0,
   "metadata": {
    "application/vnd.databricks.v1+cell": {
     "cellMetadata": {
      "byteLimit": 2048000,
      "rowLimit": 10000
     },
     "inputWidgets": {},
     "nuid": "1ef2e87c-7257-4adc-a1c2-4b3a4a336f2d",
     "showTitle": false,
     "tableResultSettingsMap": {},
     "title": ""
    }
   },
   "outputs": [],
   "source": [
    "spark = SparkSession.builder.appName(\"analysis_user_group\").getOrCreate()"
   ]
  },
  {
   "cell_type": "code",
   "execution_count": 0,
   "metadata": {
    "application/vnd.databricks.v1+cell": {
     "cellMetadata": {
      "byteLimit": 2048000,
      "rowLimit": 10000
     },
     "inputWidgets": {},
     "nuid": "5533a1ab-70aa-4621-806c-1dfa70665494",
     "showTitle": false,
     "tableResultSettingsMap": {},
     "title": ""
    }
   },
   "outputs": [],
   "source": [
    "query = \"\"\"\n",
    "select *\n",
    "from workspace.growth_poc.silver_residents\n",
    "where year >= (select max(year)-4 from workspace.growth_poc.silver_residents)\n",
    "\"\"\"\n",
    "residents_df = spark.sql(query)"
   ]
  },
  {
   "cell_type": "code",
   "execution_count": 0,
   "metadata": {
    "application/vnd.databricks.v1+cell": {
     "cellMetadata": {
      "byteLimit": 2048000,
      "rowLimit": 10000
     },
     "inputWidgets": {},
     "nuid": "bd4e2dce-c8b0-4596-84ee-593e70ee0c51",
     "showTitle": false,
     "tableResultSettingsMap": {},
     "title": ""
    }
   },
   "outputs": [],
   "source": [
    "# 1. check schema\n",
    "residents_df.printSchema()\n",
    "print()\n",
    "# 2. check column names\n",
    "print(residents_df.columns)\n",
    "print()\n",
    "# 3. check data typue\n",
    "print(residents_df.dtypes)\n",
    "print()\n",
    "# 4. check number of rows\n",
    "print(f\"Total number of rows: {residents_df.count()}\")\n",
    "print()\n",
    "# 5. check statistical status\n",
    "residents_df.describe().show()\n",
    "\n",
    "# 6. check missing values\n",
    "# get numeric columns\n",
    "numeric_cols = [name for name, dtype in residents_df.dtypes if dtype in ('double', 'float', 'bigint')]\n",
    "# numeric columns: count null values\n",
    "for c in numeric_cols:\n",
    "    null_count = residents_df.select(count(when(col(c).isNull() | isnan(c), c))).collect()[0][0]\n",
    "    print(f\"{c}: {null_count} nulls\")\n",
    "\n"
   ]
  },
  {
   "cell_type": "code",
   "execution_count": 0,
   "metadata": {
    "application/vnd.databricks.v1+cell": {
     "cellMetadata": {
      "byteLimit": 2048000,
      "rowLimit": 10000
     },
     "inputWidgets": {},
     "nuid": "07e4fd87-0b02-4860-b624-ffab19f847b2",
     "showTitle": false,
     "tableResultSettingsMap": {},
     "title": ""
    }
   },
   "outputs": [],
   "source": [
    "max_year = residents_df.select(col(\"Year\")).agg(max(\"Year\")).collect()[0][0]\n",
    "current_residents_df = residents_df.filter(col(\"Year\") == max_year)\n",
    "\n",
    "total_shortterm_residents = current_residents_df.filter(col(\"Resident_Category\") == \"short-term\").select(\"Amount\").agg(sum(\"Amount\")).collect()[0][0]\n",
    "total_longterm_residents = current_residents_df.filter(col(\"Resident_Category\") == \"long-term\").select(\"Amount\").agg(sum(\"Amount\")).collect()[0][0]\n",
    "\n",
    "print(f\"--Number of Foreign Residents in {max_year}--\")\n",
    "print(f\"Short term: {total_shortterm_residents}\")\n",
    "print(f\"Long term: {total_longterm_residents}\")\n",
    "print(f\"Total: {total_shortterm_residents + total_longterm_residents}\")"
   ]
  },
  {
   "cell_type": "markdown",
   "metadata": {
    "application/vnd.databricks.v1+cell": {
     "cellMetadata": {
      "byteLimit": 2048000,
      "rowLimit": 10000
     },
     "inputWidgets": {},
     "nuid": "04f4f9a2-32f3-4aef-9200-05abeb6e41cf",
     "showTitle": false,
     "tableResultSettingsMap": {},
     "title": ""
    }
   },
   "source": [
    "### Number of Foreign Residents in 2024  \n",
    "\n",
    "| Category    | Count    |\n",
    "|-------------|----------|\n",
    "| Short term  | 608,602  |\n",
    "| Long term   | 1,488,083 |\n",
    "| **Total**   | **2,096,685** |\n",
    "\n",
    "In the most recent year, 2024, there were approximately 600,000 short-term foreign residents and about 1.5 million long-term foreign residents, totaling roughly 2.1 million foreigners residing in Korea.\n"
   ]
  },
  {
   "cell_type": "code",
   "execution_count": 0,
   "metadata": {
    "application/vnd.databricks.v1+cell": {
     "cellMetadata": {
      "byteLimit": 2048000,
      "rowLimit": 10000
     },
     "inputWidgets": {},
     "nuid": "c9db19bc-45c9-4745-a684-8379c03960ce",
     "showTitle": false,
     "tableResultSettingsMap": {},
     "title": ""
    }
   },
   "outputs": [],
   "source": [
    "pd_df = residents_df.groupBy(\"Year\", \"Resident_Category\") \\\n",
    "    .agg(sum(\"Amount\").alias(\"count\")) \\\n",
    "    .toPandas()\n",
    "\n",
    "residents_pivot_df = pd_df.pivot_table(\n",
    "    index = \"Year\",\n",
    "    columns = \"Resident_Category\",\n",
    "    values = \"count\",\n",
    "    aggfunc= \"sum\"\n",
    ").fillna(0)\n",
    "\n",
    "residents_pivot_df[\"Total\"] = residents_pivot_df.sum(axis=1) # add column level total\n",
    "\n",
    "plt.figure(figsize=(8, 4))\n",
    "for category in residents_pivot_df.columns:\n",
    "    if category == \"Total\":\n",
    "        plt.plot(residents_pivot_df.index, residents_pivot_df[category], marker='o', label=category, color=\"firebrick\")\n",
    "    else: plt.plot(residents_pivot_df.index, residents_pivot_df[category], marker='o', label=category)\n",
    "\n",
    "# populate year as string in x axis\n",
    "plt.xticks(residents_pivot_df.index, [str(int(year)) for year in residents_pivot_df.index])\n",
    "\n",
    "plt.xlabel('Year')\n",
    "plt.ylabel('Count')\n",
    "plt.title('Foreign Resident Count by Duration')\n",
    "plt.legend(loc='upper left', bbox_to_anchor=(1.01, 1))\n",
    "plt.grid(True)\n",
    "plt.tight_layout()\n",
    "plt.show()"
   ]
  },
  {
   "cell_type": "markdown",
   "metadata": {
    "application/vnd.databricks.v1+cell": {
     "cellMetadata": {
      "byteLimit": 2048000,
      "rowLimit": 10000
     },
     "inputWidgets": {},
     "nuid": "b4dc4185-9e4c-4eed-96c2-033a2e807e6e",
     "showTitle": false,
     "tableResultSettingsMap": {},
     "title": ""
    }
   },
   "source": [
    "![](../analysis/images/EDA_user_group_analysis_resident/overall_line.png)"
   ]
  },
  {
   "cell_type": "markdown",
   "metadata": {
    "application/vnd.databricks.v1+cell": {
     "cellMetadata": {
      "byteLimit": 2048000,
      "rowLimit": 10000
     },
     "inputWidgets": {},
     "nuid": "6b66ee14-8bd8-47f4-94ee-2cf2bdf32e37",
     "showTitle": false,
     "tableResultSettingsMap": {},
     "title": ""
    }
   },
   "source": [
    "**Findings** <br/>\n",
    "The above graph shows the changes over the past five years for short-term foreign residents (orange), long-term foreign residents (blue), and the total (red). While the numbers of both short- and long-term residents have steadily increased since 2021, the number of short-term foreign residents slightly declined in 2024. In contrast, long-term residents and the overall total continued their upward trend.\n",
    "\n",
    "Based on this pattern, it was considered that short-term and long-term foreign residents may exhibit different characteristics, so the analysis was conducted by examining these two groups separately."
   ]
  },
  {
   "cell_type": "markdown",
   "metadata": {
    "application/vnd.databricks.v1+cell": {
     "cellMetadata": {
      "byteLimit": 2048000,
      "rowLimit": 10000
     },
     "inputWidgets": {},
     "nuid": "ca1f1c2e-86d8-4b16-ba6b-e0d97d0cfcf5",
     "showTitle": false,
     "tableResultSettingsMap": {},
     "title": ""
    }
   },
   "source": [
    "## 2. Short-Term Residents\n",
    "### 2-1. Nationality\n",
    "As of 2024, short-term foreign residents come from a total of 190 countries. To identify the countries with the largest numbers of residents, I visualized the data using bar charts."
   ]
  },
  {
   "cell_type": "markdown",
   "metadata": {
    "application/vnd.databricks.v1+cell": {
     "cellMetadata": {
      "byteLimit": 2048000,
      "rowLimit": 10000
     },
     "inputWidgets": {},
     "nuid": "a9834373-3534-4ef6-b44f-5b0f0e34d07c",
     "showTitle": false,
     "tableResultSettingsMap": {},
     "title": ""
    }
   },
   "source": [
    "#### 2-1-1. Current Year\n"
   ]
  },
  {
   "cell_type": "code",
   "execution_count": 0,
   "metadata": {
    "application/vnd.databricks.v1+cell": {
     "cellMetadata": {
      "byteLimit": 2048000,
      "rowLimit": 10000
     },
     "inputWidgets": {},
     "nuid": "50fea8d0-eed4-48ce-95cb-999637f70e1d",
     "showTitle": true,
     "tableResultSettingsMap": {},
     "title": "Short term - nationality"
    }
   },
   "outputs": [],
   "source": [
    "top_5_shortterm_nationality_df = current_residents_df.filter((col(\"Resident_Category\") == \"short-term\"))\\\n",
    "    .groupBy(\"Nationality_English\")\\\n",
    "    .agg(sum(\"Amount\").alias(\"Count\")) \\\n",
    "    .orderBy(col(\"Count\").desc()) \\\n",
    "    .limit(5) \\\n",
    "    .toPandas()\n",
    "\n",
    "top_5_shortterm_nationality_df\n",
    " \n",
    "labels = top_5_shortterm_nationality_df['Nationality_English']\n",
    "sizes = top_5_shortterm_nationality_df['Count']\n",
    "\n",
    "# reverse the order(desc)\n",
    "labels = labels[::-1]\n",
    "sizes = sizes[::-1]\n",
    "\n",
    "plt.figure(figsize = (6,4))\n",
    "bars = plt.barh(labels, sizes)\n",
    "\n",
    "# add margin to the right\n",
    "plt.xlim(0, sizes.max() * 1.25)\n",
    "\n",
    "for bar in bars:\n",
    "    width = bar.get_width()\n",
    "    plt.text(width, bar.get_y() + bar.get_height()/2,\n",
    "             f'{width:,}', ha='left', va='center')\n",
    "plt.title(\"Nationality Distribution in Short-Term Residents\")\n",
    "plt.xlabel(\"Count\")\n",
    "plt.ylabel(\"Nationality\")\n",
    "plt.tight_layout()\n",
    "plt.show()\n",
    " \n"
   ]
  },
  {
   "cell_type": "code",
   "execution_count": 0,
   "metadata": {
    "application/vnd.databricks.v1+cell": {
     "cellMetadata": {
      "byteLimit": 2048000,
      "rowLimit": 10000
     },
     "inputWidgets": {},
     "nuid": "87eeb1d9-1637-460a-82ce-dee522f8f5e2",
     "showTitle": false,
     "tableResultSettingsMap": {},
     "title": ""
    }
   },
   "outputs": [],
   "source": [
    "top_5_average_shortterm_nationality_df = residents_df.filter((col(\"Resident_Category\") == \"short-term\"))\\\n",
    "    .groupBy(\"Nationality_English\")\\\n",
    "    .agg(avg(\"Amount\").alias(\"average_count\")) \\\n",
    "    .orderBy(col(\"average_count\").desc()) \\\n",
    "    .limit(5) \\\n",
    "    .toPandas()\n",
    "\n",
    "labels = top_5_average_shortterm_nationality_df['Nationality_English']\n",
    "sizes = top_5_average_shortterm_nationality_df['average_count']\n",
    "\n",
    "labels = labels[::-1]\n",
    "sizes = sizes[::-1]\n",
    "\n",
    "plt.figure(figsize = (6,4))\n",
    "bars = plt.barh(labels, sizes)\n",
    "\n",
    "# add margin to the right\n",
    "plt.xlim(0, sizes.max() * 1.25)\n",
    "\n",
    "for bar in bars:\n",
    "    width = bar.get_width()\n",
    "    plt.text(width, bar.get_y() + bar.get_height()/2,\n",
    "             f'{width:,.0f}', ha='left', va='center')\n",
    "plt.title(\"Average Nationality Distribution in Short-Term Residents\")\n",
    "plt.xlabel(\"Count\")\n",
    "plt.ylabel(\"Nationality\")\n",
    "plt.tight_layout()\n",
    "plt.show()\n",
    " \n"
   ]
  },
  {
   "cell_type": "markdown",
   "metadata": {
    "application/vnd.databricks.v1+cell": {
     "cellMetadata": {},
     "inputWidgets": {},
     "nuid": "9d70460e-bc20-4fb8-8eb2-f4f637c93271",
     "showTitle": false,
     "tableResultSettingsMap": {},
     "title": ""
    }
   },
   "source": [
    "![](../analysis/images/EDA_user_group_analysis_resident/short_count.png)\n",
    "![](../analysis/images/EDA_user_group_analysis_resident/short_average.png)\n",
    "\n",
    "**Findings** <br/>\n",
    "The first graph shows the top five nationalities of short-term foreign residents in 2024, and the second graph displays the average number of residents by nationality over the past five years. The results are largely similar, with Thailand having the highest number-around 140,000 in 2024 (an average of 150,000). This is followed by China (100,000; average 80,000), the United States, and Vietnam. One difference is that in 2024, Japan ranked fifth (about 30,000), whereas over the five-year average, Mongolia held the fifth position. This suggests that the number of short-term residents from Mongolia may have recently declined, or that Japan has shown a significant recent increase.\n",
    "\n",
    "Based on these results, I visualized the trends of short-term foreign residents from China, Japan, Mongolia, Thailand, the United States, and Vietnam over the past five years using a line chart."
   ]
  },
  {
   "cell_type": "markdown",
   "metadata": {
    "application/vnd.databricks.v1+cell": {
     "cellMetadata": {
      "byteLimit": 2048000,
      "rowLimit": 10000
     },
     "inputWidgets": {},
     "nuid": "3dc4b491-5f28-458b-8d51-7d25fd39f7c8",
     "showTitle": false,
     "tableResultSettingsMap": {},
     "title": ""
    }
   },
   "source": [
    "#### 2-1-2. Trend (5 Year)"
   ]
  },
  {
   "cell_type": "code",
   "execution_count": 0,
   "metadata": {
    "application/vnd.databricks.v1+cell": {
     "cellMetadata": {
      "byteLimit": 2048000,
      "rowLimit": 10000
     },
     "inputWidgets": {},
     "nuid": "d688e1b1-a65b-4731-8188-698f09729e78",
     "showTitle": false,
     "tableResultSettingsMap": {},
     "title": ""
    }
   },
   "outputs": [],
   "source": [
    "short_top_nationalities = pd.concat([\n",
    "    top_5_average_shortterm_nationality_df[\"Nationality_English\"],\n",
    "    top_5_shortterm_nationality_df[\"Nationality_English\"]\n",
    "])\n",
    "\n",
    "# remove duplicates\n",
    "short_countries_to_focus = short_top_nationalities.drop_duplicates().tolist()"
   ]
  },
  {
   "cell_type": "code",
   "execution_count": 0,
   "metadata": {
    "application/vnd.databricks.v1+cell": {
     "cellMetadata": {
      "byteLimit": 2048000,
      "rowLimit": 10000
     },
     "inputWidgets": {},
     "nuid": "256cdc17-f72a-4224-a441-fbe031258cce",
     "showTitle": false,
     "tableResultSettingsMap": {},
     "title": ""
    }
   },
   "outputs": [],
   "source": [
    "short_residents_pd = residents_df.filter((col(\"Nationality_English\").isin(short_countries_to_focus)) & (col(\"Resident_Category\") == \"short-term\")) \\\n",
    "    .groupBy(\"Year\", \"Resident_Category\", \"Nationality_English\") \\\n",
    "    .agg(sum(\"Amount\").alias(\"count\")) \\\n",
    "    .withColumnRenamed(\"Nationality_English\", \"Nationality\")\\\n",
    "    .toPandas()\n",
    "\n",
    "shortterm_pivot_df = short_residents_pd.pivot_table(\n",
    "    index = \"Year\",\n",
    "    columns = \"Nationality\",\n",
    "    values = \"count\",\n",
    "    aggfunc= \"sum\"\n",
    ").fillna(0)\n",
    "\n",
    "plt.figure(figsize=(8, 4))\n",
    "for nationality in shortterm_pivot_df.columns:\n",
    "    plt.plot(shortterm_pivot_df.index, shortterm_pivot_df[nationality], marker='o', label=nationality)\n",
    "# populate year as string in x axis\n",
    "plt.xticks(shortterm_pivot_df.index, [str(int(year)) for year in shortterm_pivot_df.index])\n",
    "\n",
    "plt.xlabel('Year')\n",
    "plt.ylabel('Count')\n",
    "plt.title('Short-Term Resident Count by Nationality')\n",
    "plt.legend(loc='upper left', bbox_to_anchor=(1.01, 1))\n",
    "plt.grid(True)\n",
    "plt.tight_layout()\n",
    "plt.show()\n",
    " "
   ]
  },
  {
   "cell_type": "markdown",
   "metadata": {
    "application/vnd.databricks.v1+cell": {
     "cellMetadata": {},
     "inputWidgets": {},
     "nuid": "bc1e54d3-62df-418a-9d89-9e83ceed794e",
     "showTitle": false,
     "tableResultSettingsMap": {},
     "title": ""
    }
   },
   "source": [
    "![](../analysis/images/EDA_user_group_analysis_resident/short_nat_line.png)\n",
    "\n",
    "**Findings**<br/>\n",
    "Thailand consistently holds the top position, but it has shown a declining trend since 2022. China, ranked second, experienced a significant increase in 2023 but saw a slight decrease in 2024. The United States has maintained relatively stable numbers, consistently holding the third position. An interesting point is Japan’s upward trajectory; although it remains fifth in 2024, it has shown continuous growth since 2021. If this trend continues, Japan could potentially develop into a significant market.\n",
    "\n",
    "Therefore, it is considered reasonable to focus the analysis on the top three countries by current size (Thailand, China, and the United States) along with Japan, which shows high growth potential."
   ]
  },
  {
   "cell_type": "markdown",
   "metadata": {
    "application/vnd.databricks.v1+cell": {
     "cellMetadata": {
      "byteLimit": 2048000,
      "rowLimit": 10000
     },
     "inputWidgets": {},
     "nuid": "6b67f85c-a639-4ded-8ba9-7ff39adea978",
     "showTitle": false,
     "tableResultSettingsMap": {},
     "title": ""
    }
   },
   "source": [
    "### 2-2. Primary Language\n",
    "Since the analysis targets foreign users, the languages supported by the delivery app are expected to play an important role in the user experience. Following the nationality-based analysis, I mapped the primary languages of each nationality to examine the languages most commonly used by short-term foreign residents.\n",
    "\n",
    "For cases where multiple primary languages exist, the data was exploded so that each language plays equal weight, with the associated data copied accordingly. Please note that this process may result in some duplicate counts."
   ]
  },
  {
   "cell_type": "code",
   "execution_count": 0,
   "metadata": {
    "application/vnd.databricks.v1+cell": {
     "cellMetadata": {
      "byteLimit": 2048000,
      "rowLimit": 10000
     },
     "inputWidgets": {},
     "nuid": "50a1523c-7185-4262-95df-8563f0b0f60f",
     "showTitle": false,
     "tableResultSettingsMap": {},
     "title": ""
    }
   },
   "outputs": [],
   "source": [
    "language_split_df = residents_df.withColumn(\"language_list\", split(col(\"Primary_Language\"), ','))\n",
    "exploded_language_df = language_split_df.withColumn(\"language\", explode(col(\"language_list\")))\n",
    "exploded_language_df = exploded_language_df.withColumn(\"language\", trim(col(\"language\")))\n",
    "\n",
    "language_aggregated_df = exploded_language_df.groupBy(col(\"language\"), col(\"Year\"), col(\"Resident_Category\")).agg(sum(\"Amount\").alias(\"count\"))"
   ]
  },
  {
   "cell_type": "markdown",
   "metadata": {
    "application/vnd.databricks.v1+cell": {
     "cellMetadata": {
      "byteLimit": 2048000,
      "rowLimit": 10000
     },
     "inputWidgets": {},
     "nuid": "5da8135f-ce58-4f49-9c1d-7122eb604e3f",
     "showTitle": false,
     "tableResultSettingsMap": {},
     "title": ""
    }
   },
   "source": [
    "#### 2-2-1. Current Year"
   ]
  },
  {
   "cell_type": "code",
   "execution_count": 0,
   "metadata": {
    "application/vnd.databricks.v1+cell": {
     "cellMetadata": {
      "byteLimit": 2048000,
      "rowLimit": 10000
     },
     "inputWidgets": {},
     "nuid": "e2692081-ecf9-4978-9b33-a18aef291199",
     "showTitle": false,
     "tableResultSettingsMap": {},
     "title": ""
    }
   },
   "outputs": [],
   "source": [
    "top_5_shortterm_language_df = language_aggregated_df.filter((col(\"Resident_Category\") == \"short-term\") & (col(\"Year\") == max_year)).orderBy(col(\"count\").desc()).limit(5).toPandas()\n",
    "\n",
    "labels = top_5_shortterm_language_df[\"language\"]\n",
    "sizes = top_5_shortterm_language_df[\"count\"]\n",
    "\n",
    "labels = labels[::-1]\n",
    "sizes = sizes[::-1]\n",
    "\n",
    "plt.figure(figsize = (6,4))\n",
    "bars = plt.barh(labels, sizes)\n",
    "\n",
    "# add margin to the right\n",
    "plt.xlim(0, sizes.max() * 1.25)\n",
    "\n",
    "for bar in bars:\n",
    "    width = bar.get_width()\n",
    "    plt.text(width, bar.get_y() + bar.get_height()/2,\n",
    "             f'{width:,}', ha='left', va='center')\n",
    "\n",
    "plt.title(\"Language Distribution in Short-Term Residents\")\n",
    "plt.xlabel(\"Count\")\n",
    "plt.ylabel(\"Language\")\n",
    "plt.tight_layout()\n",
    "plt.xticks(rotation=30) \n",
    "plt.show()\n"
   ]
  },
  {
   "cell_type": "code",
   "execution_count": 0,
   "metadata": {
    "application/vnd.databricks.v1+cell": {
     "cellMetadata": {
      "byteLimit": 2048000,
      "rowLimit": 10000
     },
     "inputWidgets": {},
     "nuid": "b61344d4-3818-4dc4-9bfc-48a3ca449cfb",
     "showTitle": false,
     "tableResultSettingsMap": {},
     "title": ""
    }
   },
   "outputs": [],
   "source": [
    "top_5_average_shortterm_language_df = language_aggregated_df.filter((col(\"Resident_Category\") == \"short-term\"))\\\n",
    "    .groupBy(\"language\")\\\n",
    "    .agg(avg(\"count\").alias(\"average_count\")) \\\n",
    "    .orderBy(col(\"average_count\").desc()) \\\n",
    "    .limit(5) \\\n",
    "    .toPandas()\n",
    "\n",
    "labels = top_5_average_shortterm_language_df['language']\n",
    "sizes = top_5_average_shortterm_language_df['average_count']\n",
    "\n",
    "labels = labels[::-1]\n",
    "sizes = sizes[::-1]\n",
    "\n",
    "plt.figure(figsize = (6,4))\n",
    "bars = plt.barh(labels, sizes)\n",
    "\n",
    "# add margin to the right\n",
    "plt.xlim(0, sizes.max() * 1.25)\n",
    "\n",
    "for bar in bars:\n",
    "    width = bar.get_width()\n",
    "    plt.text(width, bar.get_y() + bar.get_height()/2,\n",
    "             f'{width:,.0f}', ha='left', va='center')\n",
    "    \n",
    "plt.xlabel(\"Count\")\n",
    "plt.ylabel(\"Language\")\n",
    "plt.tight_layout()\n",
    "plt.xticks(rotation=30) \n",
    "plt.title(\"Average Language Distribution in Short-Term Residents\")\n",
    "plt.show()\n"
   ]
  },
  {
   "cell_type": "markdown",
   "metadata": {
    "application/vnd.databricks.v1+cell": {
     "cellMetadata": {},
     "inputWidgets": {},
     "nuid": "f8737a93-5550-4c83-a57f-707cc0f81034",
     "showTitle": false,
     "tableResultSettingsMap": {},
     "title": ""
    }
   },
   "source": [
    "![](../analysis/images/EDA_user_group_analysis_resident/short_lang_count.png)\n",
    "![](../analysis/images/EDA_user_group_analysis_resident/short_lang_average.png)\n",
    "\n",
    "**Findings**<br/>\n",
    "Unlike the nationality data, where Thailand ranked first in both 2024 and the five-year average, \n",
    "the most-used language among short-term foreign residents in 2024 was English. It may reflect either an increase in short-term residents from English-speaking nationalities in 2024 or, as noted earlier, the declining trend of short-term residents from Thailand. However, the difference in the number of residents using the top three languages is relatively small, around 7–8%.\n",
    "\n",
    "An interesting point is that Japanese-speaking short-term residents ranked fifth in 2024. As previously observed, Japan is an emerging group with continuous growth since 2021, and the Japanese-speaking population has also been steadily increasing, highlighting its relevance for language support strategies.\n",
    "\n",
    "Additionally, Russian-speaking short-term residents appeared as fifth on the five-year average, even though it was not present in the nationality-based data. This provides direct evidence that “nationalities with many short-term residents” do not necessarily coincide with “languages that should be prioritized for support.”\n",
    "\n",
    "The trends of short-term residents using English, Japanese, Mandarin, Russian, Thai, and Vietnamese over the past five years, as indicated by the two bar charts, were visualized in a line chart below."
   ]
  },
  {
   "cell_type": "markdown",
   "metadata": {
    "application/vnd.databricks.v1+cell": {
     "cellMetadata": {
      "byteLimit": 2048000,
      "rowLimit": 10000
     },
     "inputWidgets": {},
     "nuid": "10048768-93d9-4ca4-8c6b-3651dc8257f5",
     "showTitle": false,
     "tableResultSettingsMap": {},
     "title": ""
    }
   },
   "source": [
    "#### 2-2-2. Trend (5 Year)"
   ]
  },
  {
   "cell_type": "code",
   "execution_count": 0,
   "metadata": {
    "application/vnd.databricks.v1+cell": {
     "cellMetadata": {
      "byteLimit": 2048000,
      "rowLimit": 10000
     },
     "inputWidgets": {},
     "nuid": "1a541e5a-ea24-48fe-abec-5d1b2c8a8a4e",
     "showTitle": false,
     "tableResultSettingsMap": {},
     "title": ""
    }
   },
   "outputs": [],
   "source": [
    "short_top_languages = pd.concat([\n",
    "    top_5_average_shortterm_language_df[\"language\"],\n",
    "    top_5_shortterm_language_df[\"language\"]\n",
    "])\n",
    "\n",
    "# remove duplicates\n",
    "short_languages_to_focus = short_top_languages.drop_duplicates().tolist()\n",
    "\n",
    "short_residents_languages_pd = language_aggregated_df.filter(col(\"language\").isin(short_languages_to_focus) & (col(\"Resident_Category\") == \"short-term\")) \\\n",
    "    .groupBy(\"Year\", \"Resident_Category\", \"language\") \\\n",
    "    .agg(sum(\"count\").alias(\"count\")) \\\n",
    "    .toPandas()\n",
    "\n",
    "shortterm_language_pivot_df = short_residents_languages_pd.pivot_table(\n",
    "    index = \"Year\",\n",
    "    columns = \"language\",\n",
    "    values = \"count\",\n",
    "    aggfunc= \"sum\"\n",
    ").fillna(0)\n",
    " \n",
    "plt.figure(figsize=(8, 4))\n",
    "for language in shortterm_language_pivot_df.columns:\n",
    "    plt.plot(shortterm_language_pivot_df.index, shortterm_language_pivot_df[language], marker='o', label=language)\n",
    "plt.xticks(shortterm_language_pivot_df.index, [str(int(year)) for year in shortterm_language_pivot_df.index])\n",
    "\n",
    "plt.xlabel('Year')\n",
    "plt.ylabel('Count')\n",
    "plt.title('Short-Term Resident Count by Primary Language')\n",
    "plt.legend(loc='upper left', bbox_to_anchor=(1.01, 1))\n",
    "plt.grid(True)\n",
    "plt.tight_layout()\n",
    "plt.show()"
   ]
  },
  {
   "cell_type": "markdown",
   "metadata": {
    "application/vnd.databricks.v1+cell": {
     "cellMetadata": {},
     "inputWidgets": {},
     "nuid": "960b0a85-7238-46c0-b635-224697425cca",
     "showTitle": false,
     "tableResultSettingsMap": {},
     "title": ""
    }
   },
   "source": [
    "![](../analysis/images/EDA_user_group_analysis_resident/short_lang_line.png)\n",
    "\n",
    "**Findings**<br/>\n",
    "By comparing the nationality-based analysis with the language-based analysis, the following key insights were identified:\n",
    "<ol>\n",
    "<li>The influence of English: While Thailand ranked first by nationality, English was the top language in 2024. This indicates that rather than focusing solely on a single nationality, English—widely used across multiple nationalities—may have greater market potential.</li>\n",
    "\n",
    "<li>Reaffirming Japan’s growth: Japanese ranked fifth in 2024, consistent with the nationality-based analysis, once again confirming its potential as an emerging group.</li>\n",
    "\n",
    "<li>Discovery of a new market: Russian, which did not appear in the nationality rankings, ranked fifth in the five-year language average. This highlights the important fact that “countries with many residents” may differ from “languages actually used,” a point that must be considered when establishing language support policies.</li>\n",
    "</ol>\n",
    "\n",
    "Taken together, the results suggest that the most effective strategy would be to prioritize English, Thai, and Mandarin—languages with stable user bases—along with Japanese, which shows clear growth potential, as the key supported languages."
   ]
  },
  {
   "cell_type": "markdown",
   "metadata": {
    "application/vnd.databricks.v1+cell": {
     "cellMetadata": {
      "byteLimit": 2048000,
      "rowLimit": 10000
     },
     "inputWidgets": {},
     "nuid": "e4fac21c-ade6-47b2-8e22-d8e938a53e41",
     "showTitle": false,
     "tableResultSettingsMap": {},
     "title": ""
    }
   },
   "source": [
    "## 3. Long-Term Residents"
   ]
  },
  {
   "cell_type": "markdown",
   "metadata": {
    "application/vnd.databricks.v1+cell": {
     "cellMetadata": {
      "byteLimit": 2048000,
      "rowLimit": 10000
     },
     "inputWidgets": {},
     "nuid": "8ae0b5b4-d06e-4ec6-afc2-4e70e465eb8c",
     "showTitle": false,
     "tableResultSettingsMap": {},
     "title": ""
    }
   },
   "source": [
    "### 3-1. Nationality\n",
    "As of 2024, long-term foreign residents come from a total of 188 countries. To identify the countries with the largest resident populations, I visualized the data using bar charts."
   ]
  },
  {
   "cell_type": "markdown",
   "metadata": {
    "application/vnd.databricks.v1+cell": {
     "cellMetadata": {
      "byteLimit": 2048000,
      "rowLimit": 10000
     },
     "inputWidgets": {},
     "nuid": "a246c007-9706-4eb7-80be-4fe1671677e4",
     "showTitle": false,
     "tableResultSettingsMap": {},
     "title": ""
    }
   },
   "source": [
    "#### 3-1-1. Current"
   ]
  },
  {
   "cell_type": "code",
   "execution_count": 0,
   "metadata": {
    "application/vnd.databricks.v1+cell": {
     "cellMetadata": {
      "byteLimit": 2048000,
      "rowLimit": 10000
     },
     "inputWidgets": {},
     "nuid": "ac5bea22-1505-4563-8222-0c2007d8309b",
     "showTitle": true,
     "tableResultSettingsMap": {},
     "title": "long term nationality"
    }
   },
   "outputs": [],
   "source": [
    "top_5_longterm_nationality_df = current_residents_df.filter(col(\"Resident_Category\") == \"long-term\")\\\n",
    "    .groupBy(\"Nationality_English\")\\\n",
    "    .agg(sum(\"Amount\").alias(\"Count\")) \\\n",
    "    .orderBy(col(\"Count\").desc()) \\\n",
    "    .limit(5) \\\n",
    "    .toPandas()\n",
    " \n",
    "labels = top_5_longterm_nationality_df['Nationality_English']\n",
    "sizes = top_5_longterm_nationality_df['Count']\n",
    "\n",
    "labels = labels[::-1]\n",
    "sizes = sizes[::-1]\n",
    "\n",
    "plt.figure(figsize = (6,4))\n",
    "bars = plt.barh(labels, sizes)\n",
    "\n",
    "# add margin to the right\n",
    "plt.xlim(0, sizes.max() * 1.25)\n",
    "\n",
    "for bar in bars:\n",
    "    width = bar.get_width()\n",
    "    plt.text(width, bar.get_y() + bar.get_height()/2,\n",
    "             f'{width:,.0f}', ha='left', va='center')\n",
    "plt.title(\"Nationality Distribution in Long-Term Residents\")\n",
    "plt.xlabel(\"Count\")\n",
    "plt.ylabel(\"Nationality\")\n",
    "plt.tight_layout()\n",
    "plt.show()\n",
    " \n"
   ]
  },
  {
   "cell_type": "code",
   "execution_count": 0,
   "metadata": {
    "application/vnd.databricks.v1+cell": {
     "cellMetadata": {
      "byteLimit": 2048000,
      "rowLimit": 10000
     },
     "inputWidgets": {},
     "nuid": "f4428c8b-7e88-4ebc-981d-2bcd5c4b6bbe",
     "showTitle": false,
     "tableResultSettingsMap": {},
     "title": ""
    }
   },
   "outputs": [],
   "source": [
    "top_5_average_longterm_nationality_df = residents_df.filter((col(\"Resident_Category\") == \"long-term\"))\\\n",
    "    .groupBy(\"Nationality_English\")\\\n",
    "    .agg(avg(\"Amount\").alias(\"average_count\")) \\\n",
    "    .orderBy(col(\"average_count\").desc()) \\\n",
    "    .limit(5) \\\n",
    "    .toPandas()\n",
    "\n",
    "labels = top_5_average_longterm_nationality_df['Nationality_English']\n",
    "sizes = top_5_average_longterm_nationality_df['average_count']\n",
    "\n",
    "labels = labels[::-1]\n",
    "sizes = sizes[::-1]\n",
    "\n",
    "plt.figure(figsize = (6,4))\n",
    "bars = plt.barh(labels, sizes)\n",
    "\n",
    "# add margin to the right\n",
    "plt.xlim(0, sizes.max() * 1.25)\n",
    "\n",
    "for bar in bars:\n",
    "    width = bar.get_width()\n",
    "    plt.text(width, bar.get_y() + bar.get_height()/2,\n",
    "             f'{width:,.0f}', ha='left', va='center')\n",
    "plt.title(\"Average Nationality Distribution in Long-Term Residents\")\n",
    "plt.xlabel(\"Count\")\n",
    "plt.ylabel(\"Nationality\")\n",
    "plt.tight_layout()\n",
    "plt.show()\n"
   ]
  },
  {
   "cell_type": "markdown",
   "metadata": {
    "application/vnd.databricks.v1+cell": {
     "cellMetadata": {},
     "inputWidgets": {},
     "nuid": "336e4392-2107-4f95-9949-25d34ecbd0d6",
     "showTitle": false,
     "tableResultSettingsMap": {},
     "title": ""
    }
   },
   "source": [
    "![](../analysis/images/EDA_user_group_analysis_resident/long_nat_count.png)\n",
    "![](../analysis/images/EDA_user_group_analysis_resident/long_nat_average.png)\n",
    "\n",
    "**Findings**</br>\n",
    "As with the analysis of short-term foreign residents, the first graph shows the top five nationalities of long-term foreign residents in 2024, while the second graph presents the average number of residents by nationality over the past five years. The two results are largely consistent, indicating that the trends of the past five years have continued steadily to the present.\n",
    "\n",
    "China (460,000; five-year average 440,000) and Vietnam (260,000; five-year average 200,000) together account for about 80% of the top five countries, forming the dominant share of long-term foreign residents. In contrast, Uzbekistan, Nepal, and Cambodia show relatively similar numbers without large differences.\n",
    "\n",
    "Based on this, I visualized the five-year trends of long-term foreign residents from China, Vietnam, Uzbekistan, Nepal, and Cambodia using a line chart.\n"
   ]
  },
  {
   "cell_type": "markdown",
   "metadata": {
    "application/vnd.databricks.v1+cell": {
     "cellMetadata": {
      "byteLimit": 2048000,
      "rowLimit": 10000
     },
     "inputWidgets": {},
     "nuid": "3a33b1fb-3f97-4fb3-a91f-fb119b5aab98",
     "showTitle": false,
     "tableResultSettingsMap": {},
     "title": ""
    }
   },
   "source": [
    "#### 3-1-2. Trend (5 Year)"
   ]
  },
  {
   "cell_type": "code",
   "execution_count": 0,
   "metadata": {
    "application/vnd.databricks.v1+cell": {
     "cellMetadata": {
      "byteLimit": 2048000,
      "rowLimit": 10000
     },
     "inputWidgets": {},
     "nuid": "5f48e758-4511-475c-80bb-1804180cc9b7",
     "showTitle": false,
     "tableResultSettingsMap": {},
     "title": ""
    }
   },
   "outputs": [],
   "source": [
    "long_top_nationalities = pd.concat([\n",
    "    top_5_average_longterm_nationality_df[\"Nationality_English\"],\n",
    "    top_5_longterm_nationality_df[\"Nationality_English\"],\n",
    "])\n",
    "\n",
    "\n",
    "long_countries_to_focus = long_top_nationalities.drop_duplicates().tolist()"
   ]
  },
  {
   "cell_type": "code",
   "execution_count": 0,
   "metadata": {
    "application/vnd.databricks.v1+cell": {
     "cellMetadata": {
      "byteLimit": 2048000,
      "rowLimit": 10000
     },
     "inputWidgets": {},
     "nuid": "7bac2a17-6b34-4e92-81f0-3fe9d87e0a0a",
     "showTitle": false,
     "tableResultSettingsMap": {},
     "title": ""
    }
   },
   "outputs": [],
   "source": [
    "long_residents_pd = residents_df.filter((col(\"Nationality_English\").isin(long_countries_to_focus)) & (col(\"Resident_Category\") == \"long-term\")) \\\n",
    "    .groupBy(\"Year\", \"Resident_Category\", \"Nationality_English\") \\\n",
    "    .agg(sum(\"Amount\").alias(\"count\")) \\\n",
    "    .withColumnRenamed(\"Nationality_English\", \"Nationality\")\\\n",
    "    .toPandas()\n",
    "\n",
    "longterm_pivot_df = long_residents_pd.pivot_table(\n",
    "    index = \"Year\",\n",
    "    columns = \"Nationality\",\n",
    "    values = \"count\",\n",
    "    aggfunc= \"sum\"\n",
    ").fillna(0)\n",
    "\n",
    "\n",
    "\n",
    "plt.figure(figsize=(8, 4))\n",
    "for nationality in longterm_pivot_df.columns:\n",
    "    plt.plot(longterm_pivot_df.index, longterm_pivot_df[nationality], marker='o', label=nationality)\n",
    "\n",
    "# populate year as string in x axis\n",
    "plt.xticks(longterm_pivot_df.index, [str(int(year)) for year in longterm_pivot_df.index])\n",
    "\n",
    "plt.xlabel('Year')\n",
    "plt.ylabel('Count')\n",
    "plt.title('Long-Term Resident Count by Nationality')\n",
    "plt.legend(loc='upper left', bbox_to_anchor=(1.01, 1))\n",
    "plt.grid(True)\n",
    "plt.tight_layout()\n",
    "plt.show()"
   ]
  },
  {
   "cell_type": "markdown",
   "metadata": {
    "application/vnd.databricks.v1+cell": {
     "cellMetadata": {},
     "inputWidgets": {},
     "nuid": "f4d3f915-0e46-42c5-a1a4-a4e87740928d",
     "showTitle": false,
     "tableResultSettingsMap": {},
     "title": ""
    }
   },
   "source": [
    "![](../analysis/images/EDA_user_group_analysis_resident/long_nat_line.png)\n",
    "\n",
    "**Findings**<br/>\n",
    "The top two countries account for about 80% of long-term residents among the top five, indicating that the long-term foreign resident population is heavily concentrated in a small number of nationalities. Considering this imbalance, it is reasonable at this stage to focus the core analysis on China and Vietnam, which represent the largest groups."
   ]
  },
  {
   "cell_type": "markdown",
   "metadata": {
    "application/vnd.databricks.v1+cell": {
     "cellMetadata": {
      "byteLimit": 2048000,
      "rowLimit": 10000
     },
     "inputWidgets": {},
     "nuid": "b8961b31-1e90-4628-b5c3-6a27e4292fb7",
     "showTitle": false,
     "tableResultSettingsMap": {},
     "title": ""
    }
   },
   "source": [
    "### 3-2. Language\n",
    "I mapped the primary languages of each nationality to examine the languages most commonly used by long-term foreign residents. In cases where a country uses multiple languages, the resident count was duplicated across those languages to make the weight of each langauge equal, which may result in some overestimation in the figures.\n"
   ]
  },
  {
   "cell_type": "markdown",
   "metadata": {
    "application/vnd.databricks.v1+cell": {
     "cellMetadata": {
      "byteLimit": 2048000,
      "rowLimit": 10000
     },
     "inputWidgets": {},
     "nuid": "d93f2cc2-864f-4d85-a04e-9ec9699b36e3",
     "showTitle": false,
     "tableResultSettingsMap": {},
     "title": ""
    }
   },
   "source": [
    "#### 3-2-1. Current & Trend (5 Year)"
   ]
  },
  {
   "cell_type": "code",
   "execution_count": 0,
   "metadata": {
    "application/vnd.databricks.v1+cell": {
     "cellMetadata": {
      "byteLimit": 2048000,
      "rowLimit": 10000
     },
     "inputWidgets": {},
     "nuid": "6c09e27c-ac03-405a-90dc-93b03af74f6c",
     "showTitle": false,
     "tableResultSettingsMap": {},
     "title": ""
    }
   },
   "outputs": [],
   "source": [
    "top_5_longterm_language_df = language_aggregated_df.filter((col(\"Resident_Category\") == \"long-term\") & (col(\"Year\") == max_year)).orderBy(col(\"count\").desc()).limit(5).toPandas()\n",
    "\n",
    "labels = top_5_longterm_language_df[\"language\"]\n",
    "sizes = top_5_longterm_language_df[\"count\"]\n",
    "\n",
    "labels = labels[::-1]\n",
    "sizes = sizes[::-1]\n",
    "\n",
    "plt.figure(figsize = (6,4))\n",
    "bars = plt.barh(labels, sizes)\n",
    "\n",
    "# add margin to the right\n",
    "plt.xlim(0, sizes.max() * 1.25)\n",
    "\n",
    "for bar in bars:\n",
    "    width = bar.get_width()\n",
    "    plt.text(width, bar.get_y() + bar.get_height()/2,\n",
    "             f'{width:,}', ha='left', va='center')\n",
    "\n",
    "plt.title(\"Language Distribution in Long-Term Residents\")\n",
    "plt.xlabel(\"Count\")\n",
    "plt.ylabel(\"Language\")\n",
    "plt.tight_layout()\n",
    "plt.show()\n"
   ]
  },
  {
   "cell_type": "code",
   "execution_count": 0,
   "metadata": {
    "application/vnd.databricks.v1+cell": {
     "cellMetadata": {
      "byteLimit": 2048000,
      "rowLimit": 10000
     },
     "inputWidgets": {},
     "nuid": "86d740b1-2882-4c3e-bccc-e4b12b77af63",
     "showTitle": false,
     "tableResultSettingsMap": {},
     "title": ""
    }
   },
   "outputs": [],
   "source": [
    "top_5_average_longterm_language_df = language_aggregated_df.filter((col(\"Resident_Category\") == \"long-term\"))\\\n",
    "    .groupBy(\"language\")\\\n",
    "    .agg(avg(\"count\").alias(\"average_count\")) \\\n",
    "    .orderBy(col(\"average_count\").desc()) \\\n",
    "    .limit(5) \\\n",
    "    .toPandas()\n",
    "\n",
    "labels = top_5_average_longterm_language_df['language']\n",
    "sizes = top_5_average_longterm_language_df['average_count']\n",
    "\n",
    "labels = labels[::-1]\n",
    "sizes = sizes[::-1]\n",
    "\n",
    "plt.figure(figsize = (6,4))\n",
    "bars = plt.barh(labels, sizes)\n",
    "\n",
    "# add margin to the right\n",
    "plt.xlim(0, sizes.max() * 1.25)\n",
    "\n",
    "for bar in bars:\n",
    "    width = bar.get_width()\n",
    "    plt.text(width, bar.get_y() + bar.get_height()/2,\n",
    "             f'{width:,.0f}', ha='left', va='center')\n",
    "    \n",
    "plt.xlabel(\"Count\")\n",
    "plt.ylabel(\"Language\")\n",
    "plt.tight_layout()\n",
    "plt.title(\"Average Language Distribution in Long-Term Residents\")\n",
    "plt.show()\n"
   ]
  },
  {
   "cell_type": "code",
   "execution_count": 0,
   "metadata": {
    "application/vnd.databricks.v1+cell": {
     "cellMetadata": {
      "byteLimit": 2048000,
      "rowLimit": 10000
     },
     "inputWidgets": {},
     "nuid": "4e3a179a-3bd1-42d6-b878-9415bc2249cf",
     "showTitle": false,
     "tableResultSettingsMap": {},
     "title": ""
    }
   },
   "outputs": [],
   "source": [
    "long_top_languages = pd.concat([\n",
    "    top_5_average_longterm_language_df[\"language\"],\n",
    "    top_5_longterm_language_df[\"language\"]\n",
    "])\n",
    "\n",
    "long_languages_to_focus = long_top_languages.drop_duplicates().tolist()"
   ]
  },
  {
   "cell_type": "code",
   "execution_count": 0,
   "metadata": {
    "application/vnd.databricks.v1+cell": {
     "cellMetadata": {
      "byteLimit": 2048000,
      "rowLimit": 10000
     },
     "inputWidgets": {},
     "nuid": "78766c75-8b19-440a-907e-917cd46e0d95",
     "showTitle": false,
     "tableResultSettingsMap": {},
     "title": ""
    }
   },
   "outputs": [],
   "source": [
    "long_residents_languages_pd = language_aggregated_df.filter(col(\"language\").isin(long_languages_to_focus) & (col(\"Resident_Category\") == \"long-term\")).toPandas()\n",
    "\n",
    "longterm_language_pivot_df = long_residents_languages_pd.pivot_table(\n",
    "    index = \"Year\",\n",
    "    columns = \"language\",\n",
    "    values = \"count\",\n",
    "    aggfunc= \"sum\"\n",
    ").fillna(0)\n",
    "\n",
    "plt.figure(figsize=(8, 4))\n",
    "for language in longterm_language_pivot_df.columns:\n",
    "    plt.plot(longterm_language_pivot_df.index, longterm_language_pivot_df[language], marker='o', label=language)\n",
    "\n",
    "plt.xticks(longterm_language_pivot_df.index, [str(int(year)) for year in longterm_language_pivot_df.index])\n",
    "\n",
    "plt.xlabel('Year')\n",
    "plt.ylabel('Count')\n",
    "plt.title('Long-Term Resident Count by Primary Language')\n",
    "plt.legend(loc='upper left', bbox_to_anchor=(1.01, 1))\n",
    "plt.grid(True)\n",
    "plt.tight_layout()\n",
    "plt.show()"
   ]
  },
  {
   "cell_type": "markdown",
   "metadata": {
    "application/vnd.databricks.v1+cell": {
     "cellMetadata": {},
     "inputWidgets": {},
     "nuid": "bf877b7a-a027-40df-b584-ed91ffb1966c",
     "showTitle": false,
     "tableResultSettingsMap": {},
     "title": ""
    }
   },
   "source": [
    "![](../analysis/images/EDA_user_group_analysis_resident/long_lang_count.png)"
   ]
  },
  {
   "cell_type": "markdown",
   "metadata": {
    "application/vnd.databricks.v1+cell": {
     "cellMetadata": {},
     "inputWidgets": {},
     "nuid": "d53c4ef6-1898-44f3-a25f-af3c0e98fe95",
     "showTitle": false,
     "tableResultSettingsMap": {},
     "title": ""
    }
   },
   "source": [
    "\n",
    "![](../analysis/images/EDA_user_group_analysis_resident/long_lang_average.png)"
   ]
  },
  {
   "cell_type": "markdown",
   "metadata": {
    "application/vnd.databricks.v1+cell": {
     "cellMetadata": {},
     "inputWidgets": {},
     "nuid": "424dec37-2f55-4545-add7-ee9221089d92",
     "showTitle": false,
     "tableResultSettingsMap": {},
     "title": ""
    }
   },
   "source": [
    "\n",
    "![](../analysis/images/EDA_user_group_analysis_resident/long_lang_line.png)\n",
    "**Findings** <br/>\n",
    "When comparing nationality-based and language-based data, the overall trends appear similar. Mandarin not only dominates as the top language but has also shown an upward trend since 2022. \n",
    "\n",
    "Vietnamese and English have likewise demonstrated steady growth.\n",
    "\n",
    "Interestingly, English—which did not appear in the top nationality rankings—ranked third in both 2024 and the five-year average. This, as with the short-term resident data, highlights that the top nationalities and the actual distribution of languages used may differ.\n",
    "\n",
    "That said, it can be hypothesized that long-term residents, given their extended stay in Korea, face fewer language barriers compared to short-term residents. This could serve as an important criterion for prioritizing supported languages when resources are limited. \n",
    "However, there is a limitation of the current dataset not containing enough data for me to measure the actual Korean proficiency of the long-term residents.\n",
    "\n",
    "Based on this hypothesis, a phased strategy appears most effective: initially focusing on Mandarin, which has an overwhelmingly large user base, and subsequently validating the need for additional language support through user feedback or supplementary data."
   ]
  }
 ],
 "metadata": {
  "application/vnd.databricks.v1+notebook": {
   "computePreferences": null,
   "dashboards": [],
   "environmentMetadata": {
    "base_environment": "",
    "environment_version": "3"
   },
   "inputWidgetPreferences": null,
   "language": "python",
   "notebookMetadata": {
    "mostRecentlyExecutedCommandWithImplicitDF": {
     "commandId": 8429886107730295,
     "dataframes": [
      "_sqldf"
     ]
    },
    "pythonIndentUnit": 4
   },
   "notebookName": "EDA_user_group_analysis_resident",
   "widgets": {}
  },
  "language_info": {
   "name": "python"
  }
 },
 "nbformat": 4,
 "nbformat_minor": 0
}
