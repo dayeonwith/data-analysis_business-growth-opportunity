{
 "cells": [
  {
   "cell_type": "markdown",
   "metadata": {
    "application/vnd.databricks.v1+cell": {
     "cellMetadata": {
      "batchId": -6524496956098879,
      "byteLimit": 2048000,
      "rowLimit": 10000
     },
     "inputWidgets": {},
     "nuid": "8a0e0828-a860-4183-af85-068d252ceeec",
     "showTitle": false,
     "tableResultSettingsMap": {},
     "title": ""
    }
   },
   "source": [
    "<h2>What are the most frequently occurring words in negative reviews?</h2>"
   ]
  },
  {
   "cell_type": "code",
   "execution_count": 0,
   "metadata": {
    "application/vnd.databricks.v1+cell": {
     "cellMetadata": {
      "byteLimit": 2048000,
      "rowLimit": 10000
     },
     "inputWidgets": {},
     "nuid": "97df96bd-e689-4ac4-b39f-47e8b388f5b8",
     "showTitle": false,
     "tableResultSettingsMap": {},
     "title": ""
    }
   },
   "outputs": [],
   "source": [
    "%pip install nltk"
   ]
  },
  {
   "cell_type": "code",
   "execution_count": 0,
   "metadata": {
    "application/vnd.databricks.v1+cell": {
     "cellMetadata": {
      "byteLimit": 2048000,
      "rowLimit": 10000
     },
     "inputWidgets": {},
     "nuid": "6d473a3f-eb2a-4834-a7c4-107327da878c",
     "showTitle": false,
     "tableResultSettingsMap": {},
     "title": ""
    }
   },
   "outputs": [],
   "source": [
    "import nltk"
   ]
  },
  {
   "cell_type": "code",
   "execution_count": 0,
   "metadata": {
    "application/vnd.databricks.v1+cell": {
     "cellMetadata": {
      "byteLimit": 2048000,
      "rowLimit": 10000
     },
     "inputWidgets": {},
     "nuid": "661abbe1-3b27-4508-a249-93b199455c41",
     "showTitle": false,
     "tableResultSettingsMap": {},
     "title": ""
    }
   },
   "outputs": [],
   "source": [
    "nltk.download('vader_lexicon')\n",
    "from nltk.sentiment import SentimentIntensityAnalyzer"
   ]
  },
  {
   "cell_type": "code",
   "execution_count": 0,
   "metadata": {
    "application/vnd.databricks.v1+cell": {
     "cellMetadata": {
      "byteLimit": 2048000,
      "rowLimit": 10000
     },
     "inputWidgets": {},
     "nuid": "2efb116d-39a4-4dfe-8734-655d417bb360",
     "showTitle": false,
     "tableResultSettingsMap": {},
     "title": ""
    }
   },
   "outputs": [],
   "source": [
    "from pyspark.sql import SparkSession\n",
    "from pyspark.sql.functions import col, year, lit, when, udf, explode, lower\n",
    "from pyspark.sql.types import IntegerType, ArrayType, StringType"
   ]
  },
  {
   "cell_type": "code",
   "execution_count": 0,
   "metadata": {
    "application/vnd.databricks.v1+cell": {
     "cellMetadata": {
      "byteLimit": 2048000,
      "rowLimit": 10000
     },
     "inputWidgets": {},
     "nuid": "8f1e3761-2e43-45fb-8a82-af8c6aca17a6",
     "showTitle": false,
     "tableResultSettingsMap": {},
     "title": ""
    }
   },
   "outputs": [],
   "source": [
    "spark = SparkSession.builder.appName(\"analysis_painpoint\").getOrCreate()"
   ]
  },
  {
   "cell_type": "code",
   "execution_count": 0,
   "metadata": {
    "application/vnd.databricks.v1+cell": {
     "cellMetadata": {
      "byteLimit": 2048000,
      "rowLimit": 10000
     },
     "inputWidgets": {},
     "nuid": "335d3518-53a5-4c9c-a1ff-65ca2dbad0d6",
     "showTitle": false,
     "tableResultSettingsMap": {},
     "title": ""
    }
   },
   "outputs": [],
   "source": [
    "id_to_exclude = [\"https://www.reddit.com/r/korea/comments/1it9gty/exclusive_being_taken_prisoner_is_treason_in/\", \"https://www.reddit.com/r/korea/comments/11a53p7/colonial_police_warned_residents_about_police/\"]"
   ]
  },
  {
   "cell_type": "code",
   "execution_count": 0,
   "metadata": {
    "application/vnd.databricks.v1+cell": {
     "cellMetadata": {
      "byteLimit": 2048000,
      "rowLimit": 10000
     },
     "inputWidgets": {},
     "nuid": "4f492f8b-3132-491b-872f-000f86c0f0d7",
     "showTitle": false,
     "tableResultSettingsMap": {},
     "title": ""
    }
   },
   "outputs": [],
   "source": [
    "appstore_df = spark.table(\"workspace.growth_poc.silver_appstore_reviews\") \\\n",
    "                   .filter(year(col(\"updated\")) >= lit(2023)) \\\n",
    "                   .select(\n",
    "                       col(\"updated\").alias(\"review_date\"),\n",
    "                       col(\"rating\").alias(\"review_rate\"),\n",
    "                       col(\"content_translated\").alias(\"review_content\"),\n",
    "                       col(\"sentences\").alias(\"review_sentences\"),\n",
    "                       col(\"words\").alias(\"review_words\"),\n",
    "                       col(\"thumbsUpCount\").alias(\"review_thumbsUpCount\"),\n",
    "                       col(\"appName\"),\n",
    "                       col(\"country\"),\n",
    "                       col(\"language\")\n",
    "                   ) \n",
    "playstore_df = spark.table(\"workspace.growth_poc.silver_playstore_reviews\") \\\n",
    "                    .filter(year(col(\"at\")) >= lit(2023)) \\\n",
    "                    .select(\n",
    "                       col(\"at\").alias(\"review_date\"),\n",
    "                       col(\"score\").alias(\"review_rate\"),\n",
    "                       col(\"content_translated\").alias(\"review_content\"),\n",
    "                       col(\"sentences\").alias(\"review_sentences\"),\n",
    "                       col(\"words\").alias(\"review_words\"),\n",
    "                       col(\"thumbsUpCount\").alias(\"review_thumbsUpCount\"),\n",
    "                       col(\"appName\"),\n",
    "                       col(\"language\")\n",
    "                   ) \n",
    "reddit_df = spark.table(\"workspace.growth_poc.silver_reddit_reviews\")\\\n",
    "                    .filter((year(col(\"created_datetime\")) >= lit(2023)) & ~(col(\"url\").isin(id_to_exclude))) \\\n",
    "                    .select(\n",
    "                       col(\"created_datetime\").alias(\"review_date\"),\n",
    "                       col(\"content_translated\").alias(\"review_content\"),\n",
    "                       col(\"sentences\").alias(\"review_sentences\"),\n",
    "                       col(\"words\").alias(\"review_words\"),\n",
    "                       col(\"score\").alias(\"review_thumbsUpCount\"),\n",
    "                       col(\"language\")\n",
    "                   ) \n",
    "                    \n",
    "review_contents_df = appstore_df.unionByName(playstore_df,allowMissingColumns=True) \\\n",
    "                                .unionByName(reddit_df,allowMissingColumns=True)\n"
   ]
  },
  {
   "cell_type": "markdown",
   "metadata": {
    "application/vnd.databricks.v1+cell": {
     "cellMetadata": {
      "byteLimit": 2048000,
      "rowLimit": 10000
     },
     "inputWidgets": {},
     "nuid": "ebdaee75-ac01-4ccc-85ed-198ce4ccfe87",
     "showTitle": false,
     "tableResultSettingsMap": {},
     "title": ""
    }
   },
   "source": [
    "<h2>1. Simple Keyword Frequency Analysis"
   ]
  },
  {
   "cell_type": "code",
   "execution_count": 0,
   "metadata": {
    "application/vnd.databricks.v1+cell": {
     "cellMetadata": {
      "byteLimit": 2048000,
      "rowLimit": 10000
     },
     "inputWidgets": {},
     "nuid": "2f84b963-0603-47cb-afae-301a0e0c11cb",
     "showTitle": false,
     "tableResultSettingsMap": {},
     "title": ""
    }
   },
   "outputs": [],
   "source": [
    "def detect_negative_review(sentence):\n",
    "    if not sentence: # None or empty string\n",
    "        return 0 \n",
    "    score = analyzer.polarity_scores(sentence)[\"compound\"]\n",
    "    result = 1 if score < 0 else 0\n",
    "    return result"
   ]
  },
  {
   "cell_type": "code",
   "execution_count": 0,
   "metadata": {
    "application/vnd.databricks.v1+cell": {
     "cellMetadata": {
      "byteLimit": 2048000,
      "rowLimit": 10000
     },
     "inputWidgets": {},
     "nuid": "c08d3550-5459-4183-a565-3c14edc791aa",
     "showTitle": false,
     "tableResultSettingsMap": {},
     "title": ""
    }
   },
   "outputs": [],
   "source": [
    "# Use VADER for sentiment analysis\n",
    "analyzer = SentimentIntensityAnalyzer()\n",
    "\n",
    "# Mark negative reviews\n",
    "# If review_rate is 2 or less than 2, mark as negative\n",
    "# If review_rate is not available, use VADER to detect\n",
    "detect_negative_review_udf = udf(detect_negative_review, IntegerType())\n",
    "mark_negative_reviews_df = review_contents_df.withColumn(\"is_negative\", \\\n",
    "    when(col(\"review_rate\").isNull(), detect_negative_review_udf(col(\"review_content\")))\\\n",
    "    .when(col(\"review_rate\") <= 2, 1)\\\n",
    "    .otherwise(0)   \n",
    ")\n",
    "\n",
    "# get only negative reviews\n",
    "negative_df = mark_negative_reviews_df.filter(col(\"is_negative\") == 1)\n",
    "\n",
    "# flatten words\n",
    "words_exploded = negative_df.select(explode(col(\"review_words\")).alias(\"word\"))\n",
    "\n",
    "# set lowercase and count \n",
    "word_counts = words_exploded.withColumn(\"word\", lower(col(\"word\"))) \\\n",
    "                            .groupBy(\"word\").count() \\\n",
    "                            .orderBy(col(\"count\").desc()).limit(100)\n",
    "\n",
    "word_counts.show(100, truncate= False)"
   ]
  },
  {
   "cell_type": "markdown",
   "metadata": {
    "application/vnd.databricks.v1+cell": {
     "cellMetadata": {
      "byteLimit": 2048000,
      "rowLimit": 10000
     },
     "inputWidgets": {},
     "nuid": "949b9140-71dc-4288-ad22-0afcd15bec14",
     "showTitle": false,
     "tableResultSettingsMap": {},
     "title": ""
    }
   },
   "source": [
    "| word       | count |\n",
    "|------------|-------|\n",
    "| delivery   | 162   |\n",
    "| order      | 153   |\n",
    "| food       | 149   |\n",
    "| korea      | 144   |\n",
    "| korean     | 138   |\n",
    "| get        | 132   |\n",
    "| time       | 131   |\n",
    "| app        | 130   |\n",
    "| card       | 101   |\n",
    "| one        | 100   |\n",
    "| even       | 92    |\n",
    "| like       | 90    |\n",
    "| use        | 82    |\n",
    "| number     | 81    |\n",
    "| thing      | 78    |\n",
    "| phone      | 72    |\n",
    "| go         | 72    |\n",
    "| restaurant | 68    |\n",
    "| people     | 63    |\n",
    "| work       | 62    |\n",
    "| also       | 62    |\n",
    "| back       | 61    |\n",
    "| foreigner  | 60    |\n",
    "| service    | 60    |\n",
    "| make       | 60    |\n",
    "| need       | 58    |\n",
    "| know       | 57    |\n",
    "| place      | 57    |\n",
    "| country    | 55    |\n",
    "| pay        | 53    |\n",
    "| problem    | 53    |\n",
    "| day        | 53    |\n",
    "| review     | 52    |\n",
    "| item       | 51    |\n",
    "| driver     | 49    |\n",
    "| way        | 49    |\n",
    "| want       | 49    |\n",
    "| really     | 48    |\n",
    "| never      | 47    |\n",
    "| take       | 45    |\n",
    "| account    | 45    |\n",
    "| every      | 44    |\n",
    "| still      | 43    |\n",
    "| got        | 42    |\n",
    "| something  | 41    |\n",
    "| think      | 41    |\n",
    "| year       | 39    |\n",
    "| money      | 38    |\n",
    "| come       | 38    |\n",
    "| going      | 38    |\n",
    "| used       | 37    |\n",
    "| bad        | 37    |\n",
    "| door       | 37    |\n",
    "| lot        | 36    |\n",
    "| much       | 36    |\n",
    "| live       | 35    |\n",
    "| without    | 34    |\n",
    "| try        | 34    |\n",
    "| good       | 34    |\n",
    "| coupang    | 33    |\n",
    "| id         | 33    |\n",
    "| see        | 33    |\n",
    "| call       | 32    |\n",
    "| english    | 32    |\n",
    "| many       | 32    |\n",
    "| since      | 32    |\n",
    "| u          | 32    |\n",
    "| apps       | 32    |\n",
    "| option     | 31    |\n",
    "| ordered    | 31    |\n",
    "| issue      | 31    |\n",
    "| said       | 30    |\n",
    "| ever       | 30    |\n",
    "| customer   | 30    |\n",
    "| first      | 30    |\n",
    "| may        | 30    |\n",
    "| say        | 30    |\n",
    "| bank       | 30    |\n",
    "| using      | 28    |\n",
    "| hour       | 28    |\n",
    "| worst      | 28    |\n",
    "| payment    | 28    |\n",
    "| always     | 28    |\n",
    "| could      | 28    |\n",
    "| tourist    | 27    |\n",
    "| foreign    | 27    |\n",
    "| sure       | 27    |\n",
    "| feel       | 27    |\n",
    "| delivered  | 26    |\n",
    "| someone    | 26    |\n",
    "| new        | 26    |\n",
    "| able       | 25    |\n",
    "| help       | 25    |\n",
    "| tried      | 25    |\n",
    "| thats      | 25    |\n",
    "| minute     | 24    |\n",
    "| leave      | 24    |\n",
    "| well       | 24    |\n",
    "| might      | 24    |\n",
    "| tip        | 24    |\n"
   ]
  },
  {
   "cell_type": "code",
   "execution_count": 0,
   "metadata": {
    "application/vnd.databricks.v1+cell": {
     "cellMetadata": {
      "byteLimit": 2048000,
      "rowLimit": 10000
     },
     "inputWidgets": {},
     "nuid": "b7221e6c-83fe-41a2-8cb7-218cc8ef0922",
     "showTitle": false,
     "tableResultSettingsMap": {},
     "title": ""
    }
   },
   "outputs": [],
   "source": [
    "print(negative_df.count())"
   ]
  },
  {
   "cell_type": "markdown",
   "metadata": {
    "application/vnd.databricks.v1+cell": {
     "cellMetadata": {
      "byteLimit": 2048000,
      "rowLimit": 10000
     },
     "inputWidgets": {},
     "nuid": "ccbfb14c-8609-49ea-9d63-d972dc74cf0e",
     "showTitle": false,
     "tableResultSettingsMap": {},
     "title": ""
    }
   },
   "source": [
    "I extracted the 100 most frequently occuring words in 542 negative reviews and categorized those into three key problems. </br>\n",
    "<ol>\n",
    "<li><b>Foreigner-Specific Issues</b></li>\n",
    "korean(138), english(32), foreigner(60), foreign(27), call(32), tourist(29)<br/>\n",
    "This shows there are high possibilities of language-related or systemic difficulty for foreigners' to use the apps.\n",
    "\n",
    "<li><b>Delivery Service Quality</b></li>\n",
    "time(131), service(60), restaurant(68), door(37), item(51), driver(49), option(31), customer(30)<br/>\n",
    "This shows there are issues with user experience with the app usage, such as delivery time, restaurant service, delivery issue, communication with driver, etc.\n",
    "\n",
    "<li><b>Payment & Verification</b></li>\n",
    "card(101), use(82), number(81), phone(72), pay(53), account(45), money(38), id(33), bank(30), payment(28)<br/>\n",
    "This shows there are difficulties with completing orders due to payment or verification issues. I assume the problems will be related to \"foreign card\" or \"phone verification\", etc. \n",
    "\n",
    "<li><b>Special Attention</b></li>\n",
    "The mention of the specific name \"coupang (33)\" is a unique point. Through N-gram analysis, it can be determined whether this refers to the Coupang company itself or to the Coupang Eats app.\n",
    "\n",
    "\n",
    "</ol>\n",
    "\n"
   ]
  },
  {
   "cell_type": "markdown",
   "metadata": {
    "application/vnd.databricks.v1+cell": {
     "cellMetadata": {
      "byteLimit": 2048000,
      "rowLimit": 10000
     },
     "inputWidgets": {},
     "nuid": "fec7588a-d433-4a3d-8cd7-b48505dfded0",
     "showTitle": false,
     "tableResultSettingsMap": {},
     "title": ""
    }
   },
   "source": [
    "<h2>2. N-gram Analysis"
   ]
  },
  {
   "cell_type": "code",
   "execution_count": 0,
   "metadata": {
    "application/vnd.databricks.v1+cell": {
     "cellMetadata": {
      "byteLimit": 2048000,
      "rowLimit": 10000
     },
     "inputWidgets": {},
     "nuid": "cbb7df74-b573-4a35-b5af-86b3a21ac51f",
     "showTitle": false,
     "tableResultSettingsMap": {},
     "title": ""
    }
   },
   "outputs": [],
   "source": [
    "# take a list and return a list of tuples cotaining two words\n",
    "def create_bigrams_from_list(words):\n",
    "    if not words or len(words) < 2:\n",
    "        return []\n",
    "    bigrams_list = list(zip(words[:], words[1:])) # zip stops when the short sized list meets the end\n",
    "    # words[:]   = ['I',    'EAT',    'BANANA']\n",
    "    # words[1:]  = ['EAT',  'BANANA']\n",
    "    # => [('I', 'EAT'), ('EAT', 'BANANA')]\n",
    "\n",
    "    # if you want to check trigrams..\n",
    "    #bigrams_list = list(zip(words[:], words[1:], words[2:])) \n",
    "\n",
    "    bigrams = [\" \".join(grams) for grams in bigrams_list]\n",
    "    return bigrams\n",
    " \n",
    " # register the function as udf \n",
    "create_bigrams_udf = udf(create_bigrams_from_list, ArrayType(StringType()))\n",
    "    "
   ]
  },
  {
   "cell_type": "code",
   "execution_count": 0,
   "metadata": {
    "application/vnd.databricks.v1+cell": {
     "cellMetadata": {
      "byteLimit": 2048000,
      "rowLimit": 10000
     },
     "inputWidgets": {},
     "nuid": "9a04a850-a718-4043-b719-af1026a3919c",
     "showTitle": false,
     "tableResultSettingsMap": {},
     "title": ""
    }
   },
   "outputs": [],
   "source": [
    "# get biagram result\n",
    "bigrams_df = negative_df.withColumn(\"keywords_paired\", \n",
    "                                    create_bigrams_udf(col(\"review_words\"))) \\\n",
    "                        .select(\"keywords_paired\")"
   ]
  },
  {
   "cell_type": "code",
   "execution_count": 0,
   "metadata": {
    "application/vnd.databricks.v1+cell": {
     "cellMetadata": {
      "byteLimit": 2048000,
      "rowLimit": 10000
     },
     "inputWidgets": {},
     "nuid": "6a1d1cb8-2c5c-4e19-af68-2df1877a9a08",
     "showTitle": false,
     "tableResultSettingsMap": {},
     "title": ""
    }
   },
   "outputs": [],
   "source": [
    "# flatten keywords and aggregate (count)\n",
    "bigrams_flat_df = bigrams_df.select(explode(col(\"keywords_paired\")).alias(\"keywords\"))\\\n",
    "                            .groupBy(\"keywords\")\\\n",
    "                            .count()\\\n",
    "                            .orderBy(col(\"count\").desc())\n",
    "\n",
    "bigrams_flat_df.show(50,truncate = False)"
   ]
  },
  {
   "cell_type": "markdown",
   "metadata": {
    "application/vnd.databricks.v1+cell": {
     "cellMetadata": {
      "byteLimit": 2048000,
      "rowLimit": 10000
     },
     "inputWidgets": {},
     "nuid": "0ec01850-1546-4f3a-a18f-b78d24f91993",
     "showTitle": false,
     "tableResultSettingsMap": {},
     "title": ""
    }
   },
   "source": [
    "**Bigram Analysis Results**\n",
    "| keywords         | count |\n",
    "|------------------|-------|\n",
    "| phone number     | 43    |\n",
    "| food delivery    | 25    |\n",
    "| customer service | 19    |\n",
    "| credit card      | 18    |\n",
    "| korean phone     | 18    |\n",
    "| delivery driver  | 13    |\n",
    "| delivery service | 11    |\n",
    "| order delivery   | 11    |\n",
    "| food delivered   | 11    |\n",
    "| coupang eats     | 11    |\n",
    "| use app          | 10    |\n",
    "| gon na           | 10    |\n",
    "| delivery apps    | 9     |\n",
    "| cancel order     | 9     |\n",
    "| foreign card     | 9     |\n",
    "| first time       | 9     |\n",
    "| bank account     | 9     |\n",
    "| apple pay        | 8     |\n",
    "| delivery app     | 8     |\n",
    "| feel like        | 8     |\n",
    "| korean bank      | 8     |\n",
    "| even though      | 7     |\n",
    "| every time       | 7     |\n",
    "| bank card        | 7     |\n",
    "| app ever         | 7     |\n",
    "| every country    | 7     |\n",
    "| money back       | 6     |\n",
    "| worst app        | 6     |\n",
    "| uber eats        | 6     |\n",
    "| order food       | 6     |\n",
    "| go back          | 6     |\n",
    "| front door       | 6     |\n",
    "| delivery guy     | 6     |\n",
    "| delivery time    | 6     |\n",
    "| need korean      | 6     |\n",
    "| place live       | 6     |\n",
    "| pc bang          | 6     |\n",
    "| online shopping  | 5     |\n",
    "| korean food      | 5     |\n",
    "| able use         | 5     |\n",
    "| waste time       | 5     |\n",
    "| delivery food    | 5     |\n",
    "| app even         | 5     |\n",
    "| thing like       | 5     |\n",
    "| payment card     | 5     |\n",
    "| make sure        | 5     |\n",
    "| leave review     | 5     |\n",
    "| order something  | 5     |\n",
    "| one time         | 5     |\n",
    "| thing korea      | 5     |\n",
    "\n"
   ]
  },
  {
   "cell_type": "code",
   "execution_count": 0,
   "metadata": {
    "application/vnd.databricks.v1+cell": {
     "cellMetadata": {
      "byteLimit": 2048000,
      "rowLimit": 10000
     },
     "inputWidgets": {},
     "nuid": "d3996cf5-50a7-418a-bbf0-15bc3894dfd2",
     "showTitle": false,
     "tableResultSettingsMap": {},
     "title": ""
    }
   },
   "outputs": [],
   "source": [
    "bigrams_flat_df = bigrams_df.select(explode(col(\"keywords_paired\")).alias(\"keywords\"))\\\n",
    "                            .groupBy(\"keywords\")\\\n",
    "                            .count()\\\n",
    "                            .orderBy(col(\"count\").desc())\n",
    "\n",
    "bigrams_flat_df.show(20, truncate = False)"
   ]
  },
  {
   "cell_type": "markdown",
   "metadata": {
    "application/vnd.databricks.v1+cell": {
     "cellMetadata": {
      "byteLimit": 2048000,
      "rowLimit": 10000
     },
     "inputWidgets": {},
     "nuid": "74d5e2d1-4b39-47ce-8034-64957954e513",
     "showTitle": false,
     "tableResultSettingsMap": {},
     "title": ""
    }
   },
   "source": [
    "**Trigram Analysis Result**\n",
    "| keywords                     | count |\n",
    "|-------------------------------|-------|\n",
    "| korean phone number           | 17    |\n",
    "| worst app ever                | 5     |\n",
    "| need phone number             | 5     |\n",
    "| food delivery service         | 4     |\n",
    "| foreign credit card           | 4     |\n",
    "| need korean phone             | 4     |\n",
    "| get money back                | 3     |\n",
    "| korean bank account           | 3     |\n",
    "| alien registration            | 3     |\n",
    "| arc alien registration        | 3     |\n",
    "| english eye english           | 2     |\n",
    "| phone number set              | 2     |\n",
    "| use non korean                | 2     |\n",
    "| without korea phone           | 2     |\n",
    "| foreign card work             | 2     |\n",
    "| support apple pay             | 2     |\n",
    "| credit card accepted          | 2     |\n",
    "| contact customer service      | 2     |\n",
    "| eye english eye               | 2     |\n",
    "| food discarded even           | 2     |\n",
    "\n"
   ]
  },
  {
   "cell_type": "markdown",
   "metadata": {
    "application/vnd.databricks.v1+cell": {
     "cellMetadata": {
      "byteLimit": 2048000,
      "rowLimit": 10000
     },
     "inputWidgets": {},
     "nuid": "881c3c81-9514-4c76-b0b3-782e2f4c93f9",
     "showTitle": false,
     "tableResultSettingsMap": {},
     "title": ""
    }
   },
   "source": [
    "By applying N-gram analysis, I was able to better capture the context of word usage, which single keyword analysis alone could not fully reveal.\n",
    "\n",
    "<ol>\n",
    "<li><b>Dominant Issue: Foreigner Verification & Payment</b></li>\n",
    "Key Words:\n",
    "<ul>\n",
    "<li>Bigram: phone number (43), credit card (18), korean phone (18), bank account (9), korean bank (8), apple pay (8), payment card (5)</li>\n",
    "<li>Trigram: korean phone number (17), need phone number (5), foreign credit card (4), need korean phone (4), korean bank account (3), alien registration card (3), arc alien registration (3), phone number set (2), without korea phone (2), foreign card work (2), support apple pay (2)</li>\n",
    "</ul>\n",
    "Quantitative evidence shows that the biggest difficulty for users is the verification process requiring a Korean phone number. Payment failures due to lack of foreign credit cards or Korean bank accounts also emerge as a clear issue.\n",
    "\n",
    "<li><b>Service Quality Issues</b></li>\n",
    "Key Words:\n",
    "<ul>\n",
    "<li>Bigram: customer service (19), delivery driver (13), delivery service (11)</li>\n",
    "<li>Trigram: worst app ever (5), food delivery service (4), get money back (3), contact customer service (2)</li>\n",
    "</ul>\n",
    "Even after completing verification and payment, users frequently express dissatisfaction with service quality, including customer service, delivery drivers, and delivery times.\n",
    "\n",
    "<li><b>Foreigner-Specific Issues</b></li>\n",
    "Key Words:\n",
    "<ul>\n",
    "<li>Bigram: need korean (6)</li>\n",
    "</ul>\n",
    "Foreign users experience inconvenience related to language barriers. While I assumed the word \"korean\" was used in the context of lack of language support, N-gram analysis shows it was more often related to needing a Korean phone number of bank account.\n",
    "\n",
    "<li><b>Mentions of Specific Apps</b></li>\n",
    "Key Words:\n",
    "<ul>\n",
    "<li>Bigram: coupang eats (11), uber eats (6)</li>\n",
    "</ul>\n",
    "Through bigram analysis, the word “Coupang,” which appeared in single keyword analysis, is revealed to specifically refer to the food delivery app Coupang Eats. Additionally, Uber Eats, which is widely used internationally, also appears. The frequent mentions of specific apps indicate their high market visibility and their role as benchmarks for user expectations.\n",
    "</ol>\n"
   ]
  },
  {
   "cell_type": "code",
   "execution_count": 0,
   "metadata": {
    "application/vnd.databricks.v1+cell": {
     "cellMetadata": {},
     "inputWidgets": {},
     "nuid": "03f3f94c-45f2-4c49-82cb-4a2e3d61cdc0",
     "showTitle": false,
     "tableResultSettingsMap": {},
     "title": ""
    }
   },
   "outputs": [],
   "source": []
  }
 ],
 "metadata": {
  "application/vnd.databricks.v1+notebook": {
   "computePreferences": {
    "hardware": {
     "accelerator": null,
     "gpuPoolId": null,
     "memory": null
    }
   },
   "dashboards": [],
   "environmentMetadata": {
    "base_environment": "",
    "environment_version": "3"
   },
   "inputWidgetPreferences": null,
   "language": "python",
   "notebookMetadata": {
    "mostRecentlyExecutedCommandWithImplicitDF": {
     "commandId": 6524496956098873,
     "dataframes": [
      "_sqldf"
     ]
    },
    "pythonIndentUnit": 4
   },
   "notebookName": "analysis_painpoint_keyword_analysis",
   "widgets": {}
  },
  "language_info": {
   "name": "python"
  }
 },
 "nbformat": 4,
 "nbformat_minor": 0
}
