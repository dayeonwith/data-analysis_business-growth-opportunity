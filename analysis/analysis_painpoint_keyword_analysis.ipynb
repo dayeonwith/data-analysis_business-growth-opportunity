{
 "cells": [
  {
   "cell_type": "markdown",
   "metadata": {
    "application/vnd.databricks.v1+cell": {
     "cellMetadata": {
      "byteLimit": 2048000,
      "rowLimit": 10000
     },
     "inputWidgets": {},
     "nuid": "8a0e0828-a860-4183-af85-068d252ceeec",
     "showTitle": false,
     "tableResultSettingsMap": {},
     "title": ""
    }
   },
   "source": [
    "<h2>What are the most frequently occurring words in negative reviews?</h2>"
   ]
  },
  {
   "cell_type": "code",
   "execution_count": 0,
   "metadata": {
    "application/vnd.databricks.v1+cell": {
     "cellMetadata": {
      "byteLimit": 2048000,
      "rowLimit": 10000
     },
     "inputWidgets": {},
     "nuid": "97df96bd-e689-4ac4-b39f-47e8b388f5b8",
     "showTitle": false,
     "tableResultSettingsMap": {},
     "title": ""
    }
   },
   "outputs": [],
   "source": [
    "%pip install nltk"
   ]
  },
  {
   "cell_type": "code",
   "execution_count": 0,
   "metadata": {
    "application/vnd.databricks.v1+cell": {
     "cellMetadata": {
      "byteLimit": 2048000,
      "rowLimit": 10000
     },
     "inputWidgets": {},
     "nuid": "6d473a3f-eb2a-4834-a7c4-107327da878c",
     "showTitle": false,
     "tableResultSettingsMap": {},
     "title": ""
    }
   },
   "outputs": [],
   "source": [
    "import nltk"
   ]
  },
  {
   "cell_type": "code",
   "execution_count": 0,
   "metadata": {
    "application/vnd.databricks.v1+cell": {
     "cellMetadata": {
      "byteLimit": 2048000,
      "rowLimit": 10000
     },
     "inputWidgets": {},
     "nuid": "661abbe1-3b27-4508-a249-93b199455c41",
     "showTitle": false,
     "tableResultSettingsMap": {},
     "title": ""
    }
   },
   "outputs": [],
   "source": [
    "nltk.download('vader_lexicon')\n",
    "from nltk.sentiment import SentimentIntensityAnalyzer"
   ]
  },
  {
   "cell_type": "code",
   "execution_count": 0,
   "metadata": {
    "application/vnd.databricks.v1+cell": {
     "cellMetadata": {
      "byteLimit": 2048000,
      "rowLimit": 10000
     },
     "inputWidgets": {},
     "nuid": "2efb116d-39a4-4dfe-8734-655d417bb360",
     "showTitle": false,
     "tableResultSettingsMap": {},
     "title": ""
    }
   },
   "outputs": [],
   "source": [
    "from pyspark.sql import SparkSession\n",
    "from pyspark.sql.functions import col, year, lit, when, udf, explode, lower\n",
    "from pyspark.sql.types import IntegerType, ArrayType, StringType"
   ]
  },
  {
   "cell_type": "code",
   "execution_count": 0,
   "metadata": {
    "application/vnd.databricks.v1+cell": {
     "cellMetadata": {
      "byteLimit": 2048000,
      "rowLimit": 10000
     },
     "inputWidgets": {},
     "nuid": "8f1e3761-2e43-45fb-8a82-af8c6aca17a6",
     "showTitle": false,
     "tableResultSettingsMap": {},
     "title": ""
    }
   },
   "outputs": [],
   "source": [
    "spark = SparkSession.builder.appName(\"analysis_painpoint\").getOrCreate()"
   ]
  },
  {
   "cell_type": "code",
   "execution_count": 0,
   "metadata": {
    "application/vnd.databricks.v1+cell": {
     "cellMetadata": {
      "byteLimit": 2048000,
      "rowLimit": 10000
     },
     "inputWidgets": {},
     "nuid": "335d3518-53a5-4c9c-a1ff-65ca2dbad0d6",
     "showTitle": false,
     "tableResultSettingsMap": {},
     "title": ""
    }
   },
   "outputs": [],
   "source": [
    "id_to_exclude = \"https://www.reddit.com/r/korea/comments/1it9gty/exclusive_being_taken_prisoner_is_treason_in/\""
   ]
  },
  {
   "cell_type": "code",
   "execution_count": 0,
   "metadata": {
    "application/vnd.databricks.v1+cell": {
     "cellMetadata": {
      "byteLimit": 2048000,
      "rowLimit": 10000
     },
     "inputWidgets": {},
     "nuid": "4f492f8b-3132-491b-872f-000f86c0f0d7",
     "showTitle": false,
     "tableResultSettingsMap": {},
     "title": ""
    }
   },
   "outputs": [],
   "source": [
    "appstore_df = spark.table(\"workspace.growth_poc.silver_appstore_reviews\") \\\n",
    "                   .filter(year(col(\"updated\")) >= lit(2023)) \\\n",
    "                   .select(\n",
    "                       col(\"updated\").alias(\"review_date\"),\n",
    "                       col(\"rating\").alias(\"review_rate\"),\n",
    "                       col(\"content_translated\").alias(\"review_content\"),\n",
    "                       col(\"sentences\").alias(\"review_sentences\"),\n",
    "                       col(\"words\").alias(\"review_words\"),\n",
    "                       col(\"thumbsUpCount\").alias(\"review_thumbsUpCount\"),\n",
    "                       col(\"appName\"),\n",
    "                       col(\"country\"),\n",
    "                       col(\"language\")\n",
    "                   ) \n",
    "playstore_df = spark.table(\"workspace.growth_poc.silver_playstore_reviews\") \\\n",
    "                    .filter(year(col(\"at\")) >= lit(2023)) \\\n",
    "                    .select(\n",
    "                       col(\"at\").alias(\"review_date\"),\n",
    "                       col(\"score\").alias(\"review_rate\"),\n",
    "                       col(\"content_translated\").alias(\"review_content\"),\n",
    "                       col(\"sentences\").alias(\"review_sentences\"),\n",
    "                       col(\"words\").alias(\"review_words\"),\n",
    "                       col(\"thumbsUpCount\").alias(\"review_thumbsUpCount\"),\n",
    "                       col(\"appName\"),\n",
    "                       col(\"language\")\n",
    "                   ) \n",
    "reddit_df = spark.table(\"workspace.growth_poc.silver_reddit_reviews\")\\\n",
    "                    .filter((year(col(\"created_datetime\")) >= lit(2023)) & (col(\"url\") != id_to_exclude)) \\\n",
    "                    .select(\n",
    "                       col(\"created_datetime\").alias(\"review_date\"),\n",
    "                       col(\"content_translated\").alias(\"review_content\"),\n",
    "                       col(\"sentences\").alias(\"review_sentences\"),\n",
    "                       col(\"words\").alias(\"review_words\"),\n",
    "                       col(\"score\").alias(\"review_thumbsUpCount\"),\n",
    "                       col(\"language\")\n",
    "                   ) \n",
    "                    \n",
    "review_contents_df = appstore_df.unionByName(playstore_df,allowMissingColumns=True) \\\n",
    "                                .unionByName(reddit_df,allowMissingColumns=True)\n"
   ]
  },
  {
   "cell_type": "markdown",
   "metadata": {
    "application/vnd.databricks.v1+cell": {
     "cellMetadata": {
      "byteLimit": 2048000,
      "rowLimit": 10000
     },
     "inputWidgets": {},
     "nuid": "ebdaee75-ac01-4ccc-85ed-198ce4ccfe87",
     "showTitle": false,
     "tableResultSettingsMap": {},
     "title": ""
    }
   },
   "source": [
    "<h2>1. Simple Keyword Frequency Analysis"
   ]
  },
  {
   "cell_type": "code",
   "execution_count": 0,
   "metadata": {
    "application/vnd.databricks.v1+cell": {
     "cellMetadata": {
      "byteLimit": 2048000,
      "rowLimit": 10000
     },
     "inputWidgets": {},
     "nuid": "2f84b963-0603-47cb-afae-301a0e0c11cb",
     "showTitle": false,
     "tableResultSettingsMap": {},
     "title": ""
    }
   },
   "outputs": [],
   "source": [
    "def detect_negative_review(sentence):\n",
    "    if not sentence: # None or empty string\n",
    "        return 0 \n",
    "    score = analyzer.polarity_scores(sentence)[\"compound\"]\n",
    "    result = 1 if score < 0 else 0\n",
    "    return result"
   ]
  },
  {
   "cell_type": "code",
   "execution_count": 0,
   "metadata": {
    "application/vnd.databricks.v1+cell": {
     "cellMetadata": {
      "byteLimit": 2048000,
      "rowLimit": 10000
     },
     "inputWidgets": {},
     "nuid": "c08d3550-5459-4183-a565-3c14edc791aa",
     "showTitle": false,
     "tableResultSettingsMap": {},
     "title": ""
    }
   },
   "outputs": [],
   "source": [
    "# Use VADER for sentiment analysis\n",
    "analyzer = SentimentIntensityAnalyzer()\n",
    "\n",
    "# Mark negative reviews\n",
    "# If review_rate is 3 or less than 3, mark as negative\n",
    "# If review_rate is not available, use VADER to detect\n",
    "detect_negative_review_udf = udf(detect_negative_review, IntegerType())\n",
    "mark_negative_reviews_df = review_contents_df.withColumn(\"is_negative\", \\\n",
    "    when(col(\"review_rate\").isNull(), detect_negative_review_udf(col(\"review_content\")))\\\n",
    "    .when(col(\"review_rate\") <= 3, 1)\\\n",
    "    .otherwise(0)   \n",
    ")\n",
    "\n",
    "# get only negative reviews\n",
    "negative_df = mark_negative_reviews_df.filter(col(\"is_negative\") == 1)\n",
    "\n",
    "# flatten words\n",
    "words_exploded = negative_df.select(explode(col(\"review_words\")).alias(\"word\"))\n",
    "\n",
    "# set lowercase and count \n",
    "word_counts = words_exploded.withColumn(\"word\", lower(col(\"word\"))) \\\n",
    "                            .groupBy(\"word\").count() \\\n",
    "                            .orderBy(col(\"count\").desc()).limit(100)\n",
    "\n",
    "word_counts.show(100, truncate= False)"
   ]
  },
  {
   "cell_type": "markdown",
   "metadata": {
    "application/vnd.databricks.v1+cell": {
     "cellMetadata": {
      "byteLimit": 2048000,
      "rowLimit": 10000
     },
     "inputWidgets": {},
     "nuid": "949b9140-71dc-4288-ad22-0afcd15bec14",
     "showTitle": false,
     "tableResultSettingsMap": {},
     "title": ""
    }
   },
   "source": [
    "| word       | count |\n",
    "|------------|-------|\n",
    "| delivery   | 163   |\n",
    "| order      | 156   |\n",
    "| food       | 156   |\n",
    "| korea      | 149   |\n",
    "| korean     | 144   |\n",
    "| get        | 134   |\n",
    "| app        | 133   |\n",
    "| time       | 132   |\n",
    "| card       | 108   |\n",
    "| one        | 103   |\n",
    "| like       | 92    |\n",
    "| even       | 92    |\n",
    "| number     | 86    |\n",
    "| use        | 85    |\n",
    "| thing      | 83    |\n",
    "| phone      | 73    |\n",
    "| go         | 72    |\n",
    "| restaurant | 70    |\n",
    "| also       | 69    |\n",
    "| people     | 66    |\n",
    "| work       | 65    |\n",
    "| make       | 65    |\n",
    "| back       | 61    |\n",
    "| service    | 61    |\n",
    "| foreigner  | 60    |\n",
    "| need       | 59    |\n",
    "| place      | 59    |\n",
    "| know       | 57    |\n",
    "| year       | 56    |\n",
    "| day        | 56    |\n",
    "| country    | 55    |\n",
    "| pay        | 54    |\n",
    "| review     | 54    |\n",
    "| problem    | 53    |\n",
    "| take       | 51    |\n",
    "| item       | 51    |\n",
    "| way        | 50    |\n",
    "| want       | 50    |\n",
    "| good       | 50    |\n",
    "| never      | 49    |\n",
    "| driver     | 49    |\n",
    "| every      | 48    |\n",
    "| really     | 48    |\n",
    "| account    | 46    |\n",
    "| got        | 44    |\n",
    "| still      | 43    |\n",
    "| money      | 42    |\n",
    "| think      | 42    |\n",
    "| something  | 41    |\n",
    "| police     | 41    |\n",
    "| without    | 38    |\n",
    "| come       | 38    |\n",
    "| see        | 38    |\n",
    "| going      | 38    |\n",
    "| live       | 37    |\n",
    "| used       | 37    |\n",
    "| bad        | 37    |\n",
    "| door       | 37    |\n",
    "| lot        | 36    |\n",
    "| much       | 36    |\n",
    "| coupang    | 35    |\n",
    "| u          | 35    |\n",
    "| try        | 34    |\n",
    "| since      | 34    |\n",
    "| call       | 33    |\n",
    "| many       | 33    |\n",
    "| id         | 33    |\n",
    "| english    | 32    |\n",
    "| may        | 32    |\n",
    "| say        | 32    |\n",
    "| bank       | 32    |\n",
    "| apps       | 32    |\n",
    "| issue      | 32    |\n",
    "| using      | 31    |\n",
    "| first      | 31    |\n",
    "| option     | 31    |\n",
    "| ordered    | 31    |\n",
    "| ever       | 31    |\n",
    "| always     | 31    |\n",
    "| customer   | 30    |\n",
    "| said       | 30    |\n",
    "| crime      | 30    |\n",
    "| end        | 29    |\n",
    "| payment    | 29    |\n",
    "| foreign    | 29    |\n",
    "| new        | 29    |\n",
    "| could      | 29    |\n",
    "| hour       | 28    |\n",
    "| worst      | 28    |\n",
    "| someone    | 28    |\n",
    "| sure       | 28    |\n",
    "| feel       | 28    |\n",
    "| delivered  | 27    |\n",
    "| tourist    | 27    |\n",
    "| help       | 26    |\n",
    "| seoul      | 26    |\n",
    "| able       | 25    |\n",
    "| two        | 25    |\n",
    "| person     | 25    |\n",
    "| tried      | 25    |\n"
   ]
  },
  {
   "cell_type": "code",
   "execution_count": 0,
   "metadata": {
    "application/vnd.databricks.v1+cell": {
     "cellMetadata": {
      "byteLimit": 2048000,
      "rowLimit": 10000
     },
     "inputWidgets": {},
     "nuid": "b7221e6c-83fe-41a2-8cb7-218cc8ef0922",
     "showTitle": false,
     "tableResultSettingsMap": {},
     "title": ""
    }
   },
   "outputs": [],
   "source": [
    "print(negative_df.count())"
   ]
  },
  {
   "cell_type": "markdown",
   "metadata": {
    "application/vnd.databricks.v1+cell": {
     "cellMetadata": {
      "byteLimit": 2048000,
      "rowLimit": 10000
     },
     "inputWidgets": {},
     "nuid": "ccbfb14c-8609-49ea-9d63-d972dc74cf0e",
     "showTitle": false,
     "tableResultSettingsMap": {},
     "title": ""
    }
   },
   "source": [
    "I extracted the 100 most frequently occuring words in 554 negative reviews and categorized those into three key problems. </br>\n",
    "<ol>\n",
    "<li><b>Foreigner-Specific Issues</b></li>\n",
    "korean(155), english(33), foreigner(61), foreign(30), call(33), tourist(29)<br/>\n",
    "This shows there are high possibilities of language-related or systemic difficulty for foreigners' to use the apps.\n",
    "\n",
    "<li><b>Delivery Service Quality</b></li>\n",
    "time(142), service(63), restaurant(70), door(37), item(52), driver(49)<br/>\n",
    "This shows there are issues with user experience with the app usage, such as delivery time, restaurant service, delivery issue, communication with driver, etc.\n",
    "\n",
    "<li><b>Payment & Verification</b></li>\n",
    "card(108), use(89), number(86), phone(74), pay(54), money(43), account(46), id(38), bank(32), payment(29)<br/>\n",
    "This shows there are difficulties with completing orders due to payment or verification issues. I assume the problems will be related to \"foreign card\" or \"phone verification\", etc. \n",
    "\n",
    "<li><b>Special Attention</b></li>\n",
    "It is intersting the name of a specific app, <b>coupang</b>, is mentioned frequently (35 times) in the reviews. This may indicate coupang is considered as an alternative app to move on to when the users' current apps fail to satisfy them.\n",
    "\n",
    "\n",
    "</ol>\n",
    "\n"
   ]
  },
  {
   "cell_type": "markdown",
   "metadata": {
    "application/vnd.databricks.v1+cell": {
     "cellMetadata": {
      "byteLimit": 2048000,
      "rowLimit": 10000
     },
     "inputWidgets": {},
     "nuid": "fec7588a-d433-4a3d-8cd7-b48505dfded0",
     "showTitle": false,
     "tableResultSettingsMap": {},
     "title": ""
    }
   },
   "source": [
    "<h2>2. N-gram Analysis"
   ]
  },
  {
   "cell_type": "code",
   "execution_count": 0,
   "metadata": {
    "application/vnd.databricks.v1+cell": {
     "cellMetadata": {
      "byteLimit": 2048000,
      "rowLimit": 10000
     },
     "inputWidgets": {},
     "nuid": "cbb7df74-b573-4a35-b5af-86b3a21ac51f",
     "showTitle": false,
     "tableResultSettingsMap": {},
     "title": ""
    }
   },
   "outputs": [],
   "source": [
    "# take a list and return a list of tuples cotaining two words\n",
    "def create_bigrams_from_list(words):\n",
    "    if not words or len(words) < 2:\n",
    "        return []\n",
    "    bigrams_list = list(zip(words[:], words[1:], words[2:])) # zip stops when the short sized list meets the end\n",
    "    # words[:]   = ['I',    'EAT',    'BANANA']\n",
    "    # words[1:]  = ['EAT',  'BANANA']\n",
    "    # => [('I', 'EAT'), ('EAT', 'BANANA')]\n",
    "\n",
    "    # if you want to check trigrams..\n",
    "    #bigrams_list = list(zip(words[:], words[1:], words[2:])) \n",
    "\n",
    "    bigrams = [\" \".join(grams) for grams in bigrams_list]\n",
    "    return bigrams\n",
    " \n",
    " # register the function as udf \n",
    "create_bigrams_udf = udf(create_bigrams_from_list, ArrayType(StringType()))\n",
    "    "
   ]
  },
  {
   "cell_type": "code",
   "execution_count": 0,
   "metadata": {
    "application/vnd.databricks.v1+cell": {
     "cellMetadata": {
      "byteLimit": 2048000,
      "rowLimit": 10000
     },
     "inputWidgets": {},
     "nuid": "9a04a850-a718-4043-b719-af1026a3919c",
     "showTitle": false,
     "tableResultSettingsMap": {},
     "title": ""
    }
   },
   "outputs": [],
   "source": [
    "# get biagram result\n",
    "bigrams_df = negative_df.withColumn(\"keywords_paired\", \n",
    "                                    create_bigrams_udf(col(\"review_words\"))) \\\n",
    "                        .select(\"keywords_paired\")"
   ]
  },
  {
   "cell_type": "code",
   "execution_count": 0,
   "metadata": {
    "application/vnd.databricks.v1+cell": {
     "cellMetadata": {
      "byteLimit": 2048000,
      "rowLimit": 10000
     },
     "inputWidgets": {},
     "nuid": "6a1d1cb8-2c5c-4e19-af68-2df1877a9a08",
     "showTitle": false,
     "tableResultSettingsMap": {},
     "title": ""
    }
   },
   "outputs": [],
   "source": [
    "# flatten keywords and aggregate (count)\n",
    "bigrams_flat_df = bigrams_df.select(explode(col(\"keywords_paired\")).alias(\"keywords\"))\\\n",
    "                            .groupBy(\"keywords\")\\\n",
    "                            .count()\\\n",
    "                            .orderBy(col(\"count\").desc())\n",
    "\n",
    "bigrams_flat_df.show(50)"
   ]
  },
  {
   "cell_type": "markdown",
   "metadata": {
    "application/vnd.databricks.v1+cell": {
     "cellMetadata": {},
     "inputWidgets": {},
     "nuid": "0ec01850-1546-4f3a-a18f-b78d24f91993",
     "showTitle": false,
     "tableResultSettingsMap": {},
     "title": ""
    }
   },
   "source": [
    "**Bigram Analysis Results**\n",
    "| keywords                 | count |\n",
    "|--------------------------|-------|\n",
    "| phone number             | 43    |\n",
    "| food delivery            | 25    |\n",
    "| customer service         | 19    |\n",
    "| credit card              | 19    |\n",
    "| korean phone             | 18    |\n",
    "| delivery driver          | 13    |\n",
    "| food delivered           | 12    |\n",
    "| delivery service         | 11    |\n",
    "| order delivery           | 11    |\n",
    "| coupang eats             | 11    |\n",
    "| police officer           | 11    |\n",
    "| use app                  | 10    |\n",
    "| bank account             | 10    |\n",
    "| police chief             | 10    |\n",
    "| gon na                   | 10    |\n",
    "| first time               | 9     |\n",
    "| korean bank              | 9     |\n",
    "| cancel order             | 9     |\n",
    "| foreign card             | 9     |\n",
    "| delivery apps            | 9     |\n",
    "| delivery app             | 8     |\n",
    "| apple pay                | 8     |\n",
    "| bank card                | 8     |\n",
    "| feel like                | 8     |\n",
    "| unscrupulous criminal... | 8     |\n",
    "| end year                 | 8     |\n",
    "| app ever                 | 7     |\n",
    "| even though              | 7     |\n",
    "| every time               | 7     |\n",
    "| patriotic group          | 7     |\n",
    "| every country            | 7     |\n",
    "| delivery guy             | 6     |\n",
    "| go back                  | 6     |\n",
    "| front door               | 6     |\n",
    "| money back               | 6     |\n",
    "| speak korean             | 6     |\n",
    "| delivery time            | 6     |\n",
    "| need korean              | 6     |\n",
    "| negative review          | 6     |\n",
    "| police department        | 6     |\n",
    "| order food               | 6     |\n",
    "| worst app                | 6     |\n",
    "| thing like               | 6     |\n",
    "| make sure                | 6     |\n",
    "| uber eats                | 6     |\n",
    "| place live               | 6     |\n",
    "| pc bang                  | 6     |\n",
    "| able use                 | 5     |\n",
    "| payment card             | 5     |\n",
    "| new year                 | 5     |\n"
   ]
  },
  {
   "cell_type": "code",
   "execution_count": 0,
   "metadata": {
    "application/vnd.databricks.v1+cell": {
     "cellMetadata": {
      "byteLimit": 2048000,
      "rowLimit": 10000
     },
     "inputWidgets": {},
     "nuid": "d3996cf5-50a7-418a-bbf0-15bc3894dfd2",
     "showTitle": false,
     "tableResultSettingsMap": {},
     "title": ""
    }
   },
   "outputs": [],
   "source": [
    "bigrams_flat_df = bigrams_df.select(explode(col(\"keywords_paired\")).alias(\"keywords\"))\\\n",
    "                            .groupBy(\"keywords\")\\\n",
    "                            .count()\\\n",
    "                            .orderBy(col(\"count\").desc())\n",
    "\n",
    "bigrams_flat_df.show(20)"
   ]
  },
  {
   "cell_type": "markdown",
   "metadata": {
    "application/vnd.databricks.v1+cell": {
     "cellMetadata": {},
     "inputWidgets": {},
     "nuid": "74d5e2d1-4b39-47ce-8034-64957954e513",
     "showTitle": false,
     "tableResultSettingsMap": {},
     "title": ""
    }
   },
   "source": [
    "**Trigram Analysis Result**\n",
    "| keywords                   | count |\n",
    "|----------------------------|-------|\n",
    "| korean phone number        | 17    |\n",
    "| worst app ever             | 5     |\n",
    "| need phone number          | 5     |\n",
    "| foreign credit card        | 5     |\n",
    "| food delivery service      | 4     |\n",
    "| korean bank account        | 4     |\n",
    "| need korean phone          | 4     |\n",
    "| police chief mr            | 4     |\n",
    "| police chief isozaki       | 4     |\n",
    "| get money back             | 3     |\n",
    "| alien registration         | 3     |\n",
    "| arc alien registration     | 3     |\n",
    "| crime end year             | 3     |\n",
    "| interview police           | 3     |\n",
    "| english eye english        | 2     |\n",
    "| phone number set           | 2     |\n",
    "| use non korean             | 2     |\n",
    "| without korea phone        | 2     |\n",
    "| foreign card work          | 2     |\n",
    "| support apple pay          | 2     |\n"
   ]
  },
  {
   "cell_type": "markdown",
   "metadata": {
    "application/vnd.databricks.v1+cell": {
     "cellMetadata": {
      "byteLimit": 2048000,
      "rowLimit": 10000
     },
     "inputWidgets": {},
     "nuid": "881c3c81-9514-4c76-b0b3-782e2f4c93f9",
     "showTitle": false,
     "tableResultSettingsMap": {},
     "title": ""
    }
   },
   "source": [
    "By applying N-gram analysis method, I was able to find spot the users' complaints in more detail.\n",
    "\n",
    "<ol>\n",
    "<li><b>Dominant Issue: Foreigner Verification & Payment</b></li>\n",
    "The most frequent n-grams overwhemlingly point to a single problem. Keywords like 'korean phone number (17)', 'phone number (43)', 'foreign credit card (5)', and 'korean bank account (4)' shows the biggest hurdles for foreign users are the mandatory Korean phone number verification and payment failures with foreign-issued cards.\n",
    "\n",
    "<li><b>Core Service Quality</b></li>\n",
    "Keywords like 'customer service(19)', 'delivery driver (13)', 'worst app ever (5)' mean fundamental problems with service quality itself.\n",
    "\n",
    "<li><b>Coupang Eats</b></li>\n",
    "The frequent mention of 'coupang eats (11)' is an important finding. It highlights the app's high market presence and its role as a benchmark for user expectations. When describing their experiences with food delivery services in general, users often reference the most well-known app as a point of comparison. Therefore, these mentions provide insight into the current market standards and what features or service levels users consider normal.\n",
    "</ol>\n"
   ]
  }
 ],
 "metadata": {
  "application/vnd.databricks.v1+notebook": {
   "computePreferences": {
    "hardware": {
     "accelerator": null,
     "gpuPoolId": null,
     "memory": null
    }
   },
   "dashboards": [],
   "environmentMetadata": {
    "base_environment": "",
    "environment_version": "3"
   },
   "inputWidgetPreferences": null,
   "language": "python",
   "notebookMetadata": {
    "mostRecentlyExecutedCommandWithImplicitDF": {
     "commandId": 6524496956098873,
     "dataframes": [
      "_sqldf"
     ]
    },
    "pythonIndentUnit": 4
   },
   "notebookName": "analysis_painpoint_keyword_analysis",
   "widgets": {}
  },
  "language_info": {
   "name": "python"
  }
 },
 "nbformat": 4,
 "nbformat_minor": 0
}
