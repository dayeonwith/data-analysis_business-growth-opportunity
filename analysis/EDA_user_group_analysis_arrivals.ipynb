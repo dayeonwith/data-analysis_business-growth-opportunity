{
 "cells": [
  {
   "cell_type": "markdown",
   "metadata": {
    "application/vnd.databricks.v1+cell": {
     "cellMetadata": {
      "byteLimit": 2048000,
      "rowLimit": 10000
     },
     "inputWidgets": {},
     "nuid": "74c8059f-f2a7-4fcc-b128-febec5ead128",
     "showTitle": false,
     "tableResultSettingsMap": {},
     "title": ""
    }
   },
   "source": [
    "# Explore User Group Data - Arrivals"
   ]
  },
  {
   "cell_type": "code",
   "execution_count": 0,
   "metadata": {
    "application/vnd.databricks.v1+cell": {
     "cellMetadata": {
      "byteLimit": 2048000,
      "rowLimit": 10000
     },
     "inputWidgets": {},
     "nuid": "efa4e3b8-5642-4a35-bed7-e01f3fadc548",
     "showTitle": true,
     "tableResultSettingsMap": {},
     "title": "libraries"
    }
   },
   "outputs": [],
   "source": [
    "from pyspark.sql import SparkSession\n",
    "from pyspark.sql.functions import count, when, col, isnan, max, sum, explode, split, trim, avg, lag, round\n",
    "import matplotlib.pyplot as plt\n",
    "import pandas as pd\n",
    "import builtins\n",
    "from dateutil.relativedelta import relativedelta\n",
    "import numpy as np"
   ]
  },
  {
   "cell_type": "markdown",
   "metadata": {
    "application/vnd.databricks.v1+cell": {
     "cellMetadata": {
      "byteLimit": 2048000,
      "rowLimit": 10000
     },
     "inputWidgets": {},
     "nuid": "02963a59-4b2f-4c57-905e-6de8b646cf4c",
     "showTitle": false,
     "tableResultSettingsMap": {},
     "title": ""
    }
   },
   "source": [
    "## 1. Overall\n",
    "To examine foreigners entering Korea data, I used the monthly datasets provided by the 관광지식정보시스템, which provides the number of foreign arrivals by nationality and purpose, and by nationality and age group."
   ]
  },
  {
   "cell_type": "code",
   "execution_count": 0,
   "metadata": {
    "application/vnd.databricks.v1+cell": {
     "cellMetadata": {
      "byteLimit": 2048000,
      "rowLimit": 10000
     },
     "inputWidgets": {},
     "nuid": "1ef2e87c-7257-4adc-a1c2-4b3a4a336f2d",
     "showTitle": false,
     "tableResultSettingsMap": {},
     "title": ""
    }
   },
   "outputs": [],
   "source": [
    "spark = SparkSession.builder.appName(\"analysis_user_group_arrivlas\").getOrCreate()"
   ]
  },
  {
   "cell_type": "code",
   "execution_count": 0,
   "metadata": {
    "application/vnd.databricks.v1+cell": {
     "cellMetadata": {
      "byteLimit": 2048000,
      "rowLimit": 10000
     },
     "inputWidgets": {},
     "nuid": "5533a1ab-70aa-4621-806c-1dfa70665494",
     "showTitle": false,
     "tableResultSettingsMap": {},
     "title": ""
    }
   },
   "outputs": [],
   "source": [
    "query = \"\"\"\n",
    "select *\n",
    "from workspace.growth_poc.silver_visitors\n",
    "\"\"\"\n",
    "\n",
    "columns_to_rename= {\"Year\" : \"visit_year\", \"Month\" : \"visit_month\", \"Date\" : \"visit_date\"}\n",
    "arr_np_df = spark.sql(query).withColumnsRenamed(columns_to_rename)"
   ]
  },
  {
   "cell_type": "code",
   "execution_count": 0,
   "metadata": {
    "application/vnd.databricks.v1+cell": {
     "cellMetadata": {
      "byteLimit": 2048000,
      "rowLimit": 10000
     },
     "inputWidgets": {},
     "nuid": "66782eaf-a21c-4c39-bb93-9fa4950646fc",
     "showTitle": false,
     "tableResultSettingsMap": {},
     "title": ""
    }
   },
   "outputs": [],
   "source": [
    "query = \"\"\"\n",
    "select *\n",
    "from workspace.growth_poc.silver_visitors_agegroup_nationality\n",
    "\"\"\"\n",
    "arr_na_df = spark.sql(query)"
   ]
  },
  {
   "cell_type": "code",
   "execution_count": 0,
   "metadata": {
    "application/vnd.databricks.v1+cell": {
     "cellMetadata": {
      "byteLimit": 2048000,
      "rowLimit": 10000
     },
     "inputWidgets": {},
     "nuid": "fd305b85-e1cc-4dde-966d-6e6e4d41a3fa",
     "showTitle": false,
     "tableResultSettingsMap": {},
     "title": ""
    }
   },
   "outputs": [],
   "source": [
    "# 1. check schema\n",
    "arr_np_df.printSchema()\n",
    "print()\n",
    "# 2. check column names\n",
    "print(arr_np_df.columns)\n",
    "print()\n",
    "# 3. check data typue\n",
    "print(arr_np_df.dtypes)\n",
    "print()\n",
    "# 4. check number of rows\n",
    "print(f\"Total number of rows: {arr_np_df.count()}\")\n",
    "print()\n",
    "# 5. check statistical status\n",
    "arr_np_df.describe().show()\n",
    "\n",
    "# 6. check missing values\n",
    "# get numeric columns\n",
    "numeric_cols = [name for name, dtype in arr_np_df.dtypes if dtype in ('double', 'float', 'bigint')]\n",
    "# numeric columns: count null values\n",
    "for c in numeric_cols:\n",
    "    null_count = arr_np_df.select(count(when(col(c).isNull() | isnan(c), c))).collect()[0][0]\n",
    "    print(f\"{c}: {null_count} nulls\")\n",
    "\n"
   ]
  },
  {
   "cell_type": "code",
   "execution_count": 0,
   "metadata": {
    "application/vnd.databricks.v1+cell": {
     "cellMetadata": {
      "byteLimit": 2048000,
      "rowLimit": 10000
     },
     "inputWidgets": {},
     "nuid": "bd4e2dce-c8b0-4596-84ee-593e70ee0c51",
     "showTitle": false,
     "tableResultSettingsMap": {},
     "title": ""
    }
   },
   "outputs": [],
   "source": [
    "# 1. check schema\n",
    "arr_na_df.printSchema()\n",
    "print()\n",
    "# 2. check column names\n",
    "print(arr_na_df.columns)\n",
    "print()\n",
    "# 3. check data typue\n",
    "print(arr_na_df.dtypes)\n",
    "print()\n",
    "# 4. check number of rows\n",
    "print(f\"Total number of rows: {arr_na_df.count()}\")\n",
    "print()\n",
    "# 5. check statistical status\n",
    "arr_na_df.describe().show()\n",
    "\n",
    "# 6. check missing values\n",
    "# get numeric columns\n",
    "numeric_cols = [name for name, dtype in arr_na_df.dtypes if dtype in ('double', 'float', 'bigint')]\n",
    "# numeric columns: count null values\n",
    "for c in numeric_cols:\n",
    "    null_count = arr_na_df.select(count(when(col(c).isNull() | isnan(c), c))).collect()[0][0]\n",
    "    print(f\"{c}: {null_count} nulls\")\n",
    "\n"
   ]
  },
  {
   "cell_type": "code",
   "execution_count": 0,
   "metadata": {
    "application/vnd.databricks.v1+cell": {
     "cellMetadata": {
      "byteLimit": 2048000,
      "rowLimit": 10000
     },
     "inputWidgets": {},
     "nuid": "03c77c16-fca8-4e7b-91c3-a6ce387e9606",
     "showTitle": false,
     "tableResultSettingsMap": {},
     "title": ""
    }
   },
   "outputs": [],
   "source": [
    "\n",
    "arr_np_df = arr_np_df.withColumn(\n",
    "    \"purpose_english\",\n",
    "    when(arr_np_df[\"Purpose\"] == \"유학연수\", \"Student\")\n",
    "    .when(arr_np_df[\"Purpose\"] == \"기타\", \"Other\")\n",
    "    .when(arr_np_df[\"Purpose\"] == \"상용\", \"Business\")\n",
    "    .when(arr_np_df[\"Purpose\"] == \"공용\", \"Official Business\")\n",
    "    .when(arr_np_df[\"Purpose\"] == \"관광\", \"Tourist\")\n",
    "    .otherwise(\"Other\")\n",
    ").withColumn(\n",
    "    \"visit_category\",\n",
    "    when(arr_np_df[\"Purpose\"] == \"유학연수\", \"long\")\n",
    "    .when(arr_np_df[\"Purpose\"] == \"기타\", \"short\")\n",
    "    .when(arr_np_df[\"Purpose\"] == \"상용\", \"short\")\n",
    "    .when(arr_np_df[\"Purpose\"] == \"공용\", \"long\")\n",
    "    .when(arr_np_df[\"Purpose\"] == \"관광\", \"short\")\n",
    "    .otherwise(\"Other\")\n",
    ")"
   ]
  },
  {
   "cell_type": "code",
   "execution_count": 0,
   "metadata": {
    "application/vnd.databricks.v1+cell": {
     "cellMetadata": {
      "byteLimit": 2048000,
      "rowLimit": 10000
     },
     "inputWidgets": {},
     "nuid": "b10faba7-c0d7-455d-86ea-f66240b70ccc",
     "showTitle": false,
     "tableResultSettingsMap": {},
     "title": ""
    }
   },
   "outputs": [],
   "source": [
    "max_year_np = arr_np_df.select(col(\"visit_year\").cast(\"int\")).agg(max(\"visit_year\")).collect()[0][0]\n",
    "max_year_na = arr_na_df.select(col(\"visit_year\").cast(\"int\")).agg(max(\"visit_year\")).collect()[0][0]\n",
    "max_year = max_year_np\n",
    "\n",
    "max_month_np = arr_np_df.select(col(\"visit_date\")).agg(max(\"visit_date\")).collect()[0][0]\n",
    "max_month_na = arr_na_df.select(col(\"visit_date\")).agg(max(\"visit_date\")).collect()[0][0]\n",
    "max_month = max_month_np\n",
    "\n",
    "if max_year_na != max_year_np:\n",
    "    print(f\"max_year_np: {max_year_np}\")\n",
    "    print(f\"max_year_na: {max_year_na}\")\n",
    "    max_year = builtins.min(max_year_na, max_year_np)\n",
    "\n",
    "if max_month_na != max_month_np:\n",
    "    print(f\"max_month_np: {max_month_np}\")\n",
    "    print(f\"max_month_na: {max_month_na}\")\n",
    "    max_month = builtins.min(max_month_na, max_month_np)\n",
    "\n",
    "print(f\"max_year: {max_year}\")\n",
    "print(f\"max_month: {max_month}\")"
   ]
  },
  {
   "cell_type": "code",
   "execution_count": 0,
   "metadata": {
    "application/vnd.databricks.v1+cell": {
     "cellMetadata": {
      "byteLimit": 2048000,
      "rowLimit": 10000
     },
     "inputWidgets": {},
     "nuid": "4d14a2b6-235b-4805-89e0-b344bf9a596e",
     "showTitle": false,
     "tableResultSettingsMap": {},
     "title": ""
    }
   },
   "outputs": [],
   "source": [
    "# get only the last 3 years data\n",
    "three_year_arr_np_df = arr_np_df.filter(col(\"visit_year\") >= max_year-2)\n",
    "three_year_arr_na_df = arr_na_df.filter(col(\"visit_year\") >= max_year-2)\n",
    "\n",
    "# get the recent 12 months data \n",
    "date_11_months_ago = max_month - relativedelta(months=11)\n",
    "\n",
    "one_year_arr_np_df = arr_np_df.filter(col(\"visit_date\") >= date_11_months_ago)\n",
    "one_year_arr_na_df = arr_na_df.filter(col(\"visit_date\") >= date_11_months_ago)\n",
    "\n",
    "# get the most recent data \n",
    "current_arr_np_df = arr_np_df.filter(col(\"visit_date\") == max_month)\n",
    "current_arr_na_df = arr_na_df.filter(col(\"visit_date\") == max_month)"
   ]
  },
  {
   "cell_type": "code",
   "execution_count": 0,
   "metadata": {
    "application/vnd.databricks.v1+cell": {
     "cellMetadata": {
      "byteLimit": 2048000,
      "rowLimit": 10000
     },
     "inputWidgets": {},
     "nuid": "5ae08ba2-f73a-4fd5-9f22-4c0ef99fc7f2",
     "showTitle": false,
     "tableResultSettingsMap": {},
     "title": ""
    }
   },
   "outputs": [],
   "source": [
    "print(f\"--Number of Foreign Arrivals in the past 12 months--\")\n",
    "print(f\"Total: {current_arr_np_df.select(\"Amount\").agg(sum(\"Amount\")).collect()[0][0]:,}\")"
   ]
  },
  {
   "cell_type": "markdown",
   "metadata": {
    "application/vnd.databricks.v1+cell": {
     "cellMetadata": {
      "byteLimit": 2048000,
      "rowLimit": 10000
     },
     "inputWidgets": {},
     "nuid": "04f4f9a2-32f3-4aef-9200-05abeb6e41cf",
     "showTitle": false,
     "tableResultSettingsMap": {},
     "title": ""
    }
   },
   "source": [
    "### Number of Foreign Arrivals in the past 12 months: 1,735,147\n",
    "\n",
    "In the past 12 months, there were approximately 1.7 million foreign arrivals entering Korea.\n"
   ]
  },
  {
   "cell_type": "code",
   "execution_count": 0,
   "metadata": {
    "application/vnd.databricks.v1+cell": {
     "cellMetadata": {
      "byteLimit": 2048000,
      "rowLimit": 10000
     },
     "inputWidgets": {},
     "nuid": "d2f75442-8225-4ebe-a404-e0c01e30f884",
     "showTitle": false,
     "tableResultSettingsMap": {},
     "title": ""
    }
   },
   "outputs": [],
   "source": [
    "pd_df = three_year_arr_np_df.groupBy(\"visit_date\").agg(sum(\"Amount\").alias(\"Amount\")).withColumnRenamed(\"visit_date\", \"Date\").orderBy(\"Date\").toPandas()\n",
    "\n",
    "plt.figure(figsize=(9, 4))\n",
    "plt.plot(pd_df[\"Date\"], pd_df[\"Amount\"], marker = 'o')\n",
    "\n",
    "plt.xlabel('Year')\n",
    "plt.ylabel('Count')\n",
    "plt.title('Foreign Arrivals in the Past 3 Years')\n",
    "plt.grid(True)\n",
    "plt.tight_layout()\n",
    "plt.show()\n"
   ]
  },
  {
   "cell_type": "markdown",
   "metadata": {
    "application/vnd.databricks.v1+cell": {
     "cellMetadata": {
      "byteLimit": 2048000,
      "rowLimit": 10000
     },
     "inputWidgets": {},
     "nuid": "b4dc4185-9e4c-4eed-96c2-033a2e807e6e",
     "showTitle": false,
     "tableResultSettingsMap": {},
     "title": ""
    }
   },
   "source": [
    "![](../analysis/images/EDA_user_group_analysis_arrivals/overall_line.png)"
   ]
  },
  {
   "cell_type": "markdown",
   "metadata": {
    "application/vnd.databricks.v1+cell": {
     "cellMetadata": {
      "byteLimit": 2048000,
      "rowLimit": 10000
     },
     "inputWidgets": {},
     "nuid": "6b66ee14-8bd8-47f4-94ee-2cf2bdf32e37",
     "showTitle": false,
     "tableResultSettingsMap": {},
     "title": ""
    }
   },
   "source": [
    "**Findings** <br/>\n",
    "The above graph shows changes in foreign arrivals over the past three years. While the overall trend is upward, consistent drops are observed between October and January, followed by a recovery in March.\n"
   ]
  },
  {
   "cell_type": "markdown",
   "metadata": {
    "application/vnd.databricks.v1+cell": {
     "cellMetadata": {
      "byteLimit": 2048000,
      "rowLimit": 10000
     },
     "inputWidgets": {},
     "nuid": "ca1f1c2e-86d8-4b16-ba6b-e0d97d0cfcf5",
     "showTitle": false,
     "tableResultSettingsMap": {},
     "title": ""
    }
   },
   "source": [
    "## 2. Nationality\n",
    "\n",
    "As of July 2025, foreigners from 60 different countries enter Korea. To identify the countries with the largest numbers of arrivals, I visualized the data using bar charts."
   ]
  },
  {
   "cell_type": "markdown",
   "metadata": {
    "application/vnd.databricks.v1+cell": {
     "cellMetadata": {
      "byteLimit": 2048000,
      "rowLimit": 10000
     },
     "inputWidgets": {},
     "nuid": "a9834373-3534-4ef6-b44f-5b0f0e34d07c",
     "showTitle": false,
     "tableResultSettingsMap": {},
     "title": ""
    }
   },
   "source": [
    "### 2-1. Top 5 Countries\n"
   ]
  },
  {
   "cell_type": "code",
   "execution_count": 0,
   "metadata": {
    "application/vnd.databricks.v1+cell": {
     "cellMetadata": {
      "byteLimit": 2048000,
      "rowLimit": 10000
     },
     "inputWidgets": {},
     "nuid": "adb2b994-f8e9-4471-9d3d-d403ec67e625",
     "showTitle": true,
     "tableResultSettingsMap": {},
     "title": "nationality_top_5"
    }
   },
   "outputs": [],
   "source": [
    "np_curr_top_5 = one_year_arr_np_df.groupBy(\"English_Nationality\") \\\n",
    "    .agg(sum(\"Amount\").alias(\"Count\")) \\\n",
    "    .orderBy(col(\"Count\").desc())\\\n",
    "    .limit(5) \\\n",
    "    .withColumnRenamed(\"English_Nationality\", \"Nationality\").toPandas()\n",
    "\n",
    "labels = np_curr_top_5[\"Nationality\"]\n",
    "sizes = np_curr_top_5[\"Count\"]\n",
    "\n",
    "# reverse the order(desc)\n",
    "labels = labels[::-1]\n",
    "sizes = sizes[::-1]\n",
    "\n",
    "plt.figure(figsize = (6,4))\n",
    "bars = plt.barh(labels, sizes)\n",
    "\n",
    "# add margin to the right\n",
    "plt.xlim(0, sizes.max() * 1.25)\n",
    "\n",
    "for bar in bars:\n",
    "    width = bar.get_width()\n",
    "    plt.text(width, bar.get_y() + bar.get_height()/2,\n",
    "             f'{width:,}', ha='left', va='center')\n",
    "plt.title(\"Nationality Distribution in the last 12 months\")\n",
    "plt.xlabel(\"Count\")\n",
    "plt.ylabel(\"Nationality\")\n",
    "plt.tight_layout()\n",
    "plt.show()\n"
   ]
  },
  {
   "cell_type": "code",
   "execution_count": 0,
   "metadata": {
    "application/vnd.databricks.v1+cell": {
     "cellMetadata": {
      "byteLimit": 2048000,
      "rowLimit": 10000
     },
     "inputWidgets": {},
     "nuid": "57c18f7b-215f-4227-a54c-a490ecb9aafe",
     "showTitle": true,
     "tableResultSettingsMap": {},
     "title": "nationality_avg_top_5"
    }
   },
   "outputs": [],
   "source": [
    "np_avg_top_5 = three_year_arr_np_df.groupBy(\"visit_year\", \"English_Nationality\") \\\n",
    "    .agg(sum(\"Amount\").alias(\"yearly_total\"))\\\n",
    "    .groupBy(\"English_Nationality\")\\\n",
    "    .agg(avg(\"yearly_total\").alias(\"Count\"))\\\n",
    "    .orderBy(col(\"Count\").desc())\\\n",
    "    .limit(5)\\\n",
    "    .withColumnRenamed(\"English_Nationality\", \"Nationality\")\\\n",
    "    .toPandas()\n",
    "\n",
    "labels = np_avg_top_5[\"Nationality\"]\n",
    "sizes = np_curr_top_5[\"Count\"]\n",
    "\n",
    "# reverse the order(desc)\n",
    "labels = labels[::-1]\n",
    "sizes = sizes[::-1]\n",
    "\n",
    "plt.figure(figsize = (6,4))\n",
    "bars = plt.barh(labels, sizes)\n",
    "\n",
    "# add margin to the right\n",
    "plt.xlim(0, sizes.max() * 1.25)\n",
    "\n",
    "for bar in bars:\n",
    "    width = bar.get_width()\n",
    "    plt.text(width, bar.get_y() + bar.get_height()/2,\n",
    "             f'{width:,.0f}', ha='left', va='center')\n",
    "plt.title(\"Monthly Average Nationality Distribution in the last 3 years\")\n",
    "plt.xlabel(\"Count\")\n",
    "plt.ylabel(\"Nationality\")\n",
    "plt.tight_layout()\n",
    "plt.show()\n"
   ]
  },
  {
   "cell_type": "markdown",
   "metadata": {
    "application/vnd.databricks.v1+cell": {
     "cellMetadata": {
      "byteLimit": 2048000,
      "rowLimit": 10000
     },
     "inputWidgets": {},
     "nuid": "9e60b39d-415d-4f2d-b3c2-eb07a169696b",
     "showTitle": false,
     "tableResultSettingsMap": {},
     "title": ""
    }
   },
   "source": [
    "![](../analysis/images/EDA_user_group_analysis_arrivals/nat_top_5.png)\n",
    "![](../analysis/images/EDA_user_group_analysis_arrivals/nat_avg_5.png)\n",
    "\n",
    "**Findings** <br/>\n",
    "The data on foreign arrivals in Korea, looking at both the last 12 months and the three-year average, shows a consistent trend. China is the clear leader with roughly 5 million recent arrivals (3.2 million on average), followed by Japan (3.5 million; 2.5 million avg.), Taiwan, the US, and Hong Kong.\n",
    "\n",
    "However, the key insight comes from comparing this \"visitor\" data with \"resident\" data. It's interesting to see that Japan, the second-largest source of arrivals, barely made the top five for short-term residents. Similarly, Taiwan(ranking third for arrivals) and Hong Kong (ranking fifth for arrivals) didn't appear in the top resident rankings at all.\n",
    "\n",
    "This contrast strongly suggests that even within the broad \"foreigner\" category, there are distinct customer segments. These are primarily short-term visitors (like tourists from Japan, Taiwan, and Hong Kong) and long-term residents. Therefore, the unique needs of each persona must be analyzed separately, and strategies should be tailored accordingly.\n",
    " "
   ]
  },
  {
   "cell_type": "markdown",
   "metadata": {
    "application/vnd.databricks.v1+cell": {
     "cellMetadata": {
      "byteLimit": 2048000,
      "rowLimit": 10000
     },
     "inputWidgets": {},
     "nuid": "e7a6e597-efb2-4be8-ad69-ba31e40610a1",
     "showTitle": false,
     "tableResultSettingsMap": {},
     "title": ""
    }
   },
   "source": [
    "## 3. Language\n",
    "Building on the previous analysis, the data suggests that customer groups can be divided into different segments with different needs.  For instance, short-term visitors are likely to have a greater need for language support compared to long-term residents. With this hypothesis, I analyzed the top languages spoken by the foriegn arrivals in Korea. In cases where a country uses multiple languages, the resident count was duplicated across those languages to make the weight of each langauge equal, which may result in some multi-counting in the figures."
   ]
  },
  {
   "cell_type": "markdown",
   "metadata": {
    "application/vnd.databricks.v1+cell": {
     "cellMetadata": {
      "byteLimit": 2048000,
      "rowLimit": 10000
     },
     "inputWidgets": {},
     "nuid": "575364c2-9b97-41d9-9fe2-c7cd375e7f38",
     "showTitle": false,
     "tableResultSettingsMap": {},
     "title": ""
    }
   },
   "source": [
    "### 3-1. Top 5 Langauges\n"
   ]
  },
  {
   "cell_type": "code",
   "execution_count": 0,
   "metadata": {
    "application/vnd.databricks.v1+cell": {
     "cellMetadata": {
      "byteLimit": 2048000,
      "rowLimit": 10000
     },
     "inputWidgets": {},
     "nuid": "f27e7c49-e259-40eb-9a06-92d2cfe9115c",
     "showTitle": false,
     "tableResultSettingsMap": {},
     "title": ""
    }
   },
   "outputs": [],
   "source": [
    "one_year_lang_np_df = one_year_arr_np_df.withColumn(\"languages_arr\", split(col(\"Primary_Language\"), \",\")) \\\n",
    "    .withColumn(\"language\", explode(col(\"languages_arr\")))\n",
    "one_year_lang_np_df = one_year_lang_np_df.withColumn(\"language\", trim(col(\"language\")))\n"
   ]
  },
  {
   "cell_type": "code",
   "execution_count": 0,
   "metadata": {
    "application/vnd.databricks.v1+cell": {
     "cellMetadata": {
      "byteLimit": 2048000,
      "rowLimit": 10000
     },
     "inputWidgets": {},
     "nuid": "d688e1b1-a65b-4731-8188-698f09729e78",
     "showTitle": true,
     "tableResultSettingsMap": {},
     "title": "langauge"
    }
   },
   "outputs": [],
   "source": [
    "np_lang_curr_top_5 = one_year_lang_np_df.groupBy(\"language\") \\\n",
    "    .agg(sum(\"Amount\").alias(\"Count\")) \\\n",
    "    .orderBy(col(\"Count\").desc())\\\n",
    "    .limit(5).toPandas()\n",
    "\n",
    "labels = np_lang_curr_top_5[\"language\"]\n",
    "sizes = np_lang_curr_top_5[\"Count\"]\n",
    "\n",
    "# reverse the order(desc)\n",
    "labels = labels[::-1]\n",
    "sizes = sizes[::-1]\n",
    "\n",
    "plt.figure(figsize = (6,4))\n",
    "bars = plt.barh(labels, sizes)\n",
    "\n",
    "# add margin to the right\n",
    "plt.xlim(0, sizes.max() * 1.25)\n",
    "\n",
    "for bar in bars:\n",
    "    width = bar.get_width()\n",
    "    plt.text(width, bar.get_y() + bar.get_height()/2,\n",
    "             f'{width:,}', ha='left', va='center')\n",
    "plt.title(\"Language Distribution in the last 12 months\")\n",
    "plt.xlabel(\"Count\")\n",
    "plt.ylabel(\"Language\")\n",
    "plt.tight_layout()\n",
    "plt.show()\n"
   ]
  },
  {
   "cell_type": "code",
   "execution_count": 0,
   "metadata": {
    "application/vnd.databricks.v1+cell": {
     "cellMetadata": {
      "byteLimit": 2048000,
      "rowLimit": 10000
     },
     "inputWidgets": {},
     "nuid": "2ee900ef-dbf7-4ab8-8b3b-d311516485bd",
     "showTitle": true,
     "tableResultSettingsMap": {},
     "title": "lang_average"
    }
   },
   "outputs": [],
   "source": [
    "three_year_lang_np_df = three_year_arr_np_df.withColumn(\"languages_arr\", split(col(\"Primary_Language\"), \",\")) \\\n",
    "    .withColumn(\"language\", explode(col(\"languages_arr\")))\n",
    "three_year_lang_np_df = three_year_lang_np_df.withColumn(\"language\", trim(col(\"language\")))\n",
    "\n",
    "lang_avg_top_5 = three_year_lang_np_df.groupBy(\"visit_year\", \"language\") \\\n",
    "    .agg(sum(\"Amount\").alias(\"yearly_total\"))\\\n",
    "    .groupBy(\"language\")\\\n",
    "    .agg(avg(\"yearly_total\").alias(\"Count\"))\\\n",
    "    .orderBy(col(\"Count\").desc())\\\n",
    "    .limit(5)\\\n",
    "    .toPandas()\n",
    "\n",
    "labels = lang_avg_top_5[\"language\"]\n",
    "sizes = lang_avg_top_5[\"Count\"]\n",
    "\n",
    "# reverse the order(desc)\n",
    "labels = labels[::-1]\n",
    "sizes = sizes[::-1]\n",
    "\n",
    "plt.figure(figsize = (6,4))\n",
    "bars = plt.barh(labels, sizes)\n",
    "\n",
    "# add margin to the right\n",
    "plt.xlim(0, sizes.max() * 1.25)\n",
    "\n",
    "for bar in bars:\n",
    "    width = bar.get_width()\n",
    "    plt.text(width, bar.get_y() + bar.get_height()/2,\n",
    "             f'{width:,.0f}', ha='left', va='center')\n",
    "plt.title(\"Average Language Distribution over the past 3 years\")\n",
    "plt.xlabel(\"Count\")\n",
    "plt.ylabel(\"Language\")\n",
    "plt.tight_layout()\n",
    "plt.show()\n"
   ]
  },
  {
   "cell_type": "markdown",
   "metadata": {
    "application/vnd.databricks.v1+cell": {
     "cellMetadata": {
      "byteLimit": 2048000,
      "rowLimit": 10000
     },
     "inputWidgets": {},
     "nuid": "bc1e54d3-62df-418a-9d89-9e83ceed794e",
     "showTitle": false,
     "tableResultSettingsMap": {},
     "title": ""
    }
   },
   "source": [
    "![](../analysis/images/EDA_user_group_analysis_arrivals/lang_count.png)\n",
    "![](../analysis/images/EDA_user_group_analysis_arrivals/lang_average.png)\n",
    "\n",
    "**Findings** <br/>\n",
    "An analysis of the top 5 languages used by foreign arrivals shows that Mandarin is the overwhelming number one. In the last 12 months, the number of Mandarin speakers was 1.8 times higher than English (the second-ranked language), and 1.6 times higher based on the three-year average. This appears to be because both China and Taiwan, the first and third largest sources of arrivals, use Mandarin.\n",
    "\n",
    "English followed in second place, likely due to arrivals from the US (4th) and Hong Kong (5th), as well as from various other countries where English is a common language.\n",
    "\n",
    "What's particularly noteworthy is Japanese, which ranked third. Despite being used almost exclusively by arrivals from Japan, it has consistently maintained a top position in both the last 12 months and the three-year average. This suggests a stable and significant number of Japanese visitors to Korea. Therefore, it could be an effective strategy to not only support the Japanese language but also to develop marketing strategies specifically tailored for Japanese customers."
   ]
  },
  {
   "cell_type": "markdown",
   "metadata": {
    "application/vnd.databricks.v1+cell": {
     "cellMetadata": {
      "byteLimit": 2048000,
      "rowLimit": 10000
     },
     "inputWidgets": {},
     "nuid": "c0daaa2e-7174-4e20-af21-aa7c4c20909e",
     "showTitle": false,
     "tableResultSettingsMap": {},
     "title": ""
    }
   },
   "source": [
    "## 4. Purpose"
   ]
  },
  {
   "cell_type": "markdown",
   "metadata": {
    "application/vnd.databricks.v1+cell": {
     "cellMetadata": {
      "byteLimit": 2048000,
      "rowLimit": 10000
     },
     "inputWidgets": {},
     "nuid": "76f8f975-87c6-468c-9fee-cea5c583c3a9",
     "showTitle": false,
     "tableResultSettingsMap": {},
     "title": ""
    }
   },
   "source": [
    "### 4-1. Rank Purpose"
   ]
  },
  {
   "cell_type": "code",
   "execution_count": 0,
   "metadata": {
    "application/vnd.databricks.v1+cell": {
     "cellMetadata": {
      "byteLimit": 2048000,
      "rowLimit": 10000
     },
     "inputWidgets": {},
     "nuid": "0b6b2262-1ef1-4edc-8624-a847f112e972",
     "showTitle": true,
     "tableResultSettingsMap": {},
     "title": "purpose_top"
    }
   },
   "outputs": [],
   "source": [
    "purp_curr_top_5 = one_year_arr_np_df.groupBy(\"purpose_english\") \\\n",
    "    .agg(sum(\"Amount\").alias(\"Count\")) \\\n",
    "    .orderBy(col(\"Count\").desc())\\\n",
    "    .limit(5).toPandas()\n",
    "\n",
    "labels = purp_curr_top_5[\"purpose_english\"]\n",
    "sizes = purp_curr_top_5[\"Count\"]\n",
    "\n",
    "# reverse the order(desc)\n",
    "# labels = labels[::-1]\n",
    "# sizes = sizes[::-1]\n",
    "\n",
    "plt.figure(figsize = (6,4))\n",
    "bars = plt.bar(labels, sizes)\n",
    "\n",
    "# add margin to the right\n",
    "plt.ylim(0, sizes.max() * 1.25)\n",
    "\n",
    "for bar in bars:\n",
    "    height = bar.get_height()\n",
    "    plt.text(bar.get_x() + bar.get_width()/2, height,\n",
    "             f'{height:,}', ha='center', va='bottom')\n",
    "plt.title(\"Entry Purpose in the last 12 months\")\n",
    "plt.xlabel(\"Count\")\n",
    "plt.ylabel(\"Purpose\")\n",
    "plt.tight_layout()\n",
    "plt.show()\n"
   ]
  },
  {
   "cell_type": "code",
   "execution_count": 0,
   "metadata": {
    "application/vnd.databricks.v1+cell": {
     "cellMetadata": {
      "byteLimit": 2048000,
      "rowLimit": 10000
     },
     "inputWidgets": {},
     "nuid": "09b1f4ef-6b88-49d1-aef6-c2e8a3c1e2b5",
     "showTitle": false,
     "tableResultSettingsMap": {},
     "title": ""
    }
   },
   "outputs": [],
   "source": [
    "tour = 14741307\n",
    "other = 2414704\n",
    "remaining = 479436+139720+74137\n",
    "print(tour/(tour+other+remaining))\n",
    "print(other/(tour+other+remaining))"
   ]
  },
  {
   "cell_type": "markdown",
   "metadata": {
    "application/vnd.databricks.v1+cell": {
     "cellMetadata": {},
     "inputWidgets": {},
     "nuid": "3280786b-3730-499d-aa21-62433e2d81b3",
     "showTitle": false,
     "tableResultSettingsMap": {},
     "title": ""
    }
   },
   "source": [
    "![](./images/EDA_user_group_analysis_arrivals/purpose_count.png)\n",
    "\n",
    "**Findings**<br/>\n",
    "An analysis of foreign visitor data from the last 12 months, categorized by purpose of entry, reveals that approximately 83% visited Korea for \"Tourism.\" This suggests that tourists constitute a significant portion of the delivery app's potential customer base.\n",
    "\n",
    "Given that most tourists are presumed to be short-term visitors, it is highly unlikely they would learn Korean to use a delivery app during their brief stay. For travelers seeking diverse experiences within a limited time, a language barrier can be a critical factor that leads them to abandon the app.\n",
    "\n",
    "Therefore, we conclude that an intuitive multilingual support feature is essential to attract foreign tourists as a core customer segment.\n",
    " \n",
    "\n",
    "\n"
   ]
  },
  {
   "cell_type": "markdown",
   "metadata": {
    "application/vnd.databricks.v1+cell": {
     "cellMetadata": {},
     "inputWidgets": {},
     "nuid": "97b11417-df38-43fd-b720-b851b4faba57",
     "showTitle": false,
     "tableResultSettingsMap": {},
     "title": ""
    }
   },
   "source": [
    "### 4-2. Purpose in Top Nationalities"
   ]
  },
  {
   "cell_type": "code",
   "execution_count": 0,
   "metadata": {
    "application/vnd.databricks.v1+cell": {
     "cellMetadata": {
      "byteLimit": 2048000,
      "rowLimit": 10000
     },
     "inputWidgets": {},
     "nuid": "d3a813de-36f0-4a04-95f4-4bd629e81578",
     "showTitle": false,
     "tableResultSettingsMap": {},
     "title": ""
    }
   },
   "outputs": [],
   "source": [
    "top_nationality = np_curr_top_5[\"Nationality\"].drop_duplicates().tolist()\n",
    "top_language = np_lang_curr_top_5[\"language\"].drop_duplicates().tolist()\n",
    "print(top_nationality)\n",
    "print(top_language)"
   ]
  },
  {
   "cell_type": "code",
   "execution_count": 0,
   "metadata": {
    "application/vnd.databricks.v1+cell": {
     "cellMetadata": {
      "byteLimit": 2048000,
      "rowLimit": 10000
     },
     "inputWidgets": {},
     "nuid": "26f327c0-0096-4505-8e80-5642f60251f5",
     "showTitle": false,
     "tableResultSettingsMap": {},
     "title": ""
    }
   },
   "outputs": [],
   "source": [
    "from pyspark.sql.window import Window\n",
    "# get data only for top nationality\n",
    "purp_nat_df = one_year_arr_np_df.filter(col(\"English_Nationality\").isin(top_nationality)) \\\n",
    "    .groupBy(\"English_Nationality\", \"purpose_english\") \\\n",
    "    .agg(sum(\"Amount\").alias(\"Amount\"))\n",
    "\n",
    "nat_window_spec_numerator = Window.partitionBy(\"English_Nationality\", \"purpose_english\")\n",
    "nat_window_spec_denominator = Window.partitionBy(\"English_Nationality\")\n",
    "\n",
    "purp_nat_df = purp_nat_df.withColumn(\"ratio\", round(sum(\"Amount\").over(nat_window_spec_numerator)/sum(\"Amount\").over(nat_window_spec_denominator),2))\n",
    "\n"
   ]
  },
  {
   "cell_type": "code",
   "execution_count": 0,
   "metadata": {
    "application/vnd.databricks.v1+cell": {
     "cellMetadata": {
      "byteLimit": 2048000,
      "rowLimit": 10000
     },
     "inputWidgets": {},
     "nuid": "2a491a72-f27f-4f80-a23f-028fc7122165",
     "showTitle": false,
     "tableResultSettingsMap": {},
     "title": ""
    }
   },
   "outputs": [],
   "source": [
    "# get data only for top language\n",
    "purp_lang_df = one_year_lang_np_df.filter(col(\"language\").isin(top_language))\\\n",
    "    .groupBy(\"language\", \"purpose_english\") \\\n",
    "    .agg(sum(\"Amount\").alias(\"Amount\"))\n",
    "lang_window_spec_numerator = Window.partitionBy(\"language\", \"purpose_english\")\n",
    "lang_window_spec_denominator = Window.partitionBy(\"language\")\n",
    "\n",
    "purp_lang_df = purp_lang_df.withColumn(\"ratio\", round(sum(\"Amount\").over(lang_window_spec_numerator)/sum(\"Amount\").over(lang_window_spec_denominator),2))"
   ]
  },
  {
   "cell_type": "code",
   "execution_count": 0,
   "metadata": {
    "application/vnd.databricks.v1+cell": {
     "cellMetadata": {
      "byteLimit": 2048000,
      "rowLimit": 10000
     },
     "inputWidgets": {},
     "nuid": "ec60cf3a-88ef-42dc-86bc-e9c7ac11d393",
     "showTitle": false,
     "tableResultSettingsMap": {},
     "title": ""
    }
   },
   "outputs": [],
   "source": [
    "# pyspark df -> pandas 변환\n",
    "pdf = purp_nat_df.toPandas()\n",
    "\n",
    "# pivot: language 기준으로 purpose_english 별 ratio 분리\n",
    "pivot_df = pdf.pivot_table(\n",
    "    index=\"English_Nationality\",\n",
    "    columns=\"purpose_english\",\n",
    "    values=\"ratio\",\n",
    "    aggfunc=\"sum\",  # ratio는 이미 비율이라 sum 사용 (중복 없으면 그대로)\n",
    "    fill_value=0\n",
    ")\n",
    "\n",
    "# pivot 후 컬럼 순서 재정렬\n",
    "pivot_df = pivot_df.reindex(top_nationality)\n",
    "\n",
    "# stacked bar chart\n",
    "ax = pivot_df.plot(\n",
    "    kind=\"bar\",\n",
    "    stacked=True,\n",
    "    figsize=(12,6),\n",
    "    rot=0\n",
    ")\n",
    "\n",
    "for p in ax.patches:\n",
    "    height = p.get_height()\n",
    "    if height > 0:\n",
    "        ax.annotate(f'{height*100:.1f}%',  # 0~1 -> 0~100%\n",
    "                    (p.get_x() + p.get_width()/2, p.get_y() + height/2),\n",
    "                    ha='center', va='center', fontsize=8)\n",
    "\n",
    "plt.ylabel(\"Ratio\")\n",
    "plt.xlabel(\"Country\")\n",
    "plt.title(\"Purpose Distribution by Country (Stacked Ratios)\")\n",
    "plt.legend(title=\"Purpose\", bbox_to_anchor=(1.05, 1), loc=\"upper left\")  # 범례 오른쪽 밖으로\n",
    "plt.tight_layout()\n",
    "plt.show()"
   ]
  },
  {
   "cell_type": "markdown",
   "metadata": {
    "application/vnd.databricks.v1+cell": {
     "cellMetadata": {},
     "inputWidgets": {},
     "nuid": "4aabc18a-3cb8-4fc2-b97a-02f91c392910",
     "showTitle": false,
     "tableResultSettingsMap": {},
     "title": ""
    }
   },
   "source": [
    "### 4-3. Purpose by Top Languages"
   ]
  },
  {
   "cell_type": "code",
   "execution_count": 0,
   "metadata": {
    "application/vnd.databricks.v1+cell": {
     "cellMetadata": {
      "byteLimit": 2048000,
      "rowLimit": 10000
     },
     "inputWidgets": {},
     "nuid": "7b611c4f-0bd9-4c09-930d-a2a2851cf065",
     "showTitle": false,
     "tableResultSettingsMap": {},
     "title": ""
    }
   },
   "outputs": [],
   "source": [
    "# pyspark df -> pandas 변환\n",
    "pdf = purp_lang_df.toPandas()\n",
    "\n",
    "# pivot: language 기준으로 purpose_english 별 ratio 분리\n",
    "pivot_df = pdf.pivot_table(\n",
    "    index=\"language\",\n",
    "    columns=\"purpose_english\",\n",
    "    values=\"ratio\",\n",
    "    aggfunc=\"sum\",  # ratio는 이미 비율이라 sum 사용 (중복 없으면 그대로)\n",
    "    fill_value=0\n",
    ")\n",
    "\n",
    "pivot_df = pivot_df.reindex(top_language)\n",
    "\n",
    "# stacked bar chart\n",
    "ax = pivot_df.plot(\n",
    "    kind=\"bar\",\n",
    "    stacked=True,\n",
    "    figsize=(12,6),\n",
    "    rot=0\n",
    ")\n",
    "\n",
    "for p in ax.patches:\n",
    "    height = p.get_height()\n",
    "    if height > 0:\n",
    "        ax.annotate(f'{height*100:.1f}%',  # 0~1 -> 0~100%\n",
    "                    (p.get_x() + p.get_width()/2, p.get_y() + height/2),\n",
    "                    ha='center', va='center', fontsize=8)\n",
    "\n",
    "plt.ylabel(\"Ratio\")\n",
    "plt.xlabel(\"Language\")\n",
    "plt.title(\"Purpose Distribution by Language (Stacked Ratios)\")\n",
    "plt.legend(title=\"Purpose\", bbox_to_anchor=(1.05, 1), loc=\"upper left\")  # 범례 오른쪽 밖으로\n",
    "plt.tight_layout()\n",
    "plt.show()"
   ]
  },
  {
   "cell_type": "markdown",
   "metadata": {
    "application/vnd.databricks.v1+cell": {
     "cellMetadata": {},
     "inputWidgets": {},
     "nuid": "e0b9eee3-05f7-4b38-8c05-e637ea8b0689",
     "showTitle": false,
     "tableResultSettingsMap": {},
     "title": ""
    }
   },
   "source": [
    "![](./images/EDA_user_group_analysis_arrivals/purpose_nat.png)\n",
    "![](./images/EDA_user_group_analysis_arrivals/purpose_lang.png)\n",
    "\n",
    "**Findings** <br/>\n",
    "Following the previous analysis, I examined whether it is valid to target short-term tourists as the main audience for the delivery app. I analyzed the purpose of visit for the top 5 countries by arrivals and the top 5 languages spoken by visitors.\n",
    "\n",
    "The analysis revealed that the proportion of tourism-related visits in these key groups (e.g., 98% for Japan, 99% for Taiwan) was significantly higher than the overall average for all foreigners.\n",
    "\n",
    "In other words, the largest groups of foreigners visiting Korea are overwhelmingly tourists, making it a very reasonable strategy to define them as the core potential customers for the delivery app."
   ]
  },
  {
   "cell_type": "markdown",
   "metadata": {
    "application/vnd.databricks.v1+cell": {
     "cellMetadata": {
      "byteLimit": 2048000,
      "rowLimit": 10000
     },
     "inputWidgets": {},
     "nuid": "55a31512-38af-45dd-9f4d-9efe00df0aa6",
     "showTitle": false,
     "tableResultSettingsMap": {},
     "title": ""
    }
   },
   "source": [
    "## 5. Age Group"
   ]
  },
  {
   "cell_type": "markdown",
   "metadata": {
    "application/vnd.databricks.v1+cell": {
     "cellMetadata": {
      "byteLimit": 2048000,
      "rowLimit": 10000
     },
     "inputWidgets": {},
     "nuid": "d737f518-beca-41fd-a779-2af5f590857a",
     "showTitle": false,
     "tableResultSettingsMap": {},
     "title": ""
    }
   },
   "source": [
    "### 5-1. Top 5 Age Group"
   ]
  },
  {
   "cell_type": "markdown",
   "metadata": {
    "application/vnd.databricks.v1+cell": {
     "cellMetadata": {
      "byteLimit": 2048000,
      "rowLimit": 10000
     },
     "inputWidgets": {},
     "nuid": "c0018924-ee4a-483e-b94e-94956c649ff1",
     "showTitle": false,
     "tableResultSettingsMap": {},
     "title": ""
    }
   },
   "source": [
    "### 5-2. Trend"
   ]
  }
 ],
 "metadata": {
  "application/vnd.databricks.v1+notebook": {
   "computePreferences": null,
   "dashboards": [],
   "environmentMetadata": {
    "base_environment": "",
    "environment_version": "3"
   },
   "inputWidgetPreferences": null,
   "language": "python",
   "notebookMetadata": {
    "mostRecentlyExecutedCommandWithImplicitDF": {
     "commandId": 6507437865395059,
     "dataframes": [
      "_sqldf"
     ]
    },
    "pythonIndentUnit": 4
   },
   "notebookName": "EDA_user_group_analysis_arrivals",
   "widgets": {}
  },
  "language_info": {
   "name": "python"
  }
 },
 "nbformat": 4,
 "nbformat_minor": 0
}
