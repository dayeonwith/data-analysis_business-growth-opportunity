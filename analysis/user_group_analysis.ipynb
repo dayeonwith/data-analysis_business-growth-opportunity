{
 "cells": [
  {
   "cell_type": "markdown",
   "metadata": {
    "application/vnd.databricks.v1+cell": {
     "cellMetadata": {
      "byteLimit": 2048000,
      "rowLimit": 10000
     },
     "inputWidgets": {},
     "nuid": "74c8059f-f2a7-4fcc-b128-febec5ead128",
     "showTitle": false,
     "tableResultSettingsMap": {},
     "title": ""
    }
   },
   "source": [
    "# User Group Analysis\n",
    "To categorize core target groups, I analyzed foreign residents data and visitors data."
   ]
  },
  {
   "cell_type": "markdown",
   "metadata": {
    "application/vnd.databricks.v1+cell": {
     "cellMetadata": {
      "byteLimit": 2048000,
      "rowLimit": 10000
     },
     "inputWidgets": {},
     "nuid": "02963a59-4b2f-4c57-905e-6de8b646cf4c",
     "showTitle": false,
     "tableResultSettingsMap": {},
     "title": ""
    }
   },
   "source": [
    "## 1. Foreign residents\n"
   ]
  },
  {
   "cell_type": "code",
   "execution_count": 0,
   "metadata": {
    "application/vnd.databricks.v1+cell": {
     "cellMetadata": {
      "byteLimit": 2048000,
      "rowLimit": 10000
     },
     "inputWidgets": {},
     "nuid": "efa4e3b8-5642-4a35-bed7-e01f3fadc548",
     "showTitle": true,
     "tableResultSettingsMap": {},
     "title": "libraries"
    }
   },
   "outputs": [],
   "source": [
    "from pyspark.sql import SparkSession\n",
    "from pyspark.sql.functions import count, when, col, isnan, max, sum, explode, split, trim, avg, lag\n",
    "import matplotlib.pyplot as plt\n",
    "import pandas as pd"
   ]
  },
  {
   "cell_type": "code",
   "execution_count": 0,
   "metadata": {
    "application/vnd.databricks.v1+cell": {
     "cellMetadata": {
      "byteLimit": 2048000,
      "rowLimit": 10000
     },
     "inputWidgets": {},
     "nuid": "1ef2e87c-7257-4adc-a1c2-4b3a4a336f2d",
     "showTitle": false,
     "tableResultSettingsMap": {},
     "title": ""
    }
   },
   "outputs": [],
   "source": [
    "spark = SparkSession.builder.appName(\"analysis_user_group\").getOrCreate()"
   ]
  },
  {
   "cell_type": "code",
   "execution_count": 0,
   "metadata": {
    "application/vnd.databricks.v1+cell": {
     "cellMetadata": {
      "byteLimit": 2048000,
      "rowLimit": 10000
     },
     "inputWidgets": {},
     "nuid": "5533a1ab-70aa-4621-806c-1dfa70665494",
     "showTitle": false,
     "tableResultSettingsMap": {},
     "title": ""
    }
   },
   "outputs": [],
   "source": [
    "query = \"\"\"\n",
    "select *\n",
    "from workspace.growth_poc.silver_residents\n",
    "where year >= (select max(year)-4 from workspace.growth_poc.silver_residents)\n",
    "    AND lower(Nationality) <> 'undefined'\n",
    "\"\"\"\n",
    "residents_df = spark.sql(query)"
   ]
  },
  {
   "cell_type": "code",
   "execution_count": 0,
   "metadata": {
    "application/vnd.databricks.v1+cell": {
     "cellMetadata": {
      "byteLimit": 2048000,
      "rowLimit": 10000
     },
     "inputWidgets": {},
     "nuid": "bd4e2dce-c8b0-4596-84ee-593e70ee0c51",
     "showTitle": false,
     "tableResultSettingsMap": {},
     "title": ""
    }
   },
   "outputs": [],
   "source": [
    "# 1. check schema\n",
    "residents_df.printSchema()\n",
    "print()\n",
    "# 2. check column names\n",
    "print(residents_df.columns)\n",
    "print()\n",
    "# 3. check data typue\n",
    "print(residents_df.dtypes)\n",
    "print()\n",
    "# 4. check number of rows\n",
    "print(f\"Total number of rows: {residents_df.count()}\")\n",
    "print()\n",
    "# 5. check statistical status\n",
    "residents_df.describe().show()\n",
    "\n",
    "# 6. check missing values\n",
    "# get numeric columns\n",
    "numeric_cols = [name for name, dtype in residents_df.dtypes if dtype in ('double', 'float', 'bigint')]\n",
    "# numeric columns: count null values\n",
    "for c in numeric_cols:\n",
    "    null_count = residents_df.select(count(when(col(c).isNull() | isnan(c), c))).collect()[0][0]\n",
    "    print(f\"{c}: {null_count} nulls\")\n",
    "\n"
   ]
  },
  {
   "cell_type": "markdown",
   "metadata": {
    "application/vnd.databricks.v1+cell": {
     "cellMetadata": {
      "byteLimit": 2048000,
      "rowLimit": 10000
     },
     "inputWidgets": {},
     "nuid": "ca1f1c2e-86d8-4b16-ba6b-e0d97d0cfcf5",
     "showTitle": false,
     "tableResultSettingsMap": {},
     "title": ""
    }
   },
   "source": [
    "### 1-1. Nationality\n"
   ]
  },
  {
   "cell_type": "code",
   "execution_count": 0,
   "metadata": {
    "application/vnd.databricks.v1+cell": {
     "cellMetadata": {
      "byteLimit": 2048000,
      "rowLimit": 10000
     },
     "inputWidgets": {},
     "nuid": "07e4fd87-0b02-4860-b624-ffab19f847b2",
     "showTitle": false,
     "tableResultSettingsMap": {},
     "title": ""
    }
   },
   "outputs": [],
   "source": [
    "max_year = residents_df.select(col(\"Year\")).agg(max(\"Year\")).collect()[0][0]\n",
    "current_residents_df = residents_df.filter(col(\"Year\") == max_year)\n",
    "\n",
    "total_shortterm_residents = current_residents_df.filter(col(\"Resident_Category\") == \"short-term\").select(\"Amount\").agg(sum(\"Amount\")).collect()[0][0]\n",
    "total_longterm_residents = current_residents_df.filter(col(\"Resident_Category\") == \"long-term\").select(\"Amount\").agg(sum(\"Amount\")).collect()[0][0]\n",
    "\n",
    "print(f\"--Number of Foreign Residents in {max_year}--\")\n",
    "print(f\"Short term: {total_shortterm_residents}\")\n",
    "print(f\"Long term: {total_longterm_residents}\")\n",
    "print(f\"Total: {total_shortterm_residents + total_longterm_residents}\")"
   ]
  },
  {
   "cell_type": "markdown",
   "metadata": {
    "application/vnd.databricks.v1+cell": {
     "cellMetadata": {
      "byteLimit": 2048000,
      "rowLimit": 10000
     },
     "inputWidgets": {},
     "nuid": "8d85b3a6-1c00-4cc5-ae6f-4698825091d4",
     "showTitle": false,
     "tableResultSettingsMap": {},
     "title": ""
    }
   },
   "source": [
    "#### 1-1-1. Current"
   ]
  },
  {
   "cell_type": "markdown",
   "metadata": {
    "application/vnd.databricks.v1+cell": {
     "cellMetadata": {
      "byteLimit": 2048000,
      "rowLimit": 10000
     },
     "inputWidgets": {},
     "nuid": "e471e459-8f02-4399-a785-9c40eacb86ab",
     "showTitle": false,
     "tableResultSettingsMap": {},
     "title": ""
    }
   },
   "source": [
    "current "
   ]
  },
  {
   "cell_type": "code",
   "execution_count": 0,
   "metadata": {
    "application/vnd.databricks.v1+cell": {
     "cellMetadata": {
      "byteLimit": 2048000,
      "rowLimit": 10000
     },
     "inputWidgets": {},
     "nuid": "50fea8d0-eed4-48ce-95cb-999637f70e1d",
     "showTitle": false,
     "tableResultSettingsMap": {},
     "title": ""
    }
   },
   "outputs": [],
   "source": [
    "top_5_shortterm_nationality_df = current_residents_df.filter((col(\"Resident_Category\") == \"short-term\"))\\\n",
    "    .groupBy(\"Nationality_English\")\\\n",
    "    .agg(sum(\"Amount\").alias(\"Count\")) \\\n",
    "    .orderBy(col(\"Count\").desc()) \\\n",
    "    .limit(5) \\\n",
    "    .toPandas()\n",
    "\n",
    "top_5_shortterm_nationality_df\n",
    " \n",
    "labels = top_5_shortterm_nationality_df['Nationality_English']\n",
    "sizes = top_5_shortterm_nationality_df['Count']\n",
    "\n",
    "# reverse the order(desc)\n",
    "labels = labels[::-1]\n",
    "sizes = sizes[::-1]\n",
    "\n",
    "plt.figure(figsize = (6,4))\n",
    "bars = plt.barh(labels, sizes)\n",
    "\n",
    "# add margin to the right\n",
    "plt.xlim(0, sizes.max() * 1.25)\n",
    "\n",
    "for bar in bars:\n",
    "    width = bar.get_width()\n",
    "    plt.text(width, bar.get_y() + bar.get_height()/2,\n",
    "             f'{width:,}', ha='left', va='center')\n",
    "plt.title(\"Nationality Distribution in Short-Term Residents\")\n",
    "plt.xlabel(\"Count\")\n",
    "plt.ylabel(\"Nationality\")\n",
    "plt.tight_layout()\n",
    "plt.show()\n",
    " \n"
   ]
  },
  {
   "cell_type": "code",
   "execution_count": 0,
   "metadata": {
    "application/vnd.databricks.v1+cell": {
     "cellMetadata": {
      "byteLimit": 2048000,
      "rowLimit": 10000
     },
     "inputWidgets": {},
     "nuid": "ac5bea22-1505-4563-8222-0c2007d8309b",
     "showTitle": false,
     "tableResultSettingsMap": {},
     "title": ""
    }
   },
   "outputs": [],
   "source": [
    "top_5_longterm_nationality_df = current_residents_df.filter(col(\"Resident_Category\") == \"long-term\")\\\n",
    "    .groupBy(\"Nationality_English\")\\\n",
    "    .agg(sum(\"Amount\").alias(\"Count\")) \\\n",
    "    .orderBy(col(\"Count\").desc()) \\\n",
    "    .limit(5) \\\n",
    "    .toPandas()\n",
    " \n",
    "labels = top_5_longterm_nationality_df['Nationality_English']\n",
    "sizes = top_5_longterm_nationality_df['Count']\n",
    "\n",
    "labels = labels[::-1]\n",
    "sizes = sizes[::-1]\n",
    "\n",
    "plt.figure(figsize = (6,4))\n",
    "bars = plt.barh(labels, sizes)\n",
    "\n",
    "# add margin to the right\n",
    "plt.xlim(0, sizes.max() * 1.25)\n",
    "\n",
    "for bar in bars:\n",
    "    width = bar.get_width()\n",
    "    plt.text(width, bar.get_y() + bar.get_height()/2,\n",
    "             f'{width:,.0f}', ha='left', va='center')\n",
    "plt.title(\"Nationality Distribution in Long-Term Residents\")\n",
    "plt.xlabel(\"Count\")\n",
    "plt.ylabel(\"Nationality\")\n",
    "plt.tight_layout()\n",
    "plt.show()\n",
    " \n"
   ]
  },
  {
   "cell_type": "markdown",
   "metadata": {
    "application/vnd.databricks.v1+cell": {
     "cellMetadata": {
      "byteLimit": 2048000,
      "rowLimit": 10000
     },
     "inputWidgets": {},
     "nuid": "fdb7634f-f6c1-4afb-b6ed-befbe095cd23",
     "showTitle": false,
     "tableResultSettingsMap": {},
     "title": ""
    }
   },
   "source": [
    "average"
   ]
  },
  {
   "cell_type": "code",
   "execution_count": 0,
   "metadata": {
    "application/vnd.databricks.v1+cell": {
     "cellMetadata": {
      "byteLimit": 2048000,
      "rowLimit": 10000
     },
     "inputWidgets": {},
     "nuid": "87eeb1d9-1637-460a-82ce-dee522f8f5e2",
     "showTitle": false,
     "tableResultSettingsMap": {},
     "title": ""
    }
   },
   "outputs": [],
   "source": [
    "top_5_average_shortterm_nationality_df = residents_df.filter((col(\"Resident_Category\") == \"short-term\"))\\\n",
    "    .groupBy(\"Nationality_English\")\\\n",
    "    .agg(avg(\"Amount\").alias(\"average_count\")) \\\n",
    "    .orderBy(col(\"average_count\").desc()) \\\n",
    "    .limit(5) \\\n",
    "    .toPandas()\n",
    "\n",
    "labels = top_5_average_shortterm_nationality_df['Nationality_English']\n",
    "sizes = top_5_average_shortterm_nationality_df['average_count']\n",
    "\n",
    "labels = labels[::-1]\n",
    "sizes = sizes[::-1]\n",
    "\n",
    "plt.figure(figsize = (6,4))\n",
    "bars = plt.barh(labels, sizes)\n",
    "\n",
    "# add margin to the right\n",
    "plt.xlim(0, sizes.max() * 1.25)\n",
    "\n",
    "for bar in bars:\n",
    "    width = bar.get_width()\n",
    "    plt.text(width, bar.get_y() + bar.get_height()/2,\n",
    "             f'{width:,.0f}', ha='left', va='center')\n",
    "plt.title(\"Average Nationality Distribution in Short-Term Residents\")\n",
    "plt.xlabel(\"Count\")\n",
    "plt.ylabel(\"Nationality\")\n",
    "plt.tight_layout()\n",
    "plt.show()\n",
    " \n"
   ]
  },
  {
   "cell_type": "code",
   "execution_count": 0,
   "metadata": {
    "application/vnd.databricks.v1+cell": {
     "cellMetadata": {
      "byteLimit": 2048000,
      "rowLimit": 10000
     },
     "inputWidgets": {},
     "nuid": "f4428c8b-7e88-4ebc-981d-2bcd5c4b6bbe",
     "showTitle": false,
     "tableResultSettingsMap": {},
     "title": ""
    }
   },
   "outputs": [],
   "source": [
    "top_5_average_longterm_nationality_df = residents_df.filter((col(\"Resident_Category\") == \"long-term\"))\\\n",
    "    .groupBy(\"Nationality_English\")\\\n",
    "    .agg(avg(\"Amount\").alias(\"average_count\")) \\\n",
    "    .orderBy(col(\"average_count\").desc()) \\\n",
    "    .limit(5) \\\n",
    "    .toPandas()\n",
    "\n",
    "labels = top_5_average_longterm_nationality_df['Nationality_English']\n",
    "sizes = top_5_average_longterm_nationality_df['average_count']\n",
    "\n",
    "labels = labels[::-1]\n",
    "sizes = sizes[::-1]\n",
    "\n",
    "plt.figure(figsize = (6,4))\n",
    "bars = plt.barh(labels, sizes)\n",
    "\n",
    "# add margin to the right\n",
    "plt.xlim(0, sizes.max() * 1.25)\n",
    "\n",
    "for bar in bars:\n",
    "    width = bar.get_width()\n",
    "    plt.text(width, bar.get_y() + bar.get_height()/2,\n",
    "             f'{width:,.0f}', ha='left', va='center')\n",
    "plt.title(\"Average Nationality Distribution in Long-Term Residents\")\n",
    "plt.xlabel(\"Count\")\n",
    "plt.ylabel(\"Nationality\")\n",
    "plt.tight_layout()\n",
    "plt.show()\n"
   ]
  },
  {
   "cell_type": "markdown",
   "metadata": {
    "application/vnd.databricks.v1+cell": {
     "cellMetadata": {
      "byteLimit": 2048000,
      "rowLimit": 10000
     },
     "inputWidgets": {},
     "nuid": "7f78e420-bc33-4a49-b5a7-9f3a39c88535",
     "showTitle": false,
     "tableResultSettingsMap": {},
     "title": ""
    }
   },
   "source": [
    "#### 1-1-2. Trend"
   ]
  },
  {
   "cell_type": "code",
   "execution_count": 0,
   "metadata": {
    "application/vnd.databricks.v1+cell": {
     "cellMetadata": {
      "byteLimit": 2048000,
      "rowLimit": 10000
     },
     "inputWidgets": {},
     "nuid": "5f48e758-4511-475c-80bb-1804180cc9b7",
     "showTitle": false,
     "tableResultSettingsMap": {},
     "title": ""
    }
   },
   "outputs": [],
   "source": [
    "top_nationalities = pd.concat([\n",
    "    top_5_average_longterm_nationality_df[\"Nationality_English\"][:3],\n",
    "    top_5_average_shortterm_nationality_df[\"Nationality_English\"][:3],\n",
    "    top_5_longterm_nationality_df[\"Nationality_English\"][:3],\n",
    "    top_5_shortterm_nationality_df[\"Nationality_English\"][:3]\n",
    "])\n",
    "\n",
    "# remove duplicates\n",
    "countries_to_focus = top_nationalities.drop_duplicates().tolist()"
   ]
  },
  {
   "cell_type": "code",
   "execution_count": 0,
   "metadata": {
    "application/vnd.databricks.v1+cell": {
     "cellMetadata": {
      "byteLimit": 2048000,
      "rowLimit": 10000
     },
     "inputWidgets": {},
     "nuid": "256cdc17-f72a-4224-a441-fbe031258cce",
     "showTitle": false,
     "tableResultSettingsMap": {},
     "title": ""
    }
   },
   "outputs": [],
   "source": [
    "residents_pd = residents_df.filter(col(\"Nationality_English\").isin(countries_to_focus)) \\\n",
    "    .groupBy(\"Year\", \"Resident_Category\", \"Nationality_English\") \\\n",
    "    .agg(sum(\"Amount\").alias(\"count\")) \\\n",
    "    .withColumnRenamed(\"Nationality_English\", \"Nationality\")\\\n",
    "    .toPandas()\n",
    "\n",
    "shortterm_pivot_df = residents_pd[residents_pd[\"Resident_Category\"] == \"short-term\"].pivot_table(\n",
    "    index = \"Year\",\n",
    "    columns = \"Nationality\",\n",
    "    values = \"count\",\n",
    "    aggfunc= \"sum\"\n",
    ").fillna(0)\n",
    " "
   ]
  },
  {
   "cell_type": "code",
   "execution_count": 0,
   "metadata": {
    "application/vnd.databricks.v1+cell": {
     "cellMetadata": {
      "byteLimit": 2048000,
      "rowLimit": 10000
     },
     "inputWidgets": {},
     "nuid": "6123e452-4f58-4e0e-b8e9-79269af8478e",
     "showTitle": false,
     "tableResultSettingsMap": {},
     "title": ""
    }
   },
   "outputs": [],
   "source": [
    "plt.figure(figsize=(8, 4))\n",
    "for nationality in shortterm_pivot_df.columns:\n",
    "    plt.plot(shortterm_pivot_df.index, shortterm_pivot_df[nationality], marker='o', label=nationality)\n",
    "\n",
    "plt.xlabel('Year')\n",
    "plt.ylabel('Count')\n",
    "plt.title('Short-Term Resident Count by Nationality')\n",
    "plt.legend(loc='upper left', bbox_to_anchor=(1.01, 1))\n",
    "plt.grid(True)\n",
    "plt.tight_layout()\n",
    "plt.show()"
   ]
  },
  {
   "cell_type": "markdown",
   "metadata": {
    "application/vnd.databricks.v1+cell": {
     "cellMetadata": {},
     "inputWidgets": {},
     "nuid": "308a1508-3611-41d1-93f4-b7c3c054047a",
     "showTitle": false,
     "tableResultSettingsMap": {},
     "title": ""
    }
   },
   "source": [
    "단기 체류 외국인 데이터는 국적별로 명확한 계층(Tier)을 형성하고 있습니다. 특히 4위 그룹(베트남)과 5위 그룹(우즈베키스탄) 사이에는 **규모의 현격한 단절(Clear Cut-off Point)**이 관찰됩니다.\n",
    "\n",
    "이에 따라, 유의미한 시장 규모를 형성하고 있으며 **각기 다른 성장 패턴(안정, 급성장, 신흥)을 보여주는 상위 4개국(태국, 중국, 미국, 베트남)**을 핵심 분석 대상으로 선정하여, 다양한 유형의 잠재 고객 페르소나를 도출하고자 합니다."
   ]
  },
  {
   "cell_type": "code",
   "execution_count": 0,
   "metadata": {
    "application/vnd.databricks.v1+cell": {
     "cellMetadata": {
      "byteLimit": 2048000,
      "rowLimit": 10000
     },
     "inputWidgets": {},
     "nuid": "7bac2a17-6b34-4e92-81f0-3fe9d87e0a0a",
     "showTitle": false,
     "tableResultSettingsMap": {},
     "title": ""
    }
   },
   "outputs": [],
   "source": [
    "longterm_pivot_df = residents_pd[residents_pd[\"Resident_Category\"] == \"long-term\"].pivot_table(\n",
    "    index = \"Year\",\n",
    "    columns = \"Nationality\",\n",
    "    values = \"count\",\n",
    "    aggfunc= \"sum\"\n",
    ").fillna(0)\n",
    "\n",
    "plt.figure(figsize=(8, 4))\n",
    "for nationality in longterm_pivot_df.columns:\n",
    "    plt.plot(longterm_pivot_df.index, longterm_pivot_df[nationality], marker='o', label=nationality)\n",
    "\n",
    "plt.xlabel('Year')\n",
    "plt.ylabel('Count')\n",
    "plt.title('Long-Term Resident Count by Nationality')\n",
    "plt.legend(loc='upper left', bbox_to_anchor=(1.01, 1))\n",
    "plt.grid(True)\n",
    "plt.tight_layout()\n",
    "plt.show()"
   ]
  },
  {
   "cell_type": "markdown",
   "metadata": {
    "application/vnd.databricks.v1+cell": {
     "cellMetadata": {},
     "inputWidgets": {},
     "nuid": "5918c3a8-748e-4db7-a7e9-2f988e09f528",
     "showTitle": false,
     "tableResultSettingsMap": {},
     "title": ""
    }
   },
   "source": [
    "\"분석에 앞서 장기 체류 외국인의 국적별 분포를 EDA(탐색적 데이터 분석)한 결과, 상위 2개 국적인 중국과 베트남이 전체 체류자의 약 75%를 차지하며 시장을 압도적으로 점유하고 있음을 확인했습니다. (근거 1)\n",
    "\n",
    "특히 2위인 베트남과 3위인 태국 간에는 5배가 넘는 수치 차이를 보여, 3순위 이하 그룹들은 시장 전체 트렌드에 미치는 영향이 미미한 것으로 판단됩니다. (근거 2)\n",
    "\n",
    "이처럼 데이터가 소수 그룹에 크게 편중된 편향 분포를 고려하여, 본 분석에서는 가장 큰 시장을 형성하고 있는 중국과 베트남을 핵심 분석 대상으로 한정하여 페르소나를 구체화하고, 이를 통해 가장 효과적인 초기 시장 진입 전략을 도출하고자 합니다."
   ]
  },
  {
   "cell_type": "markdown",
   "metadata": {
    "application/vnd.databricks.v1+cell": {
     "cellMetadata": {
      "byteLimit": 2048000,
      "rowLimit": 10000
     },
     "inputWidgets": {},
     "nuid": "5c0d2df2-315c-4bd9-9855-d40573c7272e",
     "showTitle": false,
     "tableResultSettingsMap": {},
     "title": ""
    }
   },
   "source": [
    "### Language"
   ]
  },
  {
   "cell_type": "markdown",
   "metadata": {
    "application/vnd.databricks.v1+cell": {
     "cellMetadata": {
      "byteLimit": 2048000,
      "rowLimit": 10000
     },
     "inputWidgets": {},
     "nuid": "cb4e0e47-c1db-4f07-8e8b-aae965a50a44",
     "showTitle": false,
     "tableResultSettingsMap": {},
     "title": ""
    }
   },
   "source": [
    "Current"
   ]
  },
  {
   "cell_type": "code",
   "execution_count": 0,
   "metadata": {
    "application/vnd.databricks.v1+cell": {
     "cellMetadata": {
      "byteLimit": 2048000,
      "rowLimit": 10000
     },
     "inputWidgets": {},
     "nuid": "50a1523c-7185-4262-95df-8563f0b0f60f",
     "showTitle": false,
     "tableResultSettingsMap": {},
     "title": ""
    }
   },
   "outputs": [],
   "source": [
    "language_split_df = residents_df.withColumn(\"language_list\", split(col(\"Primary_Language\"), ','))\n",
    "exploded_language_df = language_split_df.withColumn(\"language\", explode(col(\"language_list\")))\n",
    "exploded_language_df = exploded_language_df.withColumn(\"language\", trim(col(\"language\")))\n",
    "\n",
    "language_aggregated_df = exploded_language_df.groupBy(col(\"language\"), col(\"Year\"), col(\"Resident_Category\")).agg(sum(\"Amount\").alias(\"count\"))"
   ]
  },
  {
   "cell_type": "code",
   "execution_count": 0,
   "metadata": {
    "application/vnd.databricks.v1+cell": {
     "cellMetadata": {
      "byteLimit": 2048000,
      "rowLimit": 10000
     },
     "inputWidgets": {},
     "nuid": "e2692081-ecf9-4978-9b33-a18aef291199",
     "showTitle": false,
     "tableResultSettingsMap": {},
     "title": ""
    }
   },
   "outputs": [],
   "source": [
    "top_5_shortterm_language_df = language_aggregated_df.filter((col(\"Resident_Category\") == \"short-term\") & (col(\"Year\") == max_year)).orderBy(col(\"count\").desc()).limit(5).toPandas()\n",
    "\n",
    "labels = top_5_shortterm_language_df[\"language\"]\n",
    "sizes = top_5_shortterm_language_df[\"count\"]\n",
    "\n",
    "\n",
    "labels = labels[::-1]\n",
    "sizes = sizes[::-1]\n",
    "\n",
    "plt.figure(figsize = (6,4))\n",
    "bars = plt.barh(labels, sizes)\n",
    "\n",
    "# add margin to the right\n",
    "plt.xlim(0, sizes.max() * 1.25)\n",
    "\n",
    "for bar in bars:\n",
    "    width = bar.get_width()\n",
    "    plt.text(width, bar.get_y() + bar.get_height()/2,\n",
    "             f'{width:,}', ha='left', va='center')\n",
    "\n",
    "plt.title(\"Language Distribution in Short-Term Residents\")\n",
    "plt.xlabel(\"Count\")\n",
    "plt.ylabel(\"Language\")\n",
    "plt.tight_layout()\n",
    "plt.xticks(rotation=30) \n",
    "plt.show()\n"
   ]
  },
  {
   "cell_type": "markdown",
   "metadata": {
    "application/vnd.databricks.v1+cell": {
     "cellMetadata": {},
     "inputWidgets": {},
     "nuid": "1ddc9e58-3467-4793-93d6-5aa04ea86046",
     "showTitle": false,
     "tableResultSettingsMap": {},
     "title": ""
    }
   },
   "source": [
    "This graph shows the top 5 languages spoken by short-term foreign residents in Korea in 2024.  \n",
    "\n",
    "**English** is the most commonly used (154,238), followed by **Thai** (145,305), **Mandarin Chinese** (122,475), Vietnamese (44,354), and Japanese (36,353).  \n",
    "\n",
    "The top three languages dominate about 84% of the total."
   ]
  },
  {
   "cell_type": "code",
   "execution_count": 0,
   "metadata": {
    "application/vnd.databricks.v1+cell": {
     "cellMetadata": {
      "byteLimit": 2048000,
      "rowLimit": 10000
     },
     "inputWidgets": {},
     "nuid": "6c09e27c-ac03-405a-90dc-93b03af74f6c",
     "showTitle": false,
     "tableResultSettingsMap": {},
     "title": ""
    }
   },
   "outputs": [],
   "source": [
    "top_5_longterm_language_df = language_aggregated_df.filter((col(\"Resident_Category\") == \"long-term\") & (col(\"Year\") == max_year)).orderBy(col(\"count\").desc()).limit(5).toPandas()\n",
    "\n",
    "labels = top_5_longterm_language_df[\"language\"]\n",
    "sizes = top_5_longterm_language_df[\"count\"]\n",
    "\n",
    "labels = labels[::-1]\n",
    "sizes = sizes[::-1]\n",
    "\n",
    "plt.figure(figsize = (6,4))\n",
    "bars = plt.barh(labels, sizes)\n",
    "\n",
    "# add margin to the right\n",
    "plt.xlim(0, sizes.max() * 1.25)\n",
    "\n",
    "for bar in bars:\n",
    "    width = bar.get_width()\n",
    "    plt.text(width, bar.get_y() + bar.get_height()/2,\n",
    "             f'{width:,}', ha='left', va='center')\n",
    "\n",
    "plt.title(\"Language Distribution in Long-Term Residents\")\n",
    "plt.xlabel(\"Count\")\n",
    "plt.ylabel(\"Language\")\n",
    "plt.tight_layout()\n",
    "plt.xticks(rotation=30) \n",
    "plt.show()\n"
   ]
  },
  {
   "cell_type": "markdown",
   "metadata": {
    "application/vnd.databricks.v1+cell": {
     "cellMetadata": {},
     "inputWidgets": {},
     "nuid": "536a84f9-6964-434f-91f7-6938f9ea09d0",
     "showTitle": false,
     "tableResultSettingsMap": {},
     "title": ""
    }
   },
   "source": [
    "This graph shows the top 5 languages spoken by long-term foreign residents in Korea in 2024.  \n",
    "\n",
    "Unlike the short-term residents analysis, **Mandarin Chinese** (122,475) is the most commonly used among the long-term foreign residents. **Vietnamese** (261,581) marked the second, followed by English (146,510), Nepali (72,151), and Uzbek (61,733).\n",
    "\n",
    "The top three languages dominate about 87% of the total."
   ]
  },
  {
   "cell_type": "markdown",
   "metadata": {
    "application/vnd.databricks.v1+cell": {
     "cellMetadata": {
      "byteLimit": 2048000,
      "rowLimit": 10000
     },
     "inputWidgets": {},
     "nuid": "253680c7-c472-475e-b894-564d5ef71f82",
     "showTitle": false,
     "tableResultSettingsMap": {},
     "title": ""
    }
   },
   "source": [
    "Average\n"
   ]
  },
  {
   "cell_type": "code",
   "execution_count": 0,
   "metadata": {
    "application/vnd.databricks.v1+cell": {
     "cellMetadata": {
      "byteLimit": 2048000,
      "rowLimit": 10000
     },
     "inputWidgets": {},
     "nuid": "b61344d4-3818-4dc4-9bfc-48a3ca449cfb",
     "showTitle": false,
     "tableResultSettingsMap": {},
     "title": ""
    }
   },
   "outputs": [],
   "source": [
    "top_5_average_shortterm_language_df = language_aggregated_df.filter((col(\"Resident_Category\") == \"short-term\"))\\\n",
    "    .groupBy(\"language\")\\\n",
    "    .agg(avg(\"count\").alias(\"average_count\")) \\\n",
    "    .orderBy(col(\"average_count\").desc()) \\\n",
    "    .limit(5) \\\n",
    "    .toPandas()\n",
    "\n",
    "labels = top_5_average_shortterm_language_df['language']\n",
    "sizes = top_5_average_shortterm_language_df['average_count']\n",
    "\n",
    "labels = labels[::-1]\n",
    "sizes = sizes[::-1]\n",
    "\n",
    "plt.figure(figsize = (6,4))\n",
    "bars = plt.barh(labels, sizes)\n",
    "\n",
    "# add margin to the right\n",
    "plt.xlim(0, sizes.max() * 1.25)\n",
    "\n",
    "for bar in bars:\n",
    "    width = bar.get_width()\n",
    "    plt.text(width, bar.get_y() + bar.get_height()/2,\n",
    "             f'{width:,}', ha='left', va='center')\n",
    "    \n",
    "plt.xlabel(\"Count\")\n",
    "plt.ylabel(\"Language\")\n",
    "plt.tight_layout()\n",
    "plt.title(\"Average Language Distribution in Short-Term Residents\")\n",
    "plt.show()\n"
   ]
  },
  {
   "cell_type": "code",
   "execution_count": 0,
   "metadata": {
    "application/vnd.databricks.v1+cell": {
     "cellMetadata": {
      "byteLimit": 2048000,
      "rowLimit": 10000
     },
     "inputWidgets": {},
     "nuid": "86d740b1-2882-4c3e-bccc-e4b12b77af63",
     "showTitle": false,
     "tableResultSettingsMap": {},
     "title": ""
    }
   },
   "outputs": [],
   "source": [
    "top_5_average_longterm_language_df = language_aggregated_df.filter((col(\"Resident_Category\") == \"long-term\"))\\\n",
    "    .groupBy(\"language\")\\\n",
    "    .agg(avg(\"count\").alias(\"average_count\")) \\\n",
    "    .orderBy(col(\"average_count\").desc()) \\\n",
    "    .limit(5) \\\n",
    "    .toPandas()\n",
    "\n",
    "labels = top_5_average_longterm_language_df['language']\n",
    "sizes = top_5_average_longterm_language_df['average_count']\n",
    "\n",
    "labels = labels[::-1]\n",
    "sizes = sizes[::-1]\n",
    "\n",
    "plt.figure(figsize = (6,4))\n",
    "bars = plt.barh(labels, sizes)\n",
    "\n",
    "# add margin to the right\n",
    "plt.xlim(0, sizes.max() * 1.25)\n",
    "\n",
    "for bar in bars:\n",
    "    width = bar.get_width()\n",
    "    plt.text(width, bar.get_y() + bar.get_height()/2,\n",
    "             f'{width:,}', ha='left', va='center')\n",
    "    \n",
    "plt.xlabel(\"Count\")\n",
    "plt.ylabel(\"Language\")\n",
    "plt.tight_layout()\n",
    "plt.title(\"Average Language Distribution in Long-Term Residents\")\n",
    "plt.show()\n"
   ]
  },
  {
   "cell_type": "markdown",
   "metadata": {
    "application/vnd.databricks.v1+cell": {
     "cellMetadata": {},
     "inputWidgets": {},
     "nuid": "3e1b6f4a-0682-4957-9267-1aff568d9d05",
     "showTitle": false,
     "tableResultSettingsMap": {},
     "title": ""
    }
   },
   "source": []
  },
  {
   "cell_type": "markdown",
   "metadata": {
    "application/vnd.databricks.v1+cell": {
     "cellMetadata": {
      "byteLimit": 2048000,
      "rowLimit": 10000
     },
     "inputWidgets": {},
     "nuid": "e6a3a5be-7dc8-4ca0-914d-de6a75db5b70",
     "showTitle": false,
     "tableResultSettingsMap": {},
     "title": ""
    }
   },
   "source": [
    "Trend"
   ]
  },
  {
   "cell_type": "code",
   "execution_count": 0,
   "metadata": {
    "application/vnd.databricks.v1+cell": {
     "cellMetadata": {
      "byteLimit": 2048000,
      "rowLimit": 10000
     },
     "inputWidgets": {},
     "nuid": "4e3a179a-3bd1-42d6-b878-9415bc2249cf",
     "showTitle": false,
     "tableResultSettingsMap": {},
     "title": ""
    }
   },
   "outputs": [],
   "source": [
    "top_languages = pd.concat([\n",
    "    top_5_average_longterm_language_df[\"language\"][:3],\n",
    "    top_5_average_shortterm_language_df[\"language\"][:3],\n",
    "    top_5_longterm_language_df[\"language\"][:3],\n",
    "    top_5_shortterm_language_df[\"language\"][:3]\n",
    "])\n",
    "\n",
    "# remove duplicates\n",
    "languages_to_focus = top_languages.drop_duplicates().tolist()"
   ]
  },
  {
   "cell_type": "code",
   "execution_count": 0,
   "metadata": {
    "application/vnd.databricks.v1+cell": {
     "cellMetadata": {
      "byteLimit": 2048000,
      "rowLimit": 10000
     },
     "inputWidgets": {},
     "nuid": "9d1c553d-2f44-41bd-aec9-fc66fbaa53e1",
     "showTitle": false,
     "tableResultSettingsMap": {},
     "title": ""
    }
   },
   "outputs": [],
   "source": [
    "residents_languages_pd = language_aggregated_df.filter(col(\"language\").isin(languages_to_focus)) \\\n",
    "    .groupBy(\"Year\", \"Resident_Category\", \"language\") \\\n",
    "    .agg(sum(\"count\").alias(\"count\")) \\\n",
    "    .toPandas()\n",
    "\n",
    "shortterm_language_pivot_df = residents_languages_pd[residents_languages_pd[\"Resident_Category\"] == \"short-term\"].pivot_table(\n",
    "    index = \"Year\",\n",
    "    columns = \"language\",\n",
    "    values = \"count\",\n",
    "    aggfunc= \"sum\"\n",
    ").fillna(0)\n",
    " "
   ]
  },
  {
   "cell_type": "code",
   "execution_count": 0,
   "metadata": {
    "application/vnd.databricks.v1+cell": {
     "cellMetadata": {
      "byteLimit": 2048000,
      "rowLimit": 10000
     },
     "inputWidgets": {},
     "nuid": "ab247faf-3de5-4a7a-843d-35976a18475b",
     "showTitle": false,
     "tableResultSettingsMap": {},
     "title": ""
    }
   },
   "outputs": [],
   "source": [
    "plt.figure(figsize=(8, 4))\n",
    "for language in shortterm_language_pivot_df.columns:\n",
    "    plt.plot(shortterm_language_pivot_df.index, shortterm_language_pivot_df[language], marker='o', label=language)\n",
    "\n",
    "plt.xlabel('Year')\n",
    "plt.ylabel('Count')\n",
    "plt.title('Short-Term Resident Count by Primary Language')\n",
    "plt.legend(loc='upper left', bbox_to_anchor=(1.01, 1))\n",
    "plt.grid(True)\n",
    "plt.tight_layout()\n",
    "plt.show()"
   ]
  },
  {
   "cell_type": "code",
   "execution_count": 0,
   "metadata": {
    "application/vnd.databricks.v1+cell": {
     "cellMetadata": {
      "byteLimit": 2048000,
      "rowLimit": 10000
     },
     "inputWidgets": {},
     "nuid": "78766c75-8b19-440a-907e-917cd46e0d95",
     "showTitle": false,
     "tableResultSettingsMap": {},
     "title": ""
    }
   },
   "outputs": [],
   "source": [
    "longterm_language_pivot_df = residents_languages_pd[residents_languages_pd[\"Resident_Category\"] == \"long-term\"].pivot_table(\n",
    "    index = \"Year\",\n",
    "    columns = \"language\",\n",
    "    values = \"count\",\n",
    "    aggfunc= \"sum\"\n",
    ").fillna(0)\n",
    "\n",
    "plt.figure(figsize=(8, 4))\n",
    "for language in longterm_language_pivot_df.columns:\n",
    "    plt.plot(longterm_language_pivot_df.index, longterm_language_pivot_df[language], marker='o', label=language)\n",
    "\n",
    "plt.xlabel('Year')\n",
    "plt.ylabel('Count')\n",
    "plt.title('Long-Term Resident Count by Primary Language')\n",
    "plt.legend(loc='upper left', bbox_to_anchor=(1.01, 1))\n",
    "plt.grid(True)\n",
    "plt.tight_layout()\n",
    "plt.show()"
   ]
  },
  {
   "cell_type": "markdown",
   "metadata": {
    "application/vnd.databricks.v1+cell": {
     "cellMetadata": {
      "byteLimit": 2048000,
      "rowLimit": 10000
     },
     "inputWidgets": {},
     "nuid": "a201c7ca-0dee-4623-b20e-e08c24655cd8",
     "showTitle": false,
     "tableResultSettingsMap": {},
     "title": ""
    }
   },
   "source": [
    "시계열 분석: nationality, long term/ short term.\n",
    "=> 집중해야 할 유저 그룹 선택"
   ]
  },
  {
   "cell_type": "markdown",
   "metadata": {
    "application/vnd.databricks.v1+cell": {
     "cellMetadata": {
      "byteLimit": 2048000,
      "rowLimit": 10000
     },
     "inputWidgets": {},
     "nuid": "30d42d51-6895-40ad-a27c-824ff9b4753b",
     "showTitle": false,
     "tableResultSettingsMap": {},
     "title": ""
    }
   },
   "source": [
    "이 다음, country 별 보다는 language로 통합하자"
   ]
  },
  {
   "cell_type": "markdown",
   "metadata": {
    "application/vnd.databricks.v1+cell": {
     "cellMetadata": {
      "byteLimit": 2048000,
      "rowLimit": 10000
     },
     "inputWidgets": {},
     "nuid": "1d1b5224-40c8-44bc-86e4-cd0b03d6efb8",
     "showTitle": false,
     "tableResultSettingsMap": {},
     "title": ""
    }
   },
   "source": [
    "## 2. Foreign Arrivals"
   ]
  },
  {
   "cell_type": "code",
   "execution_count": 0,
   "metadata": {
    "application/vnd.databricks.v1+cell": {
     "cellMetadata": {
      "byteLimit": 2048000,
      "implicitDf": true,
      "rowLimit": 10000
     },
     "inputWidgets": {},
     "nuid": "9054b881-485a-4b71-b3a1-77f9f67d5bd4",
     "showTitle": false,
     "tableResultSettingsMap": {
      "0": {
       "dataGridStateBlob": "{\"version\":1,\"tableState\":{\"columnPinning\":{\"left\":[\"#row_number#\"],\"right\":[]},\"columnSizing\":{},\"columnVisibility\":{}},\"settings\":{\"columns\":{}},\"syncTimestamp\":1759188024639}",
       "filterBlob": null,
       "queryPlanFiltersBlob": null,
       "tableResultIndex": 0
      }
     },
     "title": ""
    }
   },
   "outputs": [],
   "source": [
    "%sql\n",
    "select *\n",
    "from workspace.growth_poc.silver_visitors limit 100"
   ]
  },
  {
   "cell_type": "code",
   "execution_count": 0,
   "metadata": {
    "application/vnd.databricks.v1+cell": {
     "cellMetadata": {
      "byteLimit": 2048000,
      "rowLimit": 10000
     },
     "inputWidgets": {},
     "nuid": "ecd21fd0-58e2-422d-9c7b-7dfad06d473c",
     "showTitle": true,
     "tableResultSettingsMap": {},
     "title": "Foreign Arrivals"
    }
   },
   "outputs": [],
   "source": [
    "query = \"\"\"\n",
    "select *\n",
    "from workspace.growth_poc.silver_visitors\n",
    "where year >= (select max(year)-4 from workspace.growth_poc.silver_visitors)\n",
    "    AND lower(English_Nationality) <> 'undefined'\n",
    "\"\"\"\n",
    "# arrivals_nationalitypurpose_df\n",
    "arr_np_df = spark.sql(query)\n",
    "\n",
    "# 1. check schema\n",
    "arr_np_df.printSchema()\n",
    "print()\n",
    "# 2. check column names\n",
    "print(arr_np_df.columns)\n",
    "print()\n",
    "# 3. check data typue\n",
    "print(arr_np_df.dtypes)\n",
    "print()\n",
    "# 4. check number of rows\n",
    "print(f\"Total number of rows: {arr_np_df.count()}\")\n",
    "print()\n",
    "# 5. check statistical status\n",
    "arr_np_df.describe().show()\n",
    "\n",
    "# 6. check missing values\n",
    "# get numeric columns\n",
    "numeric_cols = [name for name, dtype in arr_np_df.dtypes if dtype in ('double', 'float', 'bigint')]\n",
    "# numeric columns: count null values\n",
    "for c in numeric_cols:\n",
    "    null_count = arr_np_df.select(count(when(col(c).isNull() | isnan(c), c))).collect()[0][0]\n",
    "    print(f\"{c}: {null_count} nulls\")\n",
    "\n"
   ]
  },
  {
   "cell_type": "code",
   "execution_count": 0,
   "metadata": {
    "application/vnd.databricks.v1+cell": {
     "cellMetadata": {
      "byteLimit": 2048000,
      "rowLimit": 10000
     },
     "inputWidgets": {},
     "nuid": "6f17cf0b-fd2d-438a-9f2e-e220196bbce2",
     "showTitle": false,
     "tableResultSettingsMap": {},
     "title": ""
    }
   },
   "outputs": [],
   "source": [
    "query = \"\"\"\n",
    "select *\n",
    "from workspace.growth_poc.silver_visitors_agegroup_nationality\n",
    "where visit_year >= (select max(visit_year)-4 from workspace.growth_poc.silver_visitors_agegroup_nationality)\n",
    "    AND lower(English_Nationality) <> 'undefined'\n",
    "\"\"\"\n",
    "#arrivlas_nationalityagegroup_df\n",
    "arr_na_df = spark.sql(query)\n",
    "\n",
    "# 1. check schema\n",
    "arr_na_df.printSchema()\n",
    "print()\n",
    "# 2. check column names\n",
    "print(arr_na_df.columns)\n",
    "print()\n",
    "# 3. check data typue\n",
    "print(arr_na_df.dtypes)\n",
    "print()\n",
    "# 4. check number of rows\n",
    "print(f\"Total number of rows: {arr_na_df.count()}\")\n",
    "print()\n",
    "# 5. check statistical status\n",
    "arr_na_df.describe().show()\n",
    "\n",
    "# 6. check missing values\n",
    "# get numeric columns\n",
    "numeric_cols = [name for name, dtype in arr_na_df.dtypes if dtype in ('double', 'float', 'bigint')]\n",
    "# numeric columns: count null values\n",
    "for c in numeric_cols:\n",
    "    null_count = arr_na_df.select(count(when(col(c).isNull() | isnan(c), c))).collect()[0][0]\n",
    "    print(f\"{c}: {null_count} nulls\")\n",
    "\n"
   ]
  },
  {
   "cell_type": "markdown",
   "metadata": {
    "application/vnd.databricks.v1+cell": {
     "cellMetadata": {
      "byteLimit": 2048000,
      "rowLimit": 10000
     },
     "inputWidgets": {},
     "nuid": "579e0c91-bdb6-42ce-a9ac-cb84fa8a7899",
     "showTitle": false,
     "tableResultSettingsMap": {},
     "title": ""
    }
   },
   "source": [
    "### 2-1. Current Status"
   ]
  },
  {
   "cell_type": "markdown",
   "metadata": {
    "application/vnd.databricks.v1+cell": {
     "cellMetadata": {
      "byteLimit": 2048000,
      "rowLimit": 10000
     },
     "inputWidgets": {},
     "nuid": "18d6a5b1-3273-4c58-8363-4077f51940fa",
     "showTitle": false,
     "tableResultSettingsMap": {},
     "title": ""
    }
   },
   "source": [
    "### 2-2. Trend Analysis"
   ]
  },
  {
   "cell_type": "code",
   "execution_count": 0,
   "metadata": {
    "application/vnd.databricks.v1+cell": {
     "cellMetadata": {
      "byteLimit": 2048000,
      "rowLimit": 10000
     },
     "inputWidgets": {},
     "nuid": "88da2ce1-08e7-4b0b-9286-8650f8b88064",
     "showTitle": false,
     "tableResultSettingsMap": {},
     "title": ""
    }
   },
   "outputs": [],
   "source": [
    "# \t현재 대한민국에 체류 중인 외국인은 총 몇 명인가?\n",
    "# \t국적, 연령, 성별, 체류 자격(유학생, 취업, 거주 등)에 따른 인구 분포는 어떻게 되는가?\n",
    "# \t지난 5년간 체류 외국인 수의 증감 추세는 어떠한가?\n",
    "\n",
    "\n",
    "\n"
   ]
  },
  {
   "cell_type": "code",
   "execution_count": 0,
   "metadata": {
    "application/vnd.databricks.v1+cell": {
     "cellMetadata": {
      "byteLimit": 2048000,
      "implicitDf": true,
      "rowLimit": 10000
     },
     "inputWidgets": {},
     "nuid": "0951c158-9668-42c6-94af-4b9febae6093",
     "showTitle": false,
     "tableResultSettingsMap": {
      "0": {
       "dataGridStateBlob": "{\"version\":1,\"tableState\":{\"columnPinning\":{\"left\":[\"#row_number#\"],\"right\":[]},\"columnSizing\":{},\"columnVisibility\":{}},\"settings\":{\"columns\":{}},\"syncTimestamp\":1759196337557}",
       "filterBlob": null,
       "queryPlanFiltersBlob": null,
       "tableResultIndex": 0
      }
     },
     "title": ""
    }
   },
   "outputs": [],
   "source": [
    "%sql\n",
    "select * from workspace.growth_poc.silver_visitors_agegroup_nationality limit 10 "
   ]
  },
  {
   "cell_type": "code",
   "execution_count": 0,
   "metadata": {
    "application/vnd.databricks.v1+cell": {
     "cellMetadata": {
      "byteLimit": 2048000,
      "implicitDf": true,
      "rowLimit": 10000
     },
     "inputWidgets": {},
     "nuid": "135606be-436d-419f-9744-65b8134b4fd8",
     "showTitle": false,
     "tableResultSettingsMap": {},
     "title": ""
    }
   },
   "outputs": [],
   "source": [
    "%sql \n",
    "select *\n",
    "from workspace.growth_poc.silver_app_reviews\n",
    "where written_language = 'so'\n",
    " "
   ]
  },
  {
   "cell_type": "code",
   "execution_count": 0,
   "metadata": {
    "application/vnd.databricks.v1+cell": {
     "cellMetadata": {
      "byteLimit": 2048000,
      "implicitDf": true,
      "rowLimit": 10000
     },
     "inputWidgets": {},
     "nuid": "9a142ef1-ff2a-4399-8019-cbdf22d620a6",
     "showTitle": false,
     "tableResultSettingsMap": {},
     "title": ""
    }
   },
   "outputs": [],
   "source": [
    "%sql\n",
    "select *\n",
    "from workspace.growth_poc.silver_visitors"
   ]
  },
  {
   "cell_type": "code",
   "execution_count": 0,
   "metadata": {
    "application/vnd.databricks.v1+cell": {
     "cellMetadata": {
      "byteLimit": 2048000,
      "implicitDf": true,
      "rowLimit": 10000
     },
     "inputWidgets": {},
     "nuid": "aab4563b-23ee-41a3-92f9-6c12ed9b8cb5",
     "showTitle": false,
     "tableResultSettingsMap": {},
     "title": ""
    }
   },
   "outputs": [],
   "source": [
    "%sql\n",
    "select * from workspace.growth_poc.silver_visitors_agegroup limit 10"
   ]
  },
  {
   "cell_type": "code",
   "execution_count": 0,
   "metadata": {
    "application/vnd.databricks.v1+cell": {
     "cellMetadata": {
      "byteLimit": 2048000,
      "rowLimit": 10000
     },
     "inputWidgets": {},
     "nuid": "fd5677bf-2219-48c5-8ff7-596797de336d",
     "showTitle": false,
     "tableResultSettingsMap": {},
     "title": ""
    }
   },
   "outputs": [],
   "source": []
  },
  {
   "cell_type": "code",
   "execution_count": 0,
   "metadata": {
    "application/vnd.databricks.v1+cell": {
     "cellMetadata": {
      "byteLimit": 2048000,
      "rowLimit": 10000
     },
     "inputWidgets": {},
     "nuid": "bdf9ae4b-efda-46b1-9a31-e13b960238a4",
     "showTitle": false,
     "tableResultSettingsMap": {},
     "title": ""
    }
   },
   "outputs": [],
   "source": [
    "# %md\n",
    "# 2.\t핵심 사용자 그룹 세분화 (Segmentation):\n",
    "# o\t핵심 질문:\n",
    "# \t배달 앱 주 사용층일 가능성이 높은 연령대(예: 20-40대)의 외국인 규모는 어느 정도인가?\n",
    "# \t특정 국적(예: 영어권, 중국어권 등)의 인구 집단이 특별히 큰 비중을 차지하는가?\n",
    "# \tIT 기기 활용에 능숙하고 구매력이 있을 것으로 예상되는 그룹(예: D-2 유학생, E-7 전문인력)의 규모는 얼마나 되는가?\n"
   ]
  },
  {
   "cell_type": "code",
   "execution_count": 0,
   "metadata": {
    "application/vnd.databricks.v1+cell": {
     "cellMetadata": {
      "byteLimit": 2048000,
      "rowLimit": 10000
     },
     "inputWidgets": {},
     "nuid": "d5f9c211-9624-48d5-b857-186e74bfc144",
     "showTitle": false,
     "tableResultSettingsMap": {},
     "title": ""
    }
   },
   "outputs": [],
   "source": []
  }
 ],
 "metadata": {
  "application/vnd.databricks.v1+notebook": {
   "computePreferences": null,
   "dashboards": [],
   "environmentMetadata": {
    "base_environment": "",
    "environment_version": "3"
   },
   "inputWidgetPreferences": null,
   "language": "python",
   "notebookMetadata": {
    "mostRecentlyExecutedCommandWithImplicitDF": {
     "commandId": 6104433210085383,
     "dataframes": [
      "_sqldf"
     ]
    },
    "pythonIndentUnit": 4
   },
   "notebookName": "user_group_analysis",
   "widgets": {}
  },
  "language_info": {
   "name": "python"
  }
 },
 "nbformat": 4,
 "nbformat_minor": 0
}
