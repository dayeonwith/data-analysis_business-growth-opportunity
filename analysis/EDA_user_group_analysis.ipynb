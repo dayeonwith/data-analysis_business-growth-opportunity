{
 "cells": [
  {
   "cell_type": "markdown",
   "metadata": {
    "application/vnd.databricks.v1+cell": {
     "cellMetadata": {
      "batchId": -7345219235443509,
      "byteLimit": 2048000,
      "rowLimit": 10000
     },
     "inputWidgets": {},
     "nuid": "74c8059f-f2a7-4fcc-b128-febec5ead128",
     "showTitle": false,
     "tableResultSettingsMap": {},
     "title": ""
    }
   },
   "source": [
    "# User Group Analysis\n",
    "To categorize core target groups, I analyzed foreign residents data and visitors data."
   ]
  },
  {
   "cell_type": "markdown",
   "metadata": {
    "application/vnd.databricks.v1+cell": {
     "cellMetadata": {
      "batchId": -7345219235443509,
      "byteLimit": 2048000,
      "rowLimit": 10000
     },
     "inputWidgets": {},
     "nuid": "02963a59-4b2f-4c57-905e-6de8b646cf4c",
     "showTitle": false,
     "tableResultSettingsMap": {},
     "title": ""
    }
   },
   "source": [
    "## 1. Foreign residents\n"
   ]
  },
  {
   "cell_type": "code",
   "execution_count": 0,
   "metadata": {
    "application/vnd.databricks.v1+cell": {
     "cellMetadata": {
      "byteLimit": 2048000,
      "rowLimit": 10000
     },
     "inputWidgets": {},
     "nuid": "efa4e3b8-5642-4a35-bed7-e01f3fadc548",
     "showTitle": true,
     "tableResultSettingsMap": {},
     "title": "libraries"
    }
   },
   "outputs": [],
   "source": [
    "from pyspark.sql import SparkSession\n",
    "from pyspark.sql.functions import count, when, col, isnan, max, sum, explode, split, trim, avg, lag\n",
    "import matplotlib.pyplot as plt\n",
    "import pandas as pd"
   ]
  },
  {
   "cell_type": "code",
   "execution_count": 0,
   "metadata": {
    "application/vnd.databricks.v1+cell": {
     "cellMetadata": {
      "byteLimit": 2048000,
      "rowLimit": 10000
     },
     "inputWidgets": {},
     "nuid": "1ef2e87c-7257-4adc-a1c2-4b3a4a336f2d",
     "showTitle": false,
     "tableResultSettingsMap": {},
     "title": ""
    }
   },
   "outputs": [],
   "source": [
    "spark = SparkSession.builder.appName(\"analysis_user_group\").getOrCreate()"
   ]
  },
  {
   "cell_type": "code",
   "execution_count": 0,
   "metadata": {
    "application/vnd.databricks.v1+cell": {
     "cellMetadata": {
      "byteLimit": 2048000,
      "rowLimit": 10000
     },
     "inputWidgets": {},
     "nuid": "5533a1ab-70aa-4621-806c-1dfa70665494",
     "showTitle": false,
     "tableResultSettingsMap": {},
     "title": ""
    }
   },
   "outputs": [],
   "source": [
    "query = \"\"\"\n",
    "select *\n",
    "from workspace.growth_poc.silver_residents\n",
    "where year >= (select max(year)-4 from workspace.growth_poc.silver_residents)\n",
    "    AND lower(Nationality) <> 'undefined'\n",
    "\"\"\"\n",
    "residents_df = spark.sql(query)"
   ]
  },
  {
   "cell_type": "code",
   "execution_count": 0,
   "metadata": {
    "application/vnd.databricks.v1+cell": {
     "cellMetadata": {
      "byteLimit": 2048000,
      "rowLimit": 10000
     },
     "inputWidgets": {},
     "nuid": "bd4e2dce-c8b0-4596-84ee-593e70ee0c51",
     "showTitle": false,
     "tableResultSettingsMap": {},
     "title": ""
    }
   },
   "outputs": [],
   "source": [
    "# 1. check schema\n",
    "residents_df.printSchema()\n",
    "print()\n",
    "# 2. check column names\n",
    "print(residents_df.columns)\n",
    "print()\n",
    "# 3. check data typue\n",
    "print(residents_df.dtypes)\n",
    "print()\n",
    "# 4. check number of rows\n",
    "print(f\"Total number of rows: {residents_df.count()}\")\n",
    "print()\n",
    "# 5. check statistical status\n",
    "residents_df.describe().show()\n",
    "\n",
    "# 6. check missing values\n",
    "# get numeric columns\n",
    "numeric_cols = [name for name, dtype in residents_df.dtypes if dtype in ('double', 'float', 'bigint')]\n",
    "# numeric columns: count null values\n",
    "for c in numeric_cols:\n",
    "    null_count = residents_df.select(count(when(col(c).isNull() | isnan(c), c))).collect()[0][0]\n",
    "    print(f\"{c}: {null_count} nulls\")\n",
    "\n"
   ]
  },
  {
   "cell_type": "markdown",
   "metadata": {
    "application/vnd.databricks.v1+cell": {
     "cellMetadata": {
      "batchId": -7345219235443509,
      "byteLimit": 2048000,
      "rowLimit": 10000
     },
     "inputWidgets": {},
     "nuid": "ca1f1c2e-86d8-4b16-ba6b-e0d97d0cfcf5",
     "showTitle": false,
     "tableResultSettingsMap": {},
     "title": ""
    }
   },
   "source": [
    "### 1-1. Nationality\n"
   ]
  },
  {
   "cell_type": "code",
   "execution_count": 0,
   "metadata": {
    "application/vnd.databricks.v1+cell": {
     "cellMetadata": {
      "byteLimit": 2048000,
      "rowLimit": 10000
     },
     "inputWidgets": {},
     "nuid": "07e4fd87-0b02-4860-b624-ffab19f847b2",
     "showTitle": false,
     "tableResultSettingsMap": {},
     "title": ""
    }
   },
   "outputs": [],
   "source": [
    "max_year = residents_df.select(col(\"Year\")).agg(max(\"Year\")).collect()[0][0]\n",
    "current_residents_df = residents_df.filter(col(\"Year\") == max_year)\n",
    "\n",
    "total_shortterm_residents = current_residents_df.filter(col(\"Resident_Category\") == \"short-term\").select(\"Amount\").agg(sum(\"Amount\")).collect()[0][0]\n",
    "total_longterm_residents = current_residents_df.filter(col(\"Resident_Category\") == \"long-term\").select(\"Amount\").agg(sum(\"Amount\")).collect()[0][0]\n",
    "\n",
    "print(f\"--Number of Foreign Residents in {max_year}--\")\n",
    "print(f\"Short term: {total_shortterm_residents}\")\n",
    "print(f\"Long term: {total_longterm_residents}\")\n",
    "print(f\"Total: {total_shortterm_residents + total_longterm_residents}\")"
   ]
  },
  {
   "cell_type": "markdown",
   "metadata": {
    "application/vnd.databricks.v1+cell": {
     "cellMetadata": {
      "batchId": -7345219235443509,
      "byteLimit": 2048000,
      "rowLimit": 10000
     },
     "inputWidgets": {},
     "nuid": "8d85b3a6-1c00-4cc5-ae6f-4698825091d4",
     "showTitle": false,
     "tableResultSettingsMap": {},
     "title": ""
    }
   },
   "source": [
    "#### 1-1-1. Current"
   ]
  },
  {
   "cell_type": "markdown",
   "metadata": {
    "application/vnd.databricks.v1+cell": {
     "cellMetadata": {
      "batchId": -7345219235443509,
      "byteLimit": 2048000,
      "rowLimit": 10000
     },
     "inputWidgets": {},
     "nuid": "e471e459-8f02-4399-a785-9c40eacb86ab",
     "showTitle": false,
     "tableResultSettingsMap": {},
     "title": ""
    }
   },
   "source": [
    "current "
   ]
  },
  {
   "cell_type": "code",
   "execution_count": 0,
   "metadata": {
    "application/vnd.databricks.v1+cell": {
     "cellMetadata": {
      "byteLimit": 2048000,
      "rowLimit": 10000
     },
     "inputWidgets": {},
     "nuid": "50fea8d0-eed4-48ce-95cb-999637f70e1d",
     "showTitle": false,
     "tableResultSettingsMap": {},
     "title": ""
    }
   },
   "outputs": [],
   "source": [
    "top_5_shortterm_nationality_df = current_residents_df.filter((col(\"Resident_Category\") == \"short-term\"))\\\n",
    "    .groupBy(\"Nationality_English\")\\\n",
    "    .agg(sum(\"Amount\").alias(\"Count\")) \\\n",
    "    .orderBy(col(\"Count\").desc()) \\\n",
    "    .limit(5) \\\n",
    "    .toPandas()\n",
    "\n",
    "top_5_shortterm_nationality_df\n",
    " \n",
    "labels = top_5_shortterm_nationality_df['Nationality_English']\n",
    "sizes = top_5_shortterm_nationality_df['Count']\n",
    "\n",
    "plt.figure(figsize = (4,4))\n",
    "plt.pie(sizes, labels=labels, autopct='%.1f%%', startangle=90)\n",
    "plt.title(\"Nationality Distribution in Short-Term Residents\")\n",
    "plt.axis(\"equal\")\n",
    "plt.show()\n"
   ]
  },
  {
   "cell_type": "code",
   "execution_count": 0,
   "metadata": {
    "application/vnd.databricks.v1+cell": {
     "cellMetadata": {
      "byteLimit": 2048000,
      "rowLimit": 10000
     },
     "inputWidgets": {},
     "nuid": "ac5bea22-1505-4563-8222-0c2007d8309b",
     "showTitle": false,
     "tableResultSettingsMap": {},
     "title": ""
    }
   },
   "outputs": [],
   "source": [
    "top_5_longterm_nationality_df = current_residents_df.filter(col(\"Resident_Category\") == \"long-term\")\\\n",
    "    .groupBy(\"Nationality_English\")\\\n",
    "    .agg(sum(\"Amount\").alias(\"Count\")) \\\n",
    "    .orderBy(col(\"Count\").desc()) \\\n",
    "    .limit(5) \\\n",
    "    .toPandas()\n",
    " \n",
    "labels = top_5_longterm_nationality_df['Nationality_English']\n",
    "sizes = top_5_longterm_nationality_df['Count']\n",
    "\n",
    "plt.figure(figsize = (4,4))\n",
    "plt.pie(sizes, labels=labels, autopct='%.1f%%', startangle=90)\n",
    "plt.title(\"Nationality Distribution in Long-Term Residents\")\n",
    "plt.axis(\"equal\")\n",
    "plt.show()\n"
   ]
  },
  {
   "cell_type": "markdown",
   "metadata": {
    "application/vnd.databricks.v1+cell": {
     "cellMetadata": {
      "batchId": -7345219235443509,
      "byteLimit": 2048000,
      "rowLimit": 10000
     },
     "inputWidgets": {},
     "nuid": "fdb7634f-f6c1-4afb-b6ed-befbe095cd23",
     "showTitle": false,
     "tableResultSettingsMap": {},
     "title": ""
    }
   },
   "source": [
    "average"
   ]
  },
  {
   "cell_type": "code",
   "execution_count": 0,
   "metadata": {
    "application/vnd.databricks.v1+cell": {
     "cellMetadata": {
      "byteLimit": 2048000,
      "rowLimit": 10000
     },
     "inputWidgets": {},
     "nuid": "87eeb1d9-1637-460a-82ce-dee522f8f5e2",
     "showTitle": false,
     "tableResultSettingsMap": {},
     "title": ""
    }
   },
   "outputs": [],
   "source": [
    "top_5_average_shortterm_nationality_df = residents_df.filter((col(\"Resident_Category\") == \"short-term\"))\\\n",
    "    .groupBy(\"Nationality_English\")\\\n",
    "    .agg(avg(\"Amount\").alias(\"average_count\")) \\\n",
    "    .orderBy(col(\"average_count\").desc()) \\\n",
    "    .limit(5) \\\n",
    "    .toPandas()\n",
    "\n",
    "labels = top_5_average_shortterm_nationality_df['Nationality_English']\n",
    "sizes = top_5_average_shortterm_nationality_df['average_count']\n",
    "\n",
    "plt.figure(figsize = (4,4))\n",
    "plt.pie(sizes, labels=labels, autopct='%.1f%%', startangle=90)\n",
    "plt.title(\"Average Nationality Distribution in Short-Term Residents\")\n",
    "plt.axis(\"equal\")\n",
    "plt.show()\n"
   ]
  },
  {
   "cell_type": "code",
   "execution_count": 0,
   "metadata": {
    "application/vnd.databricks.v1+cell": {
     "cellMetadata": {
      "byteLimit": 2048000,
      "rowLimit": 10000
     },
     "inputWidgets": {},
     "nuid": "f4428c8b-7e88-4ebc-981d-2bcd5c4b6bbe",
     "showTitle": false,
     "tableResultSettingsMap": {},
     "title": ""
    }
   },
   "outputs": [],
   "source": [
    "top_5_average_longterm_nationality_df = residents_df.filter((col(\"Resident_Category\") == \"long-term\"))\\\n",
    "    .groupBy(\"Nationality_English\")\\\n",
    "    .agg(avg(\"Amount\").alias(\"average_count\")) \\\n",
    "    .orderBy(col(\"average_count\").desc()) \\\n",
    "    .limit(5) \\\n",
    "    .toPandas()\n",
    "\n",
    "labels = top_5_average_longterm_nationality_df['Nationality_English']\n",
    "sizes = top_5_average_longterm_nationality_df['average_count']\n",
    "\n",
    "plt.figure(figsize = (4,4))\n",
    "plt.pie(sizes, labels=labels, autopct='%.1f%%', startangle=90)\n",
    "plt.title(\"Average Nationality Distribution in Long-Term Residents\")\n",
    "plt.axis(\"equal\")\n",
    "plt.show()\n"
   ]
  },
  {
   "cell_type": "markdown",
   "metadata": {
    "application/vnd.databricks.v1+cell": {
     "cellMetadata": {
      "batchId": -7345219235443509,
      "byteLimit": 2048000,
      "rowLimit": 10000
     },
     "inputWidgets": {},
     "nuid": "7f78e420-bc33-4a49-b5a7-9f3a39c88535",
     "showTitle": false,
     "tableResultSettingsMap": {},
     "title": ""
    }
   },
   "source": [
    "#### 1-1-2. Trend"
   ]
  },
  {
   "cell_type": "code",
   "execution_count": 0,
   "metadata": {
    "application/vnd.databricks.v1+cell": {
     "cellMetadata": {
      "byteLimit": 2048000,
      "rowLimit": 10000
     },
     "inputWidgets": {},
     "nuid": "5f48e758-4511-475c-80bb-1804180cc9b7",
     "showTitle": false,
     "tableResultSettingsMap": {},
     "title": ""
    }
   },
   "outputs": [],
   "source": [
    "top_nationalities = pd.concat([\n",
    "    top_5_average_longterm_nationality_df[\"Nationality_English\"],\n",
    "    top_5_average_shortterm_nationality_df[\"Nationality_English\"],\n",
    "    top_5_longterm_nationality_df[\"Nationality_English\"],\n",
    "    top_5_shortterm_nationality_df[\"Nationality_English\"]\n",
    "])\n",
    "\n",
    "# remove duplicates\n",
    "countries_to_focus = top_nationalities.drop_duplicates().tolist()"
   ]
  },
  {
   "cell_type": "code",
   "execution_count": 0,
   "metadata": {
    "application/vnd.databricks.v1+cell": {
     "cellMetadata": {
      "byteLimit": 2048000,
      "rowLimit": 10000
     },
     "inputWidgets": {},
     "nuid": "256cdc17-f72a-4224-a441-fbe031258cce",
     "showTitle": false,
     "tableResultSettingsMap": {},
     "title": ""
    }
   },
   "outputs": [],
   "source": [
    "residents_pd = residents_df.filter(col(\"Nationality_English\").isin(countries_to_focus)) \\\n",
    "    .groupBy(\"Year\", \"Resident_Category\", \"Nationality_English\") \\\n",
    "    .agg(sum(\"Amount\").alias(\"count\")) \\\n",
    "    .withColumnRenamed(\"Nationality_English\", \"Nationality\")\\\n",
    "    .toPandas()\n",
    "\n",
    "shortterm_pivot_df = residents_pd[residents_pd[\"Resident_Category\"] == \"short-term\"].pivot_table(\n",
    "    index = \"Year\",\n",
    "    columns = \"Nationality\",\n",
    "    values = \"count\",\n",
    "    aggfunc= \"sum\"\n",
    ").fillna(0)\n",
    " "
   ]
  },
  {
   "cell_type": "code",
   "execution_count": 0,
   "metadata": {
    "application/vnd.databricks.v1+cell": {
     "cellMetadata": {
      "byteLimit": 2048000,
      "rowLimit": 10000
     },
     "inputWidgets": {},
     "nuid": "6123e452-4f58-4e0e-b8e9-79269af8478e",
     "showTitle": false,
     "tableResultSettingsMap": {},
     "title": ""
    }
   },
   "outputs": [],
   "source": [
    "plt.figure(figsize=(8, 4))\n",
    "for nationality in shortterm_pivot_df.columns:\n",
    "    plt.plot(shortterm_pivot_df.index, shortterm_pivot_df[nationality], marker='o', label=nationality)\n",
    "\n",
    "plt.xlabel('Year')\n",
    "plt.ylabel('Count')\n",
    "plt.title('Short-Term Resident Count by Nationality')\n",
    "plt.legend(loc='upper left', bbox_to_anchor=(1.01, 1))\n",
    "plt.grid(True)\n",
    "plt.tight_layout()\n",
    "plt.show()"
   ]
  },
  {
   "cell_type": "code",
   "execution_count": 0,
   "metadata": {
    "application/vnd.databricks.v1+cell": {
     "cellMetadata": {
      "byteLimit": 2048000,
      "rowLimit": 10000
     },
     "inputWidgets": {},
     "nuid": "7bac2a17-6b34-4e92-81f0-3fe9d87e0a0a",
     "showTitle": false,
     "tableResultSettingsMap": {},
     "title": ""
    }
   },
   "outputs": [],
   "source": [
    "longterm_pivot_df = residents_pd[residents_pd[\"Resident_Category\"] == \"long-term\"].pivot_table(\n",
    "    index = \"Year\",\n",
    "    columns = \"Nationality\",\n",
    "    values = \"count\",\n",
    "    aggfunc= \"sum\"\n",
    ").fillna(0)\n",
    "\n",
    "plt.figure(figsize=(8, 4))\n",
    "for nationality in longterm_pivot_df.columns:\n",
    "    plt.plot(longterm_pivot_df.index, longterm_pivot_df[nationality], marker='o', label=nationality)\n",
    "\n",
    "plt.xlabel('Year')\n",
    "plt.ylabel('Count')\n",
    "plt.title('Long-Term Resident Count by Nationality')\n",
    "plt.legend(loc='upper left', bbox_to_anchor=(1.01, 1))\n",
    "plt.grid(True)\n",
    "plt.tight_layout()\n",
    "plt.show()"
   ]
  },
  {
   "cell_type": "markdown",
   "metadata": {
    "application/vnd.databricks.v1+cell": {
     "cellMetadata": {},
     "inputWidgets": {},
     "nuid": "5c0d2df2-315c-4bd9-9855-d40573c7272e",
     "showTitle": false,
     "tableResultSettingsMap": {},
     "title": ""
    }
   },
   "source": [
    "### Language"
   ]
  },
  {
   "cell_type": "markdown",
   "metadata": {
    "application/vnd.databricks.v1+cell": {
     "cellMetadata": {},
     "inputWidgets": {},
     "nuid": "cb4e0e47-c1db-4f07-8e8b-aae965a50a44",
     "showTitle": false,
     "tableResultSettingsMap": {},
     "title": ""
    }
   },
   "source": [
    "Current"
   ]
  },
  {
   "cell_type": "code",
   "execution_count": 0,
   "metadata": {
    "application/vnd.databricks.v1+cell": {
     "cellMetadata": {
      "byteLimit": 2048000,
      "rowLimit": 10000
     },
     "inputWidgets": {},
     "nuid": "50a1523c-7185-4262-95df-8563f0b0f60f",
     "showTitle": false,
     "tableResultSettingsMap": {},
     "title": ""
    }
   },
   "outputs": [],
   "source": [
    "language_split_df = residents_df.withColumn(\"language_list\", split(col(\"Primary_Language\"), ','))\n",
    "exploded_language_df = language_split_df.withColumn(\"language\", explode(col(\"language_list\")))\n",
    "exploded_language_df = exploded_language_df.withColumn(\"language\", trim(col(\"language\")))\n",
    "\n",
    "language_aggregated_df = exploded_language_df.groupBy(col(\"language\"), col(\"Year\"), col(\"Resident_Category\")).agg(sum(\"Amount\").alias(\"count\"))"
   ]
  },
  {
   "cell_type": "code",
   "execution_count": 0,
   "metadata": {
    "application/vnd.databricks.v1+cell": {
     "cellMetadata": {
      "byteLimit": 2048000,
      "rowLimit": 10000
     },
     "inputWidgets": {},
     "nuid": "e2692081-ecf9-4978-9b33-a18aef291199",
     "showTitle": false,
     "tableResultSettingsMap": {},
     "title": ""
    }
   },
   "outputs": [],
   "source": [
    "top_5_shortterm_language_df = language_aggregated_df.filter((col(\"Resident_Category\") == \"short-term\") & (col(\"Year\") == max_year)).orderBy(col(\"count\").desc()).limit(5).toPandas()\n",
    "\n",
    "labels = top_5_shortterm_language_df[\"language\"]\n",
    "sizes = top_5_shortterm_language_df[\"count\"]\n",
    "\n",
    "plt.figure(figsize = (4,4))\n",
    "plt.pie(sizes, labels=labels, autopct='%.1f%%', startangle=90)\n",
    "plt.title(\"Language Distribution in Short-Term Residents\")\n",
    "plt.axis(\"equal\")\n",
    "plt.show()\n"
   ]
  },
  {
   "cell_type": "code",
   "execution_count": 0,
   "metadata": {
    "application/vnd.databricks.v1+cell": {
     "cellMetadata": {
      "byteLimit": 2048000,
      "rowLimit": 10000
     },
     "inputWidgets": {},
     "nuid": "6c09e27c-ac03-405a-90dc-93b03af74f6c",
     "showTitle": false,
     "tableResultSettingsMap": {},
     "title": ""
    }
   },
   "outputs": [],
   "source": [
    "top_5_longterm_language_df = language_aggregated_df.filter((col(\"Resident_Category\") == \"long-term\") & (col(\"Year\") == max_year)).orderBy(col(\"count\").desc()).limit(5).toPandas()\n",
    "\n",
    "labels = top_5_longterm_language_df[\"language\"]\n",
    "sizes = top_5_longterm_language_df[\"count\"]\n",
    "\n",
    "plt.figure(figsize = (4,4))\n",
    "plt.pie(sizes, labels=labels, autopct='%.1f%%', startangle=90)\n",
    "plt.title(\"Language Distribution in Long-Term Residents\")\n",
    "plt.axis(\"equal\")\n",
    "plt.show()\n"
   ]
  },
  {
   "cell_type": "markdown",
   "metadata": {
    "application/vnd.databricks.v1+cell": {
     "cellMetadata": {},
     "inputWidgets": {},
     "nuid": "253680c7-c472-475e-b894-564d5ef71f82",
     "showTitle": false,
     "tableResultSettingsMap": {},
     "title": ""
    }
   },
   "source": [
    "Average\n"
   ]
  },
  {
   "cell_type": "code",
   "execution_count": 0,
   "metadata": {
    "application/vnd.databricks.v1+cell": {
     "cellMetadata": {
      "byteLimit": 2048000,
      "rowLimit": 10000
     },
     "inputWidgets": {},
     "nuid": "b61344d4-3818-4dc4-9bfc-48a3ca449cfb",
     "showTitle": false,
     "tableResultSettingsMap": {},
     "title": ""
    }
   },
   "outputs": [],
   "source": [
    "top_5_average_shortterm_language_df = language_aggregated_df.filter((col(\"Resident_Category\") == \"short-term\"))\\\n",
    "    .groupBy(\"language\")\\\n",
    "    .agg(avg(\"count\").alias(\"average_count\")) \\\n",
    "    .orderBy(col(\"average_count\").desc()) \\\n",
    "    .limit(5) \\\n",
    "    .toPandas()\n",
    "\n",
    "labels = top_5_average_shortterm_language_df['language']\n",
    "sizes = top_5_average_shortterm_language_df['average_count']\n",
    "\n",
    "plt.figure(figsize = (4,4))\n",
    "plt.pie(sizes, labels=labels, autopct='%.1f%%', startangle=90)\n",
    "plt.title(\"Average Language Distribution in Short-Term Residents\")\n",
    "plt.axis(\"equal\")\n",
    "plt.show()\n"
   ]
  },
  {
   "cell_type": "code",
   "execution_count": 0,
   "metadata": {
    "application/vnd.databricks.v1+cell": {
     "cellMetadata": {
      "byteLimit": 2048000,
      "rowLimit": 10000
     },
     "inputWidgets": {},
     "nuid": "86d740b1-2882-4c3e-bccc-e4b12b77af63",
     "showTitle": false,
     "tableResultSettingsMap": {},
     "title": ""
    }
   },
   "outputs": [],
   "source": [
    "top_5_average_longterm_language_df = language_aggregated_df.filter((col(\"Resident_Category\") == \"long-term\"))\\\n",
    "    .groupBy(\"language\")\\\n",
    "    .agg(avg(\"count\").alias(\"average_count\")) \\\n",
    "    .orderBy(col(\"average_count\").desc()) \\\n",
    "    .limit(5) \\\n",
    "    .toPandas()\n",
    "\n",
    "labels = top_5_average_longterm_language_df['language']\n",
    "sizes = top_5_average_longterm_language_df['average_count']\n",
    "\n",
    "plt.figure(figsize = (4,4))\n",
    "plt.pie(sizes, labels=labels, autopct='%.1f%%', startangle=90)\n",
    "plt.title(\"Average Language Distribution in Long-Term Residents\")\n",
    "plt.axis(\"equal\")\n",
    "plt.show()\n"
   ]
  },
  {
   "cell_type": "markdown",
   "metadata": {
    "application/vnd.databricks.v1+cell": {
     "cellMetadata": {},
     "inputWidgets": {},
     "nuid": "e6a3a5be-7dc8-4ca0-914d-de6a75db5b70",
     "showTitle": false,
     "tableResultSettingsMap": {},
     "title": ""
    }
   },
   "source": [
    "Trend"
   ]
  },
  {
   "cell_type": "code",
   "execution_count": 0,
   "metadata": {
    "application/vnd.databricks.v1+cell": {
     "cellMetadata": {
      "byteLimit": 2048000,
      "rowLimit": 10000
     },
     "inputWidgets": {},
     "nuid": "4e3a179a-3bd1-42d6-b878-9415bc2249cf",
     "showTitle": false,
     "tableResultSettingsMap": {},
     "title": ""
    }
   },
   "outputs": [],
   "source": [
    "top_languages = pd.concat([\n",
    "    top_5_average_longterm_language_df[\"language\"],\n",
    "    top_5_average_shortterm_language_df[\"language\"],\n",
    "    top_5_longterm_language_df[\"language\"],\n",
    "    top_5_shortterm_language_df[\"language\"]\n",
    "])\n",
    "\n",
    "# remove duplicates\n",
    "languages_to_focus = top_languages.drop_duplicates().tolist()"
   ]
  },
  {
   "cell_type": "code",
   "execution_count": 0,
   "metadata": {
    "application/vnd.databricks.v1+cell": {
     "cellMetadata": {
      "byteLimit": 2048000,
      "rowLimit": 10000
     },
     "inputWidgets": {},
     "nuid": "e581b5b5-e3c4-49b9-9e02-3065324a7b5d",
     "showTitle": false,
     "tableResultSettingsMap": {},
     "title": ""
    }
   },
   "outputs": [],
   "source": [
    "print(languages_to_focus)"
   ]
  },
  {
   "cell_type": "code",
   "execution_count": 0,
   "metadata": {
    "application/vnd.databricks.v1+cell": {
     "cellMetadata": {
      "byteLimit": 2048000,
      "rowLimit": 10000
     },
     "inputWidgets": {},
     "nuid": "9d1c553d-2f44-41bd-aec9-fc66fbaa53e1",
     "showTitle": false,
     "tableResultSettingsMap": {},
     "title": ""
    }
   },
   "outputs": [],
   "source": [
    "residents_languages_pd = language_aggregated_df.filter(col(\"language\").isin(languages_to_focus)) \\\n",
    "    .groupBy(\"Year\", \"Resident_Category\", \"language\") \\\n",
    "    .agg(sum(\"count\").alias(\"count\")) \\\n",
    "    .toPandas()\n",
    "\n",
    "shortterm_language_pivot_df = residents_languages_pd[residents_languages_pd[\"Resident_Category\"] == \"short-term\"].pivot_table(\n",
    "    index = \"Year\",\n",
    "    columns = \"language\",\n",
    "    values = \"count\",\n",
    "    aggfunc= \"sum\"\n",
    ").fillna(0)\n",
    " "
   ]
  },
  {
   "cell_type": "code",
   "execution_count": 0,
   "metadata": {
    "application/vnd.databricks.v1+cell": {
     "cellMetadata": {
      "byteLimit": 2048000,
      "rowLimit": 10000
     },
     "inputWidgets": {},
     "nuid": "c50481a2-2956-4792-ba41-bb3b99cb3b63",
     "showTitle": false,
     "tableResultSettingsMap": {},
     "title": ""
    }
   },
   "outputs": [],
   "source": [
    "shortterm_language_pivot_df.head()\n"
   ]
  },
  {
   "cell_type": "code",
   "execution_count": 0,
   "metadata": {
    "application/vnd.databricks.v1+cell": {
     "cellMetadata": {
      "byteLimit": 2048000,
      "rowLimit": 10000
     },
     "inputWidgets": {},
     "nuid": "ab247faf-3de5-4a7a-843d-35976a18475b",
     "showTitle": false,
     "tableResultSettingsMap": {},
     "title": ""
    }
   },
   "outputs": [],
   "source": [
    "plt.figure(figsize=(8, 4))\n",
    "for language in shortterm_language_pivot_df.columns:\n",
    "    plt.plot(shortterm_language_pivot_df.index, shortterm_language_pivot_df[language], marker='o', label=language)\n",
    "\n",
    "plt.xlabel('Year')\n",
    "plt.ylabel('Count')\n",
    "plt.title('Short-Term Resident Count by Primary Language')\n",
    "plt.legend(loc='upper left', bbox_to_anchor=(1.01, 1))\n",
    "plt.grid(True)\n",
    "plt.tight_layout()\n",
    "plt.show()"
   ]
  },
  {
   "cell_type": "code",
   "execution_count": 0,
   "metadata": {
    "application/vnd.databricks.v1+cell": {
     "cellMetadata": {
      "byteLimit": 2048000,
      "rowLimit": 10000
     },
     "inputWidgets": {},
     "nuid": "78766c75-8b19-440a-907e-917cd46e0d95",
     "showTitle": false,
     "tableResultSettingsMap": {},
     "title": ""
    }
   },
   "outputs": [],
   "source": [
    "longterm_language_pivot_df = residents_languages_pd[residents_languages_pd[\"Resident_Category\"] == \"long-term\"].pivot_table(\n",
    "    index = \"Year\",\n",
    "    columns = \"language\",\n",
    "    values = \"count\",\n",
    "    aggfunc= \"sum\"\n",
    ").fillna(0)\n",
    "\n",
    "plt.figure(figsize=(8, 4))\n",
    "for language in longterm_language_pivot_df.columns:\n",
    "    plt.plot(longterm_language_pivot_df.index, longterm_language_pivot_df[language], marker='o', label=language)\n",
    "\n",
    "plt.xlabel('Year')\n",
    "plt.ylabel('Count')\n",
    "plt.title('Long-Term Resident Count by Primary Language')\n",
    "plt.legend(loc='upper left', bbox_to_anchor=(1.01, 1))\n",
    "plt.grid(True)\n",
    "plt.tight_layout()\n",
    "plt.show()"
   ]
  },
  {
   "cell_type": "markdown",
   "metadata": {
    "application/vnd.databricks.v1+cell": {
     "cellMetadata": {},
     "inputWidgets": {},
     "nuid": "a201c7ca-0dee-4623-b20e-e08c24655cd8",
     "showTitle": false,
     "tableResultSettingsMap": {},
     "title": ""
    }
   },
   "source": [
    "시계열 분석: nationality, long term/ short term.\n",
    "=> 집중해야 할 유저 그룹 선택"
   ]
  },
  {
   "cell_type": "markdown",
   "metadata": {
    "application/vnd.databricks.v1+cell": {
     "cellMetadata": {},
     "inputWidgets": {},
     "nuid": "30d42d51-6895-40ad-a27c-824ff9b4753b",
     "showTitle": false,
     "tableResultSettingsMap": {},
     "title": ""
    }
   },
   "source": [
    "이 다음, country 별 보다는 language로 통합하자"
   ]
  },
  {
   "cell_type": "markdown",
   "metadata": {
    "application/vnd.databricks.v1+cell": {
     "cellMetadata": {},
     "inputWidgets": {},
     "nuid": "1d1b5224-40c8-44bc-86e4-cd0b03d6efb8",
     "showTitle": false,
     "tableResultSettingsMap": {},
     "title": ""
    }
   },
   "source": [
    "## 2. Foreign Arrivals"
   ]
  },
  {
   "cell_type": "markdown",
   "metadata": {
    "application/vnd.databricks.v1+cell": {
     "cellMetadata": {},
     "inputWidgets": {},
     "nuid": "579e0c91-bdb6-42ce-a9ac-cb84fa8a7899",
     "showTitle": false,
     "tableResultSettingsMap": {},
     "title": ""
    }
   },
   "source": [
    "### 2-1. Current Status"
   ]
  },
  {
   "cell_type": "markdown",
   "metadata": {
    "application/vnd.databricks.v1+cell": {
     "cellMetadata": {},
     "inputWidgets": {},
     "nuid": "18d6a5b1-3273-4c58-8363-4077f51940fa",
     "showTitle": false,
     "tableResultSettingsMap": {},
     "title": ""
    }
   },
   "source": [
    "### 2-2. Trend Analysis"
   ]
  },
  {
   "cell_type": "code",
   "execution_count": 0,
   "metadata": {
    "application/vnd.databricks.v1+cell": {
     "cellMetadata": {
      "byteLimit": 2048000,
      "implicitDf": true,
      "rowLimit": 10000
     },
     "inputWidgets": {},
     "nuid": "73aba65b-c4ff-475f-b6b0-394b83ad0073",
     "showTitle": false,
     "tableResultSettingsMap": {},
     "title": ""
    }
   },
   "outputs": [],
   "source": [
    "%sql\n",
    "select distinct pu\n",
    "from workspace.growth_poc.silver_residents\n"
   ]
  },
  {
   "cell_type": "code",
   "execution_count": 0,
   "metadata": {
    "application/vnd.databricks.v1+cell": {
     "cellMetadata": {
      "byteLimit": 2048000,
      "implicitDf": true,
      "rowLimit": 10000
     },
     "inputWidgets": {},
     "nuid": "4adcc8c9-2fe1-4aef-88d2-bf1dbc741457",
     "showTitle": false,
     "tableResultSettingsMap": {},
     "title": ""
    }
   },
   "outputs": [],
   "source": [
    "%sql\n",
    "select Resident_Category\n",
    "  , Nationality\n",
    "  , sum(Amount)\n",
    "from workspace.growth_poc.silver_residents\n",
    "group by Resident_Category\n",
    "  , Nationality\n",
    "order by sum(amount) desc "
   ]
  },
  {
   "cell_type": "code",
   "execution_count": 0,
   "metadata": {
    "application/vnd.databricks.v1+cell": {
     "cellMetadata": {
      "byteLimit": 2048000,
      "implicitDf": true,
      "rowLimit": 10000
     },
     "inputWidgets": {},
     "nuid": "ccb8e17b-f163-4145-8a5b-3f39961b33a8",
     "showTitle": false,
     "tableResultSettingsMap": {
      "0": {
       "dataGridStateBlob": "{\"version\":1,\"tableState\":{\"columnPinning\":{\"left\":[\"#row_number#\"],\"right\":[]},\"columnSizing\":{},\"columnVisibility\":{}},\"settings\":{\"columns\":{}},\"syncTimestamp\":1759129234399}",
       "filterBlob": null,
       "queryPlanFiltersBlob": null,
       "tableResultIndex": 0
      }
     },
     "title": ""
    }
   },
   "outputs": [],
   "source": [
    "%sql\n",
    "select distinct purpose \n",
    "from workspace.growth_poc.silver_visitors limit 10 "
   ]
  },
  {
   "cell_type": "code",
   "execution_count": 0,
   "metadata": {
    "application/vnd.databricks.v1+cell": {
     "cellMetadata": {
      "byteLimit": 2048000,
      "rowLimit": 10000
     },
     "inputWidgets": {},
     "nuid": "88da2ce1-08e7-4b0b-9286-8650f8b88064",
     "showTitle": false,
     "tableResultSettingsMap": {},
     "title": ""
    }
   },
   "outputs": [],
   "source": [
    "# \t현재 대한민국에 체류 중인 외국인은 총 몇 명인가?\n",
    "# \t국적, 연령, 성별, 체류 자격(유학생, 취업, 거주 등)에 따른 인구 분포는 어떻게 되는가?\n",
    "# \t지난 5년간 체류 외국인 수의 증감 추세는 어떠한가?\n",
    "\n",
    "\n",
    "\n"
   ]
  },
  {
   "cell_type": "code",
   "execution_count": 0,
   "metadata": {
    "application/vnd.databricks.v1+cell": {
     "cellMetadata": {
      "byteLimit": 2048000,
      "implicitDf": true,
      "rowLimit": 10000
     },
     "inputWidgets": {},
     "nuid": "12f98100-95dc-4da5-8507-5207004a132e",
     "showTitle": false,
     "tableResultSettingsMap": {},
     "title": ""
    }
   },
   "outputs": [],
   "source": [
    "%sql\n",
    "select Nationality_English\n",
    "    , Primary_Language\n",
    "    , sum(Amount)\n",
    "from workspace.growth_poc.silver_residents\n",
    "where Year = 2024\n",
    "group by Nationality_English, Primary_Language\n",
    "order by sum(Amount) desc"
   ]
  },
  {
   "cell_type": "code",
   "execution_count": 0,
   "metadata": {
    "application/vnd.databricks.v1+cell": {
     "cellMetadata": {
      "byteLimit": 2048000,
      "implicitDf": true,
      "rowLimit": 10000
     },
     "inputWidgets": {},
     "nuid": "5ee19bd3-77c0-4779-b942-d03f4819301b",
     "showTitle": false,
     "tableResultSettingsMap": {
      "0": {
       "dataGridStateBlob": "{\"version\":1,\"tableState\":{\"columnPinning\":{\"left\":[\"#row_number#\"],\"right\":[]},\"columnSizing\":{},\"columnVisibility\":{}},\"settings\":{\"columns\":{}},\"syncTimestamp\":1759124901066}",
       "filterBlob": null,
       "queryPlanFiltersBlob": null,
       "tableResultIndex": 0
      }
     },
     "title": ""
    }
   },
   "outputs": [],
   "source": [
    "%sql\n",
    "select language\n",
    "  , country\n",
    "  , count(*)\n",
    "from workspace.growth_poc.silver_appstore_reviews \n",
    "group by language, country\n",
    "order by language, count(*) desc\n",
    "\n",
    "\n",
    "limit 100"
   ]
  },
  {
   "cell_type": "code",
   "execution_count": 0,
   "metadata": {
    "application/vnd.databricks.v1+cell": {
     "cellMetadata": {
      "byteLimit": 2048000,
      "implicitDf": true,
      "rowLimit": 10000
     },
     "inputWidgets": {},
     "nuid": "53643b3f-08b9-4722-b90f-b8bbb397df8f",
     "showTitle": false,
     "tableResultSettingsMap": {},
     "title": ""
    }
   },
   "outputs": [],
   "source": [
    "%sql\n",
    "select content_translated, updated\n",
    "from workspace.growth_poc.silver_appstore_reviews\n",
    "where lower(language) like '%cn%'"
   ]
  },
  {
   "cell_type": "code",
   "execution_count": 0,
   "metadata": {
    "application/vnd.databricks.v1+cell": {
     "cellMetadata": {
      "byteLimit": 2048000,
      "implicitDf": true,
      "rowLimit": 10000
     },
     "inputWidgets": {},
     "nuid": "2ed6e877-e4df-41a6-8ce4-66897d6414ca",
     "showTitle": false,
     "tableResultSettingsMap": {
      "0": {
       "dataGridStateBlob": "{\"version\":1,\"tableState\":{\"columnPinning\":{\"left\":[\"#row_number#\"],\"right\":[]},\"columnSizing\":{},\"columnVisibility\":{}},\"settings\":{\"columns\":{}},\"syncTimestamp\":1759126541798}",
       "filterBlob": null,
       "queryPlanFiltersBlob": null,
       "tableResultIndex": 0
      }
     },
     "title": ""
    }
   },
   "outputs": [],
   "source": [
    "%sql\n",
    "select *\n",
    "from workspace.growth_poc.analysis_reviews\n",
    "where lower(review_content) like '%transl%'"
   ]
  },
  {
   "cell_type": "code",
   "execution_count": 0,
   "metadata": {
    "application/vnd.databricks.v1+cell": {
     "cellMetadata": {
      "byteLimit": 2048000,
      "implicitDf": true,
      "rowLimit": 10000
     },
     "inputWidgets": {},
     "nuid": "0951c158-9668-42c6-94af-4b9febae6093",
     "showTitle": false,
     "tableResultSettingsMap": {},
     "title": ""
    }
   },
   "outputs": [],
   "source": [
    "%sql\n",
    "select * from workspace.growth_poc.analysis_reviews  where language = 'ko'"
   ]
  },
  {
   "cell_type": "code",
   "execution_count": 0,
   "metadata": {
    "application/vnd.databricks.v1+cell": {
     "cellMetadata": {
      "byteLimit": 2048000,
      "implicitDf": true,
      "rowLimit": 10000
     },
     "inputWidgets": {},
     "nuid": "135606be-436d-419f-9744-65b8134b4fd8",
     "showTitle": false,
     "tableResultSettingsMap": {},
     "title": ""
    }
   },
   "outputs": [],
   "source": [
    "%sql \n",
    "select *\n",
    "from workspace.growth_poc.silver_app_reviews\n",
    "where written_language = 'so'\n",
    " "
   ]
  },
  {
   "cell_type": "code",
   "execution_count": 0,
   "metadata": {
    "application/vnd.databricks.v1+cell": {
     "cellMetadata": {
      "byteLimit": 2048000,
      "implicitDf": true,
      "rowLimit": 10000
     },
     "inputWidgets": {},
     "nuid": "9a142ef1-ff2a-4399-8019-cbdf22d620a6",
     "showTitle": false,
     "tableResultSettingsMap": {},
     "title": ""
    }
   },
   "outputs": [],
   "source": [
    "%sql\n",
    "select *\n",
    "from workspace.growth_poc.silver_visitors"
   ]
  },
  {
   "cell_type": "code",
   "execution_count": 0,
   "metadata": {
    "application/vnd.databricks.v1+cell": {
     "cellMetadata": {
      "byteLimit": 2048000,
      "implicitDf": true,
      "rowLimit": 10000
     },
     "inputWidgets": {},
     "nuid": "aab4563b-23ee-41a3-92f9-6c12ed9b8cb5",
     "showTitle": false,
     "tableResultSettingsMap": {},
     "title": ""
    }
   },
   "outputs": [],
   "source": [
    "%sql\n",
    "select * from workspace.growth_poc.silver_visitors_agegroup limit 10"
   ]
  },
  {
   "cell_type": "code",
   "execution_count": 0,
   "metadata": {
    "application/vnd.databricks.v1+cell": {
     "cellMetadata": {
      "byteLimit": 2048000,
      "implicitDf": true,
      "rowLimit": 10000
     },
     "inputWidgets": {},
     "nuid": "305e84d4-aaed-4bf7-856f-5651af3a8bc3",
     "showTitle": false,
     "tableResultSettingsMap": {},
     "title": ""
    }
   },
   "outputs": [],
   "source": [
    "%sql\n",
    "select * from workspace.growth_poc.silver_visitors limit 10"
   ]
  },
  {
   "cell_type": "code",
   "execution_count": 0,
   "metadata": {
    "application/vnd.databricks.v1+cell": {
     "cellMetadata": {
      "byteLimit": 2048000,
      "implicitDf": true,
      "rowLimit": 10000
     },
     "inputWidgets": {},
     "nuid": "52f3efac-decd-4fcb-89b3-b44d26fb42e6",
     "showTitle": false,
     "tableResultSettingsMap": {},
     "title": ""
    }
   },
   "outputs": [],
   "source": [
    "%sql\n",
    "select *\n",
    "from workspace.growth_poc.silver_residents\n",
    "where year >= (select max(year)-4 from workspace.growth_poc.silver_residents)"
   ]
  },
  {
   "cell_type": "code",
   "execution_count": 0,
   "metadata": {
    "application/vnd.databricks.v1+cell": {
     "cellMetadata": {},
     "inputWidgets": {},
     "nuid": "fd5677bf-2219-48c5-8ff7-596797de336d",
     "showTitle": false,
     "tableResultSettingsMap": {},
     "title": ""
    }
   },
   "outputs": [],
   "source": []
  },
  {
   "cell_type": "code",
   "execution_count": 0,
   "metadata": {
    "application/vnd.databricks.v1+cell": {
     "cellMetadata": {
      "byteLimit": 2048000,
      "rowLimit": 10000
     },
     "inputWidgets": {},
     "nuid": "bdf9ae4b-efda-46b1-9a31-e13b960238a4",
     "showTitle": false,
     "tableResultSettingsMap": {},
     "title": ""
    }
   },
   "outputs": [],
   "source": [
    "# %md\n",
    "# 2.\t핵심 사용자 그룹 세분화 (Segmentation):\n",
    "# o\t핵심 질문:\n",
    "# \t배달 앱 주 사용층일 가능성이 높은 연령대(예: 20-40대)의 외국인 규모는 어느 정도인가?\n",
    "# \t특정 국적(예: 영어권, 중국어권 등)의 인구 집단이 특별히 큰 비중을 차지하는가?\n",
    "# \tIT 기기 활용에 능숙하고 구매력이 있을 것으로 예상되는 그룹(예: D-2 유학생, E-7 전문인력)의 규모는 얼마나 되는가?\n"
   ]
  },
  {
   "cell_type": "code",
   "execution_count": 0,
   "metadata": {
    "application/vnd.databricks.v1+cell": {
     "cellMetadata": {},
     "inputWidgets": {},
     "nuid": "d5f9c211-9624-48d5-b857-186e74bfc144",
     "showTitle": false,
     "tableResultSettingsMap": {},
     "title": ""
    }
   },
   "outputs": [],
   "source": []
  }
 ],
 "metadata": {
  "application/vnd.databricks.v1+notebook": {
   "computePreferences": null,
   "dashboards": [],
   "environmentMetadata": {
    "base_environment": "",
    "environment_version": "3"
   },
   "inputWidgetPreferences": null,
   "language": "python",
   "notebookMetadata": {
    "mostRecentlyExecutedCommandWithImplicitDF": {
     "commandId": 7937577056523535,
     "dataframes": [
      "_sqldf"
     ]
    },
    "pythonIndentUnit": 4
   },
   "notebookName": "EDA_user_group_analysis",
   "widgets": {}
  },
  "language_info": {
   "name": "python"
  }
 },
 "nbformat": 4,
 "nbformat_minor": 0
}
