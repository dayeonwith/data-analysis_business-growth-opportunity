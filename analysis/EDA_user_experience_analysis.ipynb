{
 "cells": [
  {
   "cell_type": "markdown",
   "metadata": {
    "application/vnd.databricks.v1+cell": {
     "cellMetadata": {
      "byteLimit": 2048000,
      "rowLimit": 10000
     },
     "inputWidgets": {},
     "nuid": "8a0e0828-a860-4183-af85-068d252ceeec",
     "showTitle": false,
     "tableResultSettingsMap": {},
     "title": ""
    }
   },
   "source": [
    "<h1>Explore User Experience Data</h1>"
   ]
  },
  {
   "cell_type": "code",
   "execution_count": 0,
   "metadata": {
    "application/vnd.databricks.v1+cell": {
     "cellMetadata": {
      "byteLimit": 2048000,
      "rowLimit": 10000
     },
     "inputWidgets": {},
     "nuid": "97df96bd-e689-4ac4-b39f-47e8b388f5b8",
     "showTitle": false,
     "tableResultSettingsMap": {},
     "title": ""
    }
   },
   "outputs": [],
   "source": [
    "%pip install nltk"
   ]
  },
  {
   "cell_type": "code",
   "execution_count": 0,
   "metadata": {
    "application/vnd.databricks.v1+cell": {
     "cellMetadata": {
      "byteLimit": 2048000,
      "rowLimit": 10000
     },
     "inputWidgets": {},
     "nuid": "6d473a3f-eb2a-4834-a7c4-107327da878c",
     "showTitle": true,
     "tableResultSettingsMap": {},
     "title": "import nltk"
    }
   },
   "outputs": [],
   "source": [
    "# need to run twice\n",
    "import nltk"
   ]
  },
  {
   "cell_type": "code",
   "execution_count": 0,
   "metadata": {
    "application/vnd.databricks.v1+cell": {
     "cellMetadata": {
      "byteLimit": 2048000,
      "rowLimit": 10000
     },
     "inputWidgets": {},
     "nuid": "03c64e5f-5824-42b5-b08b-3b779045f2e5",
     "showTitle": false,
     "tableResultSettingsMap": {},
     "title": ""
    }
   },
   "outputs": [],
   "source": [
    "import nltk "
   ]
  },
  {
   "cell_type": "code",
   "execution_count": 0,
   "metadata": {
    "application/vnd.databricks.v1+cell": {
     "cellMetadata": {
      "byteLimit": 2048000,
      "rowLimit": 10000
     },
     "inputWidgets": {},
     "nuid": "661abbe1-3b27-4508-a249-93b199455c41",
     "showTitle": false,
     "tableResultSettingsMap": {},
     "title": ""
    }
   },
   "outputs": [],
   "source": [
    "nltk.download('vader_lexicon')\n",
    "from nltk.sentiment import SentimentIntensityAnalyzer"
   ]
  },
  {
   "cell_type": "code",
   "execution_count": 0,
   "metadata": {
    "application/vnd.databricks.v1+cell": {
     "cellMetadata": {
      "byteLimit": 2048000,
      "rowLimit": 10000
     },
     "inputWidgets": {},
     "nuid": "2efb116d-39a4-4dfe-8734-655d417bb360",
     "showTitle": true,
     "tableResultSettingsMap": {},
     "title": "Libraries"
    }
   },
   "outputs": [],
   "source": [
    "from pyspark.sql import SparkSession\n",
    "from pyspark.sql.functions import col, year, lit, when, udf, explode, lower, count, size, isnan, sum\n",
    "from pyspark.sql.types import IntegerType, ArrayType, StringType\n",
    "import matplotlib.pyplot as plt\n",
    "import matplotlib.dates as mdates\n",
    "import numpy as np\n",
    "from scipy.stats import shapiro, normaltest"
   ]
  },
  {
   "cell_type": "code",
   "execution_count": 0,
   "metadata": {
    "application/vnd.databricks.v1+cell": {
     "cellMetadata": {
      "byteLimit": 2048000,
      "rowLimit": 10000
     },
     "inputWidgets": {},
     "nuid": "8f1e3761-2e43-45fb-8a82-af8c6aca17a6",
     "showTitle": false,
     "tableResultSettingsMap": {},
     "title": ""
    }
   },
   "outputs": [],
   "source": [
    "spark = SparkSession.builder.appName(\"analysis_painpoint\").getOrCreate()"
   ]
  },
  {
   "cell_type": "code",
   "execution_count": 0,
   "metadata": {
    "application/vnd.databricks.v1+cell": {
     "cellMetadata": {
      "byteLimit": 2048000,
      "rowLimit": 10000
     },
     "inputWidgets": {},
     "nuid": "335d3518-53a5-4c9c-a1ff-65ca2dbad0d6",
     "showTitle": false,
     "tableResultSettingsMap": {},
     "title": ""
    }
   },
   "outputs": [],
   "source": [
    "reddit_url_to_exclude = [\"https://www.reddit.com/r/korea/comments/1it9gty/exclusive_being_taken_prisoner_is_treason_in/\", \"https://www.reddit.com/r/korea/comments/11a53p7/colonial_police_warned_residents_about_police/\", \"https://www.reddit.com/r/korea/comments/13wkuv7/this_is_how_my_ukrainian_neighbor_responded_to/\", \"https://www.reddit.com/r/korea/comments/w6phlt/colonial_authorities_discussed_how_to_reduce/\", \"https://www.reddit.com/r/korea/comments/15xk99n/autopsy_identifies_strangulation_as_preliminary/\", \"https://www.reddit.com/r/korea/comments/6afzls/my_complicated_visa_issue_with_seemingly_no/\"]"
   ]
  },
  {
   "cell_type": "code",
   "execution_count": 0,
   "metadata": {
    "application/vnd.databricks.v1+cell": {
     "cellMetadata": {
      "byteLimit": 2048000,
      "rowLimit": 10000
     },
     "inputWidgets": {},
     "nuid": "4f492f8b-3132-491b-872f-000f86c0f0d7",
     "showTitle": false,
     "tableResultSettingsMap": {},
     "title": ""
    }
   },
   "outputs": [],
   "source": [
    "appstore_df = spark.table(\"workspace.growth_poc.silver_appstore_reviews\") \\\n",
    "                    .filter(year(\"updated\") >= 2023)\\\n",
    "                   .select(\n",
    "                       col(\"updated\").alias(\"review_date\"),\n",
    "                       col(\"rating\").alias(\"review_rate\"),\n",
    "                       col(\"content_translated\").alias(\"review_content\"),\n",
    "                       col(\"sentences\").alias(\"review_sentences\"),\n",
    "                       col(\"words\").alias(\"review_words\"),\n",
    "                       col(\"thumbsUpCount\").alias(\"review_thumbsUpCount\"),\n",
    "                       col(\"appName\"),\n",
    "                       col(\"country\"),\n",
    "                       col(\"language\")\n",
    "                   ) \n",
    "playstore_df = spark.table(\"workspace.growth_poc.silver_playstore_reviews\") \\\n",
    "                    .filter(year(\"at\") >= 2023)\\\n",
    "                    .select(\n",
    "                       col(\"at\").alias(\"review_date\"),\n",
    "                       col(\"score\").alias(\"review_rate\"),\n",
    "                       col(\"content_translated\").alias(\"review_content\"),\n",
    "                       col(\"sentences\").alias(\"review_sentences\"),\n",
    "                       col(\"words\").alias(\"review_words\"),\n",
    "                       col(\"thumbsUpCount\").alias(\"review_thumbsUpCount\"),\n",
    "                       col(\"appName\"),\n",
    "                       col(\"language\")\n",
    "                   ) \n",
    "reddit_df = spark.table(\"workspace.growth_poc.silver_reddit_reviews\")\\\n",
    "                    .filter((year(\"created_datetime\") >= 2023) & ~(col(\"url\").isin(reddit_url_to_exclude))) \\\n",
    "                    .select(\n",
    "                       col(\"created_datetime\").alias(\"review_date\"),\n",
    "                       col(\"content_translated\").alias(\"review_content\"),\n",
    "                       col(\"sentences\").alias(\"review_sentences\"),\n",
    "                       col(\"words\").alias(\"review_words\"),\n",
    "                       col(\"score\").alias(\"review_thumbsUpCount\"),\n",
    "                       col(\"language\")\n",
    "                   ) \n",
    "                    \n",
    "review_contents_df = appstore_df.unionByName(playstore_df,allowMissingColumns=True) \\\n",
    "                                .unionByName(reddit_df,allowMissingColumns=True)\n"
   ]
  },
  {
   "cell_type": "code",
   "execution_count": 0,
   "metadata": {
    "application/vnd.databricks.v1+cell": {
     "cellMetadata": {
      "byteLimit": 2048000,
      "rowLimit": 10000
     },
     "inputWidgets": {},
     "nuid": "b0bd367a-f130-43dd-aec9-8b67d5256b94",
     "showTitle": false,
     "tableResultSettingsMap": {},
     "title": ""
    }
   },
   "outputs": [],
   "source": [
    "# create temp view for faster access in later steps\n",
    "review_contents_df.createOrReplaceTempView(\"review_contents_temp_view\")\n",
    "review_contents_df = spark.sql(\"SELECT * FROM review_contents_temp_view\")"
   ]
  },
  {
   "cell_type": "code",
   "execution_count": 0,
   "metadata": {
    "application/vnd.databricks.v1+cell": {
     "cellMetadata": {
      "byteLimit": 2048000,
      "rowLimit": 10000
     },
     "inputWidgets": {},
     "nuid": "56d263d9-9121-4cbb-af87-64c9e7aadee3",
     "showTitle": false,
     "tableResultSettingsMap": {},
     "title": ""
    }
   },
   "outputs": [],
   "source": [
    "print(appstore_df.count())\n",
    "print(playstore_df.count())\n",
    "print(reddit_df.count())"
   ]
  },
  {
   "cell_type": "markdown",
   "metadata": {
    "application/vnd.databricks.v1+cell": {
     "cellMetadata": {
      "byteLimit": 2048000,
      "rowLimit": 10000
     },
     "inputWidgets": {},
     "nuid": "40cd038f-3278-4f00-ad1c-70157ba4a9e2",
     "showTitle": false,
     "tableResultSettingsMap": {},
     "title": ""
    }
   },
   "source": [
    "<h2>Check Data</h2>"
   ]
  },
  {
   "cell_type": "code",
   "execution_count": 0,
   "metadata": {
    "application/vnd.databricks.v1+cell": {
     "cellMetadata": {
      "byteLimit": 2048000,
      "rowLimit": 10000
     },
     "inputWidgets": {},
     "nuid": "416c320d-54a0-4020-be7d-8f18caa7791f",
     "showTitle": false,
     "tableResultSettingsMap": {},
     "title": ""
    }
   },
   "outputs": [],
   "source": [
    "# 1. check schema\n",
    "review_contents_df.printSchema()\n",
    "print()\n",
    "# 2. check column names\n",
    "print(review_contents_df.columns)\n",
    "print()\n",
    "# 3. check data typue\n",
    "print(review_contents_df.dtypes)\n",
    "print()\n",
    "# 4. check number of rows\n",
    "print(review_contents_df.count())\n",
    "print()\n",
    "# 5. check statistical status\n",
    "review_contents_df.describe().show()\n",
    "\n",
    "# 6. check missing values\n",
    "# get numeric columns\n",
    "numeric_cols = [name for name, dtype in review_contents_df.dtypes if dtype in ('double', 'float', 'bigint')]\n",
    "# numeric columns: count null values\n",
    "for c in numeric_cols:\n",
    "    null_count = review_contents_df.select(count(when(col(c).isNull() | isnan(c), c))).collect()[0][0]\n",
    "    print(f\"{c}: {null_count} nulls\")\n",
    "\n"
   ]
  },
  {
   "cell_type": "markdown",
   "metadata": {
    "application/vnd.databricks.v1+cell": {
     "cellMetadata": {
      "byteLimit": 2048000,
      "rowLimit": 10000
     },
     "inputWidgets": {},
     "nuid": "fd978d81-faa1-46bc-bd7c-6e690d8f9cc7",
     "showTitle": false,
     "tableResultSettingsMap": {},
     "title": ""
    }
   },
   "source": [
    "##1. Word Frequency Analysis\n",
    "To find **common keywords** repeatedly appearing in negative reviews and **biggest pain points** the users are experiencing, I conducted simple frequency analysis and weighted frequency analysis."
   ]
  },
  {
   "cell_type": "markdown",
   "metadata": {
    "application/vnd.databricks.v1+cell": {
     "cellMetadata": {
      "byteLimit": 2048000,
      "rowLimit": 10000
     },
     "inputWidgets": {},
     "nuid": "ff1b1c65-13a9-4abc-ab64-cfdc7976733b",
     "showTitle": false,
     "tableResultSettingsMap": {},
     "title": ""
    }
   },
   "source": [
    "<h3>1-1. Simple Frequency Analysis</h3>"
   ]
  },
  {
   "cell_type": "markdown",
   "metadata": {
    "application/vnd.databricks.v1+cell": {
     "cellMetadata": {
      "byteLimit": 2048000,
      "rowLimit": 10000
     },
     "inputWidgets": {},
     "nuid": "ebdaee75-ac01-4ccc-85ed-198ce4ccfe87",
     "showTitle": false,
     "tableResultSettingsMap": {},
     "title": ""
    }
   },
   "source": [
    "<h4>1-1-1. Single Keyword Frequency Analysis </h4>"
   ]
  },
  {
   "cell_type": "code",
   "execution_count": 0,
   "metadata": {
    "application/vnd.databricks.v1+cell": {
     "cellMetadata": {
      "byteLimit": 2048000,
      "rowLimit": 10000
     },
     "inputWidgets": {},
     "nuid": "08179a57-e44c-480b-934c-e50b7c4283f4",
     "showTitle": false,
     "tableResultSettingsMap": {},
     "title": ""
    }
   },
   "outputs": [],
   "source": [
    "keyword_analysis_df = review_contents_df.select(\"review_rate\", \"review_content\", \"review_words\", \"review_thumbsUpCount\")"
   ]
  },
  {
   "cell_type": "code",
   "execution_count": 0,
   "metadata": {
    "application/vnd.databricks.v1+cell": {
     "cellMetadata": {
      "byteLimit": 2048000,
      "rowLimit": 10000
     },
     "inputWidgets": {},
     "nuid": "2f84b963-0603-47cb-afae-301a0e0c11cb",
     "showTitle": false,
     "tableResultSettingsMap": {},
     "title": ""
    }
   },
   "outputs": [],
   "source": [
    "def detect_negative_review(sentence):\n",
    "    if not sentence: # None or empty string\n",
    "        return 0 \n",
    "    score = analyzer.polarity_scores(sentence)[\"compound\"]\n",
    "    if score < 0:\n",
    "        return 1\n",
    "    elif score > 0:\n",
    "        return -1\n",
    "    else: return 0"
   ]
  },
  {
   "cell_type": "code",
   "execution_count": 0,
   "metadata": {
    "application/vnd.databricks.v1+cell": {
     "cellMetadata": {
      "byteLimit": 2048000,
      "rowLimit": 10000
     },
     "inputWidgets": {},
     "nuid": "c08d3550-5459-4183-a565-3c14edc791aa",
     "showTitle": false,
     "tableResultSettingsMap": {},
     "title": ""
    }
   },
   "outputs": [],
   "source": [
    "# Use VADER for sentiment analysis\n",
    "analyzer = SentimentIntensityAnalyzer()\n",
    "\n",
    "# Mark negative reviews\n",
    "# If review_rate is 2 or less than 2, mark as negative\n",
    "# If review_rate is not available, use VADER to detect\n",
    "detect_negative_review_udf = udf(detect_negative_review, IntegerType())\n",
    "mark_negative_reviews_df = keyword_analysis_df.withColumn(\"is_negative\", \\\n",
    "    when(col(\"review_rate\").isNull(), detect_negative_review_udf(col(\"review_content\")))\\\n",
    "    .when(col(\"review_rate\") <= 2, 1)\\\n",
    "    .when(col(\"review_rate\") > 3, -1)\\\n",
    "    .otherwise(0)   \n",
    ")\n",
    "\n",
    "# get only negative reviews\n",
    "negative_df = mark_negative_reviews_df.filter((col(\"is_negative\") == 1))\n",
    "\n",
    "# flatten words\n",
    "words_exploded = negative_df.select(explode(col(\"review_words\")).alias(\"word\"), col(\"review_thumbsUpCount\"))\n",
    "\n",
    "# set lowercase and count \n",
    "word_counts = words_exploded.withColumn(\"word\", lower(col(\"word\"))) \\\n",
    "                            .groupBy(\"word\").count() \\\n",
    "                            .orderBy(col(\"count\").desc()).limit(100)\n",
    "\n",
    "word_counts.show(100, truncate= False)"
   ]
  },
  {
   "cell_type": "markdown",
   "metadata": {
    "application/vnd.databricks.v1+cell": {
     "cellMetadata": {
      "byteLimit": 2048000,
      "rowLimit": 10000
     },
     "inputWidgets": {},
     "nuid": "949b9140-71dc-4288-ad22-0afcd15bec14",
     "showTitle": false,
     "tableResultSettingsMap": {},
     "title": ""
    }
   },
   "source": [
    "\n",
    "| word      | count |\n",
    "|-----------|-------|\n",
    "| delivery  | 161   |\n",
    "| order     | 153   |\n",
    "| food      | 147   |\n",
    "| korea     | 139   |\n",
    "| korean    | 134   |\n",
    "| get       | 132   |\n",
    "| app       | 130   |\n",
    "| time      | 128   |\n",
    "| card      | 101   |\n",
    "| one       | 91    |\n",
    "| even      | 90    |\n",
    "| like      | 87    |\n",
    "| use       | 80    |\n",
    "| number    | 80    |\n",
    "| thing     | 72    |\n",
    "| phone     | 71    |\n",
    "| go        | 68    |\n",
    "| restaurant| 67    |\n",
    "| work      | 61    |\n",
    "| foreigner | 60    |\n",
    "| service   | 60    |\n",
    "| also      | 59    |\n",
    "| back      | 57    |\n",
    "| make      | 57    |\n",
    "| need      | 56    |\n",
    "| know      | 56    |\n",
    "| people    | 54    |\n",
    "| place     | 54    |\n",
    "| problem   | 53    |\n",
    "| pay       | 52    |\n",
    "| country   | 52    |\n",
    "| review    | 51    |\n",
    "| item      | 51    |\n",
    "| driver    | 49    |\n",
    "| want      | 49    |\n",
    "| really    | 48    |\n",
    "| way       | 47    |\n",
    "| day       | 47    |\n",
    "| never     | 44    |\n",
    "| every     | 44    |\n",
    "| take      | 44    |\n",
    "| account   | 44    |\n",
    "| still     | 41    |\n",
    "| something | 40    |\n",
    "| got       | 40    |\n",
    "| think     | 39    |\n",
    "| come      | 38    |\n",
    "| door      | 37    |\n",
    "| money     | 37    |\n",
    "| going     | 37    |\n",
    "| bad       | 36    |\n",
    "| lot       | 35    |\n",
    "| used      | 35    |\n",
    "| without   | 34    |\n",
    "| good      | 34    |\n",
    "| id        | 33    |\n",
    "| coupang   | 33    |\n",
    "| try       | 33    |\n",
    "| english   | 32    |\n",
    "| apps      | 32    |\n",
    "| much      | 32    |\n",
    "| option    | 31    |\n",
    "| year      | 31    |\n",
    "| call      | 31    |\n",
    "| ordered   | 31    |\n",
    "| live      | 31    |\n",
    "| customer  | 30    |\n",
    "| see       | 30    |\n",
    "| bank      | 30    |\n",
    "| issue     | 30    |\n",
    "| many      | 29    |\n",
    "| say       | 29    |\n",
    "| u         | 29    |\n",
    "| worst     | 28    |\n",
    "| ever      | 28    |\n",
    "| payment   | 28    |\n",
    "| said      | 28    |\n",
    "| using     | 27    |\n",
    "| since     | 27    |\n",
    "| tourist   | 27    |\n",
    "| foreign   | 27    |\n",
    "| sure      | 27    |\n",
    "| hour      | 26    |\n",
    "| first     | 26    |\n",
    "| may       | 26    |\n",
    "| delivered | 25    |\n",
    "| able      | 25    |\n",
    "| always    | 25    |\n",
    "| could     | 25    |\n",
    "| someone   | 24    |\n",
    "| leave     | 24    |\n",
    "| new       | 24    |\n",
    "| tip       | 24    |\n",
    "| tried     | 23    |\n",
    "| wont      | 23    |\n",
    "| living    | 23    |\n",
    "| find      | 23    |\n",
    "| wrong     | 23    |\n",
    "| minute    | 23    |\n",
    "| hard      | 23    |\n"
   ]
  },
  {
   "cell_type": "code",
   "execution_count": 0,
   "metadata": {
    "application/vnd.databricks.v1+cell": {
     "cellMetadata": {
      "byteLimit": 2048000,
      "rowLimit": 10000
     },
     "inputWidgets": {},
     "nuid": "2767de5f-a4f2-40b8-b881-fb5af3658a9a",
     "showTitle": false,
     "tableResultSettingsMap": {},
     "title": ""
    }
   },
   "outputs": [],
   "source": [
    "print(negative_df.count())"
   ]
  },
  {
   "cell_type": "markdown",
   "metadata": {
    "application/vnd.databricks.v1+cell": {
     "cellMetadata": {
      "byteLimit": 2048000,
      "rowLimit": 10000
     },
     "inputWidgets": {},
     "nuid": "ccbfb14c-8609-49ea-9d63-d972dc74cf0e",
     "showTitle": false,
     "tableResultSettingsMap": {},
     "title": ""
    }
   },
   "source": [
    "I extracted the 100 most frequently occurring words in 520 negative reviews and categorized those into three key problems. </br>\n",
    "<ol>\n",
    "<li><b>Foreigner-Specific Issues</b></li>\n",
    "korean(134), english(32), foreigner(60), foreign(27), call(31), tourist(27)<br/>\n",
    "This shows there are high possibilities of language-related or systemic difficulty for foreigners to use the apps.\n",
    "\n",
    "<li><b>Delivery Service Quality</b></li>\n",
    "time(128), service(60), restaurant(67), door(37), item(51), driver(49), option(31), customer(30)<br/>\n",
    "This shows there are issues with user experience with the app usage, such as delivery time, restaurant service, delivery issue, communication with driver, etc.\n",
    "\n",
    "<li><b>Payment & Verification</b></li>\n",
    "card(101), use(80), number(80), phone(71), pay(52), account(44), money(37), id(33), bank(30), payment(28)<br/>\n",
    "This shows there are difficulties with completing orders due to payment or verification issues. I assume the problems will be related to \"foreign card\" or \"phone verification\", etc.\n",
    "\n",
    "<li><b>Special Attention</b></li>\n",
    "The mention of the specific name \"coupang (33)\" is a unique point. Through N-gram analysis, it can be determined whether this refers to the Coupang company itself or to the Coupang Eats app.\n",
    "</ol>\n"
   ]
  },
  {
   "cell_type": "markdown",
   "metadata": {
    "application/vnd.databricks.v1+cell": {
     "cellMetadata": {
      "byteLimit": 2048000,
      "rowLimit": 10000
     },
     "inputWidgets": {},
     "nuid": "fec7588a-d433-4a3d-8cd7-b48505dfded0",
     "showTitle": false,
     "tableResultSettingsMap": {},
     "title": ""
    }
   },
   "source": [
    "<h4>1-1-2. N-gram Analysis</h4>"
   ]
  },
  {
   "cell_type": "code",
   "execution_count": 0,
   "metadata": {
    "application/vnd.databricks.v1+cell": {
     "cellMetadata": {
      "byteLimit": 2048000,
      "rowLimit": 10000
     },
     "inputWidgets": {},
     "nuid": "cbb7df74-b573-4a35-b5af-86b3a21ac51f",
     "showTitle": false,
     "tableResultSettingsMap": {},
     "title": ""
    }
   },
   "outputs": [],
   "source": [
    "# take a list and return a list of tuples cotaining two words\n",
    "def create_bigrams_from_list(words):\n",
    "    if not words or len(words) < 2:\n",
    "        return []\n",
    "    bigrams_list = list(zip(words[:], words[1:])) # zip stops when the short sized list meets the end\n",
    "    # words[:]   = ['I',    'EAT',    'BANANA']\n",
    "    # words[1:]  = ['EAT',  'BANANA']\n",
    "    # => [('I', 'EAT'), ('EAT', 'BANANA')]\n",
    "\n",
    "\n",
    "    bigrams = [\" \".join(grams) for grams in bigrams_list]\n",
    "    return bigrams\n",
    "\n",
    "# take a list and return a list of tuples cotaining three words\n",
    "def create_trigrams_from_list(words):\n",
    "    if not words or len(words) < 3:\n",
    "        return []\n",
    "    trigrams_list = list(zip(words[:], words[1:], words[2:])) \n",
    "\n",
    "    trigrams = [\" \".join(grams) for grams in trigrams_list]\n",
    "    return trigrams\n",
    "\n",
    " # register the function as udf \n",
    "create_bigrams_udf = udf(create_bigrams_from_list, ArrayType(StringType()))\n",
    "create_trigrams_udf = udf(create_trigrams_from_list, ArrayType(StringType()))"
   ]
  },
  {
   "cell_type": "code",
   "execution_count": 0,
   "metadata": {
    "application/vnd.databricks.v1+cell": {
     "cellMetadata": {
      "byteLimit": 2048000,
      "rowLimit": 10000
     },
     "inputWidgets": {},
     "nuid": "9a04a850-a718-4043-b719-af1026a3919c",
     "showTitle": false,
     "tableResultSettingsMap": {},
     "title": ""
    }
   },
   "outputs": [],
   "source": [
    "# get biagram result\n",
    "bigrams_df = negative_df.withColumn(\"keywords_paired\", \n",
    "                                    create_bigrams_udf(col(\"review_words\"))) \\\n",
    "                        .select(\"keywords_paired\", \"review_thumbsUpCount\")"
   ]
  },
  {
   "cell_type": "code",
   "execution_count": 0,
   "metadata": {
    "application/vnd.databricks.v1+cell": {
     "cellMetadata": {
      "byteLimit": 2048000,
      "rowLimit": 10000
     },
     "inputWidgets": {},
     "nuid": "6a1d1cb8-2c5c-4e19-af68-2df1877a9a08",
     "showTitle": false,
     "tableResultSettingsMap": {},
     "title": ""
    }
   },
   "outputs": [],
   "source": [
    "# flatten keywords and aggregate (count)\n",
    "bigrams_flat_df = bigrams_df.select(explode(col(\"keywords_paired\")).alias(\"keywords\"))\\\n",
    "                            .groupBy(\"keywords\")\\\n",
    "                            .count()\\\n",
    "                            .orderBy(col(\"count\").desc())\n",
    "\n",
    "bigrams_flat_df.show(50,truncate = False)"
   ]
  },
  {
   "cell_type": "markdown",
   "metadata": {
    "application/vnd.databricks.v1+cell": {
     "cellMetadata": {
      "byteLimit": 2048000,
      "rowLimit": 10000
     },
     "inputWidgets": {},
     "nuid": "0ec01850-1546-4f3a-a18f-b78d24f91993",
     "showTitle": false,
     "tableResultSettingsMap": {},
     "title": ""
    }
   },
   "source": [
    "**Bigram Analysis Results**\n",
    "| keywords        | count |\n",
    "|-----------------|-------|\n",
    "| phone number    | 43    |\n",
    "| food delivery   | 24    |\n",
    "| customer service| 19    |\n",
    "| credit card     | 18    |\n",
    "| korean phone    | 18    |\n",
    "| delivery driver | 13    |\n",
    "| delivery service| 11    |\n",
    "| order delivery  | 11    |\n",
    "| food delivered  | 11    |\n",
    "| coupang eats    | 11    |\n",
    "| use app         | 10    |\n",
    "| delivery apps   | 9     |\n",
    "| cancel order    | 9     |\n",
    "| foreign card    | 9     |\n",
    "| first time      | 9     |\n",
    "| bank account    | 9     |\n",
    "| apple pay       | 8     |\n",
    "| delivery app    | 8     |\n",
    "| korean bank     | 8     |\n",
    "| feel like       | 8     |\n",
    "| gon na          | 8     |\n",
    "| app ever        | 7     |\n",
    "| even though     | 7     |\n",
    "| every time      | 7     |\n",
    "| bank card       | 7     |\n",
    "| every country   | 7     |\n",
    "| money back      | 6     |\n",
    "| uber eats       | 6     |\n",
    "| order food      | 6     |\n",
    "| worst app       | 6     |\n",
    "| go back         | 6     |\n",
    "| front door      | 6     |\n",
    "| delivery guy    | 6     |\n",
    "| delivery time   | 6     |\n",
    "| need korean     | 6     |\n",
    "| place live      | 6     |\n",
    "| thing like      | 5     |\n",
    "| make sure       | 5     |\n",
    "| get money       | 5     |\n",
    "| negative review | 5     |\n",
    "| app even        | 5     |\n",
    "| new one         | 5     |\n",
    "| payment card    | 5     |\n",
    "| order something | 5     |\n",
    "| without korean  | 5     |\n",
    "| thing korea     | 5     |\n",
    "| waste time      | 5     |\n",
    "| hard time       | 5     |\n",
    "| able use        | 5     |\n",
    "| tmoney card     | 5     |\n",
    "\n",
    "\n"
   ]
  },
  {
   "cell_type": "code",
   "execution_count": 0,
   "metadata": {
    "application/vnd.databricks.v1+cell": {
     "cellMetadata": {
      "byteLimit": 2048000,
      "rowLimit": 10000
     },
     "inputWidgets": {},
     "nuid": "0ff5577a-dbd5-434c-b7c7-087c994eace8",
     "showTitle": false,
     "tableResultSettingsMap": {},
     "title": ""
    }
   },
   "outputs": [],
   "source": [
    "# get biagram result\n",
    "trigrams_df = negative_df.withColumn(\"keywords_paired\", \n",
    "                                    create_trigrams_udf(col(\"review_words\"))) \\\n",
    "                         .select(\"keywords_paired\", \"review_thumbsUpCount\")"
   ]
  },
  {
   "cell_type": "code",
   "execution_count": 0,
   "metadata": {
    "application/vnd.databricks.v1+cell": {
     "cellMetadata": {
      "byteLimit": 2048000,
      "rowLimit": 10000
     },
     "inputWidgets": {},
     "nuid": "d3996cf5-50a7-418a-bbf0-15bc3894dfd2",
     "showTitle": false,
     "tableResultSettingsMap": {},
     "title": ""
    }
   },
   "outputs": [],
   "source": [
    "trigrams_flat_df = trigrams_df.select(explode(col(\"keywords_paired\")).alias(\"keywords\"))\\\n",
    "                            .groupBy(\"keywords\")\\\n",
    "                            .count()\\\n",
    "                            .orderBy(col(\"count\").desc())\n",
    "\n",
    "trigrams_flat_df.show(20, truncate = False)"
   ]
  },
  {
   "cell_type": "markdown",
   "metadata": {
    "application/vnd.databricks.v1+cell": {
     "cellMetadata": {
      "byteLimit": 2048000,
      "rowLimit": 10000
     },
     "inputWidgets": {},
     "nuid": "74d5e2d1-4b39-47ce-8034-64957954e513",
     "showTitle": false,
     "tableResultSettingsMap": {},
     "title": ""
    }
   },
   "source": [
    "**Trigram Analysis Result**\n",
    "| keywords                | count |\n",
    "|--------------------------|-------|\n",
    "| korean phone number      | 17    |\n",
    "| worst app ever           | 5     |\n",
    "| need phone number        | 5     |\n",
    "| food delivery service    | 4     |\n",
    "| foreign credit card      | 4     |\n",
    "| need korean phone        | 4     |\n",
    "| get money back           | 3     |\n",
    "| korean bank account      | 3     |\n",
    "| alien registration card  | 3     |\n",
    "| arc alien registration   | 3     |\n",
    "| english eye english      | 2     |\n",
    "| phone number set         | 2     |\n",
    "| use non korean           | 2     |\n",
    "| without korea phone      | 2     |\n",
    "| foreign card work        | 2     |\n",
    "| support apple pay        | 2     |\n",
    "| credit card accepted     | 2     |\n",
    "| contact customer service | 2     |\n",
    "| eye english eye          | 2     |\n",
    "| food discarded even      | 2     |\n",
    "\n",
    "\n"
   ]
  },
  {
   "cell_type": "markdown",
   "metadata": {
    "application/vnd.databricks.v1+cell": {
     "cellMetadata": {
      "byteLimit": 2048000,
      "rowLimit": 10000
     },
     "inputWidgets": {},
     "nuid": "881c3c81-9514-4c76-b0b3-782e2f4c93f9",
     "showTitle": false,
     "tableResultSettingsMap": {},
     "title": ""
    }
   },
   "source": [
    "By applying N-gram analysis, I was able to better capture the context of word usage, which single keyword analysis alone could not fully reveal.\n",
    "\n",
    "<ol>\n",
    "<li><b>Dominant Issue: Foreigner Verification & Payment</b></li>\n",
    "Key Words:\n",
    "<ul>\n",
    "<li>Bigram: phone number (43), credit card (18), korean phone (18), bank account (9), korean bank (8), apple pay (8), foreign card (9), payment card (5), without korean (5), tmoney card (5)</li>\n",
    "<li>Trigram: korean phone number (17), need phone number (5), foreign credit card (4), need korean phone (4), korean bank account (3), alien registration card (3), arc alien registration (3), phone number set (2), without korea phone (2), foreign card work (2), support apple pay (2), credit card accepted (2)</li>\n",
    "</ul>\n",
    "Quantitative evidence shows that the biggest difficulty for users is the verification process requiring a Korean phone number. Payment failures due to lack of foreign credit cards or Korean bank accounts also emerge as a clear issue.\n",
    "\n",
    "<li><b>Service Quality Issues</b></li>\n",
    "Key Words:\n",
    "<ul>\n",
    "<li>Bigram: customer service (19), delivery driver (13), delivery service (11), food delivery (24), order delivery (11), food delivered (11), delivery apps (9), cancel order (9), delivery app (8), delivery guy (6), delivery time (6)</li>\n",
    "<li>Trigram: worst app ever (5), food delivery service (4), get money back (3), contact customer service (2), food discarded even (2)</li>\n",
    "</ul>\n",
    "Even after completing verification and payment, users frequently express dissatisfaction with service quality, including customer service, delivery drivers, and delivery times.\n",
    "\n",
    "<li><b>Foreigner-Specific Issues</b></li>\n",
    "Key Words:\n",
    "<ul>\n",
    "<li>Bigram: need korean (6), without korean (5), able use (5)</li>\n",
    "<li>Trigram: use non korean (2), without korea phone (2)</li>\n",
    "</ul>\n",
    "Foreign users experience inconvenience not only from language barriers but also from structural requirements such as needing a Korean phone number or bank account. N-gram analysis shows that the term \"Korean\" is more often associated with these requirements rather than just language support.\n",
    "\n",
    "<li><b>Mentions of Specific Apps</b></li>\n",
    "Key Words:\n",
    "<ul>\n",
    "<li>Bigram: coupang eats (11), uber eats (6)</li>\n",
    "<li>Trigram: worst app ever (5)</li>\n",
    "</ul>\n",
    "Through bigram analysis, the word “Coupang,” which appeared in single keyword analysis, is revealed to specifically refer to the food delivery app <b>Coupang Eats</b>. Additionally, <b>Uber Eats</b>, which is widely used internationally, also appears. The frequent mentions of specific apps indicate their high market visibility and their role as benchmarks for user expectations.\n",
    "</ol>\n"
   ]
  },
  {
   "cell_type": "markdown",
   "metadata": {
    "application/vnd.databricks.v1+cell": {
     "cellMetadata": {
      "byteLimit": 2048000,
      "rowLimit": 10000
     },
     "inputWidgets": {},
     "nuid": "fafb89d7-3cb4-4552-b96e-b154c77c7dda",
     "showTitle": false,
     "tableResultSettingsMap": {},
     "title": ""
    }
   },
   "source": [
    "## 2. Sentiment Analysis"
   ]
  },
  {
   "cell_type": "markdown",
   "metadata": {
    "application/vnd.databricks.v1+cell": {
     "cellMetadata": {
      "byteLimit": 2048000,
      "rowLimit": 10000
     },
     "inputWidgets": {},
     "nuid": "76efa318-e69a-4852-bc3a-6e02018769da",
     "showTitle": false,
     "tableResultSettingsMap": {},
     "title": ""
    }
   },
   "source": [
    "### 2-1. Current distribution of positive, neutral, and negative reviews"
   ]
  },
  {
   "cell_type": "code",
   "execution_count": 0,
   "metadata": {
    "application/vnd.databricks.v1+cell": {
     "cellMetadata": {
      "byteLimit": 2048000,
      "rowLimit": 10000
     },
     "inputWidgets": {},
     "nuid": "4ec69be9-5f5d-4a20-abf8-6ee625d3e337",
     "showTitle": false,
     "tableResultSettingsMap": {},
     "title": ""
    }
   },
   "outputs": [],
   "source": [
    "def detect_text_sentiment(sentences):\n",
    "  # if empty, return 0\n",
    "  if not sentences:\n",
    "    return 0\n",
    "  # if sentence is a string, put it in an array\n",
    "  if isinstance(sentences, str):\n",
    "    sentences = [sentences]\n",
    "\n",
    "  total_score = 0 \n",
    "  for sentence in sentences:\n",
    "    score = analyzer.polarity_scores(sentence)[\"compound\"]\n",
    "    total_score += score\n",
    "\n",
    "  # get average of the sentiment score\n",
    "  avg_score = total_score / len(sentences)\n",
    "\n",
    "  if avg_score < 0:\n",
    "    return \"negative\"\n",
    "  elif avg_score > 0:\n",
    "    return \"positive\"\n",
    "  else: return \"neutral\"\n",
    "\n",
    "detect_text_sentiment_udf = udf(detect_text_sentiment, StringType())\n",
    "\n",
    "detect_text_sentiment_udf = udf(detect_text_sentiment, StringType())"
   ]
  },
  {
   "cell_type": "code",
   "execution_count": 0,
   "metadata": {
    "application/vnd.databricks.v1+cell": {
     "cellMetadata": {
      "byteLimit": 2048000,
      "rowLimit": 10000
     },
     "inputWidgets": {},
     "nuid": "5346eed9-6394-425f-941a-0f35d8965138",
     "showTitle": false,
     "tableResultSettingsMap": {},
     "title": ""
    }
   },
   "outputs": [],
   "source": [
    "sentiment_marked_df = review_contents_df.withColumn(\"review_sentiment\", \\\n",
    "        when(col(\"review_rate\").isNull(), detect_text_sentiment_udf(col(\"review_sentences\")))\\\n",
    "        .when(col(\"review_rate\") < 3, \"negative\")\\\n",
    "        .when(col(\"review_rate\") > 3, \"positive\")\\\n",
    "        .otherwise(\"neutral\")   \n",
    "    )\n",
    "sentiment_df = sentiment_marked_df.groupBy(\"review_sentiment\").count().toPandas()\n",
    "\n",
    "labels = sentiment_df[\"review_sentiment\"]\n",
    "sizes = sentiment_df[\"count\"]\n",
    "\n",
    "plt.figure(figsize=(3, 3))\n",
    "plt.pie(sizes, labels=labels, autopct='%1.1f%%', startangle=90, colors=['lightcoral', 'lightblue', 'lightgreen'])\n",
    "plt.title('Distribution of Reviews')\n",
    "plt.axis('equal')\n",
    "plt.show()"
   ]
  },
  {
   "cell_type": "code",
   "execution_count": 0,
   "metadata": {
    "application/vnd.databricks.v1+cell": {
     "cellMetadata": {
      "byteLimit": 2048000,
      "rowLimit": 10000
     },
     "inputWidgets": {},
     "nuid": "790f7a2e-cdf7-4554-8271-18f0e424d36e",
     "showTitle": false,
     "tableResultSettingsMap": {},
     "title": ""
    }
   },
   "outputs": [],
   "source": [
    "# save as table to use in later analysis\n",
    "sentiment_marked_df.write.format(\"delta\").mode(\"overwrite\").option(\"mergeSchema\", True).saveAsTable(\"workspace.growth_poc.analysis_reviews\")"
   ]
  },
  {
   "cell_type": "markdown",
   "metadata": {
    "application/vnd.databricks.v1+cell": {
     "cellMetadata": {
      "byteLimit": 2048000,
      "rowLimit": 10000
     },
     "inputWidgets": {},
     "nuid": "cff4e595-ad6e-4eea-b086-18b919fc6955",
     "showTitle": false,
     "tableResultSettingsMap": {},
     "title": ""
    }
   },
   "source": [
    "![](./images/pie_distribution.png)"
   ]
  },
  {
   "cell_type": "code",
   "execution_count": 0,
   "metadata": {
    "application/vnd.databricks.v1+cell": {
     "cellMetadata": {
      "byteLimit": 2048000,
      "rowLimit": 10000
     },
     "inputWidgets": {},
     "nuid": "a27ca75d-5dd0-4521-9aae-bac9df29b1a7",
     "showTitle": false,
     "tableResultSettingsMap": {},
     "title": ""
    }
   },
   "outputs": [],
   "source": [
    "# use the df used for word frequency analysis\n",
    "weighted_sentiment_df = sentiment_marked_df.groupBy(\"review_sentiment\")\\\n",
    "                                  .agg(\n",
    "                                      sum(col(\"review_thumbsUpCount\") + 1).alias(\"count\"))\\\n",
    "                                  .toPandas()\n",
    "\n",
    "labels = weighted_sentiment_df[\"review_sentiment\"]\n",
    "sizes = weighted_sentiment_df[\"count\"]\n",
    "\n",
    "plt.figure(figsize=(3, 3))\n",
    "plt.pie(sizes, labels=labels, autopct='%1.1f%%', startangle=90, colors=['lightcoral', 'lightblue', 'lightgreen'])\n",
    "plt.title('Weighted Distribution of Reviews')\n",
    "plt.axis('equal')\n",
    "plt.show()"
   ]
  },
  {
   "cell_type": "markdown",
   "metadata": {
    "application/vnd.databricks.v1+cell": {
     "cellMetadata": {
      "byteLimit": 2048000,
      "rowLimit": 10000
     },
     "inputWidgets": {},
     "nuid": "61af397e-5212-4900-960c-e287f876ed11",
     "showTitle": false,
     "tableResultSettingsMap": {},
     "title": ""
    }
   },
   "source": [
    "![](./images/pie_weighted_distribution.png)"
   ]
  },
  {
   "cell_type": "markdown",
   "metadata": {
    "application/vnd.databricks.v1+cell": {
     "cellMetadata": {
      "byteLimit": 2048000,
      "rowLimit": 10000
     },
     "inputWidgets": {},
     "nuid": "9eaa69c3-d703-440f-a0f4-af4f01e94c39",
     "showTitle": false,
     "tableResultSettingsMap": {},
     "title": ""
    }
   },
   "source": [
    "**Findings**  \n",
    "I analyzed the distribution of reviews based on user sentiment. Positive reviews account for approximately 64-66% of all reviews, negative reviews for about 19-20%, and the remaining are neutral. Comparing simple counts with weighted counts based on thumbs-up, there is no significant difference, indicating that all types of reviews receive roughly similar engagement from users.  \n",
    "\n",
    "These results suggest that most users are satisfied with the app. However, attention should be focused on improving the experience of users who leave negative or neutral reviews, as addressing their concerns could further enhance overall user satisfaction and engagement.\n"
   ]
  },
  {
   "cell_type": "markdown",
   "metadata": {
    "application/vnd.databricks.v1+cell": {
     "cellMetadata": {
      "byteLimit": 2048000,
      "rowLimit": 10000
     },
     "inputWidgets": {},
     "nuid": "10ec57ff-0e04-49e6-b01c-c010621b75b7",
     "showTitle": false,
     "tableResultSettingsMap": {},
     "title": ""
    }
   },
   "source": [
    "## 3. Time-Series Analysis\n"
   ]
  },
  {
   "cell_type": "markdown",
   "metadata": {
    "application/vnd.databricks.v1+cell": {
     "cellMetadata": {
      "byteLimit": 2048000,
      "rowLimit": 10000
     },
     "inputWidgets": {},
     "nuid": "f7ea64b3-1bab-4ca3-b225-89132eb3e6a9",
     "showTitle": false,
     "tableResultSettingsMap": {},
     "title": ""
    }
   },
   "source": [
    "### 3-1. Review trend over time\n",
    "I will plot line graphs to visualize the trend of non-positive reviews over time. Since we observed no significant difference between simple and weighted counts in the overall review distribution, only simple counts will be used in this graph."
   ]
  },
  {
   "cell_type": "code",
   "execution_count": 0,
   "metadata": {
    "application/vnd.databricks.v1+cell": {
     "cellMetadata": {
      "byteLimit": 2048000,
      "rowLimit": 10000
     },
     "inputWidgets": {},
     "nuid": "d6235212-6a1f-4853-a5f5-2a085d242249",
     "showTitle": false,
     "tableResultSettingsMap": {},
     "title": ""
    }
   },
   "outputs": [],
   "source": [
    "from pyspark.sql.functions import to_date\n",
    "sentiment_date_df = sentiment_marked_df.withColumn(\"review_date\", to_date(col(\"review_date\")))"
   ]
  },
  {
   "cell_type": "code",
   "execution_count": 0,
   "metadata": {
    "application/vnd.databricks.v1+cell": {
     "cellMetadata": {
      "byteLimit": 2048000,
      "rowLimit": 10000
     },
     "inputWidgets": {},
     "nuid": "04f0244f-9c10-420d-bede-e68ae6d3a347",
     "showTitle": false,
     "tableResultSettingsMap": {},
     "title": ""
    }
   },
   "outputs": [],
   "source": [
    "sentiment_date_agg_df = sentiment_date_df.groupBy(\"review_date\", \"review_sentiment\").agg(\n",
    "    count(\"*\").alias(\"count\"),\n",
    "    sum(col(\"review_thumbsUpCount\") + 1).alias(\"weighted_count\")\n",
    ")"
   ]
  },
  {
   "cell_type": "code",
   "execution_count": 0,
   "metadata": {
    "application/vnd.databricks.v1+cell": {
     "cellMetadata": {
      "byteLimit": 2048000,
      "rowLimit": 10000
     },
     "inputWidgets": {},
     "nuid": "548d652f-0a87-4cf9-bd16-4d09868e709d",
     "showTitle": false,
     "tableResultSettingsMap": {},
     "title": ""
    }
   },
   "outputs": [],
   "source": [
    "import matplotlib.pyplot as plt\n",
    "import matplotlib.dates as mdates\n",
    "from pyspark.sql.functions import trunc\n",
    "\n",
    "# now the date is at day level -> aggregate to year-month level\n",
    "# truc, month : return the first day of the given month\n",
    "monthly_df = sentiment_date_agg_df.withColumn(\"year_month\", trunc(\"review_date\", \"month\"))\n",
    "\n",
    "# grouping\n",
    "sentiment_trend_df = monthly_df.groupBy(\"year_month\") \\\n",
    "    .pivot(\"review_sentiment\", [\"positive\", \"negative\", \"neutral\"]) \\\n",
    "    .agg(sum(\"count\")).na.fill(0)\\\n",
    "    .orderBy(\"year_month\")\n",
    "\n",
    "pd_df = sentiment_trend_df.toPandas()\n",
    "\n",
    "# create graph\n",
    "fig, ax = plt.subplots(figsize= (15, 7))\n",
    "\n",
    "# plot lines\n",
    "# 1. positive review\n",
    "ax.plot(pd_df['year_month'], \n",
    "        pd_df['positive'], \n",
    "        marker = 'o', \n",
    "        linestyle = '-', \n",
    "        label = 'Positive', \n",
    "        color = 'royalblue') # positive review\n",
    "# 2. negative review\n",
    "ax.plot(pd_df['year_month'], \n",
    "        pd_df['negative'], \n",
    "        marker = 'o', \n",
    "        linestyle = '-', \n",
    "        label = 'Negative', \n",
    "        color = 'tomato')  \n",
    "# 3. neutral review\n",
    "ax.plot(pd_df['year_month'], \n",
    "        pd_df['neutral'], \n",
    "        marker = 'o', \n",
    "        linestyle = '-', \n",
    "        label = 'Neutral', \n",
    "        color = 'grey') \n",
    "# 4. non-positive review\n",
    "ax.plot(pd_df['year_month'], \n",
    "        pd_df['neutral']+pd_df['negative'], \n",
    "        marker = 'o', \n",
    "        linestyle = '--', \n",
    "        label = 'Non-positive', \n",
    "        color = 'black') \n",
    "\n",
    "ax.set_title('Monthly Review Sentiment Trend')\n",
    "ax.set_xlabel('Month')\n",
    "ax.set_ylabel('Number of Reviews')\n",
    "ax.legend()\n",
    "ax.grid(True, which='both', linestyle='--', linewidth=0.5)\n",
    "\n",
    "# set x axis date format\n",
    "ax.xaxis.set_major_formatter(mdates.DateFormatter('%Y-%m'))\n",
    "plt.xticks(rotation=45)\n",
    "plt.tight_layout()  \n",
    "\n",
    "# 5. 그래프 표시\n",
    "plt.show()"
   ]
  },
  {
   "cell_type": "markdown",
   "metadata": {
    "application/vnd.databricks.v1+cell": {
     "cellMetadata": {
      "byteLimit": 2048000,
      "rowLimit": 10000
     },
     "inputWidgets": {},
     "nuid": "07ad1d01-1a2e-430e-a0d3-e316391ae8f2",
     "showTitle": false,
     "tableResultSettingsMap": {},
     "title": ""
    }
   },
   "source": [
    "**Findings** <br/>\n",
    "The blue line shows positive reviews, the red line shows negative reviews, the gray line shows neutral reviews, and the black dashed line shows the number of non-positive reviews.\n",
    "It is noticeable that there are certain times when the total number of reviews spikes. Given that positive (blue) and non-positive (black) reviews tend to move together, there may have been major events such as promotions or important feature updates triggering users to write reviews in April 2023, February 2024, May 2024, July 2024, and January 2025."
   ]
  }
 ],
 "metadata": {
  "application/vnd.databricks.v1+notebook": {
   "computePreferences": {
    "hardware": {
     "accelerator": null,
     "gpuPoolId": null,
     "memory": null
    }
   },
   "dashboards": [],
   "environmentMetadata": {
    "base_environment": "",
    "environment_version": "3"
   },
   "inputWidgetPreferences": null,
   "language": "python",
   "notebookMetadata": {
    "mostRecentlyExecutedCommandWithImplicitDF": {
     "commandId": 8239824279540234,
     "dataframes": [
      "_sqldf"
     ]
    },
    "pythonIndentUnit": 4
   },
   "notebookName": "EDA_user_experience_analysis",
   "widgets": {}
  },
  "language_info": {
   "name": "python"
  }
 },
 "nbformat": 4,
 "nbformat_minor": 0
}
